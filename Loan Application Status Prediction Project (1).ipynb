{
 "cells": [
  {
   "cell_type": "markdown",
   "id": "5d161b1e",
   "metadata": {},
   "source": [
    "# Loan Application Status Prediction Project"
   ]
  },
  {
   "cell_type": "code",
   "execution_count": 1,
   "id": "56703926",
   "metadata": {},
   "outputs": [],
   "source": [
    "#importing all the required libraries for EDA and vizualiztion.\n",
    "import pandas as pd    # library for EDA.\n",
    "import numpy as np     # library for numerical calculations.\n",
    "import seaborn as sns  # library for vizualization.\n",
    "import matplotlib.pyplot as plt  # library for vizualization.\n",
    "import math\n",
    "import warnings\n",
    "warnings.filterwarnings('ignore')  # to ignore warnings"
   ]
  },
  {
   "cell_type": "code",
   "execution_count": 2,
   "id": "99745372",
   "metadata": {},
   "outputs": [],
   "source": [
    "#lets load dataset \n",
    "df=pd.read_csv('https://raw.githubusercontent.com/dsrscientist/DSData/master/loan_prediction.csv')"
   ]
  },
  {
   "cell_type": "code",
   "execution_count": 3,
   "id": "009fcdaa",
   "metadata": {},
   "outputs": [
    {
     "data": {
      "text/plain": [
       "pandas.core.frame.DataFrame"
      ]
     },
     "execution_count": 3,
     "metadata": {},
     "output_type": "execute_result"
    }
   ],
   "source": [
    "#lets check the type of dataset\n",
    "type(df)\n",
    "#since our dataset is already dataframe, no need to again make dataframe"
   ]
  },
  {
   "cell_type": "code",
   "execution_count": 4,
   "id": "4fddd5ed",
   "metadata": {},
   "outputs": [
    {
     "data": {
      "text/html": [
       "<div>\n",
       "<style scoped>\n",
       "    .dataframe tbody tr th:only-of-type {\n",
       "        vertical-align: middle;\n",
       "    }\n",
       "\n",
       "    .dataframe tbody tr th {\n",
       "        vertical-align: top;\n",
       "    }\n",
       "\n",
       "    .dataframe thead th {\n",
       "        text-align: right;\n",
       "    }\n",
       "</style>\n",
       "<table border=\"1\" class=\"dataframe\">\n",
       "  <thead>\n",
       "    <tr style=\"text-align: right;\">\n",
       "      <th></th>\n",
       "      <th>Loan_ID</th>\n",
       "      <th>Gender</th>\n",
       "      <th>Married</th>\n",
       "      <th>Dependents</th>\n",
       "      <th>Education</th>\n",
       "      <th>Self_Employed</th>\n",
       "      <th>ApplicantIncome</th>\n",
       "      <th>CoapplicantIncome</th>\n",
       "      <th>LoanAmount</th>\n",
       "      <th>Loan_Amount_Term</th>\n",
       "      <th>Credit_History</th>\n",
       "      <th>Property_Area</th>\n",
       "      <th>Loan_Status</th>\n",
       "    </tr>\n",
       "  </thead>\n",
       "  <tbody>\n",
       "    <tr>\n",
       "      <th>0</th>\n",
       "      <td>LP001002</td>\n",
       "      <td>Male</td>\n",
       "      <td>No</td>\n",
       "      <td>0</td>\n",
       "      <td>Graduate</td>\n",
       "      <td>No</td>\n",
       "      <td>5849</td>\n",
       "      <td>0.0</td>\n",
       "      <td>NaN</td>\n",
       "      <td>360.0</td>\n",
       "      <td>1.0</td>\n",
       "      <td>Urban</td>\n",
       "      <td>Y</td>\n",
       "    </tr>\n",
       "    <tr>\n",
       "      <th>1</th>\n",
       "      <td>LP001003</td>\n",
       "      <td>Male</td>\n",
       "      <td>Yes</td>\n",
       "      <td>1</td>\n",
       "      <td>Graduate</td>\n",
       "      <td>No</td>\n",
       "      <td>4583</td>\n",
       "      <td>1508.0</td>\n",
       "      <td>128.0</td>\n",
       "      <td>360.0</td>\n",
       "      <td>1.0</td>\n",
       "      <td>Rural</td>\n",
       "      <td>N</td>\n",
       "    </tr>\n",
       "    <tr>\n",
       "      <th>2</th>\n",
       "      <td>LP001005</td>\n",
       "      <td>Male</td>\n",
       "      <td>Yes</td>\n",
       "      <td>0</td>\n",
       "      <td>Graduate</td>\n",
       "      <td>Yes</td>\n",
       "      <td>3000</td>\n",
       "      <td>0.0</td>\n",
       "      <td>66.0</td>\n",
       "      <td>360.0</td>\n",
       "      <td>1.0</td>\n",
       "      <td>Urban</td>\n",
       "      <td>Y</td>\n",
       "    </tr>\n",
       "    <tr>\n",
       "      <th>3</th>\n",
       "      <td>LP001006</td>\n",
       "      <td>Male</td>\n",
       "      <td>Yes</td>\n",
       "      <td>0</td>\n",
       "      <td>Not Graduate</td>\n",
       "      <td>No</td>\n",
       "      <td>2583</td>\n",
       "      <td>2358.0</td>\n",
       "      <td>120.0</td>\n",
       "      <td>360.0</td>\n",
       "      <td>1.0</td>\n",
       "      <td>Urban</td>\n",
       "      <td>Y</td>\n",
       "    </tr>\n",
       "    <tr>\n",
       "      <th>4</th>\n",
       "      <td>LP001008</td>\n",
       "      <td>Male</td>\n",
       "      <td>No</td>\n",
       "      <td>0</td>\n",
       "      <td>Graduate</td>\n",
       "      <td>No</td>\n",
       "      <td>6000</td>\n",
       "      <td>0.0</td>\n",
       "      <td>141.0</td>\n",
       "      <td>360.0</td>\n",
       "      <td>1.0</td>\n",
       "      <td>Urban</td>\n",
       "      <td>Y</td>\n",
       "    </tr>\n",
       "    <tr>\n",
       "      <th>...</th>\n",
       "      <td>...</td>\n",
       "      <td>...</td>\n",
       "      <td>...</td>\n",
       "      <td>...</td>\n",
       "      <td>...</td>\n",
       "      <td>...</td>\n",
       "      <td>...</td>\n",
       "      <td>...</td>\n",
       "      <td>...</td>\n",
       "      <td>...</td>\n",
       "      <td>...</td>\n",
       "      <td>...</td>\n",
       "      <td>...</td>\n",
       "    </tr>\n",
       "    <tr>\n",
       "      <th>609</th>\n",
       "      <td>LP002978</td>\n",
       "      <td>Female</td>\n",
       "      <td>No</td>\n",
       "      <td>0</td>\n",
       "      <td>Graduate</td>\n",
       "      <td>No</td>\n",
       "      <td>2900</td>\n",
       "      <td>0.0</td>\n",
       "      <td>71.0</td>\n",
       "      <td>360.0</td>\n",
       "      <td>1.0</td>\n",
       "      <td>Rural</td>\n",
       "      <td>Y</td>\n",
       "    </tr>\n",
       "    <tr>\n",
       "      <th>610</th>\n",
       "      <td>LP002979</td>\n",
       "      <td>Male</td>\n",
       "      <td>Yes</td>\n",
       "      <td>3+</td>\n",
       "      <td>Graduate</td>\n",
       "      <td>No</td>\n",
       "      <td>4106</td>\n",
       "      <td>0.0</td>\n",
       "      <td>40.0</td>\n",
       "      <td>180.0</td>\n",
       "      <td>1.0</td>\n",
       "      <td>Rural</td>\n",
       "      <td>Y</td>\n",
       "    </tr>\n",
       "    <tr>\n",
       "      <th>611</th>\n",
       "      <td>LP002983</td>\n",
       "      <td>Male</td>\n",
       "      <td>Yes</td>\n",
       "      <td>1</td>\n",
       "      <td>Graduate</td>\n",
       "      <td>No</td>\n",
       "      <td>8072</td>\n",
       "      <td>240.0</td>\n",
       "      <td>253.0</td>\n",
       "      <td>360.0</td>\n",
       "      <td>1.0</td>\n",
       "      <td>Urban</td>\n",
       "      <td>Y</td>\n",
       "    </tr>\n",
       "    <tr>\n",
       "      <th>612</th>\n",
       "      <td>LP002984</td>\n",
       "      <td>Male</td>\n",
       "      <td>Yes</td>\n",
       "      <td>2</td>\n",
       "      <td>Graduate</td>\n",
       "      <td>No</td>\n",
       "      <td>7583</td>\n",
       "      <td>0.0</td>\n",
       "      <td>187.0</td>\n",
       "      <td>360.0</td>\n",
       "      <td>1.0</td>\n",
       "      <td>Urban</td>\n",
       "      <td>Y</td>\n",
       "    </tr>\n",
       "    <tr>\n",
       "      <th>613</th>\n",
       "      <td>LP002990</td>\n",
       "      <td>Female</td>\n",
       "      <td>No</td>\n",
       "      <td>0</td>\n",
       "      <td>Graduate</td>\n",
       "      <td>Yes</td>\n",
       "      <td>4583</td>\n",
       "      <td>0.0</td>\n",
       "      <td>133.0</td>\n",
       "      <td>360.0</td>\n",
       "      <td>0.0</td>\n",
       "      <td>Semiurban</td>\n",
       "      <td>N</td>\n",
       "    </tr>\n",
       "  </tbody>\n",
       "</table>\n",
       "<p>614 rows × 13 columns</p>\n",
       "</div>"
      ],
      "text/plain": [
       "      Loan_ID  Gender Married Dependents     Education Self_Employed  \\\n",
       "0    LP001002    Male      No          0      Graduate            No   \n",
       "1    LP001003    Male     Yes          1      Graduate            No   \n",
       "2    LP001005    Male     Yes          0      Graduate           Yes   \n",
       "3    LP001006    Male     Yes          0  Not Graduate            No   \n",
       "4    LP001008    Male      No          0      Graduate            No   \n",
       "..        ...     ...     ...        ...           ...           ...   \n",
       "609  LP002978  Female      No          0      Graduate            No   \n",
       "610  LP002979    Male     Yes         3+      Graduate            No   \n",
       "611  LP002983    Male     Yes          1      Graduate            No   \n",
       "612  LP002984    Male     Yes          2      Graduate            No   \n",
       "613  LP002990  Female      No          0      Graduate           Yes   \n",
       "\n",
       "     ApplicantIncome  CoapplicantIncome  LoanAmount  Loan_Amount_Term  \\\n",
       "0               5849                0.0         NaN             360.0   \n",
       "1               4583             1508.0       128.0             360.0   \n",
       "2               3000                0.0        66.0             360.0   \n",
       "3               2583             2358.0       120.0             360.0   \n",
       "4               6000                0.0       141.0             360.0   \n",
       "..               ...                ...         ...               ...   \n",
       "609             2900                0.0        71.0             360.0   \n",
       "610             4106                0.0        40.0             180.0   \n",
       "611             8072              240.0       253.0             360.0   \n",
       "612             7583                0.0       187.0             360.0   \n",
       "613             4583                0.0       133.0             360.0   \n",
       "\n",
       "     Credit_History Property_Area Loan_Status  \n",
       "0               1.0         Urban           Y  \n",
       "1               1.0         Rural           N  \n",
       "2               1.0         Urban           Y  \n",
       "3               1.0         Urban           Y  \n",
       "4               1.0         Urban           Y  \n",
       "..              ...           ...         ...  \n",
       "609             1.0         Rural           Y  \n",
       "610             1.0         Rural           Y  \n",
       "611             1.0         Urban           Y  \n",
       "612             1.0         Urban           Y  \n",
       "613             0.0     Semiurban           N  \n",
       "\n",
       "[614 rows x 13 columns]"
      ]
     },
     "execution_count": 4,
     "metadata": {},
     "output_type": "execute_result"
    }
   ],
   "source": [
    "df"
   ]
  },
  {
   "cell_type": "markdown",
   "id": "63609276",
   "metadata": {},
   "source": [
    "# Exploratory Data Analysis(EDA)"
   ]
  },
  {
   "cell_type": "code",
   "execution_count": 5,
   "id": "b9489049",
   "metadata": {},
   "outputs": [
    {
     "data": {
      "text/plain": [
       "Index(['Loan_ID', 'Gender', 'Married', 'Dependents', 'Education',\n",
       "       'Self_Employed', 'ApplicantIncome', 'CoapplicantIncome', 'LoanAmount',\n",
       "       'Loan_Amount_Term', 'Credit_History', 'Property_Area', 'Loan_Status'],\n",
       "      dtype='object')"
      ]
     },
     "execution_count": 5,
     "metadata": {},
     "output_type": "execute_result"
    }
   ],
   "source": [
    "#print columns\n",
    "df.columns"
   ]
  },
  {
   "cell_type": "code",
   "execution_count": 6,
   "id": "9e1cee03",
   "metadata": {},
   "outputs": [
    {
     "data": {
      "text/plain": [
       "(614, 13)"
      ]
     },
     "execution_count": 6,
     "metadata": {},
     "output_type": "execute_result"
    }
   ],
   "source": [
    "#checking rows and columns\n",
    "df.shape"
   ]
  },
  {
   "cell_type": "code",
   "execution_count": 7,
   "id": "257d14b4",
   "metadata": {},
   "outputs": [
    {
     "data": {
      "text/plain": [
       "Loan_ID               object\n",
       "Gender                object\n",
       "Married               object\n",
       "Dependents            object\n",
       "Education             object\n",
       "Self_Employed         object\n",
       "ApplicantIncome        int64\n",
       "CoapplicantIncome    float64\n",
       "LoanAmount           float64\n",
       "Loan_Amount_Term     float64\n",
       "Credit_History       float64\n",
       "Property_Area         object\n",
       "Loan_Status           object\n",
       "dtype: object"
      ]
     },
     "execution_count": 7,
     "metadata": {},
     "output_type": "execute_result"
    }
   ],
   "source": [
    "#checking datatype of each column\n",
    "df.dtypes"
   ]
  },
  {
   "cell_type": "code",
   "execution_count": 8,
   "id": "4f663b9d",
   "metadata": {},
   "outputs": [
    {
     "name": "stdout",
     "output_type": "stream",
     "text": [
      "Total null values=  149\n"
     ]
    },
    {
     "data": {
      "text/plain": [
       "Loan_ID               0\n",
       "Gender               13\n",
       "Married               3\n",
       "Dependents           15\n",
       "Education             0\n",
       "Self_Employed        32\n",
       "ApplicantIncome       0\n",
       "CoapplicantIncome     0\n",
       "LoanAmount           22\n",
       "Loan_Amount_Term     14\n",
       "Credit_History       50\n",
       "Property_Area         0\n",
       "Loan_Status           0\n",
       "dtype: int64"
      ]
     },
     "execution_count": 8,
     "metadata": {},
     "output_type": "execute_result"
    }
   ],
   "source": [
    "#  check null values and summing up columns wise\n",
    "print('Total null values= ',df.isnull().sum().sum())\n",
    "df.isnull().sum()"
   ]
  },
  {
   "cell_type": "code",
   "execution_count": 9,
   "id": "f4199092",
   "metadata": {},
   "outputs": [
    {
     "name": "stdout",
     "output_type": "stream",
     "text": [
      "<class 'pandas.core.frame.DataFrame'>\n",
      "RangeIndex: 614 entries, 0 to 613\n",
      "Data columns (total 13 columns):\n",
      " #   Column             Non-Null Count  Dtype  \n",
      "---  ------             --------------  -----  \n",
      " 0   Loan_ID            614 non-null    object \n",
      " 1   Gender             601 non-null    object \n",
      " 2   Married            611 non-null    object \n",
      " 3   Dependents         599 non-null    object \n",
      " 4   Education          614 non-null    object \n",
      " 5   Self_Employed      582 non-null    object \n",
      " 6   ApplicantIncome    614 non-null    int64  \n",
      " 7   CoapplicantIncome  614 non-null    float64\n",
      " 8   LoanAmount         592 non-null    float64\n",
      " 9   Loan_Amount_Term   600 non-null    float64\n",
      " 10  Credit_History     564 non-null    float64\n",
      " 11  Property_Area      614 non-null    object \n",
      " 12  Loan_Status        614 non-null    object \n",
      "dtypes: float64(4), int64(1), object(8)\n",
      "memory usage: 62.5+ KB\n"
     ]
    }
   ],
   "source": [
    "df.info()"
   ]
  },
  {
   "cell_type": "code",
   "execution_count": 10,
   "id": "c32c968d",
   "metadata": {},
   "outputs": [
    {
     "data": {
      "image/png": "[encoded data removed]",
      "text/plain": [
       "<Figure size 864x432 with 2 Axes>"
      ]
     },
     "metadata": {
      "needs_background": "light"
     },
     "output_type": "display_data"
    }
   ],
   "source": [
    "#isnull using heat map\n",
    "plt.figure(figsize=(12,6))\n",
    "sns.heatmap(df.isnull())\n",
    "plt.title('isnull using heatmap', fontsize=15, color='purple')\n",
    "plt.xticks(fontsize=12)\n",
    "plt.yticks(fontsize=12)\n",
    "plt.show()"
   ]
  },
  {
   "cell_type": "markdown",
   "id": "6f26c7da",
   "metadata": {},
   "source": [
    "### Observations:"
   ]
  },
  {
   "cell_type": "markdown",
   "id": "1fccc617",
   "metadata": {},
   "source": [
    "from the above outcomes\n",
    "   * Dataset has 614 row and 13 columns\n",
    "   * There are null values present in the columns ['Gender','Married','Dependents','Self_Employed','LoanAmount','Loan_Amount_Term','Credit_History']\n",
    "   * In the heat map the lines shows null values in the columns\n",
    "   * Dataset contains float64,int64 and object datatypes."
   ]
  },
  {
   "cell_type": "code",
   "execution_count": 11,
   "id": "f07be022",
   "metadata": {},
   "outputs": [],
   "source": [
    "#dropping null values\n",
    "df=df.dropna()"
   ]
  },
  {
   "cell_type": "code",
   "execution_count": 12,
   "id": "011e2331",
   "metadata": {},
   "outputs": [
    {
     "name": "stdout",
     "output_type": "stream",
     "text": [
      "0\n"
     ]
    },
    {
     "data": {
      "text/plain": [
       "Loan_ID              0\n",
       "Gender               0\n",
       "Married              0\n",
       "Dependents           0\n",
       "Education            0\n",
       "Self_Employed        0\n",
       "ApplicantIncome      0\n",
       "CoapplicantIncome    0\n",
       "LoanAmount           0\n",
       "Loan_Amount_Term     0\n",
       "Credit_History       0\n",
       "Property_Area        0\n",
       "Loan_Status          0\n",
       "dtype: int64"
      ]
     },
     "execution_count": 12,
     "metadata": {},
     "output_type": "execute_result"
    }
   ],
   "source": [
    "print(df.isnull().sum().sum())\n",
    "df.isnull().sum()"
   ]
  },
  {
   "cell_type": "code",
   "execution_count": 13,
   "id": "8f36601e",
   "metadata": {},
   "outputs": [
    {
     "data": {
      "image/png": "[encoded data removed]",
      "text/plain": [
       "<Figure size 864x432 with 2 Axes>"
      ]
     },
     "metadata": {
      "needs_background": "light"
     },
     "output_type": "display_data"
    }
   ],
   "source": [
    "#isnull using heat map\n",
    "plt.figure(figsize=(12,6))\n",
    "sns.heatmap(df.isnull())\n",
    "plt.title('isnull using heatmap', fontsize=15, color='purple')\n",
    "plt.xticks(fontsize=12)\n",
    "plt.yticks(fontsize=12)\n",
    "plt.show()"
   ]
  },
  {
   "cell_type": "markdown",
   "id": "77dead64",
   "metadata": {},
   "source": [
    "### Observations"
   ]
  },
  {
   "cell_type": "markdown",
   "id": "e656236c",
   "metadata": {},
   "source": [
    "* The null have been completely removed\n",
    "* Now there are no line which shows null\n",
    "* The heatmap is clean and of one color"
   ]
  },
  {
   "cell_type": "code",
   "execution_count": 14,
   "id": "401e798d",
   "metadata": {},
   "outputs": [],
   "source": [
    "# label encoding\n",
    "df['Loan_Status']=df['Loan_Status'].replace('N',0).replace('Y',1)"
   ]
  },
  {
   "cell_type": "code",
   "execution_count": 15,
   "id": "80b5d5af",
   "metadata": {},
   "outputs": [
    {
     "data": {
      "text/html": [
       "<div>\n",
       "<style scoped>\n",
       "    .dataframe tbody tr th:only-of-type {\n",
       "        vertical-align: middle;\n",
       "    }\n",
       "\n",
       "    .dataframe tbody tr th {\n",
       "        vertical-align: top;\n",
       "    }\n",
       "\n",
       "    .dataframe thead th {\n",
       "        text-align: right;\n",
       "    }\n",
       "</style>\n",
       "<table border=\"1\" class=\"dataframe\">\n",
       "  <thead>\n",
       "    <tr style=\"text-align: right;\">\n",
       "      <th></th>\n",
       "      <th>Loan_ID</th>\n",
       "      <th>Gender</th>\n",
       "      <th>Married</th>\n",
       "      <th>Dependents</th>\n",
       "      <th>Education</th>\n",
       "      <th>Self_Employed</th>\n",
       "      <th>ApplicantIncome</th>\n",
       "      <th>CoapplicantIncome</th>\n",
       "      <th>LoanAmount</th>\n",
       "      <th>Loan_Amount_Term</th>\n",
       "      <th>Credit_History</th>\n",
       "      <th>Property_Area</th>\n",
       "      <th>Loan_Status</th>\n",
       "    </tr>\n",
       "  </thead>\n",
       "  <tbody>\n",
       "    <tr>\n",
       "      <th>184</th>\n",
       "      <td>LP001639</td>\n",
       "      <td>Female</td>\n",
       "      <td>Yes</td>\n",
       "      <td>0</td>\n",
       "      <td>Graduate</td>\n",
       "      <td>No</td>\n",
       "      <td>3625</td>\n",
       "      <td>0.0</td>\n",
       "      <td>108.0</td>\n",
       "      <td>360.0</td>\n",
       "      <td>1.0</td>\n",
       "      <td>Semiurban</td>\n",
       "      <td>1</td>\n",
       "    </tr>\n",
       "    <tr>\n",
       "      <th>123</th>\n",
       "      <td>LP001432</td>\n",
       "      <td>Male</td>\n",
       "      <td>Yes</td>\n",
       "      <td>2</td>\n",
       "      <td>Graduate</td>\n",
       "      <td>No</td>\n",
       "      <td>2957</td>\n",
       "      <td>0.0</td>\n",
       "      <td>81.0</td>\n",
       "      <td>360.0</td>\n",
       "      <td>1.0</td>\n",
       "      <td>Semiurban</td>\n",
       "      <td>1</td>\n",
       "    </tr>\n",
       "    <tr>\n",
       "      <th>370</th>\n",
       "      <td>LP002194</td>\n",
       "      <td>Female</td>\n",
       "      <td>No</td>\n",
       "      <td>0</td>\n",
       "      <td>Graduate</td>\n",
       "      <td>Yes</td>\n",
       "      <td>15759</td>\n",
       "      <td>0.0</td>\n",
       "      <td>55.0</td>\n",
       "      <td>360.0</td>\n",
       "      <td>1.0</td>\n",
       "      <td>Semiurban</td>\n",
       "      <td>1</td>\n",
       "    </tr>\n",
       "  </tbody>\n",
       "</table>\n",
       "</div>"
      ],
      "text/plain": [
       "      Loan_ID  Gender Married Dependents Education Self_Employed  \\\n",
       "184  LP001639  Female     Yes          0  Graduate            No   \n",
       "123  LP001432    Male     Yes          2  Graduate            No   \n",
       "370  LP002194  Female      No          0  Graduate           Yes   \n",
       "\n",
       "     ApplicantIncome  CoapplicantIncome  LoanAmount  Loan_Amount_Term  \\\n",
       "184             3625                0.0       108.0             360.0   \n",
       "123             2957                0.0        81.0             360.0   \n",
       "370            15759                0.0        55.0             360.0   \n",
       "\n",
       "     Credit_History Property_Area  Loan_Status  \n",
       "184             1.0     Semiurban            1  \n",
       "123             1.0     Semiurban            1  \n",
       "370             1.0     Semiurban            1  "
      ]
     },
     "execution_count": 15,
     "metadata": {},
     "output_type": "execute_result"
    }
   ],
   "source": [
    "df.sample(3)"
   ]
  },
  {
   "cell_type": "markdown",
   "id": "4d2ff80a",
   "metadata": {},
   "source": [
    "# Visualization"
   ]
  },
  {
   "cell_type": "code",
   "execution_count": 16,
   "id": "0fd72267",
   "metadata": {
    "scrolled": false
   },
   "outputs": [
    {
     "data": {
      "image/png": "[encoded data removed]",
      "text/plain": [
       "<Figure size 1080x432 with 2 Axes>"
      ]
     },
     "metadata": {
      "needs_background": "light"
     },
     "output_type": "display_data"
    },
    {
     "name": "stdout",
     "output_type": "stream",
     "text": [
      "Male      394\n",
      "Female     86\n",
      "Name: Gender, dtype: int64\n",
      "\n",
      "         Loan_Status\n",
      "Gender             \n",
      "Female           54\n",
      "Male            278\n"
     ]
    }
   ],
   "source": [
    "df_copy=df.copy()\n",
    "df_copy.drop(['Loan_ID','Married','Dependents','Education','Self_Employed','ApplicantIncome','CoapplicantIncome','LoanAmount','Loan_Amount_Term','Credit_History','Property_Area'],axis=1,inplace=True)\n",
    "\n",
    "\n",
    "plt.figure(figsize=(15,6))\n",
    "\n",
    "plt.subplot(1,2,1)\n",
    "sns.countplot(df['Gender'], palette='BuGn')\n",
    "plt.title('Gender count', fontsize=15)\n",
    "plt.xlabel('Gender', fontsize=12)\n",
    "plt.ylabel('count', fontsize=12)\n",
    "\n",
    "\n",
    "plt.subplot(1,2,2)\n",
    "sns.countplot(df['Gender'], hue= df['Loan_Status'],palette='summer')\n",
    "plt.title('Loan status Gender', fontsize=15)\n",
    "plt.xlabel('Gender', fontsize=12)\n",
    "plt.ylabel('count', fontsize=12)\n",
    "plt.legend(labels=['No','Yes'],fontsize=14)\n",
    "\n",
    "plt.show()\n",
    "\n",
    "print(df['Gender'].value_counts())\n",
    "\n",
    "print('\\n',df_copy.groupby(['Gender']).sum())"
   ]
  },
  {
   "cell_type": "markdown",
   "id": "0d260be7",
   "metadata": {},
   "source": [
    "### Observations"
   ]
  },
  {
   "cell_type": "markdown",
   "id": "0cdfdee7",
   "metadata": {},
   "source": [
    "* In dataset we have 394 of males and 86 records of females who applied for loan.\n",
    "* For males, 278 applications got approval for loan and the rest did not got loan\n",
    "* For females from 86 applications 54 got loan approval."
   ]
  },
  {
   "cell_type": "code",
   "execution_count": 17,
   "id": "a6b7d9a8",
   "metadata": {
    "scrolled": true
   },
   "outputs": [
    {
     "data": {
      "image/png": "[encoded data removed]",
      "text/plain": [
       "<Figure size 1080x432 with 2 Axes>"
      ]
     },
     "metadata": {
      "needs_background": "light"
     },
     "output_type": "display_data"
    },
    {
     "name": "stdout",
     "output_type": "stream",
     "text": [
      "Yes    311\n",
      "No     169\n",
      "Name: Married, dtype: int64\n"
     ]
    },
    {
     "data": {
      "text/html": [
       "<div>\n",
       "<style scoped>\n",
       "    .dataframe tbody tr th:only-of-type {\n",
       "        vertical-align: middle;\n",
       "    }\n",
       "\n",
       "    .dataframe tbody tr th {\n",
       "        vertical-align: top;\n",
       "    }\n",
       "\n",
       "    .dataframe thead th {\n",
       "        text-align: right;\n",
       "    }\n",
       "</style>\n",
       "<table border=\"1\" class=\"dataframe\">\n",
       "  <thead>\n",
       "    <tr style=\"text-align: right;\">\n",
       "      <th></th>\n",
       "      <th>Loan_Status</th>\n",
       "    </tr>\n",
       "    <tr>\n",
       "      <th>Married</th>\n",
       "      <th></th>\n",
       "    </tr>\n",
       "  </thead>\n",
       "  <tbody>\n",
       "    <tr>\n",
       "      <th>No</th>\n",
       "      <td>105</td>\n",
       "    </tr>\n",
       "    <tr>\n",
       "      <th>Yes</th>\n",
       "      <td>227</td>\n",
       "    </tr>\n",
       "  </tbody>\n",
       "</table>\n",
       "</div>"
      ],
      "text/plain": [
       "         Loan_Status\n",
       "Married             \n",
       "No               105\n",
       "Yes              227"
      ]
     },
     "execution_count": 17,
     "metadata": {},
     "output_type": "execute_result"
    }
   ],
   "source": [
    "df_copy=df.copy()\n",
    "df_copy.drop(['Loan_ID','Dependents','Education','Self_Employed','ApplicantIncome','CoapplicantIncome','LoanAmount','Loan_Amount_Term','Credit_History','Property_Area'],axis=1,inplace=True)\n",
    "\n",
    "\n",
    "plt.figure(figsize=(15,6))\n",
    "\n",
    "plt.subplot(1,2,1)\n",
    "sns.countplot(df['Married'], palette='Set1_r')\n",
    "plt.title('Marital status count', fontsize=15)\n",
    "plt.xlabel('Married', fontsize=12)\n",
    "plt.ylabel('count', fontsize=12)\n",
    "\n",
    "plt.subplot(1,2,2)\n",
    "sns.countplot(df['Married'], hue= df['Loan_Status'],palette='PuBu')\n",
    "plt.title('Loan status based on marital status', fontsize=15)\n",
    "plt.xlabel('Married', fontsize=12)\n",
    "plt.ylabel('count', fontsize=12)\n",
    "plt.legend(labels=['No','Yes'],fontsize=14)\n",
    "\n",
    "plt.show()\n",
    "\n",
    "print(df['Married'].value_counts()),\n",
    "df_copy.groupby(['Married']).sum()"
   ]
  },
  {
   "cell_type": "markdown",
   "id": "3a9807e9",
   "metadata": {},
   "source": [
    "### Observations"
   ]
  },
  {
   "cell_type": "markdown",
   "id": "1ee56a06",
   "metadata": {},
   "source": [
    "* More number of Married people have applied for the loan(331) and umarried people's applications are 169.\n",
    "* Among 331 married people's applications 227 applications got approval for loan and rest didn't got loan\n",
    "* Among 169 unmarried people 105 appliation got approval for loan and rest o the application got rejected."
   ]
  },
  {
   "cell_type": "code",
   "execution_count": 18,
   "id": "a7d87113",
   "metadata": {},
   "outputs": [
    {
     "data": {
      "image/png": "[encoded data removed]",
      "text/plain": [
       "<Figure size 1080x432 with 2 Axes>"
      ]
     },
     "metadata": {
      "needs_background": "light"
     },
     "output_type": "display_data"
    },
    {
     "name": "stdout",
     "output_type": "stream",
     "text": [
      "Graduate        383\n",
      "Not Graduate     97\n",
      "Name: Education, dtype: int64\n"
     ]
    },
    {
     "data": {
      "text/html": [
       "<div>\n",
       "<style scoped>\n",
       "    .dataframe tbody tr th:only-of-type {\n",
       "        vertical-align: middle;\n",
       "    }\n",
       "\n",
       "    .dataframe tbody tr th {\n",
       "        vertical-align: top;\n",
       "    }\n",
       "\n",
       "    .dataframe thead th {\n",
       "        text-align: right;\n",
       "    }\n",
       "</style>\n",
       "<table border=\"1\" class=\"dataframe\">\n",
       "  <thead>\n",
       "    <tr style=\"text-align: right;\">\n",
       "      <th></th>\n",
       "      <th>Loan_Status</th>\n",
       "    </tr>\n",
       "    <tr>\n",
       "      <th>Education</th>\n",
       "      <th></th>\n",
       "    </tr>\n",
       "  </thead>\n",
       "  <tbody>\n",
       "    <tr>\n",
       "      <th>Graduate</th>\n",
       "      <td>271</td>\n",
       "    </tr>\n",
       "    <tr>\n",
       "      <th>Not Graduate</th>\n",
       "      <td>61</td>\n",
       "    </tr>\n",
       "  </tbody>\n",
       "</table>\n",
       "</div>"
      ],
      "text/plain": [
       "              Loan_Status\n",
       "Education                \n",
       "Graduate              271\n",
       "Not Graduate           61"
      ]
     },
     "execution_count": 18,
     "metadata": {},
     "output_type": "execute_result"
    }
   ],
   "source": [
    "df_copy=df.copy()\n",
    "df_copy.drop(['Loan_ID','Dependents','Self_Employed','ApplicantIncome','CoapplicantIncome','LoanAmount','Loan_Amount_Term','Credit_History','Property_Area'],axis=1,inplace=True)\n",
    "\n",
    "\n",
    "plt.figure(figsize=(15,6))\n",
    "\n",
    "plt.subplot(1,2,1)\n",
    "sns.countplot(df['Education'], palette='Set1')\n",
    "plt.title('Education count', fontsize=15)\n",
    "plt.xlabel('Education', fontsize=12)\n",
    "plt.ylabel('count', fontsize=12)\n",
    "\n",
    "plt.subplot(1,2,2)\n",
    "sns.countplot(df['Education'], hue= df['Loan_Status'],palette='Set2_r')\n",
    "plt.title('Loan status based on Education', fontsize=15)\n",
    "plt.xlabel('Education', fontsize=12)\n",
    "plt.ylabel('count', fontsize=12)\n",
    "plt.legend(labels=['No','Yes'],fontsize=14)\n",
    "\n",
    "plt.show()\n",
    "\n",
    "print(df['Education'].value_counts()),\n",
    "df_copy.groupby(['Education']).sum()"
   ]
  },
  {
   "cell_type": "markdown",
   "id": "2cd6bd5c",
   "metadata": {},
   "source": [
    "### Observations"
   ]
  },
  {
   "cell_type": "code",
   "execution_count": 19,
   "id": "4d7e835e",
   "metadata": {},
   "outputs": [
    {
     "data": {
      "image/png": "[encoded data removed]",
      "text/plain": [
       "<Figure size 1080x432 with 2 Axes>"
      ]
     },
     "metadata": {
      "needs_background": "light"
     },
     "output_type": "display_data"
    },
    {
     "name": "stdout",
     "output_type": "stream",
     "text": [
      "No     414\n",
      "Yes     66\n",
      "Name: Self_Employed, dtype: int64\n"
     ]
    },
    {
     "data": {
      "text/html": [
       "<div>\n",
       "<style scoped>\n",
       "    .dataframe tbody tr th:only-of-type {\n",
       "        vertical-align: middle;\n",
       "    }\n",
       "\n",
       "    .dataframe tbody tr th {\n",
       "        vertical-align: top;\n",
       "    }\n",
       "\n",
       "    .dataframe thead th {\n",
       "        text-align: right;\n",
       "    }\n",
       "</style>\n",
       "<table border=\"1\" class=\"dataframe\">\n",
       "  <thead>\n",
       "    <tr style=\"text-align: right;\">\n",
       "      <th></th>\n",
       "      <th>Loan_Status</th>\n",
       "    </tr>\n",
       "    <tr>\n",
       "      <th>Self_Employed</th>\n",
       "      <th></th>\n",
       "    </tr>\n",
       "  </thead>\n",
       "  <tbody>\n",
       "    <tr>\n",
       "      <th>No</th>\n",
       "      <td>289</td>\n",
       "    </tr>\n",
       "    <tr>\n",
       "      <th>Yes</th>\n",
       "      <td>43</td>\n",
       "    </tr>\n",
       "  </tbody>\n",
       "</table>\n",
       "</div>"
      ],
      "text/plain": [
       "               Loan_Status\n",
       "Self_Employed             \n",
       "No                     289\n",
       "Yes                     43"
      ]
     },
     "execution_count": 19,
     "metadata": {},
     "output_type": "execute_result"
    }
   ],
   "source": [
    "df_copy=df.copy()\n",
    "df_copy.drop(['Loan_ID','Dependents','ApplicantIncome','CoapplicantIncome','LoanAmount','Loan_Amount_Term','Credit_History','Property_Area'],axis=1,inplace=True)\n",
    "\n",
    "\n",
    "plt.figure(figsize=(15,6))\n",
    "\n",
    "plt.subplot(1,2,1)\n",
    "sns.countplot(df['Self_Employed'], palette='icefire')\n",
    "plt.title('Self_Employed count', fontsize=15)\n",
    "plt.xlabel('Self_Employed', fontsize=12)\n",
    "plt.ylabel('count', fontsize=12)\n",
    "\n",
    "plt.subplot(1,2,2)\n",
    "sns.countplot(df['Self_Employed'], hue= df['Loan_Status'],palette='summer_r')\n",
    "plt.title('Loan status based on Self_Employed', fontsize=15)\n",
    "plt.xlabel('Self_Employed', fontsize=12)\n",
    "plt.ylabel('count', fontsize=12)\n",
    "plt.legend(labels=['No','Yes'],fontsize=14)\n",
    "\n",
    "plt.show()\n",
    "\n",
    "print(df['Self_Employed'].value_counts()),\n",
    "df_copy.groupby(['Self_Employed']).sum()"
   ]
  },
  {
   "cell_type": "markdown",
   "id": "92d17fde",
   "metadata": {},
   "source": [
    "### Observations"
   ]
  },
  {
   "cell_type": "markdown",
   "id": "670a3f8b",
   "metadata": {},
   "source": [
    "* We have 414 records of people who are not self employed and only 66 records of people who are self employed in the dataset.\n",
    "* among 66 people who are self employed 43 people got loan and rest didn't got the loan\n",
    "* among 414 people who are not self employed 289 got loan and the rest didn't."
   ]
  },
  {
   "cell_type": "code",
   "execution_count": 20,
   "id": "b7b57417",
   "metadata": {},
   "outputs": [
    {
     "data": {
      "image/png": "[encoded data removed]",
      "text/plain": [
       "<Figure size 1080x432 with 2 Axes>"
      ]
     },
     "metadata": {
      "needs_background": "light"
     },
     "output_type": "display_data"
    },
    {
     "name": "stdout",
     "output_type": "stream",
     "text": [
      "1.0    410\n",
      "0.0     70\n",
      "Name: Credit_History, dtype: int64\n"
     ]
    },
    {
     "data": {
      "text/html": [
       "<div>\n",
       "<style scoped>\n",
       "    .dataframe tbody tr th:only-of-type {\n",
       "        vertical-align: middle;\n",
       "    }\n",
       "\n",
       "    .dataframe tbody tr th {\n",
       "        vertical-align: top;\n",
       "    }\n",
       "\n",
       "    .dataframe thead th {\n",
       "        text-align: right;\n",
       "    }\n",
       "</style>\n",
       "<table border=\"1\" class=\"dataframe\">\n",
       "  <thead>\n",
       "    <tr style=\"text-align: right;\">\n",
       "      <th></th>\n",
       "      <th>Loan_Status</th>\n",
       "    </tr>\n",
       "    <tr>\n",
       "      <th>Credit_History</th>\n",
       "      <th></th>\n",
       "    </tr>\n",
       "  </thead>\n",
       "  <tbody>\n",
       "    <tr>\n",
       "      <th>0.0</th>\n",
       "      <td>7</td>\n",
       "    </tr>\n",
       "    <tr>\n",
       "      <th>1.0</th>\n",
       "      <td>325</td>\n",
       "    </tr>\n",
       "  </tbody>\n",
       "</table>\n",
       "</div>"
      ],
      "text/plain": [
       "                Loan_Status\n",
       "Credit_History             \n",
       "0.0                       7\n",
       "1.0                     325"
      ]
     },
     "execution_count": 20,
     "metadata": {},
     "output_type": "execute_result"
    }
   ],
   "source": [
    "df_copy=df.copy()\n",
    "df_copy.drop(['Loan_ID','Dependents','Self_Employed','ApplicantIncome','CoapplicantIncome','LoanAmount','Loan_Amount_Term','Property_Area'],axis=1,inplace=True)\n",
    "\n",
    "\n",
    "plt.figure(figsize=(15,6))\n",
    "\n",
    "plt.subplot(1,2,1)\n",
    "sns.countplot(df['Credit_History'], palette='Set2')\n",
    "plt.title('Credit_History ', fontsize=15)\n",
    "plt.xlabel('Credit_History', fontsize=12)\n",
    "plt.ylabel('count', fontsize=12)\n",
    "\n",
    "plt.subplot(1,2,2)\n",
    "sns.countplot(df['Credit_History'], hue= df['Loan_Status'],palette='Set3_r')\n",
    "plt.title('Loan status based on Credit_History', fontsize=15)\n",
    "plt.xlabel('Credit_History', fontsize=12)\n",
    "plt.ylabel('count', fontsize=12)\n",
    "plt.legend(labels=['No','Yes'],fontsize=14)\n",
    "\n",
    "plt.show()\n",
    "\n",
    "print(df['Credit_History'].value_counts()),\n",
    "df_copy.groupby(['Credit_History']).sum()"
   ]
  },
  {
   "cell_type": "markdown",
   "id": "4f842519",
   "metadata": {},
   "source": [
    "### Observations"
   ]
  },
  {
   "cell_type": "markdown",
   "id": "9cdd1b0e",
   "metadata": {},
   "source": [
    "* People with credit history 1 are 410 and people with 0.0 creidt history are 70\n",
    "* Among 70 people with 0 credit history got loan approval for 7 applications only\n",
    "* But people with 1 credit history got 325 application approoved."
   ]
  },
  {
   "cell_type": "code",
   "execution_count": 21,
   "id": "f421b825",
   "metadata": {},
   "outputs": [
    {
     "data": {
      "image/png": "[encoded data removed]",
      "text/plain": [
       "<Figure size 1080x432 with 2 Axes>"
      ]
     },
     "metadata": {
      "needs_background": "light"
     },
     "output_type": "display_data"
    },
    {
     "name": "stdout",
     "output_type": "stream",
     "text": [
      "Semiurban    191\n",
      "Urban        150\n",
      "Rural        139\n",
      "Name: Property_Area, dtype: int64\n"
     ]
    },
    {
     "data": {
      "text/html": [
       "<div>\n",
       "<style scoped>\n",
       "    .dataframe tbody tr th:only-of-type {\n",
       "        vertical-align: middle;\n",
       "    }\n",
       "\n",
       "    .dataframe tbody tr th {\n",
       "        vertical-align: top;\n",
       "    }\n",
       "\n",
       "    .dataframe thead th {\n",
       "        text-align: right;\n",
       "    }\n",
       "</style>\n",
       "<table border=\"1\" class=\"dataframe\">\n",
       "  <thead>\n",
       "    <tr style=\"text-align: right;\">\n",
       "      <th></th>\n",
       "      <th>Loan_Status</th>\n",
       "    </tr>\n",
       "    <tr>\n",
       "      <th>Property_Area</th>\n",
       "      <th></th>\n",
       "    </tr>\n",
       "  </thead>\n",
       "  <tbody>\n",
       "    <tr>\n",
       "      <th>Rural</th>\n",
       "      <td>85</td>\n",
       "    </tr>\n",
       "    <tr>\n",
       "      <th>Semiurban</th>\n",
       "      <td>149</td>\n",
       "    </tr>\n",
       "    <tr>\n",
       "      <th>Urban</th>\n",
       "      <td>98</td>\n",
       "    </tr>\n",
       "  </tbody>\n",
       "</table>\n",
       "</div>"
      ],
      "text/plain": [
       "               Loan_Status\n",
       "Property_Area             \n",
       "Rural                   85\n",
       "Semiurban              149\n",
       "Urban                   98"
      ]
     },
     "execution_count": 21,
     "metadata": {},
     "output_type": "execute_result"
    }
   ],
   "source": [
    "df_copy=df.copy()\n",
    "df_copy.drop(['Loan_ID','Dependents','Self_Employed','ApplicantIncome','CoapplicantIncome','LoanAmount','Loan_Amount_Term','Credit_History'],axis=1,inplace=True)\n",
    "\n",
    "\n",
    "plt.figure(figsize=(15,6))\n",
    "\n",
    "plt.subplot(1,2,1)\n",
    "sns.countplot(df['Property_Area'], palette='Greys')\n",
    "plt.title('Property_Area count', fontsize=15)\n",
    "plt.xlabel('Property_Area', fontsize=12)\n",
    "plt.ylabel('count', fontsize=12)\n",
    "\n",
    "plt.subplot(1,2,2)\n",
    "sns.countplot(df['Property_Area'], hue= df['Loan_Status'],palette='Blues')\n",
    "plt.title('Loan status based on Property_Area', fontsize=15)\n",
    "plt.xlabel('Property_Area', fontsize=12)\n",
    "plt.ylabel('count', fontsize=12)\n",
    "plt.legend(labels=['No','Yes'],fontsize=14)\n",
    "\n",
    "plt.show()\n",
    "\n",
    "print(df['Property_Area'].value_counts()),\n",
    "df_copy.groupby(['Property_Area']).sum()"
   ]
  },
  {
   "cell_type": "markdown",
   "id": "23db0df3",
   "metadata": {},
   "source": [
    "### Observations"
   ]
  },
  {
   "cell_type": "markdown",
   "id": "cc0d65d6",
   "metadata": {},
   "source": [
    "* Applicationa are from  3 different Property area.\n",
    "* people with rural property area have high chance of getting loan approval."
   ]
  },
  {
   "cell_type": "markdown",
   "id": "70bf1d4d",
   "metadata": {},
   "source": [
    "# Describing Dataset"
   ]
  },
  {
   "cell_type": "code",
   "execution_count": 22,
   "id": "b02430a2",
   "metadata": {},
   "outputs": [
    {
     "data": {
      "text/html": [
       "<div>\n",
       "<style scoped>\n",
       "    .dataframe tbody tr th:only-of-type {\n",
       "        vertical-align: middle;\n",
       "    }\n",
       "\n",
       "    .dataframe tbody tr th {\n",
       "        vertical-align: top;\n",
       "    }\n",
       "\n",
       "    .dataframe thead th {\n",
       "        text-align: right;\n",
       "    }\n",
       "</style>\n",
       "<table border=\"1\" class=\"dataframe\">\n",
       "  <thead>\n",
       "    <tr style=\"text-align: right;\">\n",
       "      <th></th>\n",
       "      <th>count</th>\n",
       "      <th>unique</th>\n",
       "      <th>top</th>\n",
       "      <th>freq</th>\n",
       "      <th>mean</th>\n",
       "      <th>std</th>\n",
       "      <th>min</th>\n",
       "      <th>25%</th>\n",
       "      <th>50%</th>\n",
       "      <th>75%</th>\n",
       "      <th>max</th>\n",
       "    </tr>\n",
       "  </thead>\n",
       "  <tbody>\n",
       "    <tr>\n",
       "      <th>Loan_ID</th>\n",
       "      <td>480</td>\n",
       "      <td>480</td>\n",
       "      <td>LP001003</td>\n",
       "      <td>1</td>\n",
       "      <td>NaN</td>\n",
       "      <td>NaN</td>\n",
       "      <td>NaN</td>\n",
       "      <td>NaN</td>\n",
       "      <td>NaN</td>\n",
       "      <td>NaN</td>\n",
       "      <td>NaN</td>\n",
       "    </tr>\n",
       "    <tr>\n",
       "      <th>Gender</th>\n",
       "      <td>480</td>\n",
       "      <td>2</td>\n",
       "      <td>Male</td>\n",
       "      <td>394</td>\n",
       "      <td>NaN</td>\n",
       "      <td>NaN</td>\n",
       "      <td>NaN</td>\n",
       "      <td>NaN</td>\n",
       "      <td>NaN</td>\n",
       "      <td>NaN</td>\n",
       "      <td>NaN</td>\n",
       "    </tr>\n",
       "    <tr>\n",
       "      <th>Married</th>\n",
       "      <td>480</td>\n",
       "      <td>2</td>\n",
       "      <td>Yes</td>\n",
       "      <td>311</td>\n",
       "      <td>NaN</td>\n",
       "      <td>NaN</td>\n",
       "      <td>NaN</td>\n",
       "      <td>NaN</td>\n",
       "      <td>NaN</td>\n",
       "      <td>NaN</td>\n",
       "      <td>NaN</td>\n",
       "    </tr>\n",
       "    <tr>\n",
       "      <th>Dependents</th>\n",
       "      <td>480</td>\n",
       "      <td>4</td>\n",
       "      <td>0</td>\n",
       "      <td>274</td>\n",
       "      <td>NaN</td>\n",
       "      <td>NaN</td>\n",
       "      <td>NaN</td>\n",
       "      <td>NaN</td>\n",
       "      <td>NaN</td>\n",
       "      <td>NaN</td>\n",
       "      <td>NaN</td>\n",
       "    </tr>\n",
       "    <tr>\n",
       "      <th>Education</th>\n",
       "      <td>480</td>\n",
       "      <td>2</td>\n",
       "      <td>Graduate</td>\n",
       "      <td>383</td>\n",
       "      <td>NaN</td>\n",
       "      <td>NaN</td>\n",
       "      <td>NaN</td>\n",
       "      <td>NaN</td>\n",
       "      <td>NaN</td>\n",
       "      <td>NaN</td>\n",
       "      <td>NaN</td>\n",
       "    </tr>\n",
       "    <tr>\n",
       "      <th>Self_Employed</th>\n",
       "      <td>480</td>\n",
       "      <td>2</td>\n",
       "      <td>No</td>\n",
       "      <td>414</td>\n",
       "      <td>NaN</td>\n",
       "      <td>NaN</td>\n",
       "      <td>NaN</td>\n",
       "      <td>NaN</td>\n",
       "      <td>NaN</td>\n",
       "      <td>NaN</td>\n",
       "      <td>NaN</td>\n",
       "    </tr>\n",
       "    <tr>\n",
       "      <th>ApplicantIncome</th>\n",
       "      <td>480.0</td>\n",
       "      <td>NaN</td>\n",
       "      <td>NaN</td>\n",
       "      <td>NaN</td>\n",
       "      <td>5364.23125</td>\n",
       "      <td>5668.251251</td>\n",
       "      <td>150.0</td>\n",
       "      <td>2898.75</td>\n",
       "      <td>3859.0</td>\n",
       "      <td>5852.5</td>\n",
       "      <td>81000.0</td>\n",
       "    </tr>\n",
       "    <tr>\n",
       "      <th>CoapplicantIncome</th>\n",
       "      <td>480.0</td>\n",
       "      <td>NaN</td>\n",
       "      <td>NaN</td>\n",
       "      <td>NaN</td>\n",
       "      <td>1581.093583</td>\n",
       "      <td>2617.692267</td>\n",
       "      <td>0.0</td>\n",
       "      <td>0.0</td>\n",
       "      <td>1084.5</td>\n",
       "      <td>2253.25</td>\n",
       "      <td>33837.0</td>\n",
       "    </tr>\n",
       "    <tr>\n",
       "      <th>LoanAmount</th>\n",
       "      <td>480.0</td>\n",
       "      <td>NaN</td>\n",
       "      <td>NaN</td>\n",
       "      <td>NaN</td>\n",
       "      <td>144.735417</td>\n",
       "      <td>80.508164</td>\n",
       "      <td>9.0</td>\n",
       "      <td>100.0</td>\n",
       "      <td>128.0</td>\n",
       "      <td>170.0</td>\n",
       "      <td>600.0</td>\n",
       "    </tr>\n",
       "    <tr>\n",
       "      <th>Loan_Amount_Term</th>\n",
       "      <td>480.0</td>\n",
       "      <td>NaN</td>\n",
       "      <td>NaN</td>\n",
       "      <td>NaN</td>\n",
       "      <td>342.05</td>\n",
       "      <td>65.212401</td>\n",
       "      <td>36.0</td>\n",
       "      <td>360.0</td>\n",
       "      <td>360.0</td>\n",
       "      <td>360.0</td>\n",
       "      <td>480.0</td>\n",
       "    </tr>\n",
       "    <tr>\n",
       "      <th>Credit_History</th>\n",
       "      <td>480.0</td>\n",
       "      <td>NaN</td>\n",
       "      <td>NaN</td>\n",
       "      <td>NaN</td>\n",
       "      <td>0.854167</td>\n",
       "      <td>0.353307</td>\n",
       "      <td>0.0</td>\n",
       "      <td>1.0</td>\n",
       "      <td>1.0</td>\n",
       "      <td>1.0</td>\n",
       "      <td>1.0</td>\n",
       "    </tr>\n",
       "    <tr>\n",
       "      <th>Property_Area</th>\n",
       "      <td>480</td>\n",
       "      <td>3</td>\n",
       "      <td>Semiurban</td>\n",
       "      <td>191</td>\n",
       "      <td>NaN</td>\n",
       "      <td>NaN</td>\n",
       "      <td>NaN</td>\n",
       "      <td>NaN</td>\n",
       "      <td>NaN</td>\n",
       "      <td>NaN</td>\n",
       "      <td>NaN</td>\n",
       "    </tr>\n",
       "    <tr>\n",
       "      <th>Loan_Status</th>\n",
       "      <td>480.0</td>\n",
       "      <td>NaN</td>\n",
       "      <td>NaN</td>\n",
       "      <td>NaN</td>\n",
       "      <td>0.691667</td>\n",
       "      <td>0.462287</td>\n",
       "      <td>0.0</td>\n",
       "      <td>0.0</td>\n",
       "      <td>1.0</td>\n",
       "      <td>1.0</td>\n",
       "      <td>1.0</td>\n",
       "    </tr>\n",
       "  </tbody>\n",
       "</table>\n",
       "</div>"
      ],
      "text/plain": [
       "                   count unique        top freq         mean          std  \\\n",
       "Loan_ID              480    480   LP001003    1          NaN          NaN   \n",
       "Gender               480      2       Male  394          NaN          NaN   \n",
       "Married              480      2        Yes  311          NaN          NaN   \n",
       "Dependents           480      4          0  274          NaN          NaN   \n",
       "Education            480      2   Graduate  383          NaN          NaN   \n",
       "Self_Employed        480      2         No  414          NaN          NaN   \n",
       "ApplicantIncome    480.0    NaN        NaN  NaN   5364.23125  5668.251251   \n",
       "CoapplicantIncome  480.0    NaN        NaN  NaN  1581.093583  2617.692267   \n",
       "LoanAmount         480.0    NaN        NaN  NaN   144.735417    80.508164   \n",
       "Loan_Amount_Term   480.0    NaN        NaN  NaN       342.05    65.212401   \n",
       "Credit_History     480.0    NaN        NaN  NaN     0.854167     0.353307   \n",
       "Property_Area        480      3  Semiurban  191          NaN          NaN   \n",
       "Loan_Status        480.0    NaN        NaN  NaN     0.691667     0.462287   \n",
       "\n",
       "                     min      25%     50%      75%      max  \n",
       "Loan_ID              NaN      NaN     NaN      NaN      NaN  \n",
       "Gender               NaN      NaN     NaN      NaN      NaN  \n",
       "Married              NaN      NaN     NaN      NaN      NaN  \n",
       "Dependents           NaN      NaN     NaN      NaN      NaN  \n",
       "Education            NaN      NaN     NaN      NaN      NaN  \n",
       "Self_Employed        NaN      NaN     NaN      NaN      NaN  \n",
       "ApplicantIncome    150.0  2898.75  3859.0   5852.5  81000.0  \n",
       "CoapplicantIncome    0.0      0.0  1084.5  2253.25  33837.0  \n",
       "LoanAmount           9.0    100.0   128.0    170.0    600.0  \n",
       "Loan_Amount_Term    36.0    360.0   360.0    360.0    480.0  \n",
       "Credit_History       0.0      1.0     1.0      1.0      1.0  \n",
       "Property_Area        NaN      NaN     NaN      NaN      NaN  \n",
       "Loan_Status          0.0      0.0     1.0      1.0      1.0  "
      ]
     },
     "execution_count": 22,
     "metadata": {},
     "output_type": "execute_result"
    }
   ],
   "source": [
    "df.describe(include='all').T"
   ]
  },
  {
   "cell_type": "markdown",
   "id": "030191c0",
   "metadata": {},
   "source": [
    "### Observations"
   ]
  },
  {
   "cell_type": "markdown",
   "id": "801d4d17",
   "metadata": {},
   "source": [
    "* People with income 150 to 81000 are applying for loan\n",
    "* Loan amount is between 100 to 600"
   ]
  },
  {
   "cell_type": "markdown",
   "id": "04d3178f",
   "metadata": {},
   "source": [
    "# correlation"
   ]
  },
  {
   "cell_type": "code",
   "execution_count": 23,
   "id": "c99d0b0c",
   "metadata": {},
   "outputs": [
    {
     "data": {
      "text/html": [
       "<div>\n",
       "<style scoped>\n",
       "    .dataframe tbody tr th:only-of-type {\n",
       "        vertical-align: middle;\n",
       "    }\n",
       "\n",
       "    .dataframe tbody tr th {\n",
       "        vertical-align: top;\n",
       "    }\n",
       "\n",
       "    .dataframe thead th {\n",
       "        text-align: right;\n",
       "    }\n",
       "</style>\n",
       "<table border=\"1\" class=\"dataframe\">\n",
       "  <thead>\n",
       "    <tr style=\"text-align: right;\">\n",
       "      <th></th>\n",
       "      <th>ApplicantIncome</th>\n",
       "      <th>CoapplicantIncome</th>\n",
       "      <th>LoanAmount</th>\n",
       "      <th>Loan_Amount_Term</th>\n",
       "      <th>Credit_History</th>\n",
       "      <th>Loan_Status</th>\n",
       "    </tr>\n",
       "  </thead>\n",
       "  <tbody>\n",
       "    <tr>\n",
       "      <th>ApplicantIncome</th>\n",
       "      <td>1.000000</td>\n",
       "      <td>-0.112588</td>\n",
       "      <td>0.495310</td>\n",
       "      <td>-0.010838</td>\n",
       "      <td>-0.056152</td>\n",
       "      <td>-0.043152</td>\n",
       "    </tr>\n",
       "    <tr>\n",
       "      <th>CoapplicantIncome</th>\n",
       "      <td>-0.112588</td>\n",
       "      <td>1.000000</td>\n",
       "      <td>0.190740</td>\n",
       "      <td>-0.005775</td>\n",
       "      <td>-0.008692</td>\n",
       "      <td>-0.049020</td>\n",
       "    </tr>\n",
       "    <tr>\n",
       "      <th>LoanAmount</th>\n",
       "      <td>0.495310</td>\n",
       "      <td>0.190740</td>\n",
       "      <td>1.000000</td>\n",
       "      <td>0.050867</td>\n",
       "      <td>-0.040773</td>\n",
       "      <td>-0.071753</td>\n",
       "    </tr>\n",
       "    <tr>\n",
       "      <th>Loan_Amount_Term</th>\n",
       "      <td>-0.010838</td>\n",
       "      <td>-0.005775</td>\n",
       "      <td>0.050867</td>\n",
       "      <td>1.000000</td>\n",
       "      <td>0.032937</td>\n",
       "      <td>-0.007798</td>\n",
       "    </tr>\n",
       "    <tr>\n",
       "      <th>Credit_History</th>\n",
       "      <td>-0.056152</td>\n",
       "      <td>-0.008692</td>\n",
       "      <td>-0.040773</td>\n",
       "      <td>0.032937</td>\n",
       "      <td>1.000000</td>\n",
       "      <td>0.529390</td>\n",
       "    </tr>\n",
       "    <tr>\n",
       "      <th>Loan_Status</th>\n",
       "      <td>-0.043152</td>\n",
       "      <td>-0.049020</td>\n",
       "      <td>-0.071753</td>\n",
       "      <td>-0.007798</td>\n",
       "      <td>0.529390</td>\n",
       "      <td>1.000000</td>\n",
       "    </tr>\n",
       "  </tbody>\n",
       "</table>\n",
       "</div>"
      ],
      "text/plain": [
       "                   ApplicantIncome  CoapplicantIncome  LoanAmount  \\\n",
       "ApplicantIncome           1.000000          -0.112588    0.495310   \n",
       "CoapplicantIncome        -0.112588           1.000000    0.190740   \n",
       "LoanAmount                0.495310           0.190740    1.000000   \n",
       "Loan_Amount_Term         -0.010838          -0.005775    0.050867   \n",
       "Credit_History           -0.056152          -0.008692   -0.040773   \n",
       "Loan_Status              -0.043152          -0.049020   -0.071753   \n",
       "\n",
       "                   Loan_Amount_Term  Credit_History  Loan_Status  \n",
       "ApplicantIncome           -0.010838       -0.056152    -0.043152  \n",
       "CoapplicantIncome         -0.005775       -0.008692    -0.049020  \n",
       "LoanAmount                 0.050867       -0.040773    -0.071753  \n",
       "Loan_Amount_Term           1.000000        0.032937    -0.007798  \n",
       "Credit_History             0.032937        1.000000     0.529390  \n",
       "Loan_Status               -0.007798        0.529390     1.000000  "
      ]
     },
     "execution_count": 23,
     "metadata": {},
     "output_type": "execute_result"
    }
   ],
   "source": [
    "df.corr()"
   ]
  },
  {
   "cell_type": "code",
   "execution_count": 24,
   "id": "fcf39a26",
   "metadata": {},
   "outputs": [
    {
     "data": {
      "image/png": "[encoded data removed]",
      "text/plain": [
       "<Figure size 1080x432 with 2 Axes>"
      ]
     },
     "metadata": {
      "needs_background": "light"
     },
     "output_type": "display_data"
    }
   ],
   "source": [
    "#df.corr() using heatmap\n",
    "plt.figure(figsize=(15,6))\n",
    "sns.heatmap(df.corr(),linewidth='0.5',linecolor='black',annot=True, annot_kws={'size': 12})\n",
    "plt.title('Correlation between columns', size=28)\n",
    "plt.xticks(size=14)\n",
    "plt.yticks(size=14,rotation=360)\n",
    "plt.show()"
   ]
  },
  {
   "cell_type": "markdown",
   "id": "e3e3fd28",
   "metadata": {},
   "source": [
    "### Observations"
   ]
  },
  {
   "cell_type": "markdown",
   "id": "b50fcb0a",
   "metadata": {},
   "source": [
    "* All the columsn except credict history are negatively correlated with loan status column.\n",
    "* credit history shows 53 percent positive correlation with loan status column"
   ]
  },
  {
   "cell_type": "markdown",
   "id": "26a6cfce",
   "metadata": {},
   "source": [
    "# checking outliers"
   ]
  },
  {
   "cell_type": "code",
   "execution_count": 25,
   "id": "13b37140",
   "metadata": {},
   "outputs": [
    {
     "data": {
      "image/png": "[encoded data removed]",
      "text/plain": [
       "<Figure size 1080x576 with 6 Axes>"
      ]
     },
     "metadata": {},
     "output_type": "display_data"
    }
   ],
   "source": [
    "list_col=['ApplicantIncome','CoapplicantIncome','LoanAmount','Loan_Amount_Term','Credit_History','Loan_Status']\n",
    "plt.rcParams['figure.facecolor']='grey'\n",
    "df.plot(kind='box',title=list_col, subplots=True, layout=(2,3), legend= True, fontsize=1, figsize=(15,8), color='blue')\n",
    "plt.show()"
   ]
  },
  {
   "cell_type": "markdown",
   "id": "6aea21d9",
   "metadata": {},
   "source": [
    "### Observations"
   ]
  },
  {
   "cell_type": "markdown",
   "id": "cb1bf9ea",
   "metadata": {},
   "source": [
    "* There might be skewness in all the columsn except loan status "
   ]
  },
  {
   "cell_type": "markdown",
   "id": "68d1d308",
   "metadata": {},
   "source": [
    "# Skewness"
   ]
  },
  {
   "cell_type": "code",
   "execution_count": 26,
   "id": "4d1c6289",
   "metadata": {},
   "outputs": [
    {
     "data": {
      "text/plain": [
       "ApplicantIncome      6.917027\n",
       "CoapplicantIncome    5.881622\n",
       "LoanAmount           2.361437\n",
       "Loan_Amount_Term    -2.333710\n",
       "Credit_History      -2.013253\n",
       "Loan_Status         -0.832681\n",
       "dtype: float64"
      ]
     },
     "execution_count": 26,
     "metadata": {},
     "output_type": "execute_result"
    }
   ],
   "source": [
    "df.skew()"
   ]
  },
  {
   "cell_type": "code",
   "execution_count": 27,
   "id": "345c9086",
   "metadata": {},
   "outputs": [
    {
     "data": {
      "image/png": "[encoded data removed]",
      "text/plain": [
       "<Figure size 1080x1080 with 15 Axes>"
      ]
     },
     "metadata": {},
     "output_type": "display_data"
    }
   ],
   "source": [
    "#vizualizing skewness\n",
    "plt.rcParams['figure.facecolor']='pink'\n",
    "df.plot(kind='kde', subplots=True, layout=(5,3), sharex= False, legend= True, fontsize=1, figsize=(15,15))\n",
    "plt.show()"
   ]
  },
  {
   "cell_type": "markdown",
   "id": "826146ce",
   "metadata": {},
   "source": [
    "### Observations"
   ]
  },
  {
   "cell_type": "markdown",
   "id": "a1e9681c",
   "metadata": {},
   "source": [
    "* All the columns have skewness"
   ]
  },
  {
   "cell_type": "markdown",
   "id": "b53220de",
   "metadata": {},
   "source": [
    "# Findings(insights)"
   ]
  },
  {
   "cell_type": "markdown",
   "id": "96e391f3",
   "metadata": {},
   "source": [
    "* Males who are married and graduate are having high chance for loan approval\n",
    "* people who have property in rural area can et loan easily than people having property area in semi-rural and urban areas.\n",
    "* To get a loan applicants must have credit history of 1"
   ]
  },
  {
   "cell_type": "markdown",
   "id": "84c5c7e8",
   "metadata": {},
   "source": [
    "# Data Preprocessing"
   ]
  },
  {
   "cell_type": "markdown",
   "id": "4deb7272",
   "metadata": {},
   "source": [
    "# Label Encoding"
   ]
  },
  {
   "cell_type": "code",
   "execution_count": 28,
   "id": "bae21a0c",
   "metadata": {},
   "outputs": [
    {
     "data": {
      "text/html": [
       "<div>\n",
       "<style scoped>\n",
       "    .dataframe tbody tr th:only-of-type {\n",
       "        vertical-align: middle;\n",
       "    }\n",
       "\n",
       "    .dataframe tbody tr th {\n",
       "        vertical-align: top;\n",
       "    }\n",
       "\n",
       "    .dataframe thead th {\n",
       "        text-align: right;\n",
       "    }\n",
       "</style>\n",
       "<table border=\"1\" class=\"dataframe\">\n",
       "  <thead>\n",
       "    <tr style=\"text-align: right;\">\n",
       "      <th></th>\n",
       "      <th>Loan_ID</th>\n",
       "      <th>Gender</th>\n",
       "      <th>Married</th>\n",
       "      <th>Dependents</th>\n",
       "      <th>Education</th>\n",
       "      <th>Self_Employed</th>\n",
       "      <th>ApplicantIncome</th>\n",
       "      <th>CoapplicantIncome</th>\n",
       "      <th>LoanAmount</th>\n",
       "      <th>Loan_Amount_Term</th>\n",
       "      <th>Credit_History</th>\n",
       "      <th>Property_Area</th>\n",
       "      <th>Loan_Status</th>\n",
       "    </tr>\n",
       "  </thead>\n",
       "  <tbody>\n",
       "    <tr>\n",
       "      <th>1</th>\n",
       "      <td>LP001003</td>\n",
       "      <td>Male</td>\n",
       "      <td>Yes</td>\n",
       "      <td>1</td>\n",
       "      <td>Graduate</td>\n",
       "      <td>No</td>\n",
       "      <td>4583</td>\n",
       "      <td>1508.0</td>\n",
       "      <td>128.0</td>\n",
       "      <td>360.0</td>\n",
       "      <td>1.0</td>\n",
       "      <td>Rural</td>\n",
       "      <td>0</td>\n",
       "    </tr>\n",
       "    <tr>\n",
       "      <th>2</th>\n",
       "      <td>LP001005</td>\n",
       "      <td>Male</td>\n",
       "      <td>Yes</td>\n",
       "      <td>0</td>\n",
       "      <td>Graduate</td>\n",
       "      <td>Yes</td>\n",
       "      <td>3000</td>\n",
       "      <td>0.0</td>\n",
       "      <td>66.0</td>\n",
       "      <td>360.0</td>\n",
       "      <td>1.0</td>\n",
       "      <td>Urban</td>\n",
       "      <td>1</td>\n",
       "    </tr>\n",
       "    <tr>\n",
       "      <th>3</th>\n",
       "      <td>LP001006</td>\n",
       "      <td>Male</td>\n",
       "      <td>Yes</td>\n",
       "      <td>0</td>\n",
       "      <td>Not Graduate</td>\n",
       "      <td>No</td>\n",
       "      <td>2583</td>\n",
       "      <td>2358.0</td>\n",
       "      <td>120.0</td>\n",
       "      <td>360.0</td>\n",
       "      <td>1.0</td>\n",
       "      <td>Urban</td>\n",
       "      <td>1</td>\n",
       "    </tr>\n",
       "    <tr>\n",
       "      <th>4</th>\n",
       "      <td>LP001008</td>\n",
       "      <td>Male</td>\n",
       "      <td>No</td>\n",
       "      <td>0</td>\n",
       "      <td>Graduate</td>\n",
       "      <td>No</td>\n",
       "      <td>6000</td>\n",
       "      <td>0.0</td>\n",
       "      <td>141.0</td>\n",
       "      <td>360.0</td>\n",
       "      <td>1.0</td>\n",
       "      <td>Urban</td>\n",
       "      <td>1</td>\n",
       "    </tr>\n",
       "    <tr>\n",
       "      <th>5</th>\n",
       "      <td>LP001011</td>\n",
       "      <td>Male</td>\n",
       "      <td>Yes</td>\n",
       "      <td>2</td>\n",
       "      <td>Graduate</td>\n",
       "      <td>Yes</td>\n",
       "      <td>5417</td>\n",
       "      <td>4196.0</td>\n",
       "      <td>267.0</td>\n",
       "      <td>360.0</td>\n",
       "      <td>1.0</td>\n",
       "      <td>Urban</td>\n",
       "      <td>1</td>\n",
       "    </tr>\n",
       "  </tbody>\n",
       "</table>\n",
       "</div>"
      ],
      "text/plain": [
       "    Loan_ID Gender Married Dependents     Education Self_Employed  \\\n",
       "1  LP001003   Male     Yes          1      Graduate            No   \n",
       "2  LP001005   Male     Yes          0      Graduate           Yes   \n",
       "3  LP001006   Male     Yes          0  Not Graduate            No   \n",
       "4  LP001008   Male      No          0      Graduate            No   \n",
       "5  LP001011   Male     Yes          2      Graduate           Yes   \n",
       "\n",
       "   ApplicantIncome  CoapplicantIncome  LoanAmount  Loan_Amount_Term  \\\n",
       "1             4583             1508.0       128.0             360.0   \n",
       "2             3000                0.0        66.0             360.0   \n",
       "3             2583             2358.0       120.0             360.0   \n",
       "4             6000                0.0       141.0             360.0   \n",
       "5             5417             4196.0       267.0             360.0   \n",
       "\n",
       "   Credit_History Property_Area  Loan_Status  \n",
       "1             1.0         Rural            0  \n",
       "2             1.0         Urban            1  \n",
       "3             1.0         Urban            1  \n",
       "4             1.0         Urban            1  \n",
       "5             1.0         Urban            1  "
      ]
     },
     "execution_count": 28,
     "metadata": {},
     "output_type": "execute_result"
    }
   ],
   "source": [
    "df.head()"
   ]
  },
  {
   "cell_type": "code",
   "execution_count": 29,
   "id": "e7ea9456",
   "metadata": {},
   "outputs": [],
   "source": [
    "df1=df.copy()\n",
    "df1.drop('Loan_ID',axis=1,inplace=True)"
   ]
  },
  {
   "cell_type": "code",
   "execution_count": 30,
   "id": "066e429c",
   "metadata": {},
   "outputs": [],
   "source": [
    "# converting string into integer\n",
    "from sklearn.preprocessing import LabelEncoder\n",
    "\n",
    "#creating instance\n",
    "le=LabelEncoder()\n",
    "\n",
    "#training data\n",
    "le.fit(df1['Gender'])\n",
    "#transforming data\n",
    "df1['Gender']=le.transform(df1['Gender'])\n",
    "\n",
    "le.fit(df1['Married'])\n",
    "df1['Married']=le.transform(df1['Married'])\n",
    "\n",
    "le.fit(df1['Education'])\n",
    "df1['Education']=le.transform(df1['Education'])\n",
    "\n",
    "le.fit(df1['Self_Employed'])\n",
    "df1['Self_Employed']=le.transform(df1['Self_Employed'])\n",
    "\n",
    "le.fit(df1['Property_Area'])\n",
    "df1['Property_Area']=le.transform(df1['Property_Area'])\n",
    "\n",
    "le.fit(df1['Loan_Status'])\n",
    "df1['Loan_Status']=le.transform(df1['Loan_Status'])\n",
    "\n",
    "le.fit(df1['Dependents'])\n",
    "df1['Dependents']=le.transform(df1['Dependents'])"
   ]
  },
  {
   "cell_type": "code",
   "execution_count": 31,
   "id": "80296c87",
   "metadata": {},
   "outputs": [
    {
     "data": {
      "text/html": [
       "<div>\n",
       "<style scoped>\n",
       "    .dataframe tbody tr th:only-of-type {\n",
       "        vertical-align: middle;\n",
       "    }\n",
       "\n",
       "    .dataframe tbody tr th {\n",
       "        vertical-align: top;\n",
       "    }\n",
       "\n",
       "    .dataframe thead th {\n",
       "        text-align: right;\n",
       "    }\n",
       "</style>\n",
       "<table border=\"1\" class=\"dataframe\">\n",
       "  <thead>\n",
       "    <tr style=\"text-align: right;\">\n",
       "      <th></th>\n",
       "      <th>Gender</th>\n",
       "      <th>Married</th>\n",
       "      <th>Dependents</th>\n",
       "      <th>Education</th>\n",
       "      <th>Self_Employed</th>\n",
       "      <th>ApplicantIncome</th>\n",
       "      <th>CoapplicantIncome</th>\n",
       "      <th>LoanAmount</th>\n",
       "      <th>Loan_Amount_Term</th>\n",
       "      <th>Credit_History</th>\n",
       "      <th>Property_Area</th>\n",
       "      <th>Loan_Status</th>\n",
       "    </tr>\n",
       "  </thead>\n",
       "  <tbody>\n",
       "    <tr>\n",
       "      <th>1</th>\n",
       "      <td>1</td>\n",
       "      <td>1</td>\n",
       "      <td>1</td>\n",
       "      <td>0</td>\n",
       "      <td>0</td>\n",
       "      <td>4583</td>\n",
       "      <td>1508.0</td>\n",
       "      <td>128.0</td>\n",
       "      <td>360.0</td>\n",
       "      <td>1.0</td>\n",
       "      <td>0</td>\n",
       "      <td>0</td>\n",
       "    </tr>\n",
       "    <tr>\n",
       "      <th>2</th>\n",
       "      <td>1</td>\n",
       "      <td>1</td>\n",
       "      <td>0</td>\n",
       "      <td>0</td>\n",
       "      <td>1</td>\n",
       "      <td>3000</td>\n",
       "      <td>0.0</td>\n",
       "      <td>66.0</td>\n",
       "      <td>360.0</td>\n",
       "      <td>1.0</td>\n",
       "      <td>2</td>\n",
       "      <td>1</td>\n",
       "    </tr>\n",
       "    <tr>\n",
       "      <th>3</th>\n",
       "      <td>1</td>\n",
       "      <td>1</td>\n",
       "      <td>0</td>\n",
       "      <td>1</td>\n",
       "      <td>0</td>\n",
       "      <td>2583</td>\n",
       "      <td>2358.0</td>\n",
       "      <td>120.0</td>\n",
       "      <td>360.0</td>\n",
       "      <td>1.0</td>\n",
       "      <td>2</td>\n",
       "      <td>1</td>\n",
       "    </tr>\n",
       "    <tr>\n",
       "      <th>4</th>\n",
       "      <td>1</td>\n",
       "      <td>0</td>\n",
       "      <td>0</td>\n",
       "      <td>0</td>\n",
       "      <td>0</td>\n",
       "      <td>6000</td>\n",
       "      <td>0.0</td>\n",
       "      <td>141.0</td>\n",
       "      <td>360.0</td>\n",
       "      <td>1.0</td>\n",
       "      <td>2</td>\n",
       "      <td>1</td>\n",
       "    </tr>\n",
       "    <tr>\n",
       "      <th>5</th>\n",
       "      <td>1</td>\n",
       "      <td>1</td>\n",
       "      <td>2</td>\n",
       "      <td>0</td>\n",
       "      <td>1</td>\n",
       "      <td>5417</td>\n",
       "      <td>4196.0</td>\n",
       "      <td>267.0</td>\n",
       "      <td>360.0</td>\n",
       "      <td>1.0</td>\n",
       "      <td>2</td>\n",
       "      <td>1</td>\n",
       "    </tr>\n",
       "  </tbody>\n",
       "</table>\n",
       "</div>"
      ],
      "text/plain": [
       "   Gender  Married  Dependents  Education  Self_Employed  ApplicantIncome  \\\n",
       "1       1        1           1          0              0             4583   \n",
       "2       1        1           0          0              1             3000   \n",
       "3       1        1           0          1              0             2583   \n",
       "4       1        0           0          0              0             6000   \n",
       "5       1        1           2          0              1             5417   \n",
       "\n",
       "   CoapplicantIncome  LoanAmount  Loan_Amount_Term  Credit_History  \\\n",
       "1             1508.0       128.0             360.0             1.0   \n",
       "2                0.0        66.0             360.0             1.0   \n",
       "3             2358.0       120.0             360.0             1.0   \n",
       "4                0.0       141.0             360.0             1.0   \n",
       "5             4196.0       267.0             360.0             1.0   \n",
       "\n",
       "   Property_Area  Loan_Status  \n",
       "1              0            0  \n",
       "2              2            1  \n",
       "3              2            1  \n",
       "4              2            1  \n",
       "5              2            1  "
      ]
     },
     "execution_count": 31,
     "metadata": {},
     "output_type": "execute_result"
    }
   ],
   "source": [
    "df1.head()"
   ]
  },
  {
   "cell_type": "markdown",
   "id": "2aae4d68",
   "metadata": {},
   "source": [
    "# Removing outliers"
   ]
  },
  {
   "cell_type": "markdown",
   "id": "fbcc011f",
   "metadata": {},
   "source": [
    "using Zscore technique"
   ]
  },
  {
   "cell_type": "code",
   "execution_count": 32,
   "id": "5ad65911",
   "metadata": {},
   "outputs": [],
   "source": [
    "from scipy.stats import zscore"
   ]
  },
  {
   "cell_type": "code",
   "execution_count": 33,
   "id": "500b1e47",
   "metadata": {},
   "outputs": [
    {
     "name": "stdout",
     "output_type": "stream",
     "text": [
      "1\n",
      "Shape of New Dataframe dn: (475, 12)\n"
     ]
    }
   ],
   "source": [
    "z =np.abs(zscore(df1['ApplicantIncome']))\n",
    "print(len(np.where(z<3)))\n",
    "dn=df1[(z<3)]\n",
    "print('Shape of New Dataframe dn:',dn.shape)"
   ]
  },
  {
   "cell_type": "code",
   "execution_count": 34,
   "id": "87255803",
   "metadata": {},
   "outputs": [
    {
     "name": "stdout",
     "output_type": "stream",
     "text": [
      "1      0.030426\n",
      "2      0.605857\n",
      "3      0.293921\n",
      "4      0.605857\n",
      "5      0.995275\n",
      "         ...   \n",
      "609    0.605857\n",
      "610    0.605857\n",
      "611    0.514277\n",
      "612    0.605857\n",
      "613    0.605857\n",
      "Name: CoapplicantIncome, Length: 475, dtype: float64\n",
      "1\n",
      "Shape of New Dataframe dn1: (470, 12)\n"
     ]
    }
   ],
   "source": [
    "z =np.abs(zscore(dn['CoapplicantIncome']))\n",
    "print(z)\n",
    "print(len(np.where(z<3)))\n",
    "dn1=dn[(z<3)]\n",
    "print('Shape of New Dataframe dn1:',dn1.shape)"
   ]
  },
  {
   "cell_type": "code",
   "execution_count": 35,
   "id": "e07b4747",
   "metadata": {},
   "outputs": [
    {
     "name": "stdout",
     "output_type": "stream",
     "text": [
      "1      0.185267\n",
      "2      1.010123\n",
      "3      0.291700\n",
      "4      0.012313\n",
      "5      1.664007\n",
      "         ...   \n",
      "609    0.943602\n",
      "610    1.356030\n",
      "611    1.477749\n",
      "612    0.599676\n",
      "613    0.118746\n",
      "Name: LoanAmount, Length: 470, dtype: float64\n",
      "1\n",
      "Shape of New Dataframe dn2: (460, 12)\n"
     ]
    }
   ],
   "source": [
    "z =np.abs(zscore(dn1['LoanAmount']))\n",
    "print(z)\n",
    "print(len(np.where(z<3)))\n",
    "dn2=dn1[(z<3)]\n",
    "print('Shape of New Dataframe dn2:',dn2.shape)"
   ]
  },
  {
   "cell_type": "code",
   "execution_count": 36,
   "id": "f52d0345",
   "metadata": {},
   "outputs": [
    {
     "name": "stdout",
     "output_type": "stream",
     "text": [
      "1      0.275930\n",
      "2      0.275930\n",
      "3      0.275930\n",
      "4      0.275930\n",
      "5      0.275930\n",
      "         ...   \n",
      "609    0.275930\n",
      "610    2.451748\n",
      "611    0.275930\n",
      "612    0.275930\n",
      "613    0.275930\n",
      "Name: Loan_Amount_Term, Length: 460, dtype: float64\n",
      "1\n",
      "Shape of New Dataframe dn3: (450, 12)\n"
     ]
    }
   ],
   "source": [
    "z =np.abs(zscore(dn2['Loan_Amount_Term']))\n",
    "print(z)\n",
    "print(len(np.where(z<3)))\n",
    "dn3=dn2[(z<3)]\n",
    "print('Shape of New Dataframe dn3:',dn3.shape)"
   ]
  },
  {
   "cell_type": "code",
   "execution_count": 37,
   "id": "fab77690",
   "metadata": {},
   "outputs": [
    {
     "name": "stdout",
     "output_type": "stream",
     "text": [
      "1      0.414578\n",
      "2      0.414578\n",
      "3      0.414578\n",
      "4      0.414578\n",
      "5      0.414578\n",
      "         ...   \n",
      "609    0.414578\n",
      "610    0.414578\n",
      "611    0.414578\n",
      "612    0.414578\n",
      "613    2.412091\n",
      "Name: Credit_History, Length: 450, dtype: float64\n",
      "1\n",
      "Shape of New Dataframe dn4: (450, 12)\n"
     ]
    }
   ],
   "source": [
    "z =np.abs(zscore(dn3['Credit_History']))\n",
    "print(z)\n",
    "print(len(np.where(z<3)))\n",
    "dn4=dn3[(z<3)]\n",
    "print('Shape of New Dataframe dn4:',dn4.shape)"
   ]
  },
  {
   "cell_type": "code",
   "execution_count": 38,
   "id": "c1899707",
   "metadata": {},
   "outputs": [
    {
     "name": "stdout",
     "output_type": "stream",
     "text": [
      "old dataframe (480, 12)\n",
      "new dataframe (450, 12)\n",
      "no of rows dropped 30\n"
     ]
    }
   ],
   "source": [
    "df_new=dn4\n",
    "print('old dataframe',df1.shape)\n",
    "print('new dataframe',df_new.shape)\n",
    "print('no of rows dropped',df1.shape[0]-df_new.shape[0])"
   ]
  },
  {
   "cell_type": "markdown",
   "id": "b8394eec",
   "metadata": {},
   "source": [
    "# Splitting data into x(features) and y(target)"
   ]
  },
  {
   "cell_type": "code",
   "execution_count": 39,
   "id": "d1e66122",
   "metadata": {},
   "outputs": [],
   "source": [
    "#splitting data into x and y \n",
    "x=df_new.drop('Loan_Status', axis=1) # dropping target column from dataframe and assigning the dataframe as x\n",
    "y=df_new['Loan_Status'] #assigning target column(W) to y variable"
   ]
  },
  {
   "cell_type": "code",
   "execution_count": 40,
   "id": "7b4ac3a7",
   "metadata": {},
   "outputs": [
    {
     "data": {
      "text/html": [
       "<div>\n",
       "<style scoped>\n",
       "    .dataframe tbody tr th:only-of-type {\n",
       "        vertical-align: middle;\n",
       "    }\n",
       "\n",
       "    .dataframe tbody tr th {\n",
       "        vertical-align: top;\n",
       "    }\n",
       "\n",
       "    .dataframe thead th {\n",
       "        text-align: right;\n",
       "    }\n",
       "</style>\n",
       "<table border=\"1\" class=\"dataframe\">\n",
       "  <thead>\n",
       "    <tr style=\"text-align: right;\">\n",
       "      <th></th>\n",
       "      <th>Gender</th>\n",
       "      <th>Married</th>\n",
       "      <th>Dependents</th>\n",
       "      <th>Education</th>\n",
       "      <th>Self_Employed</th>\n",
       "      <th>ApplicantIncome</th>\n",
       "      <th>CoapplicantIncome</th>\n",
       "      <th>LoanAmount</th>\n",
       "      <th>Loan_Amount_Term</th>\n",
       "      <th>Credit_History</th>\n",
       "      <th>Property_Area</th>\n",
       "    </tr>\n",
       "  </thead>\n",
       "  <tbody>\n",
       "    <tr>\n",
       "      <th>56</th>\n",
       "      <td>1</td>\n",
       "      <td>1</td>\n",
       "      <td>0</td>\n",
       "      <td>0</td>\n",
       "      <td>0</td>\n",
       "      <td>2132</td>\n",
       "      <td>1591.0</td>\n",
       "      <td>96.0</td>\n",
       "      <td>360.0</td>\n",
       "      <td>1.0</td>\n",
       "      <td>1</td>\n",
       "    </tr>\n",
       "  </tbody>\n",
       "</table>\n",
       "</div>"
      ],
      "text/plain": [
       "    Gender  Married  Dependents  Education  Self_Employed  ApplicantIncome  \\\n",
       "56       1        1           0          0              0             2132   \n",
       "\n",
       "    CoapplicantIncome  LoanAmount  Loan_Amount_Term  Credit_History  \\\n",
       "56             1591.0        96.0             360.0             1.0   \n",
       "\n",
       "    Property_Area  \n",
       "56              1  "
      ]
     },
     "execution_count": 40,
     "metadata": {},
     "output_type": "execute_result"
    }
   ],
   "source": [
    "x.sample()"
   ]
  },
  {
   "cell_type": "code",
   "execution_count": 41,
   "id": "ba8c220a",
   "metadata": {},
   "outputs": [
    {
     "data": {
      "text/plain": [
       "474    1\n",
       "Name: Loan_Status, dtype: int64"
      ]
     },
     "execution_count": 41,
     "metadata": {},
     "output_type": "execute_result"
    }
   ],
   "source": [
    "y.sample()"
   ]
  },
  {
   "cell_type": "markdown",
   "id": "cdff058f",
   "metadata": {},
   "source": [
    "# VIF(checking multicolinearity)"
   ]
  },
  {
   "cell_type": "code",
   "execution_count": 42,
   "id": "796046c6",
   "metadata": {},
   "outputs": [],
   "source": [
    "#library for VIF\n",
    "from statsmodels.stats.outliers_influence import variance_inflation_factor"
   ]
  },
  {
   "cell_type": "code",
   "execution_count": 43,
   "id": "3fbc01b0",
   "metadata": {},
   "outputs": [
    {
     "data": {
      "text/html": [
       "<div>\n",
       "<style scoped>\n",
       "    .dataframe tbody tr th:only-of-type {\n",
       "        vertical-align: middle;\n",
       "    }\n",
       "\n",
       "    .dataframe tbody tr th {\n",
       "        vertical-align: top;\n",
       "    }\n",
       "\n",
       "    .dataframe thead th {\n",
       "        text-align: right;\n",
       "    }\n",
       "</style>\n",
       "<table border=\"1\" class=\"dataframe\">\n",
       "  <thead>\n",
       "    <tr style=\"text-align: right;\">\n",
       "      <th></th>\n",
       "      <th>Features</th>\n",
       "      <th>VIF value</th>\n",
       "    </tr>\n",
       "  </thead>\n",
       "  <tbody>\n",
       "    <tr>\n",
       "      <th>0</th>\n",
       "      <td>Gender</td>\n",
       "      <td>6.268854</td>\n",
       "    </tr>\n",
       "    <tr>\n",
       "      <th>1</th>\n",
       "      <td>Married</td>\n",
       "      <td>3.778483</td>\n",
       "    </tr>\n",
       "    <tr>\n",
       "      <th>2</th>\n",
       "      <td>Dependents</td>\n",
       "      <td>1.877858</td>\n",
       "    </tr>\n",
       "    <tr>\n",
       "      <th>3</th>\n",
       "      <td>Education</td>\n",
       "      <td>1.287599</td>\n",
       "    </tr>\n",
       "    <tr>\n",
       "      <th>4</th>\n",
       "      <td>Self_Employed</td>\n",
       "      <td>1.260672</td>\n",
       "    </tr>\n",
       "    <tr>\n",
       "      <th>5</th>\n",
       "      <td>ApplicantIncome</td>\n",
       "      <td>5.951545</td>\n",
       "    </tr>\n",
       "    <tr>\n",
       "      <th>6</th>\n",
       "      <td>CoapplicantIncome</td>\n",
       "      <td>2.421074</td>\n",
       "    </tr>\n",
       "    <tr>\n",
       "      <th>7</th>\n",
       "      <td>LoanAmount</td>\n",
       "      <td>11.553804</td>\n",
       "    </tr>\n",
       "    <tr>\n",
       "      <th>8</th>\n",
       "      <td>Loan_Amount_Term</td>\n",
       "      <td>13.157481</td>\n",
       "    </tr>\n",
       "    <tr>\n",
       "      <th>9</th>\n",
       "      <td>Credit_History</td>\n",
       "      <td>6.588660</td>\n",
       "    </tr>\n",
       "    <tr>\n",
       "      <th>10</th>\n",
       "      <td>Property_Area</td>\n",
       "      <td>2.673561</td>\n",
       "    </tr>\n",
       "  </tbody>\n",
       "</table>\n",
       "</div>"
      ],
      "text/plain": [
       "             Features  VIF value\n",
       "0              Gender   6.268854\n",
       "1             Married   3.778483\n",
       "2          Dependents   1.877858\n",
       "3           Education   1.287599\n",
       "4       Self_Employed   1.260672\n",
       "5     ApplicantIncome   5.951545\n",
       "6   CoapplicantIncome   2.421074\n",
       "7          LoanAmount  11.553804\n",
       "8    Loan_Amount_Term  13.157481\n",
       "9      Credit_History   6.588660\n",
       "10      Property_Area   2.673561"
      ]
     },
     "execution_count": 43,
     "metadata": {},
     "output_type": "execute_result"
    }
   ],
   "source": [
    "VIF =[]\n",
    "for i in range(len(x.columns)):\n",
    "    VIF.append(variance_inflation_factor(exog=x.values, exog_idx=i))\n",
    "\n",
    "datavif={'Features':x.columns, 'VIF value': VIF}    \n",
    "vif_df=pd.DataFrame(datavif)\n",
    "vif_df"
   ]
  },
  {
   "cell_type": "markdown",
   "id": "c8ed0006",
   "metadata": {},
   "source": [
    "* No issue of multicolinearity"
   ]
  },
  {
   "cell_type": "markdown",
   "id": "02f8f263",
   "metadata": {},
   "source": [
    "# Removing skewness"
   ]
  },
  {
   "cell_type": "code",
   "execution_count": 44,
   "id": "c8a7656e",
   "metadata": {},
   "outputs": [],
   "source": [
    "from sklearn.preprocessing import power_transform\n",
    "x=power_transform(x,method='yeo-johnson')"
   ]
  },
  {
   "cell_type": "code",
   "execution_count": 45,
   "id": "959087ed",
   "metadata": {},
   "outputs": [
    {
     "data": {
      "text/plain": [
       "0    -1.651911\n",
       "1    -0.595387\n",
       "2     0.440414\n",
       "3     1.437023\n",
       "4     2.252459\n",
       "5     0.005967\n",
       "6    -0.156040\n",
       "7     0.036468\n",
       "8     0.666444\n",
       "9    -2.004200\n",
       "10   -0.150328\n",
       "dtype: float64"
      ]
     },
     "execution_count": 45,
     "metadata": {},
     "output_type": "execute_result"
    }
   ],
   "source": [
    "x_df=pd.DataFrame(x)\n",
    "x_df.skew()"
   ]
  },
  {
   "cell_type": "markdown",
   "id": "4be81033",
   "metadata": {},
   "source": [
    "# scaling independent data"
   ]
  },
  {
   "cell_type": "markdown",
   "id": "8bb47bdc",
   "metadata": {},
   "source": [
    "using StandardScaler"
   ]
  },
  {
   "cell_type": "code",
   "execution_count": 46,
   "id": "83fcc369",
   "metadata": {},
   "outputs": [],
   "source": [
    "#mean=0, std=1\n",
    "from sklearn.preprocessing import StandardScaler\n",
    "scaler = StandardScaler()"
   ]
  },
  {
   "cell_type": "code",
   "execution_count": 47,
   "id": "8e90d0a1",
   "metadata": {},
   "outputs": [],
   "source": [
    "scaler.fit(x)\n",
    "x_scaled=scaler.transform(x)"
   ]
  },
  {
   "cell_type": "markdown",
   "id": "2777aab2",
   "metadata": {},
   "source": [
    "# Model Building and Evaluation"
   ]
  },
  {
   "cell_type": "code",
   "execution_count": 48,
   "id": "77036bf6",
   "metadata": {},
   "outputs": [],
   "source": [
    "from sklearn.model_selection import train_test_split\n",
    "from sklearn.metrics import accuracy_score\n",
    "from sklearn.metrics import confusion_matrix\n",
    "from sklearn.metrics import classification_report"
   ]
  },
  {
   "cell_type": "markdown",
   "id": "dfd414a4",
   "metadata": {},
   "source": [
    "# Logistic Regression"
   ]
  },
  {
   "cell_type": "markdown",
   "id": "a1a7dbcb",
   "metadata": {},
   "source": [
    "## Finding Best Random State for Logistic Regression"
   ]
  },
  {
   "cell_type": "code",
   "execution_count": 49,
   "id": "9ee70f01",
   "metadata": {},
   "outputs": [],
   "source": [
    "from sklearn.linear_model import LogisticRegression\n",
    "#creating instance \n",
    "LR=LogisticRegression()"
   ]
  },
  {
   "cell_type": "code",
   "execution_count": 50,
   "id": "adf8f9ce",
   "metadata": {},
   "outputs": [
    {
     "name": "stdout",
     "output_type": "stream",
     "text": [
      "Accuracy 0.8 random_state 1\n",
      "Accuracy 0.8444444444444444 random_state 2\n",
      "Accuracy 0.8888888888888888 random_state 7\n",
      "Accuracy 0.9111111111111111 random_state 141\n",
      "Accuracy 0.9222222222222223 random_state 1124\n",
      "Accuracy 0.9333333333333333 random_state 1416\n"
     ]
    }
   ],
   "source": [
    "maxAcc=0\n",
    "maxRS=0\n",
    "\n",
    "for i in range(1,1500):\n",
    "    x_train,x_test,y_train,y_test=train_test_split(x_scaled,y,test_size=0.20,random_state=i)\n",
    "    LR.fit(x_train,y_train)\n",
    "    pred_LR=LR.predict(x_test)\n",
    "    acc=accuracy_score(y_test,pred_LR)\n",
    "    \n",
    "    if acc>maxAcc:\n",
    "        maxAcc=acc\n",
    "        maxRS=i\n",
    "        print('Accuracy', maxAcc, 'random_state', maxRS)"
   ]
  },
  {
   "cell_type": "markdown",
   "id": "15fdb207",
   "metadata": {},
   "source": [
    "## Model building with best random state"
   ]
  },
  {
   "cell_type": "code",
   "execution_count": 51,
   "id": "c60c18fd",
   "metadata": {},
   "outputs": [],
   "source": [
    "#creating train , test split\n",
    "x_train1,x_test1,y_train1,y_test1=train_test_split(x_scaled,y,test_size=0.20,random_state=1416)\n",
    "\n",
    "#creating instance \n",
    "LR=LogisticRegression()\n",
    "\n",
    "#traing data\n",
    "LR.fit(x_train1,y_train1)\n",
    "\n",
    "#predicting data\n",
    "LR_pred=LR.predict(x_test1)"
   ]
  },
  {
   "cell_type": "markdown",
   "id": "66297f38",
   "metadata": {},
   "source": [
    "## Evaluation"
   ]
  },
  {
   "cell_type": "code",
   "execution_count": 52,
   "id": "dda4c619",
   "metadata": {},
   "outputs": [
    {
     "name": "stdout",
     "output_type": "stream",
     "text": [
      "Accuracy:  0.9333333333333333\n",
      "[[14  4]\n",
      " [ 2 70]]\n",
      "              precision    recall  f1-score   support\n",
      "\n",
      "           0       0.88      0.78      0.82        18\n",
      "           1       0.95      0.97      0.96        72\n",
      "\n",
      "    accuracy                           0.93        90\n",
      "   macro avg       0.91      0.88      0.89        90\n",
      "weighted avg       0.93      0.93      0.93        90\n",
      "\n"
     ]
    }
   ],
   "source": [
    "#checking accuracy score\n",
    "print('Accuracy: ',accuracy_score(y_test1,LR_pred))\n",
    "#print confusion matrics\n",
    "print(confusion_matrix(y_test1,LR_pred))\n",
    "#printing classification report\n",
    "print(classification_report(y_test1,LR_pred))"
   ]
  },
  {
   "cell_type": "code",
   "execution_count": 53,
   "id": "caccf69c",
   "metadata": {},
   "outputs": [
    {
     "name": "stdout",
     "output_type": "stream",
     "text": [
      "Accuracy of train model:  0.7833333333333333\n"
     ]
    }
   ],
   "source": [
    "print('Accuracy of train model: ',LR.score(x_train1,y_train1))"
   ]
  },
  {
   "cell_type": "code",
   "execution_count": 54,
   "id": "90bd7cd6",
   "metadata": {},
   "outputs": [
    {
     "name": "stdout",
     "output_type": "stream",
     "text": [
      "precision for 0(NO) =  0.875\n",
      "precision for 1(YES) = 0.9459459459459459\n"
     ]
    }
   ],
   "source": [
    "# calculating precision =tp/tp+fp\n",
    "print('precision for 0(NO) = ',14/(14+2) )\n",
    "print('precision for 1(YES) =', 70/(70+4))"
   ]
  },
  {
   "cell_type": "code",
   "execution_count": 55,
   "id": "c8457289",
   "metadata": {},
   "outputs": [
    {
     "name": "stdout",
     "output_type": "stream",
     "text": [
      "recall for 0(NO) = 0.7777777777777778\n",
      "recall for 1(YES) = 0.9722222222222222\n"
     ]
    }
   ],
   "source": [
    "# calculating recall tp/tp+fn\n",
    "print('recall for 0(NO) =',14/(14+4))\n",
    "print('recall for 1(YES) =',70/(70+2))"
   ]
  },
  {
   "cell_type": "markdown",
   "id": "f55ed61b",
   "metadata": {},
   "source": [
    "## cross validation"
   ]
  },
  {
   "cell_type": "code",
   "execution_count": 56,
   "id": "e2ee4fd1",
   "metadata": {},
   "outputs": [],
   "source": [
    "from sklearn.model_selection import cross_val_score"
   ]
  },
  {
   "cell_type": "code",
   "execution_count": 57,
   "id": "245652fa",
   "metadata": {},
   "outputs": [
    {
     "name": "stdout",
     "output_type": "stream",
     "text": [
      "cross validation score of LogisticRegression:  0.8155555555555557\n"
     ]
    }
   ],
   "source": [
    "scr=cross_val_score(LR,x,y,cv=5)\n",
    "print('cross validation score of LogisticRegression: ',scr.mean())"
   ]
  },
  {
   "cell_type": "markdown",
   "id": "af1502bd",
   "metadata": {},
   "source": [
    "# Decision Tree Classifier"
   ]
  },
  {
   "cell_type": "markdown",
   "id": "2b833935",
   "metadata": {},
   "source": [
    "## Finding Best Random State for Decision Tree Classifier"
   ]
  },
  {
   "cell_type": "code",
   "execution_count": 58,
   "id": "7109d0f2",
   "metadata": {},
   "outputs": [
    {
     "name": "stdout",
     "output_type": "stream",
     "text": [
      "Accuracy 0.7222222222222222 random_state 1\n",
      "Accuracy 0.7666666666666667 random_state 2\n",
      "Accuracy 0.7777777777777778 random_state 7\n",
      "Accuracy 0.8222222222222222 random_state 39\n",
      "Accuracy 0.8333333333333334 random_state 124\n",
      "Accuracy 0.8555555555555555 random_state 408\n"
     ]
    }
   ],
   "source": [
    "from sklearn.tree import DecisionTreeClassifier\n",
    "maxAcc=0\n",
    "maxRS=0\n",
    "\n",
    "for i in range(1,1500):\n",
    "    x_train,x_test,y_train,y_test=train_test_split(x_scaled,y,test_size=0.20,random_state=i)\n",
    "    DTC=DecisionTreeClassifier() #creating instance \n",
    "    DTC.fit(x_train,y_train)  #traing data\n",
    "    DTC_pred=DTC.predict(x_test) #predicting data.fit(x_train,y_train)\n",
    "    acc=accuracy_score(y_test,DTC_pred)\n",
    "    \n",
    "    if acc>maxAcc:\n",
    "        maxAcc=acc\n",
    "        maxRS=i\n",
    "        print('Accuracy', maxAcc, 'random_state', maxRS)"
   ]
  },
  {
   "cell_type": "markdown",
   "id": "d39e3ab8",
   "metadata": {},
   "source": [
    "## Model building with best random state"
   ]
  },
  {
   "cell_type": "code",
   "execution_count": 59,
   "id": "6d492e54",
   "metadata": {},
   "outputs": [],
   "source": [
    "#creating train , test split\n",
    "x_train2,x_test2,y_train2,y_test2=train_test_split(x_scaled,y,test_size=0.20,random_state=39)\n",
    "\n",
    "DTC=DecisionTreeClassifier() #creating instance \n",
    "DTC.fit(x_train2,y_train2)  #traing data\n",
    "DTC_pred=DTC.predict(x_test2) #predicting data"
   ]
  },
  {
   "cell_type": "markdown",
   "id": "fc1b05b8",
   "metadata": {},
   "source": [
    "## Evaluation"
   ]
  },
  {
   "cell_type": "code",
   "execution_count": 60,
   "id": "3c1f2db7",
   "metadata": {},
   "outputs": [
    {
     "name": "stdout",
     "output_type": "stream",
     "text": [
      "Accuracy:  0.8444444444444444\n",
      "[[27  8]\n",
      " [ 6 49]]\n",
      "              precision    recall  f1-score   support\n",
      "\n",
      "           0       0.82      0.77      0.79        35\n",
      "           1       0.86      0.89      0.88        55\n",
      "\n",
      "    accuracy                           0.84        90\n",
      "   macro avg       0.84      0.83      0.83        90\n",
      "weighted avg       0.84      0.84      0.84        90\n",
      "\n"
     ]
    }
   ],
   "source": [
    "#checking accuracy score\n",
    "print('Accuracy: ',accuracy_score(y_test2,DTC_pred))\n",
    "#print confusion matrics\n",
    "print(confusion_matrix(y_test2,DTC_pred))\n",
    "#printing classification report\n",
    "print(classification_report(y_test2,DTC_pred))"
   ]
  },
  {
   "cell_type": "code",
   "execution_count": 61,
   "id": "b5747fc1",
   "metadata": {},
   "outputs": [
    {
     "name": "stdout",
     "output_type": "stream",
     "text": [
      "Accuracy of train model:  1.0\n"
     ]
    }
   ],
   "source": [
    "print('Accuracy of train model: ',DTC.score(x_train2,y_train2))"
   ]
  },
  {
   "cell_type": "code",
   "execution_count": 62,
   "id": "171b5e26",
   "metadata": {},
   "outputs": [
    {
     "name": "stdout",
     "output_type": "stream",
     "text": [
      "precision for 0(NO) =  0.8387096774193549\n",
      "precision for 1(YES) = 0.847457627118644\n"
     ]
    }
   ],
   "source": [
    "# calculating precision =tp/tp+fp\n",
    "print('precision for 0(NO) = ',26/(26+5) )\n",
    "print('precision for 1(YES) =',50/(50+9))"
   ]
  },
  {
   "cell_type": "code",
   "execution_count": 63,
   "id": "411d30f3",
   "metadata": {},
   "outputs": [
    {
     "name": "stdout",
     "output_type": "stream",
     "text": [
      "recall for 0(NO) = 0.7428571428571429\n",
      "recall for 1(YES) = 0.9090909090909091\n"
     ]
    }
   ],
   "source": [
    "# calculating recall tp/tp+fn\n",
    "print('recall for 0(NO) =',26/(26+9))\n",
    "print('recall for 1(YES) =',50/(50+5))"
   ]
  },
  {
   "cell_type": "markdown",
   "id": "718d652b",
   "metadata": {},
   "source": [
    "## cross validation"
   ]
  },
  {
   "cell_type": "code",
   "execution_count": 64,
   "id": "b88dd6c9",
   "metadata": {},
   "outputs": [
    {
     "name": "stdout",
     "output_type": "stream",
     "text": [
      "cross validation score of DecissionTreeClassifier:  0.7044444444444445\n"
     ]
    }
   ],
   "source": [
    "scr=cross_val_score(DTC,x,y,cv=10)\n",
    "print('cross validation score of DecissionTreeClassifier: ',scr.mean())"
   ]
  },
  {
   "cell_type": "markdown",
   "id": "d5b25b94",
   "metadata": {},
   "source": [
    "# Random Forest Classifier"
   ]
  },
  {
   "cell_type": "code",
   "execution_count": 65,
   "id": "d5447f29",
   "metadata": {},
   "outputs": [
    {
     "name": "stdout",
     "output_type": "stream",
     "text": [
      "Accuracy 0.7222222222222222 random_state 50\n",
      "Accuracy 0.8111111111111111 random_state 51\n",
      "Accuracy 0.8666666666666667 random_state 52\n",
      "Accuracy 0.8777777777777778 random_state 91\n",
      "Accuracy 0.8888888888888888 random_state 141\n",
      "Accuracy 0.9 random_state 536\n",
      "Accuracy 0.9111111111111111 random_state 1211\n",
      "Accuracy 0.9222222222222223 random_state 1416\n"
     ]
    }
   ],
   "source": [
    "from sklearn.ensemble import RandomForestClassifier\n",
    "\n",
    "maxAcc=0\n",
    "maxRS=0\n",
    "\n",
    "for i in range(50,1500):\n",
    "    x_train,x_test,y_train,y_test=train_test_split(x_scaled,y,test_size=0.20,random_state=i)\n",
    "    RFC=RandomForestClassifier(random_state=42) #creating instance \n",
    "    RFC.fit(x_train,y_train)  #traing data\n",
    "    RFC_pred=RFC.predict(x_test) #predicting data\n",
    "    acc=accuracy_score(y_test,RFC_pred)\n",
    "    \n",
    "    if acc>maxAcc:\n",
    "        maxAcc=acc\n",
    "        maxRS=i\n",
    "        print('Accuracy', maxAcc, 'random_state', maxRS)"
   ]
  },
  {
   "cell_type": "markdown",
   "id": "81937a22",
   "metadata": {},
   "source": [
    "## Model building with best random state"
   ]
  },
  {
   "cell_type": "code",
   "execution_count": 66,
   "id": "7f5f2c19",
   "metadata": {},
   "outputs": [],
   "source": [
    "#creating train , test split\n",
    "x_train3,x_test3,y_train3,y_test3=train_test_split(x_scaled,y,test_size=0.20,random_state=1416)\n",
    "\n",
    "RFC=RandomForestClassifier(random_state=42) #creating instance \n",
    "RFC.fit(x_train3,y_train3)  #traing data\n",
    "RFC_pred=RFC.predict(x_test3) #predicting data"
   ]
  },
  {
   "cell_type": "markdown",
   "id": "dfb90b23",
   "metadata": {},
   "source": [
    "## Evaluation"
   ]
  },
  {
   "cell_type": "code",
   "execution_count": 67,
   "id": "1d846d52",
   "metadata": {},
   "outputs": [
    {
     "name": "stdout",
     "output_type": "stream",
     "text": [
      "Score for training model : 1.0\n"
     ]
    }
   ],
   "source": [
    "#checking score for training model\n",
    "print('Score for training model :',RFC.score(x_train3,y_train3))"
   ]
  },
  {
   "cell_type": "code",
   "execution_count": 68,
   "id": "3655128b",
   "metadata": {},
   "outputs": [
    {
     "name": "stdout",
     "output_type": "stream",
     "text": [
      "Accuracy:  0.9222222222222223\n",
      "[[14  4]\n",
      " [ 3 69]]\n",
      "              precision    recall  f1-score   support\n",
      "\n",
      "           0       0.82      0.78      0.80        18\n",
      "           1       0.95      0.96      0.95        72\n",
      "\n",
      "    accuracy                           0.92        90\n",
      "   macro avg       0.88      0.87      0.88        90\n",
      "weighted avg       0.92      0.92      0.92        90\n",
      "\n"
     ]
    }
   ],
   "source": [
    "#checking accuracy score\n",
    "print('Accuracy: ',accuracy_score(y_test3,RFC_pred))\n",
    "#print confusion matrics\n",
    "print(confusion_matrix(y_test3,RFC_pred))\n",
    "#printing classification report\n",
    "print(classification_report(y_test3,RFC_pred))"
   ]
  },
  {
   "cell_type": "code",
   "execution_count": 69,
   "id": "14c7c2c8",
   "metadata": {},
   "outputs": [
    {
     "name": "stdout",
     "output_type": "stream",
     "text": [
      "precision for 0(NO) =  0.8235294117647058\n",
      "precision for 1(YES) = 0.9452054794520548\n"
     ]
    }
   ],
   "source": [
    "# calculating precision =tp/tp+fp\n",
    "print('precision for 0(NO) = ',14/(14+3) )\n",
    "print('precision for 1(YES) =',69/(69+4))"
   ]
  },
  {
   "cell_type": "code",
   "execution_count": 70,
   "id": "b630710c",
   "metadata": {},
   "outputs": [
    {
     "name": "stdout",
     "output_type": "stream",
     "text": [
      "recall for 0(NO) = 0.7777777777777778\n",
      "recall for 1(YES) = 0.9583333333333334\n"
     ]
    }
   ],
   "source": [
    "# calculating recall tp/tp+fn\n",
    "print('recall for 0(NO) =',14/(14+4))\n",
    "print('recall for 1(YES) =',69/(69+3))"
   ]
  },
  {
   "cell_type": "markdown",
   "id": "ef6e3eb0",
   "metadata": {},
   "source": [
    "## cross validation"
   ]
  },
  {
   "cell_type": "code",
   "execution_count": 71,
   "id": "68546ea0",
   "metadata": {},
   "outputs": [
    {
     "name": "stdout",
     "output_type": "stream",
     "text": [
      "cross validation score of RandomForestClassifier at cv folds 5 :  81.0\n"
     ]
    }
   ],
   "source": [
    "scr=cross_val_score(RFC,x,y,cv=4)\n",
    "print('cross validation score of RandomForestClassifier at cv folds 5 : ',round(scr.mean(),2)*100)"
   ]
  },
  {
   "cell_type": "markdown",
   "id": "d7b95228",
   "metadata": {},
   "source": [
    "# Suppport Vector Classifier(SVC)"
   ]
  },
  {
   "cell_type": "markdown",
   "id": "8123f3cf",
   "metadata": {},
   "source": [
    "## Finding Best Random State for Suppport Vector Classifier(SVC)"
   ]
  },
  {
   "cell_type": "code",
   "execution_count": 72,
   "id": "17998f1f",
   "metadata": {},
   "outputs": [
    {
     "name": "stdout",
     "output_type": "stream",
     "text": [
      "Accuracy 0.7333333333333333 random_state 50\n",
      "Accuracy 0.8333333333333334 random_state 51\n",
      "Accuracy 0.8666666666666667 random_state 52\n",
      "Accuracy 0.8888888888888888 random_state 91\n",
      "Accuracy 0.9111111111111111 random_state 141\n",
      "Accuracy 0.9222222222222223 random_state 327\n",
      "Accuracy 0.9333333333333333 random_state 1124\n",
      "Accuracy 0.9555555555555556 random_state 1416\n"
     ]
    }
   ],
   "source": [
    "from sklearn.svm import SVC\n",
    "\n",
    "maxAcc=0\n",
    "maxRS=0\n",
    "\n",
    "for i in range(50,1500):\n",
    "    x_train,x_test,y_train,y_test=train_test_split(x_scaled,y,test_size=0.20,random_state=i)\n",
    "    svc=SVC()\n",
    "    svc.fit(x_train,y_train)\n",
    "    svc_pred=svc.predict(x_test)\n",
    "    acc=accuracy_score(y_test,svc_pred)\n",
    "    \n",
    "    if acc>maxAcc:\n",
    "        maxAcc=acc\n",
    "        maxRS=i\n",
    "        print('Accuracy', maxAcc, 'random_state', maxRS)"
   ]
  },
  {
   "cell_type": "markdown",
   "id": "0062da1e",
   "metadata": {},
   "source": [
    "## Model building with best random state"
   ]
  },
  {
   "cell_type": "code",
   "execution_count": 73,
   "id": "9bf5a16c",
   "metadata": {},
   "outputs": [],
   "source": [
    "#creating train , test split\n",
    "x_train4,x_test4,y_train4,y_test4=train_test_split(x_scaled,y,test_size=0.20,random_state=1416)\n",
    "\n",
    "#creating instance\n",
    "svc=SVC()\n",
    "#training data\n",
    "svc.fit(x_train4,y_train4)\n",
    "#predicting data\n",
    "svc_pred=svc.predict(x_test4)"
   ]
  },
  {
   "cell_type": "markdown",
   "id": "d98a12b0",
   "metadata": {},
   "source": [
    "## Evaluation"
   ]
  },
  {
   "cell_type": "code",
   "execution_count": 74,
   "id": "fb834ad0",
   "metadata": {},
   "outputs": [
    {
     "name": "stdout",
     "output_type": "stream",
     "text": [
      "Accuracy:  0.9555555555555556\n",
      "[[14  4]\n",
      " [ 0 72]]\n",
      "              precision    recall  f1-score   support\n",
      "\n",
      "           0       1.00      0.78      0.88        18\n",
      "           1       0.95      1.00      0.97        72\n",
      "\n",
      "    accuracy                           0.96        90\n",
      "   macro avg       0.97      0.89      0.92        90\n",
      "weighted avg       0.96      0.96      0.95        90\n",
      "\n"
     ]
    }
   ],
   "source": [
    "#checking accuracy score\n",
    "print('Accuracy: ',accuracy_score(y_test4,svc_pred))\n",
    "#print confusion matrics\n",
    "print(confusion_matrix(y_test4,svc_pred))\n",
    "#printing classification report\n",
    "print(classification_report(y_test4,svc_pred))"
   ]
  },
  {
   "cell_type": "code",
   "execution_count": 75,
   "id": "e3822734",
   "metadata": {},
   "outputs": [
    {
     "name": "stdout",
     "output_type": "stream",
     "text": [
      "Score for training model : 0.8166666666666667\n"
     ]
    }
   ],
   "source": [
    "#checking score for training model\n",
    "print('Score for training model :',svc.score(x_train4,y_train4))"
   ]
  },
  {
   "cell_type": "code",
   "execution_count": 76,
   "id": "9f565c1f",
   "metadata": {},
   "outputs": [
    {
     "name": "stdout",
     "output_type": "stream",
     "text": [
      "precision for 0(NO) =  1.0\n",
      "precision for 1(YES) = 0.9473684210526315\n"
     ]
    }
   ],
   "source": [
    "# calculating precision =tp/tp+fp\n",
    "print('precision for 0(NO) = ',14/(14+0))\n",
    "print('precision for 1(YES) =',72/(72+4))"
   ]
  },
  {
   "cell_type": "code",
   "execution_count": 77,
   "id": "7c083d6e",
   "metadata": {},
   "outputs": [
    {
     "name": "stdout",
     "output_type": "stream",
     "text": [
      "recall for 0(NO) = 0.7777777777777778\n",
      "recall for 1(YES) = 1.0\n"
     ]
    }
   ],
   "source": [
    "# calculating recall tp/tp+fn\n",
    "print('recall for 0(NO) =',14/(14+4))\n",
    "print('recall for 1(YES) =',72/(72+0))"
   ]
  },
  {
   "cell_type": "markdown",
   "id": "18ceef64",
   "metadata": {},
   "source": [
    "## cross validation"
   ]
  },
  {
   "cell_type": "code",
   "execution_count": 78,
   "id": "e9871b1b",
   "metadata": {},
   "outputs": [
    {
     "name": "stdout",
     "output_type": "stream",
     "text": [
      "cross validation score of SuperVectorClassifier:  83.0\n"
     ]
    }
   ],
   "source": [
    "scr=cross_val_score(svc,x,y,cv=4)\n",
    "print('cross validation score of SuperVectorClassifier: ',round(scr.mean(),2)*100)"
   ]
  },
  {
   "cell_type": "markdown",
   "id": "f5568036",
   "metadata": {},
   "source": [
    "# Gaussian Naive Bayes"
   ]
  },
  {
   "cell_type": "markdown",
   "id": "cb14a32b",
   "metadata": {},
   "source": [
    "## Finding Best Random State for Gaussian Naive Bayes"
   ]
  },
  {
   "cell_type": "code",
   "execution_count": 79,
   "id": "a8c2450f",
   "metadata": {},
   "outputs": [
    {
     "name": "stdout",
     "output_type": "stream",
     "text": [
      "Accuracy 0.8222222222222222 random_state 1\n",
      "Accuracy 0.8333333333333334 random_state 2\n",
      "Accuracy 0.8777777777777778 random_state 7\n",
      "Accuracy 0.9 random_state 141\n",
      "Accuracy 0.9111111111111111 random_state 777\n",
      "Accuracy 0.9222222222222223 random_state 1124\n"
     ]
    }
   ],
   "source": [
    "from sklearn.naive_bayes import GaussianNB\n",
    "maxAcc=0\n",
    "maxRS=0\n",
    "\n",
    "for i in range(1,1500):\n",
    "    x_train,x_test,y_train,y_test=train_test_split(x_scaled,y,test_size=0.20,random_state=i)\n",
    "    GNB = GaussianNB()\n",
    "    GNB.fit(x_train, y_train)\n",
    "    GNB_pred=GNB.predict(x_test)\n",
    "    acc=accuracy_score(y_test,GNB_pred)\n",
    "    \n",
    "    if acc>maxAcc:\n",
    "        maxAcc=acc\n",
    "        maxRS=i\n",
    "        print('Accuracy', maxAcc, 'random_state', maxRS)"
   ]
  },
  {
   "cell_type": "markdown",
   "id": "74b4f3c5",
   "metadata": {},
   "source": [
    "## Model building with best random state"
   ]
  },
  {
   "cell_type": "code",
   "execution_count": 80,
   "id": "87c5af2c",
   "metadata": {},
   "outputs": [],
   "source": [
    "#creating train , test split\n",
    "x_train5,x_test5,y_train5,y_test5=train_test_split(x_scaled,y,test_size=0.20,random_state=1189)\n",
    "\n",
    "#creating instance\n",
    "GNB = GaussianNB()\n",
    "\n",
    "#training data\n",
    "GNB.fit(x_train5, y_train5)\n",
    "\n",
    "#predicting data\n",
    "GNB_pred=GNB.predict(x_test5)"
   ]
  },
  {
   "cell_type": "markdown",
   "id": "f6818e4d",
   "metadata": {},
   "source": [
    "## Evaluation"
   ]
  },
  {
   "cell_type": "code",
   "execution_count": 81,
   "id": "466f860f",
   "metadata": {},
   "outputs": [
    {
     "name": "stdout",
     "output_type": "stream",
     "text": [
      "Accuracy:  0.8444444444444444\n",
      "[[ 9 13]\n",
      " [ 1 67]]\n",
      "              precision    recall  f1-score   support\n",
      "\n",
      "           0       0.90      0.41      0.56        22\n",
      "           1       0.84      0.99      0.91        68\n",
      "\n",
      "    accuracy                           0.84        90\n",
      "   macro avg       0.87      0.70      0.73        90\n",
      "weighted avg       0.85      0.84      0.82        90\n",
      "\n"
     ]
    }
   ],
   "source": [
    "#checking accuracy score\n",
    "print('Accuracy: ',accuracy_score(y_test5,GNB_pred))\n",
    "#print confusion matrics\n",
    "print(confusion_matrix(y_test5,GNB_pred))\n",
    "#printing classification report\n",
    "print(classification_report(y_test5,GNB_pred))"
   ]
  },
  {
   "cell_type": "code",
   "execution_count": 82,
   "id": "ade899c2",
   "metadata": {},
   "outputs": [
    {
     "name": "stdout",
     "output_type": "stream",
     "text": [
      "Score for training model : 0.8138888888888889\n"
     ]
    }
   ],
   "source": [
    "#checking score for training model\n",
    "print('Score for training model :',GNB.score(x_train5,y_train5))"
   ]
  },
  {
   "cell_type": "code",
   "execution_count": 83,
   "id": "1ea5c558",
   "metadata": {},
   "outputs": [
    {
     "name": "stdout",
     "output_type": "stream",
     "text": [
      "precision for 0(NO) =  0.9\n",
      "precision for 1(YES) = 0.8375\n"
     ]
    }
   ],
   "source": [
    "# calculating precision =tp/tp+fp\n",
    "print('precision for 0(NO) = ',9/(9+1))\n",
    "print('precision for 1(YES) =',67/(67+13))"
   ]
  },
  {
   "cell_type": "code",
   "execution_count": 84,
   "id": "8141f1df",
   "metadata": {},
   "outputs": [
    {
     "name": "stdout",
     "output_type": "stream",
     "text": [
      "recall for 0(NO) = 0.4090909090909091\n",
      "recall for 1(YES) = 0.9852941176470589\n"
     ]
    }
   ],
   "source": [
    "# calculating recall tp/tp+fn\n",
    "print('recall for 0(NO) =',9/(9+13))\n",
    "print('recall for 1(YES) =',67/(67+1))"
   ]
  },
  {
   "cell_type": "markdown",
   "id": "378f7474",
   "metadata": {},
   "source": [
    "## cross validation"
   ]
  },
  {
   "cell_type": "code",
   "execution_count": 85,
   "id": "969c5582",
   "metadata": {},
   "outputs": [
    {
     "name": "stdout",
     "output_type": "stream",
     "text": [
      "cross validation score of GaussianNB:  0.8111111111111111\n"
     ]
    }
   ],
   "source": [
    "scr=cross_val_score(GNB,x,y,cv=10)\n",
    "print('cross validation score of GaussianNB: ',scr.mean())"
   ]
  },
  {
   "cell_type": "markdown",
   "id": "6fb1e1ca",
   "metadata": {},
   "source": [
    "# Hyper parameter tuning: ensemble techniques"
   ]
  },
  {
   "cell_type": "code",
   "execution_count": 86,
   "id": "48107ae3",
   "metadata": {},
   "outputs": [],
   "source": [
    "from sklearn.model_selection import GridSearchCV"
   ]
  },
  {
   "cell_type": "code",
   "execution_count": 87,
   "id": "7bfc150d",
   "metadata": {},
   "outputs": [],
   "source": [
    "svc=SVC()"
   ]
  },
  {
   "cell_type": "code",
   "execution_count": 88,
   "id": "68f40275",
   "metadata": {},
   "outputs": [],
   "source": [
    "random_state=list(np.arange(1,150))\n",
    "parameters= {'C': [0.1, 1, 10, 100, 1000], 'gamma': [1, 0.1, 0.01, 0.001, 0.0001], 'kernel': ['rbf','poly'],'shrinking':[True,False],'random_state':random_state}"
   ]
  },
  {
   "cell_type": "code",
   "execution_count": 89,
   "id": "10ac82d6",
   "metadata": {},
   "outputs": [
    {
     "data": {
      "text/plain": [
       "GridSearchCV(estimator=SVC(),\n",
       "             param_grid={'C': [0.1, 1, 10, 100, 1000],\n",
       "                         'gamma': [1, 0.1, 0.01, 0.001, 0.0001],\n",
       "                         'kernel': ['rbf', 'poly'],\n",
       "                         'random_state': [1, 2, 3, 4, 5, 6, 7, 8, 9, 10, 11, 12,\n",
       "                                          13, 14, 15, 16, 17, 18, 19, 20, 21,\n",
       "                                          22, 23, 24, 25, 26, 27, 28, 29, 30, ...],\n",
       "                         'shrinking': [True, False]})"
      ]
     },
     "execution_count": 89,
     "metadata": {},
     "output_type": "execute_result"
    }
   ],
   "source": [
    " \n",
    "GCV= GridSearchCV(svc, parameters)\n",
    "GCV.fit(x_train4,y_train4)"
   ]
  },
  {
   "cell_type": "code",
   "execution_count": 90,
   "id": "2fe50fd1",
   "metadata": {},
   "outputs": [
    {
     "data": {
      "text/plain": [
       "{'C': 1, 'gamma': 0.01, 'kernel': 'rbf', 'random_state': 1, 'shrinking': True}"
      ]
     },
     "execution_count": 90,
     "metadata": {},
     "output_type": "execute_result"
    }
   ],
   "source": [
    "GCV.best_params_"
   ]
  },
  {
   "cell_type": "code",
   "execution_count": 91,
   "id": "5c5166df",
   "metadata": {},
   "outputs": [
    {
     "data": {
      "text/plain": [
       "SVC(C=1, gamma=0.01, random_state=1)"
      ]
     },
     "execution_count": 91,
     "metadata": {},
     "output_type": "execute_result"
    }
   ],
   "source": [
    "GCV.best_estimator_"
   ]
  },
  {
   "cell_type": "code",
   "execution_count": 92,
   "id": "d0356928",
   "metadata": {},
   "outputs": [],
   "source": [
    "svc_best=SVC(C=1,gamma=0.01,kernel='rbf',shrinking= True, random_state=1)\n",
    "#train model\n",
    "svc_best.fit(x_train4,y_train4)\n",
    "\n",
    "#predicting data\n",
    "svc_best_pred=svc_best.predict(x_test4)"
   ]
  },
  {
   "cell_type": "markdown",
   "id": "5c0f95d0",
   "metadata": {},
   "source": [
    "## Evaluation"
   ]
  },
  {
   "cell_type": "code",
   "execution_count": 93,
   "id": "3642dc0a",
   "metadata": {},
   "outputs": [
    {
     "name": "stdout",
     "output_type": "stream",
     "text": [
      "Accuracy:  0.9555555555555556\n",
      "[[14  4]\n",
      " [ 0 72]]\n",
      "              precision    recall  f1-score   support\n",
      "\n",
      "           0       1.00      0.78      0.88        18\n",
      "           1       0.95      1.00      0.97        72\n",
      "\n",
      "    accuracy                           0.96        90\n",
      "   macro avg       0.97      0.89      0.92        90\n",
      "weighted avg       0.96      0.96      0.95        90\n",
      "\n"
     ]
    }
   ],
   "source": [
    "#checking accuracy score\n",
    "print('Accuracy: ',accuracy_score(y_test4,svc_best_pred))\n",
    "#print confusion matrics\n",
    "print(confusion_matrix(y_test4,svc_best_pred))\n",
    "#printing classification report\n",
    "print(classification_report(y_test4,svc_best_pred))"
   ]
  },
  {
   "cell_type": "code",
   "execution_count": 94,
   "id": "17a027a5",
   "metadata": {},
   "outputs": [
    {
     "name": "stdout",
     "output_type": "stream",
     "text": [
      "precision for 0(NO) =  1.0\n",
      "precision for 1(YES) = 0.9473684210526315\n"
     ]
    }
   ],
   "source": [
    "# calculating precision =tp/tp+fp\n",
    "print('precision for 0(NO) = ',14/(14+0))\n",
    "print('precision for 1(YES) =',72/(72+4))"
   ]
  },
  {
   "cell_type": "code",
   "execution_count": 95,
   "id": "9f081d75",
   "metadata": {},
   "outputs": [
    {
     "name": "stdout",
     "output_type": "stream",
     "text": [
      "recall for 0(NO) = 0.7777777777777778\n",
      "recall for 1(YES) = 1.0\n"
     ]
    }
   ],
   "source": [
    "# calculating recall tp/tp+fn\n",
    "print('recall for 0(NO) =',14/(14+4))\n",
    "print('recall for 1(YES) =',72/(72+0))"
   ]
  },
  {
   "cell_type": "markdown",
   "id": "fda1a6ff",
   "metadata": {},
   "source": [
    "# ROC AUC curve"
   ]
  },
  {
   "cell_type": "code",
   "execution_count": 96,
   "id": "6c6d156f",
   "metadata": {},
   "outputs": [],
   "source": [
    "from sklearn.metrics import plot_roc_curve"
   ]
  },
  {
   "cell_type": "code",
   "execution_count": 97,
   "id": "a8b73280",
   "metadata": {},
   "outputs": [
    {
     "data": {
      "image/png": "[encoded data removed]",
      "text/plain": [
       "<Figure size 432x288 with 1 Axes>"
      ]
     },
     "metadata": {},
     "output_type": "display_data"
    }
   ],
   "source": [
    "plot_roc_curve(svc_best,x_test4,y_test4)\n",
    "plt.show()"
   ]
  },
  {
   "cell_type": "markdown",
   "id": "d11edbdd",
   "metadata": {},
   "source": [
    "# Model Saving"
   ]
  },
  {
   "cell_type": "code",
   "execution_count": 98,
   "id": "9fcd1eb7",
   "metadata": {},
   "outputs": [],
   "source": [
    "import pickle"
   ]
  },
  {
   "cell_type": "code",
   "execution_count": 99,
   "id": "a9a7d83f",
   "metadata": {},
   "outputs": [],
   "source": [
    "svc_best_file='Loan_approval.pkl'\n",
    "pickle.dump(svc_best,open(svc_best_file,'wb'))"
   ]
  },
  {
   "cell_type": "markdown",
   "id": "06dcec0e",
   "metadata": {},
   "source": [
    "# Conclusion"
   ]
  },
  {
   "cell_type": "markdown",
   "id": "978c38b6",
   "metadata": {},
   "source": [
    "* I have choosed super vector classifier as my final model on the basis of its accuracy score, cv score, f1score ,presicion , recall and ROC curve score.\n",
    "* our final model is giving accuracy score of 95.5 which is highest and best score among other models.\n",
    "* There is leass difference between cross validation score and accuracy score for this model, it means the model is less underitting/overfitting compared to other models\n",
    "* The ROC score is 0.91 which is also a good score."
   ]
  }
 ],
 "metadata": {
  "kernelspec": {
   "display_name": "Python 3 (ipykernel)",
   "language": "python",
   "name": "python3"
  },
  "language_info": {
   "codemirror_mode": {
    "name": "ipython",
    "version": 3
   },
   "file_extension": ".py",
   "mimetype": "text/x-python",
   "name": "python",
   "nbconvert_exporter": "python",
   "pygments_lexer": "ipython3",
   "version": "3.9.7"
  }
 },
 "nbformat": 4,
 "nbformat_minor": 5
}
