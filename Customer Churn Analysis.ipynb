{
 "cells": [
  {
   "cell_type": "markdown",
   "id": "c1eeb12f",
   "metadata": {},
   "source": [
    "# Customer Churn Analysis"
   ]
  },
  {
   "cell_type": "code",
   "execution_count": 2,
   "id": "44ffb468",
   "metadata": {},
   "outputs": [],
   "source": [
    "#importing all the required libraries for EDA and vizualiztion.\n",
    "import pandas as pd    # library for EDA.\n",
    "import numpy as np     # library for numerical calculations.\n",
    "import seaborn as sns  # library for vizualization.\n",
    "import matplotlib.pyplot as plt  # library for vizualization.\n",
    "import math\n",
    "import warnings\n",
    "warnings.filterwarnings('ignore')  # to ignore warnings"
   ]
  },
  {
   "cell_type": "code",
   "execution_count": 3,
   "id": "d3048e9e",
   "metadata": {},
   "outputs": [],
   "source": [
    "#lets load dataset \n",
    "df=pd.read_csv('https://raw.githubusercontent.com/dsrscientist/DSData/master/Telecom_customer_churn.csv')"
   ]
  },
  {
   "cell_type": "code",
   "execution_count": 4,
   "id": "ecc7e2aa",
   "metadata": {},
   "outputs": [
    {
     "data": {
      "text/plain": [
       "pandas.core.frame.DataFrame"
      ]
     },
     "execution_count": 4,
     "metadata": {},
     "output_type": "execute_result"
    }
   ],
   "source": [
    "#lets check the type of dataset\n",
    "type(df)\n",
    "#since our dataset is already dataframe, no need to again make dataframe"
   ]
  },
  {
   "cell_type": "code",
   "execution_count": 5,
   "id": "80ca0866",
   "metadata": {},
   "outputs": [
    {
     "data": {
      "text/html": [
       "<div>\n",
       "<style scoped>\n",
       "    .dataframe tbody tr th:only-of-type {\n",
       "        vertical-align: middle;\n",
       "    }\n",
       "\n",
       "    .dataframe tbody tr th {\n",
       "        vertical-align: top;\n",
       "    }\n",
       "\n",
       "    .dataframe thead th {\n",
       "        text-align: right;\n",
       "    }\n",
       "</style>\n",
       "<table border=\"1\" class=\"dataframe\">\n",
       "  <thead>\n",
       "    <tr style=\"text-align: right;\">\n",
       "      <th></th>\n",
       "      <th>customerID</th>\n",
       "      <th>gender</th>\n",
       "      <th>SeniorCitizen</th>\n",
       "      <th>Partner</th>\n",
       "      <th>Dependents</th>\n",
       "      <th>tenure</th>\n",
       "      <th>PhoneService</th>\n",
       "      <th>MultipleLines</th>\n",
       "      <th>InternetService</th>\n",
       "      <th>OnlineSecurity</th>\n",
       "      <th>...</th>\n",
       "      <th>DeviceProtection</th>\n",
       "      <th>TechSupport</th>\n",
       "      <th>StreamingTV</th>\n",
       "      <th>StreamingMovies</th>\n",
       "      <th>Contract</th>\n",
       "      <th>PaperlessBilling</th>\n",
       "      <th>PaymentMethod</th>\n",
       "      <th>MonthlyCharges</th>\n",
       "      <th>TotalCharges</th>\n",
       "      <th>Churn</th>\n",
       "    </tr>\n",
       "  </thead>\n",
       "  <tbody>\n",
       "    <tr>\n",
       "      <th>0</th>\n",
       "      <td>7590-VHVEG</td>\n",
       "      <td>Female</td>\n",
       "      <td>0</td>\n",
       "      <td>Yes</td>\n",
       "      <td>No</td>\n",
       "      <td>1</td>\n",
       "      <td>No</td>\n",
       "      <td>No phone service</td>\n",
       "      <td>DSL</td>\n",
       "      <td>No</td>\n",
       "      <td>...</td>\n",
       "      <td>No</td>\n",
       "      <td>No</td>\n",
       "      <td>No</td>\n",
       "      <td>No</td>\n",
       "      <td>Month-to-month</td>\n",
       "      <td>Yes</td>\n",
       "      <td>Electronic check</td>\n",
       "      <td>29.85</td>\n",
       "      <td>29.85</td>\n",
       "      <td>No</td>\n",
       "    </tr>\n",
       "    <tr>\n",
       "      <th>1</th>\n",
       "      <td>5575-GNVDE</td>\n",
       "      <td>Male</td>\n",
       "      <td>0</td>\n",
       "      <td>No</td>\n",
       "      <td>No</td>\n",
       "      <td>34</td>\n",
       "      <td>Yes</td>\n",
       "      <td>No</td>\n",
       "      <td>DSL</td>\n",
       "      <td>Yes</td>\n",
       "      <td>...</td>\n",
       "      <td>Yes</td>\n",
       "      <td>No</td>\n",
       "      <td>No</td>\n",
       "      <td>No</td>\n",
       "      <td>One year</td>\n",
       "      <td>No</td>\n",
       "      <td>Mailed check</td>\n",
       "      <td>56.95</td>\n",
       "      <td>1889.5</td>\n",
       "      <td>No</td>\n",
       "    </tr>\n",
       "    <tr>\n",
       "      <th>2</th>\n",
       "      <td>3668-QPYBK</td>\n",
       "      <td>Male</td>\n",
       "      <td>0</td>\n",
       "      <td>No</td>\n",
       "      <td>No</td>\n",
       "      <td>2</td>\n",
       "      <td>Yes</td>\n",
       "      <td>No</td>\n",
       "      <td>DSL</td>\n",
       "      <td>Yes</td>\n",
       "      <td>...</td>\n",
       "      <td>No</td>\n",
       "      <td>No</td>\n",
       "      <td>No</td>\n",
       "      <td>No</td>\n",
       "      <td>Month-to-month</td>\n",
       "      <td>Yes</td>\n",
       "      <td>Mailed check</td>\n",
       "      <td>53.85</td>\n",
       "      <td>108.15</td>\n",
       "      <td>Yes</td>\n",
       "    </tr>\n",
       "    <tr>\n",
       "      <th>3</th>\n",
       "      <td>7795-CFOCW</td>\n",
       "      <td>Male</td>\n",
       "      <td>0</td>\n",
       "      <td>No</td>\n",
       "      <td>No</td>\n",
       "      <td>45</td>\n",
       "      <td>No</td>\n",
       "      <td>No phone service</td>\n",
       "      <td>DSL</td>\n",
       "      <td>Yes</td>\n",
       "      <td>...</td>\n",
       "      <td>Yes</td>\n",
       "      <td>Yes</td>\n",
       "      <td>No</td>\n",
       "      <td>No</td>\n",
       "      <td>One year</td>\n",
       "      <td>No</td>\n",
       "      <td>Bank transfer (automatic)</td>\n",
       "      <td>42.30</td>\n",
       "      <td>1840.75</td>\n",
       "      <td>No</td>\n",
       "    </tr>\n",
       "    <tr>\n",
       "      <th>4</th>\n",
       "      <td>9237-HQITU</td>\n",
       "      <td>Female</td>\n",
       "      <td>0</td>\n",
       "      <td>No</td>\n",
       "      <td>No</td>\n",
       "      <td>2</td>\n",
       "      <td>Yes</td>\n",
       "      <td>No</td>\n",
       "      <td>Fiber optic</td>\n",
       "      <td>No</td>\n",
       "      <td>...</td>\n",
       "      <td>No</td>\n",
       "      <td>No</td>\n",
       "      <td>No</td>\n",
       "      <td>No</td>\n",
       "      <td>Month-to-month</td>\n",
       "      <td>Yes</td>\n",
       "      <td>Electronic check</td>\n",
       "      <td>70.70</td>\n",
       "      <td>151.65</td>\n",
       "      <td>Yes</td>\n",
       "    </tr>\n",
       "    <tr>\n",
       "      <th>...</th>\n",
       "      <td>...</td>\n",
       "      <td>...</td>\n",
       "      <td>...</td>\n",
       "      <td>...</td>\n",
       "      <td>...</td>\n",
       "      <td>...</td>\n",
       "      <td>...</td>\n",
       "      <td>...</td>\n",
       "      <td>...</td>\n",
       "      <td>...</td>\n",
       "      <td>...</td>\n",
       "      <td>...</td>\n",
       "      <td>...</td>\n",
       "      <td>...</td>\n",
       "      <td>...</td>\n",
       "      <td>...</td>\n",
       "      <td>...</td>\n",
       "      <td>...</td>\n",
       "      <td>...</td>\n",
       "      <td>...</td>\n",
       "      <td>...</td>\n",
       "    </tr>\n",
       "    <tr>\n",
       "      <th>7038</th>\n",
       "      <td>6840-RESVB</td>\n",
       "      <td>Male</td>\n",
       "      <td>0</td>\n",
       "      <td>Yes</td>\n",
       "      <td>Yes</td>\n",
       "      <td>24</td>\n",
       "      <td>Yes</td>\n",
       "      <td>Yes</td>\n",
       "      <td>DSL</td>\n",
       "      <td>Yes</td>\n",
       "      <td>...</td>\n",
       "      <td>Yes</td>\n",
       "      <td>Yes</td>\n",
       "      <td>Yes</td>\n",
       "      <td>Yes</td>\n",
       "      <td>One year</td>\n",
       "      <td>Yes</td>\n",
       "      <td>Mailed check</td>\n",
       "      <td>84.80</td>\n",
       "      <td>1990.5</td>\n",
       "      <td>No</td>\n",
       "    </tr>\n",
       "    <tr>\n",
       "      <th>7039</th>\n",
       "      <td>2234-XADUH</td>\n",
       "      <td>Female</td>\n",
       "      <td>0</td>\n",
       "      <td>Yes</td>\n",
       "      <td>Yes</td>\n",
       "      <td>72</td>\n",
       "      <td>Yes</td>\n",
       "      <td>Yes</td>\n",
       "      <td>Fiber optic</td>\n",
       "      <td>No</td>\n",
       "      <td>...</td>\n",
       "      <td>Yes</td>\n",
       "      <td>No</td>\n",
       "      <td>Yes</td>\n",
       "      <td>Yes</td>\n",
       "      <td>One year</td>\n",
       "      <td>Yes</td>\n",
       "      <td>Credit card (automatic)</td>\n",
       "      <td>103.20</td>\n",
       "      <td>7362.9</td>\n",
       "      <td>No</td>\n",
       "    </tr>\n",
       "    <tr>\n",
       "      <th>7040</th>\n",
       "      <td>4801-JZAZL</td>\n",
       "      <td>Female</td>\n",
       "      <td>0</td>\n",
       "      <td>Yes</td>\n",
       "      <td>Yes</td>\n",
       "      <td>11</td>\n",
       "      <td>No</td>\n",
       "      <td>No phone service</td>\n",
       "      <td>DSL</td>\n",
       "      <td>Yes</td>\n",
       "      <td>...</td>\n",
       "      <td>No</td>\n",
       "      <td>No</td>\n",
       "      <td>No</td>\n",
       "      <td>No</td>\n",
       "      <td>Month-to-month</td>\n",
       "      <td>Yes</td>\n",
       "      <td>Electronic check</td>\n",
       "      <td>29.60</td>\n",
       "      <td>346.45</td>\n",
       "      <td>No</td>\n",
       "    </tr>\n",
       "    <tr>\n",
       "      <th>7041</th>\n",
       "      <td>8361-LTMKD</td>\n",
       "      <td>Male</td>\n",
       "      <td>1</td>\n",
       "      <td>Yes</td>\n",
       "      <td>No</td>\n",
       "      <td>4</td>\n",
       "      <td>Yes</td>\n",
       "      <td>Yes</td>\n",
       "      <td>Fiber optic</td>\n",
       "      <td>No</td>\n",
       "      <td>...</td>\n",
       "      <td>No</td>\n",
       "      <td>No</td>\n",
       "      <td>No</td>\n",
       "      <td>No</td>\n",
       "      <td>Month-to-month</td>\n",
       "      <td>Yes</td>\n",
       "      <td>Mailed check</td>\n",
       "      <td>74.40</td>\n",
       "      <td>306.6</td>\n",
       "      <td>Yes</td>\n",
       "    </tr>\n",
       "    <tr>\n",
       "      <th>7042</th>\n",
       "      <td>3186-AJIEK</td>\n",
       "      <td>Male</td>\n",
       "      <td>0</td>\n",
       "      <td>No</td>\n",
       "      <td>No</td>\n",
       "      <td>66</td>\n",
       "      <td>Yes</td>\n",
       "      <td>No</td>\n",
       "      <td>Fiber optic</td>\n",
       "      <td>Yes</td>\n",
       "      <td>...</td>\n",
       "      <td>Yes</td>\n",
       "      <td>Yes</td>\n",
       "      <td>Yes</td>\n",
       "      <td>Yes</td>\n",
       "      <td>Two year</td>\n",
       "      <td>Yes</td>\n",
       "      <td>Bank transfer (automatic)</td>\n",
       "      <td>105.65</td>\n",
       "      <td>6844.5</td>\n",
       "      <td>No</td>\n",
       "    </tr>\n",
       "  </tbody>\n",
       "</table>\n",
       "<p>7043 rows × 21 columns</p>\n",
       "</div>"
      ],
      "text/plain": [
       "      customerID  gender  SeniorCitizen Partner Dependents  tenure  \\\n",
       "0     7590-VHVEG  Female              0     Yes         No       1   \n",
       "1     5575-GNVDE    Male              0      No         No      34   \n",
       "2     3668-QPYBK    Male              0      No         No       2   \n",
       "3     7795-CFOCW    Male              0      No         No      45   \n",
       "4     9237-HQITU  Female              0      No         No       2   \n",
       "...          ...     ...            ...     ...        ...     ...   \n",
       "7038  6840-RESVB    Male              0     Yes        Yes      24   \n",
       "7039  2234-XADUH  Female              0     Yes        Yes      72   \n",
       "7040  4801-JZAZL  Female              0     Yes        Yes      11   \n",
       "7041  8361-LTMKD    Male              1     Yes         No       4   \n",
       "7042  3186-AJIEK    Male              0      No         No      66   \n",
       "\n",
       "     PhoneService     MultipleLines InternetService OnlineSecurity  ...  \\\n",
       "0              No  No phone service             DSL             No  ...   \n",
       "1             Yes                No             DSL            Yes  ...   \n",
       "2             Yes                No             DSL            Yes  ...   \n",
       "3              No  No phone service             DSL            Yes  ...   \n",
       "4             Yes                No     Fiber optic             No  ...   \n",
       "...           ...               ...             ...            ...  ...   \n",
       "7038          Yes               Yes             DSL            Yes  ...   \n",
       "7039          Yes               Yes     Fiber optic             No  ...   \n",
       "7040           No  No phone service             DSL            Yes  ...   \n",
       "7041          Yes               Yes     Fiber optic             No  ...   \n",
       "7042          Yes                No     Fiber optic            Yes  ...   \n",
       "\n",
       "     DeviceProtection TechSupport StreamingTV StreamingMovies        Contract  \\\n",
       "0                  No          No          No              No  Month-to-month   \n",
       "1                 Yes          No          No              No        One year   \n",
       "2                  No          No          No              No  Month-to-month   \n",
       "3                 Yes         Yes          No              No        One year   \n",
       "4                  No          No          No              No  Month-to-month   \n",
       "...               ...         ...         ...             ...             ...   \n",
       "7038              Yes         Yes         Yes             Yes        One year   \n",
       "7039              Yes          No         Yes             Yes        One year   \n",
       "7040               No          No          No              No  Month-to-month   \n",
       "7041               No          No          No              No  Month-to-month   \n",
       "7042              Yes         Yes         Yes             Yes        Two year   \n",
       "\n",
       "     PaperlessBilling              PaymentMethod MonthlyCharges  TotalCharges  \\\n",
       "0                 Yes           Electronic check          29.85         29.85   \n",
       "1                  No               Mailed check          56.95        1889.5   \n",
       "2                 Yes               Mailed check          53.85        108.15   \n",
       "3                  No  Bank transfer (automatic)          42.30       1840.75   \n",
       "4                 Yes           Electronic check          70.70        151.65   \n",
       "...               ...                        ...            ...           ...   \n",
       "7038              Yes               Mailed check          84.80        1990.5   \n",
       "7039              Yes    Credit card (automatic)         103.20        7362.9   \n",
       "7040              Yes           Electronic check          29.60        346.45   \n",
       "7041              Yes               Mailed check          74.40         306.6   \n",
       "7042              Yes  Bank transfer (automatic)         105.65        6844.5   \n",
       "\n",
       "     Churn  \n",
       "0       No  \n",
       "1       No  \n",
       "2      Yes  \n",
       "3       No  \n",
       "4      Yes  \n",
       "...    ...  \n",
       "7038    No  \n",
       "7039    No  \n",
       "7040    No  \n",
       "7041   Yes  \n",
       "7042    No  \n",
       "\n",
       "[7043 rows x 21 columns]"
      ]
     },
     "execution_count": 5,
     "metadata": {},
     "output_type": "execute_result"
    }
   ],
   "source": [
    "df"
   ]
  },
  {
   "cell_type": "markdown",
   "id": "d4d5fd58",
   "metadata": {},
   "source": [
    "# Exploratory Data Analysis(EDA)"
   ]
  },
  {
   "cell_type": "code",
   "execution_count": 6,
   "id": "1c38b8a6",
   "metadata": {},
   "outputs": [
    {
     "data": {
      "text/plain": [
       "Index(['customerID', 'gender', 'SeniorCitizen', 'Partner', 'Dependents',\n",
       "       'tenure', 'PhoneService', 'MultipleLines', 'InternetService',\n",
       "       'OnlineSecurity', 'OnlineBackup', 'DeviceProtection', 'TechSupport',\n",
       "       'StreamingTV', 'StreamingMovies', 'Contract', 'PaperlessBilling',\n",
       "       'PaymentMethod', 'MonthlyCharges', 'TotalCharges', 'Churn'],\n",
       "      dtype='object')"
      ]
     },
     "execution_count": 6,
     "metadata": {},
     "output_type": "execute_result"
    }
   ],
   "source": [
    "#print columns\n",
    "df.columns"
   ]
  },
  {
   "cell_type": "code",
   "execution_count": 7,
   "id": "af054414",
   "metadata": {},
   "outputs": [
    {
     "data": {
      "text/plain": [
       "(7043, 21)"
      ]
     },
     "execution_count": 7,
     "metadata": {},
     "output_type": "execute_result"
    }
   ],
   "source": [
    "#checking rows and columns\n",
    "df.shape"
   ]
  },
  {
   "cell_type": "code",
   "execution_count": 8,
   "id": "679d0a28",
   "metadata": {},
   "outputs": [
    {
     "data": {
      "text/plain": [
       "customerID           object\n",
       "gender               object\n",
       "SeniorCitizen         int64\n",
       "Partner              object\n",
       "Dependents           object\n",
       "tenure                int64\n",
       "PhoneService         object\n",
       "MultipleLines        object\n",
       "InternetService      object\n",
       "OnlineSecurity       object\n",
       "OnlineBackup         object\n",
       "DeviceProtection     object\n",
       "TechSupport          object\n",
       "StreamingTV          object\n",
       "StreamingMovies      object\n",
       "Contract             object\n",
       "PaperlessBilling     object\n",
       "PaymentMethod        object\n",
       "MonthlyCharges      float64\n",
       "TotalCharges         object\n",
       "Churn                object\n",
       "dtype: object"
      ]
     },
     "execution_count": 8,
     "metadata": {},
     "output_type": "execute_result"
    }
   ],
   "source": [
    "#checking datatype of each column\n",
    "df.dtypes"
   ]
  },
  {
   "cell_type": "code",
   "execution_count": 9,
   "id": "0af91f84",
   "metadata": {},
   "outputs": [
    {
     "name": "stdout",
     "output_type": "stream",
     "text": [
      "Total null values=  0\n"
     ]
    },
    {
     "data": {
      "text/plain": [
       "customerID          0\n",
       "gender              0\n",
       "SeniorCitizen       0\n",
       "Partner             0\n",
       "Dependents          0\n",
       "tenure              0\n",
       "PhoneService        0\n",
       "MultipleLines       0\n",
       "InternetService     0\n",
       "OnlineSecurity      0\n",
       "OnlineBackup        0\n",
       "DeviceProtection    0\n",
       "TechSupport         0\n",
       "StreamingTV         0\n",
       "StreamingMovies     0\n",
       "Contract            0\n",
       "PaperlessBilling    0\n",
       "PaymentMethod       0\n",
       "MonthlyCharges      0\n",
       "TotalCharges        0\n",
       "Churn               0\n",
       "dtype: int64"
      ]
     },
     "execution_count": 9,
     "metadata": {},
     "output_type": "execute_result"
    }
   ],
   "source": [
    "#  check null values and summing up columns wise\n",
    "print('Total null values= ',df.isnull().sum().sum())\n",
    "df.isnull().sum()"
   ]
  },
  {
   "cell_type": "code",
   "execution_count": 10,
   "id": "94d0f65a",
   "metadata": {},
   "outputs": [
    {
     "name": "stdout",
     "output_type": "stream",
     "text": [
      "<class 'pandas.core.frame.DataFrame'>\n",
      "RangeIndex: 7043 entries, 0 to 7042\n",
      "Data columns (total 21 columns):\n",
      " #   Column            Non-Null Count  Dtype  \n",
      "---  ------            --------------  -----  \n",
      " 0   customerID        7043 non-null   object \n",
      " 1   gender            7043 non-null   object \n",
      " 2   SeniorCitizen     7043 non-null   int64  \n",
      " 3   Partner           7043 non-null   object \n",
      " 4   Dependents        7043 non-null   object \n",
      " 5   tenure            7043 non-null   int64  \n",
      " 6   PhoneService      7043 non-null   object \n",
      " 7   MultipleLines     7043 non-null   object \n",
      " 8   InternetService   7043 non-null   object \n",
      " 9   OnlineSecurity    7043 non-null   object \n",
      " 10  OnlineBackup      7043 non-null   object \n",
      " 11  DeviceProtection  7043 non-null   object \n",
      " 12  TechSupport       7043 non-null   object \n",
      " 13  StreamingTV       7043 non-null   object \n",
      " 14  StreamingMovies   7043 non-null   object \n",
      " 15  Contract          7043 non-null   object \n",
      " 16  PaperlessBilling  7043 non-null   object \n",
      " 17  PaymentMethod     7043 non-null   object \n",
      " 18  MonthlyCharges    7043 non-null   float64\n",
      " 19  TotalCharges      7043 non-null   object \n",
      " 20  Churn             7043 non-null   object \n",
      "dtypes: float64(1), int64(2), object(18)\n",
      "memory usage: 1.1+ MB\n"
     ]
    }
   ],
   "source": [
    "df.info()"
   ]
  },
  {
   "cell_type": "markdown",
   "id": "c295cb8c",
   "metadata": {},
   "source": [
    "* In the above outcome TotalCharges is object type but it is supposed to be numeric so we will convert it into numeric and see if there are null values present."
   ]
  },
  {
   "cell_type": "code",
   "execution_count": 11,
   "id": "a50906b6",
   "metadata": {},
   "outputs": [],
   "source": [
    "df1=df.copy()\n",
    "df1.TotalCharges=pd.to_numeric(df1.TotalCharges, errors='coerce')"
   ]
  },
  {
   "cell_type": "code",
   "execution_count": 12,
   "id": "25e798dd",
   "metadata": {},
   "outputs": [
    {
     "data": {
      "text/plain": [
       "customerID           0\n",
       "gender               0\n",
       "SeniorCitizen        0\n",
       "Partner              0\n",
       "Dependents           0\n",
       "tenure               0\n",
       "PhoneService         0\n",
       "MultipleLines        0\n",
       "InternetService      0\n",
       "OnlineSecurity       0\n",
       "OnlineBackup         0\n",
       "DeviceProtection     0\n",
       "TechSupport          0\n",
       "StreamingTV          0\n",
       "StreamingMovies      0\n",
       "Contract             0\n",
       "PaperlessBilling     0\n",
       "PaymentMethod        0\n",
       "MonthlyCharges       0\n",
       "TotalCharges        11\n",
       "Churn                0\n",
       "dtype: int64"
      ]
     },
     "execution_count": 12,
     "metadata": {},
     "output_type": "execute_result"
    }
   ],
   "source": [
    "df1.isnull().sum()"
   ]
  },
  {
   "cell_type": "markdown",
   "id": "adac1df4",
   "metadata": {},
   "source": [
    "* Now we can see that there are 11 null values present in the TotalCharges column"
   ]
  },
  {
   "cell_type": "code",
   "execution_count": 13,
   "id": "d0fec915",
   "metadata": {},
   "outputs": [
    {
     "data": {
      "image/png": "[encoded data removed]",
      "text/plain": [
       "<Figure size 864x432 with 2 Axes>"
      ]
     },
     "metadata": {
      "needs_background": "light"
     },
     "output_type": "display_data"
    }
   ],
   "source": [
    "#isnull using heat map\n",
    "plt.figure(figsize=(12,6))\n",
    "sns.heatmap(df1.isnull())\n",
    "plt.title('isnull using heatmap', fontsize=15, color='purple')\n",
    "plt.xticks(fontsize=12)\n",
    "plt.yticks(fontsize=12)\n",
    "plt.show()"
   ]
  },
  {
   "cell_type": "markdown",
   "id": "9be392e0",
   "metadata": {},
   "source": [
    "* You can see in the above heatmap that there is a white line present in the TotalCharges column repersenting null values"
   ]
  },
  {
   "cell_type": "markdown",
   "id": "5fe06c88",
   "metadata": {},
   "source": [
    "### Observations:"
   ]
  },
  {
   "cell_type": "markdown",
   "id": "5f325307",
   "metadata": {},
   "source": [
    "from the above outcomes\n",
    "\n",
    "* Dataset has 7043 rows and 21 columns.\n",
    "* All the columns have no null values Except TotalCharges which shows 11 nulls after converting it to numeric type from object type\n",
    "* In the heat map there are lines which  shows null values in the columns.\n",
    "* Dataset contains float64, int64 and object datatypes."
   ]
  },
  {
   "cell_type": "markdown",
   "id": "8291d22f",
   "metadata": {},
   "source": [
    "# Data Cleaning"
   ]
  },
  {
   "cell_type": "markdown",
   "id": "f371b775",
   "metadata": {},
   "source": [
    "* Since the null value percentage is very low, we can ignore them by dropping null values"
   ]
  },
  {
   "cell_type": "code",
   "execution_count": 14,
   "id": "d2eb1dab",
   "metadata": {},
   "outputs": [],
   "source": [
    "df1.dropna(inplace=True)"
   ]
  },
  {
   "cell_type": "code",
   "execution_count": 15,
   "id": "b51271cc",
   "metadata": {},
   "outputs": [
    {
     "data": {
      "text/plain": [
       "0"
      ]
     },
     "execution_count": 15,
     "metadata": {},
     "output_type": "execute_result"
    }
   ],
   "source": [
    "df1.isnull().sum().sum()"
   ]
  },
  {
   "cell_type": "code",
   "execution_count": 16,
   "id": "538ea931",
   "metadata": {},
   "outputs": [
    {
     "data": {
      "text/plain": [
       "(7043, 21)"
      ]
     },
     "execution_count": 16,
     "metadata": {},
     "output_type": "execute_result"
    }
   ],
   "source": [
    "df.shape"
   ]
  },
  {
   "cell_type": "code",
   "execution_count": 17,
   "id": "54965a15",
   "metadata": {},
   "outputs": [
    {
     "data": {
      "text/plain": [
       "(7032, 21)"
      ]
     },
     "execution_count": 17,
     "metadata": {},
     "output_type": "execute_result"
    }
   ],
   "source": [
    "df1.shape"
   ]
  },
  {
   "cell_type": "code",
   "execution_count": 18,
   "id": "2d3c6173",
   "metadata": {},
   "outputs": [
    {
     "data": {
      "image/png": "[encoded data removed]",
      "text/plain": [
       "<Figure size 864x432 with 2 Axes>"
      ]
     },
     "metadata": {
      "needs_background": "light"
     },
     "output_type": "display_data"
    }
   ],
   "source": [
    "#isnull using heat map\n",
    "plt.figure(figsize=(12,6))\n",
    "sns.heatmap(df1.isnull())\n",
    "plt.title('isnull using heatmap', fontsize=15, color='purple')\n",
    "plt.xticks(fontsize=12)\n",
    "plt.yticks(fontsize=12)\n",
    "plt.show()"
   ]
  },
  {
   "cell_type": "markdown",
   "id": "6c665f96",
   "metadata": {},
   "source": [
    "### Observations:"
   ]
  },
  {
   "cell_type": "markdown",
   "id": "81a8b256",
   "metadata": {},
   "source": [
    "from the above outcomes\n",
    "\n",
    "* Dataset has 7032 row and 21 columns. Before there were 7043 columns.After dropping null values we have got the final shape.\n",
    "* All the null values have cleaned up and the columns have no null values.\n",
    "* In the heat map there are no  lines which  shows null values in the columns. Heatmap is clean and plane."
   ]
  },
  {
   "cell_type": "code",
   "execution_count": 19,
   "id": "611d711d",
   "metadata": {},
   "outputs": [
    {
     "data": {
      "text/plain": [
       "Index(['customerID', 'gender', 'SeniorCitizen', 'Partner', 'Dependents',\n",
       "       'tenure', 'PhoneService', 'MultipleLines', 'InternetService',\n",
       "       'OnlineSecurity', 'OnlineBackup', 'DeviceProtection', 'TechSupport',\n",
       "       'StreamingTV', 'StreamingMovies', 'Contract', 'PaperlessBilling',\n",
       "       'PaymentMethod', 'MonthlyCharges', 'TotalCharges', 'Churn'],\n",
       "      dtype='object')"
      ]
     },
     "execution_count": 19,
     "metadata": {},
     "output_type": "execute_result"
    }
   ],
   "source": [
    "df1.columns"
   ]
  },
  {
   "cell_type": "markdown",
   "id": "1eeb35c2",
   "metadata": {},
   "source": [
    "# Vizualization"
   ]
  },
  {
   "cell_type": "code",
   "execution_count": 20,
   "id": "4d584057",
   "metadata": {},
   "outputs": [
    {
     "data": {
      "image/png": "[encoded data removed]",
      "text/plain": [
       "<Figure size 720x432 with 1 Axes>"
      ]
     },
     "metadata": {
      "needs_background": "light"
     },
     "output_type": "display_data"
    },
    {
     "name": "stdout",
     "output_type": "stream",
     "text": [
      "No     73.42\n",
      "Yes    26.58\n",
      "Name: Churn, dtype: float64\n"
     ]
    },
    {
     "data": {
      "text/plain": [
       "No     5163\n",
       "Yes    1869\n",
       "Name: Churn, dtype: int64"
      ]
     },
     "execution_count": 20,
     "metadata": {},
     "output_type": "execute_result"
    }
   ],
   "source": [
    "plt.figure(figsize=(10,6))\n",
    "sns.countplot(df1['Churn'], palette='BuGn')\n",
    "plt.title('Churnt count ', fontsize=15)\n",
    "plt.xlabel('Churn', fontsize=12)\n",
    "plt.ylabel('count', fontsize=12)\n",
    "plt.show()\n",
    "\n",
    "print(round(100*(df1['Churn'].value_counts()/len(df1['Churn'])),2))\n",
    "\n",
    "df1['Churn'].value_counts()"
   ]
  },
  {
   "cell_type": "markdown",
   "id": "e3143587",
   "metadata": {},
   "source": [
    "### Observations"
   ]
  },
  {
   "cell_type": "markdown",
   "id": "9e7069c9",
   "metadata": {},
   "source": [
    "* In our dataset we have more records of non-churned customers i.e 73.42 % data than churned customers(26.48%)\n",
    "* 5163 rows belongs to customers who didnot churned and 1869 rows belongs top customers who churned.\n",
    "* Therefore the the dataset is highly imbalanced."
   ]
  },
  {
   "cell_type": "code",
   "execution_count": 21,
   "id": "46ba65b2",
   "metadata": {},
   "outputs": [
    {
     "data": {
      "image/png": "[encoded data removed]",
      "text/plain": [
       "<Figure size 1080x432 with 2 Axes>"
      ]
     },
     "metadata": {
      "needs_background": "light"
     },
     "output_type": "display_data"
    },
    {
     "name": "stdout",
     "output_type": "stream",
     "text": [
      "Male      3549\n",
      "Female    3483\n",
      "Name: gender, dtype: int64\n"
     ]
    },
    {
     "data": {
      "text/plain": [
       "Male      50.47\n",
       "Female    49.53\n",
       "Name: gender, dtype: float64"
      ]
     },
     "execution_count": 21,
     "metadata": {},
     "output_type": "execute_result"
    }
   ],
   "source": [
    "\n",
    "plt.figure(figsize=(15,6))\n",
    "\n",
    "plt.subplot(1,2,1)\n",
    "sns.countplot(df1['gender'], palette='Dark2_r')\n",
    "plt.title('gender count', fontsize=15)\n",
    "plt.xlabel('gender', fontsize=12)\n",
    "plt.ylabel('count', fontsize=12)\n",
    "\n",
    "\n",
    "plt.subplot(1,2,2)\n",
    "sns.countplot(df1['gender'], hue= df1['Churn'],palette='summer')\n",
    "plt.title('Churn based on gender', fontsize=15)\n",
    "plt.xlabel('gender', fontsize=12)\n",
    "plt.ylabel('count', fontsize=12)\n",
    "\n",
    "plt.show()\n",
    "\n",
    "print(df1['gender'].value_counts())\n",
    "\n",
    "round(100*(df1['gender'].value_counts()/len(df1['gender'])),2)"
   ]
  },
  {
   "cell_type": "markdown",
   "id": "18bba6d7",
   "metadata": {},
   "source": [
    "### Observations"
   ]
  },
  {
   "cell_type": "markdown",
   "id": "9f6f756d",
   "metadata": {},
   "source": [
    "* gender column has almost  equal amount of Female and Male percentage i.e 50.47% of Males and 49.53% Females.\n",
    "* There is not much difference in Male and Female churn ratio.It is almost equal."
   ]
  },
  {
   "cell_type": "code",
   "execution_count": 22,
   "id": "9de63c37",
   "metadata": {},
   "outputs": [
    {
     "data": {
      "image/png": "[encoded data removed]",
      "text/plain": [
       "<Figure size 1080x432 with 2 Axes>"
      ]
     },
     "metadata": {
      "needs_background": "light"
     },
     "output_type": "display_data"
    },
    {
     "name": "stdout",
     "output_type": "stream",
     "text": [
      "0    5890\n",
      "1    1142\n",
      "Name: SeniorCitizen, dtype: int64\n"
     ]
    },
    {
     "data": {
      "text/plain": [
       "0    83.76\n",
       "1    16.24\n",
       "Name: SeniorCitizen, dtype: float64"
      ]
     },
     "execution_count": 22,
     "metadata": {},
     "output_type": "execute_result"
    }
   ],
   "source": [
    "plt.figure(figsize=(15,6))\n",
    "\n",
    "plt.subplot(1,2,1)\n",
    "sns.countplot(df1['SeniorCitizen'], palette='tab10')\n",
    "plt.title('SeniorCitizen count', fontsize=15)\n",
    "plt.xlabel('SeniorCitizen', fontsize=12)\n",
    "plt.ylabel('count', fontsize=12)\n",
    "\n",
    "\n",
    "plt.subplot(1,2,2)\n",
    "sns.countplot(df1['SeniorCitizen'], hue= df1['Churn'],palette='PuBu')\n",
    "plt.title('Churn based on SeniorCitizen', fontsize=15)\n",
    "plt.xlabel('SeniorCitizen', fontsize=12)\n",
    "plt.ylabel('count', fontsize=12)\n",
    "\n",
    "plt.show()\n",
    "\n",
    "print(df1['SeniorCitizen'].value_counts())\n",
    "\n",
    "round(100*(df1['SeniorCitizen'].value_counts()/len(df1['SeniorCitizen'])),2)"
   ]
  },
  {
   "cell_type": "markdown",
   "id": "0db76637",
   "metadata": {},
   "source": [
    "### Observations"
   ]
  },
  {
   "cell_type": "markdown",
   "id": "449dbd59",
   "metadata": {},
   "source": [
    "* Dataset has 5890(83.76%) records of customers who are not seniorcitizens and 1142(16.24%) records of customers who are Senoir citizens.\n",
    "* The churn percentage among Senior Citizens is high compared to churn percentage among Non Senior Citizens.\n",
    "* Almost 90 percent of customers among senior citizens has churned."
   ]
  },
  {
   "cell_type": "code",
   "execution_count": 23,
   "id": "8926b286",
   "metadata": {},
   "outputs": [
    {
     "data": {
      "image/png": "[encoded data removed]",
      "text/plain": [
       "<Figure size 1080x432 with 2 Axes>"
      ]
     },
     "metadata": {
      "needs_background": "light"
     },
     "output_type": "display_data"
    },
    {
     "name": "stdout",
     "output_type": "stream",
     "text": [
      "No     3639\n",
      "Yes    3393\n",
      "Name: Partner, dtype: int64\n"
     ]
    },
    {
     "data": {
      "text/plain": [
       "No     51.75\n",
       "Yes    48.25\n",
       "Name: Partner, dtype: float64"
      ]
     },
     "execution_count": 23,
     "metadata": {},
     "output_type": "execute_result"
    }
   ],
   "source": [
    "plt.figure(figsize=(15,6))\n",
    "\n",
    "plt.subplot(1,2,1)\n",
    "sns.countplot(df1['Partner'], palette='Accent')\n",
    "plt.title('Partner count', fontsize=15)\n",
    "plt.xlabel('Partner', fontsize=12)\n",
    "plt.ylabel('count', fontsize=12)\n",
    "\n",
    "\n",
    "plt.subplot(1,2,2)\n",
    "sns.countplot(df1['Partner'], hue= df1['Churn'],palette='Blues')\n",
    "plt.title('Churn based on Partner', fontsize=15)\n",
    "plt.xlabel('Partner', fontsize=12)\n",
    "plt.ylabel('count', fontsize=12)\n",
    "\n",
    "plt.show()\n",
    "\n",
    "print(df1['Partner'].value_counts())\n",
    "\n",
    "round(100*(df1['Partner'].value_counts()/len(df1['Partner'])),2)"
   ]
  },
  {
   "cell_type": "markdown",
   "id": "d82fd7f7",
   "metadata": {},
   "source": [
    "### Observations"
   ]
  },
  {
   "cell_type": "markdown",
   "id": "fb9a83ac",
   "metadata": {},
   "source": [
    "* In our Dataset 3393(48.25%) customers have partners and 3639(51.75%) customers doest not have partners.\n",
    "* The percentage of churn is more in customers who doest not have partners compared to cutomers with no partners."
   ]
  },
  {
   "cell_type": "code",
   "execution_count": 24,
   "id": "c4b3fd92",
   "metadata": {},
   "outputs": [
    {
     "data": {
      "image/png": "[encoded data removed]",
      "text/plain": [
       "<Figure size 1080x432 with 2 Axes>"
      ]
     },
     "metadata": {
      "needs_background": "light"
     },
     "output_type": "display_data"
    },
    {
     "name": "stdout",
     "output_type": "stream",
     "text": [
      "No     4933\n",
      "Yes    2099\n",
      "Name: Dependents, dtype: int64\n"
     ]
    },
    {
     "data": {
      "text/plain": [
       "No     70.15\n",
       "Yes    29.85\n",
       "Name: Dependents, dtype: float64"
      ]
     },
     "execution_count": 24,
     "metadata": {},
     "output_type": "execute_result"
    }
   ],
   "source": [
    "plt.figure(figsize=(15,6))\n",
    "\n",
    "plt.subplot(1,2,1)\n",
    "sns.countplot(df1['Dependents'], palette='Greens')\n",
    "plt.title('Dependents count', fontsize=15)\n",
    "plt.xlabel('Dependents', fontsize=12)\n",
    "plt.ylabel('count', fontsize=12)\n",
    "\n",
    "\n",
    "plt.subplot(1,2,2)\n",
    "sns.countplot(df1['Dependents'], hue= df1['Churn'],palette='Dark2')\n",
    "plt.title('Churn based on Dependents', fontsize=15)\n",
    "plt.xlabel('Dependents', fontsize=12)\n",
    "plt.ylabel('count', fontsize=12)\n",
    "\n",
    "plt.show()\n",
    "\n",
    "print(df1['Dependents'].value_counts())\n",
    "\n",
    "round(100*(df1['Dependents'].value_counts()/len(df1['Dependents'])),2)"
   ]
  },
  {
   "cell_type": "markdown",
   "id": "f34ad0d8",
   "metadata": {},
   "source": [
    "### Observations"
   ]
  },
  {
   "cell_type": "markdown",
   "id": "3b69e19c",
   "metadata": {},
   "source": [
    "* The percentage of customers with dependants(29.85%) is less compared to the percentage of customers with no dependants(70.15%)\n",
    "* The customers with no dependants has more churn percentage(around 30%) compared to customers with dependants(around 15%)."
   ]
  },
  {
   "cell_type": "code",
   "execution_count": 25,
   "id": "01706041",
   "metadata": {},
   "outputs": [
    {
     "data": {
      "image/png": "[encoded data removed]",
      "text/plain": [
       "<Figure size 1440x1440 with 2 Axes>"
      ]
     },
     "metadata": {
      "needs_background": "light"
     },
     "output_type": "display_data"
    }
   ],
   "source": [
    "plt.figure(figsize=(20,20))\n",
    "\n",
    "plt.subplot(2,1,1)\n",
    "sns.countplot(df1['tenure'], palette='rainbow')\n",
    "plt.title('tenure count', fontsize=15)\n",
    "plt.xlabel('tenure', fontsize=12)\n",
    "plt.ylabel('count', fontsize=12)\n",
    "\n",
    "\n",
    "plt.subplot(2,1,2)\n",
    "sns.countplot(df1['tenure'], hue= df1['Churn'],palette='Dark2')\n",
    "plt.title('Churn based on tenure', fontsize=15)\n",
    "plt.xlabel('tenure', fontsize=12)\n",
    "plt.ylabel('count', fontsize=12)\n",
    "plt.legend(loc='upper center',fontsize=18)\n",
    "\n",
    "plt.show()"
   ]
  },
  {
   "cell_type": "markdown",
   "id": "b3b947b5",
   "metadata": {},
   "source": [
    "### Observations"
   ]
  },
  {
   "cell_type": "markdown",
   "id": "70e4a76a",
   "metadata": {},
   "source": [
    "* The percentage of churn is high in customers with 1 to 5 months of Tenure.\n",
    "* The long term user has maintaned loyalty."
   ]
  },
  {
   "cell_type": "code",
   "execution_count": 26,
   "id": "7910d67f",
   "metadata": {},
   "outputs": [
    {
     "data": {
      "image/png": "[encoded data removed]",
      "text/plain": [
       "<Figure size 1080x432 with 2 Axes>"
      ]
     },
     "metadata": {
      "needs_background": "light"
     },
     "output_type": "display_data"
    },
    {
     "name": "stdout",
     "output_type": "stream",
     "text": [
      "Yes    6352\n",
      "No      680\n",
      "Name: PhoneService, dtype: int64\n"
     ]
    },
    {
     "data": {
      "text/plain": [
       "Yes    90.33\n",
       "No      9.67\n",
       "Name: PhoneService, dtype: float64"
      ]
     },
     "execution_count": 26,
     "metadata": {},
     "output_type": "execute_result"
    }
   ],
   "source": [
    "plt.figure(figsize=(15,6))\n",
    "\n",
    "plt.subplot(1,2,1)\n",
    "sns.countplot(df1['PhoneService'], palette='Greys')\n",
    "plt.title('PhoneService count', fontsize=15)\n",
    "plt.xlabel('PhoneService', fontsize=12)\n",
    "plt.ylabel('count', fontsize=12)\n",
    "\n",
    "\n",
    "plt.subplot(1,2,2)\n",
    "sns.countplot(df1['PhoneService'], hue= df1['Churn'],palette='OrRd')\n",
    "plt.title('Churn based on PhoneService', fontsize=15)\n",
    "plt.xlabel('PhoneService', fontsize=12)\n",
    "plt.ylabel('count', fontsize=12)\n",
    "\n",
    "plt.show()\n",
    "\n",
    "print(df1['PhoneService'].value_counts())\n",
    "\n",
    "round(100*(df1['PhoneService'].value_counts()/len(df1['PhoneService'])),2)"
   ]
  },
  {
   "cell_type": "markdown",
   "id": "f8525c14",
   "metadata": {},
   "source": [
    "### Observations"
   ]
  },
  {
   "cell_type": "markdown",
   "id": "f9bce03b",
   "metadata": {},
   "source": [
    "* According to our dataset 90% customers have taken Phoneservice only 10 % has not takedn Phoneservice."
   ]
  },
  {
   "cell_type": "code",
   "execution_count": 27,
   "id": "495536c9",
   "metadata": {},
   "outputs": [
    {
     "data": {
      "image/png": "[encoded data removed]",
      "text/plain": [
       "<Figure size 1080x432 with 2 Axes>"
      ]
     },
     "metadata": {
      "needs_background": "light"
     },
     "output_type": "display_data"
    },
    {
     "name": "stdout",
     "output_type": "stream",
     "text": [
      "No                  3385\n",
      "Yes                 2967\n",
      "No phone service     680\n",
      "Name: MultipleLines, dtype: int64\n"
     ]
    },
    {
     "data": {
      "text/plain": [
       "No                  48.14\n",
       "Yes                 42.19\n",
       "No phone service     9.67\n",
       "Name: MultipleLines, dtype: float64"
      ]
     },
     "execution_count": 27,
     "metadata": {},
     "output_type": "execute_result"
    }
   ],
   "source": [
    "plt.figure(figsize=(15,6))\n",
    "\n",
    "plt.subplot(1,2,1)\n",
    "sns.countplot(df1['MultipleLines'], palette='Pastel1')\n",
    "plt.title('MultipleLines count', fontsize=15)\n",
    "plt.xlabel('MultipleLines', fontsize=12)\n",
    "plt.ylabel('count', fontsize=12)\n",
    "\n",
    "\n",
    "plt.subplot(1,2,2)\n",
    "sns.countplot(df1['MultipleLines'], hue= df1['Churn'],palette='Paired')\n",
    "plt.title('Churn based on MultipleLines', fontsize=15)\n",
    "plt.xlabel('MultipleLines', fontsize=12)\n",
    "plt.ylabel('count', fontsize=12)\n",
    "\n",
    "plt.show()\n",
    "\n",
    "print(df1['MultipleLines'].value_counts())\n",
    "\n",
    "round(100*(df1['MultipleLines'].value_counts()/len(df1['MultipleLines'])),2)"
   ]
  },
  {
   "cell_type": "markdown",
   "id": "2e5960d8",
   "metadata": {},
   "source": [
    "### Observations"
   ]
  },
  {
   "cell_type": "markdown",
   "id": "01c9a6a7",
   "metadata": {},
   "source": [
    "* We have more records for no multiplelines(3385 rows)\n",
    "* Among all the three categories customers with multiple lines have more churn percentage."
   ]
  },
  {
   "cell_type": "code",
   "execution_count": 28,
   "id": "0ab9d7fa",
   "metadata": {},
   "outputs": [
    {
     "data": {
      "image/png": "[encoded data removed]",
      "text/plain": [
       "<Figure size 1080x432 with 2 Axes>"
      ]
     },
     "metadata": {
      "needs_background": "light"
     },
     "output_type": "display_data"
    },
    {
     "name": "stdout",
     "output_type": "stream",
     "text": [
      "Fiber optic    3096\n",
      "DSL            2416\n",
      "No             1520\n",
      "Name: InternetService, dtype: int64\n"
     ]
    },
    {
     "data": {
      "text/plain": [
       "Fiber optic    44.03\n",
       "DSL            34.36\n",
       "No             21.62\n",
       "Name: InternetService, dtype: float64"
      ]
     },
     "execution_count": 28,
     "metadata": {},
     "output_type": "execute_result"
    }
   ],
   "source": [
    "plt.figure(figsize=(15,6))\n",
    "\n",
    "plt.subplot(1,2,1)\n",
    "sns.countplot(df1['InternetService'], palette='cividis')\n",
    "plt.title('InternetService count', fontsize=15)\n",
    "plt.xlabel('InternetService', fontsize=12)\n",
    "plt.ylabel('count', fontsize=12)\n",
    "\n",
    "\n",
    "plt.subplot(1,2,2)\n",
    "sns.countplot(df1['InternetService'], hue= df1['Churn'],palette='Set1')\n",
    "plt.title('Churn based on InternetService', fontsize=15)\n",
    "plt.xlabel('InternetService', fontsize=12)\n",
    "plt.ylabel('count', fontsize=12)\n",
    "\n",
    "plt.show()\n",
    "\n",
    "print(df1['InternetService'].value_counts())\n",
    "\n",
    "round(100*(df1['InternetService'].value_counts()/len(df1['InternetService'])),2)"
   ]
  },
  {
   "cell_type": "markdown",
   "id": "d780e02d",
   "metadata": {},
   "source": [
    "### Observations"
   ]
  },
  {
   "cell_type": "markdown",
   "id": "b5372c16",
   "metadata": {},
   "source": [
    "* In the dataset we have more of customers with Fiber optic internet(3096 records) followed up by DSL type(2416 records) internet service and least records of customers with no internet service(1520 records)\n",
    "* Among all three categories Fibre optic internet service customers has high churn percentage.\n",
    "* Among 3096 FIbre optic customers around 1350 cutomers have churned. That is almost 50% of Fibre optic customers churned."
   ]
  },
  {
   "cell_type": "code",
   "execution_count": 29,
   "id": "df58f3a4",
   "metadata": {},
   "outputs": [
    {
     "data": {
      "image/png": "[encoded data removed]",
      "text/plain": [
       "<Figure size 1080x432 with 2 Axes>"
      ]
     },
     "metadata": {
      "needs_background": "light"
     },
     "output_type": "display_data"
    },
    {
     "name": "stdout",
     "output_type": "stream",
     "text": [
      "No                     3497\n",
      "Yes                    2015\n",
      "No internet service    1520\n",
      "Name: OnlineSecurity, dtype: int64\n"
     ]
    },
    {
     "data": {
      "text/plain": [
       "No                     49.73\n",
       "Yes                    28.65\n",
       "No internet service    21.62\n",
       "Name: OnlineSecurity, dtype: float64"
      ]
     },
     "execution_count": 29,
     "metadata": {},
     "output_type": "execute_result"
    }
   ],
   "source": [
    "plt.figure(figsize=(15,6))\n",
    "\n",
    "plt.subplot(1,2,1)\n",
    "sns.countplot(df1['OnlineSecurity'], palette='Set2')\n",
    "plt.title('OnlineSecurity count', fontsize=15)\n",
    "plt.xlabel('OnlineSecurity', fontsize=12)\n",
    "plt.ylabel('count', fontsize=12)\n",
    "\n",
    "\n",
    "plt.subplot(1,2,2)\n",
    "sns.countplot(df1['OnlineSecurity'], hue= df1['Churn'],palette='Set3_r')\n",
    "plt.title('Churn based on OnlineSecurity', fontsize=15)\n",
    "plt.xlabel('OnlineSecurity', fontsize=12)\n",
    "plt.ylabel('count', fontsize=12)\n",
    "\n",
    "plt.show()\n",
    "\n",
    "print(df1['OnlineSecurity'].value_counts())\n",
    "\n",
    "round(100*(df1['OnlineSecurity'].value_counts()/len(df1['OnlineSecurity'])),2)"
   ]
  },
  {
   "cell_type": "markdown",
   "id": "d614dafc",
   "metadata": {},
   "source": [
    "### Observations"
   ]
  },
  {
   "cell_type": "markdown",
   "id": "09b5ef74",
   "metadata": {},
   "source": [
    "* 49.73%(3497 records) customers have no Online security and 28.65%(2015 records) customers have Online security and 21.62% have not taken internet service.\n",
    "* As we can see above customers with no Onlinesecurity has high churn percenatge among others.\n",
    "* Almost 50% of customers have churned among customers with no online security."
   ]
  },
  {
   "cell_type": "code",
   "execution_count": 193,
   "id": "eff69224",
   "metadata": {},
   "outputs": [
    {
     "data": {
      "image/png": "[encoded data removed]",
      "text/plain": [
       "<Figure size 1080x432 with 2 Axes>"
      ]
     },
     "metadata": {},
     "output_type": "display_data"
    },
    {
     "name": "stdout",
     "output_type": "stream",
     "text": [
      "No                     3472\n",
      "Yes                    2040\n",
      "No internet service    1520\n",
      "Name: TechSupport, dtype: int64\n"
     ]
    },
    {
     "data": {
      "text/plain": [
       "No                     49.37\n",
       "Yes                    29.01\n",
       "No internet service    21.62\n",
       "Name: TechSupport, dtype: float64"
      ]
     },
     "execution_count": 193,
     "metadata": {},
     "output_type": "execute_result"
    }
   ],
   "source": [
    "plt.figure(figsize=(15,6))\n",
    "\n",
    "plt.subplot(1,2,1)\n",
    "sns.countplot(df1['TechSupport'], palette='Set3')\n",
    "plt.title('TechSupport count', fontsize=15)\n",
    "plt.xlabel('TechSupport', fontsize=12)\n",
    "plt.ylabel('count', fontsize=12)\n",
    "\n",
    "\n",
    "plt.subplot(1,2,2)\n",
    "sns.countplot(df1['TechSupport'], hue= df1['Churn'],palette='Set2_r')\n",
    "plt.title('Churn based on TechSupport', fontsize=15)\n",
    "plt.xlabel('TechSupport', fontsize=12)\n",
    "plt.ylabel('count', fontsize=12)\n",
    "\n",
    "plt.show()\n",
    "\n",
    "print(df1['TechSupport'].value_counts())\n",
    "\n",
    "round(100*(df1['TechSupport'].value_counts()/len(df1['TechSupport'])),2)"
   ]
  },
  {
   "cell_type": "markdown",
   "id": "3a19c1e1",
   "metadata": {},
   "source": [
    "### Observations"
   ]
  },
  {
   "cell_type": "markdown",
   "id": "82ca4eb8",
   "metadata": {},
   "source": [
    "* According toour dataset 49.37 percent are not getting tech support and 29.01 percent customers gettng tech support and 21.62 customers dont have internet service.\n",
    "* Majority of customers are not getting Tech support.\n",
    "* The churn percentage is more where customers are not getting Tech Support comapred to others."
   ]
  },
  {
   "cell_type": "code",
   "execution_count": 197,
   "id": "a76d1129",
   "metadata": {},
   "outputs": [
    {
     "data": {
      "image/png": "[encoded data removed]",
      "text/plain": [
       "<Figure size 1080x432 with 2 Axes>"
      ]
     },
     "metadata": {},
     "output_type": "display_data"
    },
    {
     "name": "stdout",
     "output_type": "stream",
     "text": [
      "No                     3094\n",
      "Yes                    2418\n",
      "No internet service    1520\n",
      "Name: DeviceProtection, dtype: int64\n"
     ]
    },
    {
     "data": {
      "text/plain": [
       "No                     44.00\n",
       "Yes                    34.39\n",
       "No internet service    21.62\n",
       "Name: DeviceProtection, dtype: float64"
      ]
     },
     "execution_count": 197,
     "metadata": {},
     "output_type": "execute_result"
    }
   ],
   "source": [
    "plt.figure(figsize=(15,6))\n",
    "\n",
    "plt.subplot(1,2,1)\n",
    "sns.countplot(df1['DeviceProtection'], palette='turbo')\n",
    "plt.title('DeviceProtection count', fontsize=15)\n",
    "plt.xlabel('DeviceProtection', fontsize=12)\n",
    "plt.ylabel('count', fontsize=12)\n",
    "\n",
    "\n",
    "plt.subplot(1,2,2)\n",
    "sns.countplot(df1['DeviceProtection'], hue= df1['Churn'],palette='icefire_r')\n",
    "plt.title('Churn based on DeviceProtection', fontsize=15)\n",
    "plt.xlabel('DeviceProtection', fontsize=12)\n",
    "plt.ylabel('count', fontsize=12)\n",
    "\n",
    "plt.show()\n",
    "\n",
    "print(df1['DeviceProtection'].value_counts())\n",
    "\n",
    "round(100*(df1['DeviceProtection'].value_counts()/len(df1['DeviceProtection'])),2)"
   ]
  },
  {
   "cell_type": "markdown",
   "id": "af46e4d0",
   "metadata": {},
   "source": [
    "### Observations"
   ]
  },
  {
   "cell_type": "markdown",
   "id": "6ccbeb33",
   "metadata": {},
   "source": [
    "* According to our dataset 44.00 percent are not getting Device Protection and 34.39 percent customers gettng DeviceProtection and 21.62 customers dont have internet service.\n",
    "* Majority of customers are not getting Device Protection.\n",
    "* The churn percentage is more where customers are not getting Device Protection comapred to others."
   ]
  },
  {
   "cell_type": "code",
   "execution_count": 201,
   "id": "01267a3d",
   "metadata": {},
   "outputs": [
    {
     "data": {
      "image/png": "[encoded data removed]",
      "text/plain": [
       "<Figure size 1080x432 with 2 Axes>"
      ]
     },
     "metadata": {},
     "output_type": "display_data"
    },
    {
     "name": "stdout",
     "output_type": "stream",
     "text": [
      "Month-to-month    3875\n",
      "Two year          1685\n",
      "One year          1472\n",
      "Name: Contract, dtype: int64\n"
     ]
    },
    {
     "data": {
      "text/plain": [
       "Month-to-month    55.11\n",
       "Two year          23.96\n",
       "One year          20.93\n",
       "Name: Contract, dtype: float64"
      ]
     },
     "execution_count": 201,
     "metadata": {},
     "output_type": "execute_result"
    }
   ],
   "source": [
    "plt.figure(figsize=(15,6))\n",
    "\n",
    "plt.subplot(1,2,1)\n",
    "sns.countplot(df1['Contract'], palette='Pastel1')\n",
    "plt.title('Contract count', fontsize=15)\n",
    "plt.xlabel('Contract', fontsize=12)\n",
    "plt.ylabel('count', fontsize=12)\n",
    "\n",
    "\n",
    "plt.subplot(1,2,2)\n",
    "sns.countplot(df1['Contract'], hue= df1['Churn'],palette='winter')\n",
    "plt.title('Churn based on Contract', fontsize=15)\n",
    "plt.xlabel('Contract', fontsize=12)\n",
    "plt.ylabel('count', fontsize=12)\n",
    "\n",
    "plt.show()\n",
    "\n",
    "print(df1['Contract'].value_counts())\n",
    "\n",
    "round(100*(df1['Contract'].value_counts()/len(df1['Contract'])),2)"
   ]
  },
  {
   "cell_type": "markdown",
   "id": "910e2822",
   "metadata": {},
   "source": [
    "### Observations"
   ]
  },
  {
   "cell_type": "markdown",
   "id": "c5178f09",
   "metadata": {},
   "source": [
    "* According to our dataset 55.11 percent of customers are having month-to-month contract , 23.96 percent customers are having two year contract and 20.93 percent are having one year contract.\n",
    "* Majority of ustomers are having mont to month contract.\n",
    "* Among the three types of customers the customers who are havaing monthly contract is churned more compare to others contract type customers."
   ]
  },
  {
   "cell_type": "code",
   "execution_count": 205,
   "id": "d5b82e0a",
   "metadata": {},
   "outputs": [
    {
     "data": {
      "image/png": "[encoded data removed]",
      "text/plain": [
       "<Figure size 1080x432 with 2 Axes>"
      ]
     },
     "metadata": {},
     "output_type": "display_data"
    },
    {
     "name": "stdout",
     "output_type": "stream",
     "text": [
      "Electronic check             2365\n",
      "Mailed check                 1604\n",
      "Bank transfer (automatic)    1542\n",
      "Credit card (automatic)      1521\n",
      "Name: PaymentMethod, dtype: int64\n"
     ]
    },
    {
     "data": {
      "text/plain": [
       "Electronic check             33.63\n",
       "Mailed check                 22.81\n",
       "Bank transfer (automatic)    21.93\n",
       "Credit card (automatic)      21.63\n",
       "Name: PaymentMethod, dtype: float64"
      ]
     },
     "execution_count": 205,
     "metadata": {},
     "output_type": "execute_result"
    }
   ],
   "source": [
    "plt.figure(figsize=(15,6))\n",
    "\n",
    "plt.subplot(1,2,1)\n",
    "sns.countplot(df1['PaymentMethod'], palette='gist_gray_r')\n",
    "plt.title('PaymentMethod count', fontsize=15)\n",
    "plt.xlabel('PaymentMethod', fontsize=12)\n",
    "plt.ylabel('count', fontsize=12)\n",
    "plt.xticks(fontsize=12,rotation=30)\n",
    "\n",
    "\n",
    "plt.subplot(1,2,2)\n",
    "sns.countplot(df1['PaymentMethod'], hue= df1['Churn'],palette='Greens')\n",
    "plt.title('Churn based on PaymentMethod', fontsize=15)\n",
    "plt.xlabel('PaymentMethod', fontsize=12)\n",
    "plt.ylabel('count', fontsize=12)\n",
    "plt.xticks(fontsize=12,rotation=30)\n",
    "\n",
    "plt.show()\n",
    "\n",
    "print(df1['PaymentMethod'].value_counts())\n",
    "\n",
    "round(100*(df1['PaymentMethod'].value_counts()/len(df1['PaymentMethod'])),2)"
   ]
  },
  {
   "cell_type": "markdown",
   "id": "b246720f",
   "metadata": {},
   "source": [
    "### Observations"
   ]
  },
  {
   "cell_type": "markdown",
   "id": "698b2e78",
   "metadata": {},
   "source": [
    "* The company is providing 4 types of payment methods Electronic check, Mailed check, Bank transfer (automatic) and Credit card (automatic)\n",
    "* The majority of customers have done payments through Electronic check.\n",
    "* 33.63 percent customers have done through Electronic check and 22.81 percent have done through Mailed check and 21.93 and 21.63 percent customers have done payments through Bank transfer (automatic) and  Credit card (automatic)  respectively\n",
    "* the churn percenatge is very high in electronic check payment method among others."
   ]
  },
  {
   "cell_type": "markdown",
   "id": "f3a4387d",
   "metadata": {},
   "source": [
    "# Describing Dataset"
   ]
  },
  {
   "cell_type": "code",
   "execution_count": 30,
   "id": "b5fef65d",
   "metadata": {},
   "outputs": [
    {
     "data": {
      "text/html": [
       "<div>\n",
       "<style scoped>\n",
       "    .dataframe tbody tr th:only-of-type {\n",
       "        vertical-align: middle;\n",
       "    }\n",
       "\n",
       "    .dataframe tbody tr th {\n",
       "        vertical-align: top;\n",
       "    }\n",
       "\n",
       "    .dataframe thead th {\n",
       "        text-align: right;\n",
       "    }\n",
       "</style>\n",
       "<table border=\"1\" class=\"dataframe\">\n",
       "  <thead>\n",
       "    <tr style=\"text-align: right;\">\n",
       "      <th></th>\n",
       "      <th>count</th>\n",
       "      <th>unique</th>\n",
       "      <th>top</th>\n",
       "      <th>freq</th>\n",
       "      <th>mean</th>\n",
       "      <th>std</th>\n",
       "      <th>min</th>\n",
       "      <th>25%</th>\n",
       "      <th>50%</th>\n",
       "      <th>75%</th>\n",
       "      <th>max</th>\n",
       "    </tr>\n",
       "  </thead>\n",
       "  <tbody>\n",
       "    <tr>\n",
       "      <th>customerID</th>\n",
       "      <td>7032</td>\n",
       "      <td>7032</td>\n",
       "      <td>7590-VHVEG</td>\n",
       "      <td>1</td>\n",
       "      <td>NaN</td>\n",
       "      <td>NaN</td>\n",
       "      <td>NaN</td>\n",
       "      <td>NaN</td>\n",
       "      <td>NaN</td>\n",
       "      <td>NaN</td>\n",
       "      <td>NaN</td>\n",
       "    </tr>\n",
       "    <tr>\n",
       "      <th>gender</th>\n",
       "      <td>7032</td>\n",
       "      <td>2</td>\n",
       "      <td>Male</td>\n",
       "      <td>3549</td>\n",
       "      <td>NaN</td>\n",
       "      <td>NaN</td>\n",
       "      <td>NaN</td>\n",
       "      <td>NaN</td>\n",
       "      <td>NaN</td>\n",
       "      <td>NaN</td>\n",
       "      <td>NaN</td>\n",
       "    </tr>\n",
       "    <tr>\n",
       "      <th>SeniorCitizen</th>\n",
       "      <td>7032.0</td>\n",
       "      <td>NaN</td>\n",
       "      <td>NaN</td>\n",
       "      <td>NaN</td>\n",
       "      <td>0.1624</td>\n",
       "      <td>0.368844</td>\n",
       "      <td>0.0</td>\n",
       "      <td>0.0</td>\n",
       "      <td>0.0</td>\n",
       "      <td>0.0</td>\n",
       "      <td>1.0</td>\n",
       "    </tr>\n",
       "    <tr>\n",
       "      <th>Partner</th>\n",
       "      <td>7032</td>\n",
       "      <td>2</td>\n",
       "      <td>No</td>\n",
       "      <td>3639</td>\n",
       "      <td>NaN</td>\n",
       "      <td>NaN</td>\n",
       "      <td>NaN</td>\n",
       "      <td>NaN</td>\n",
       "      <td>NaN</td>\n",
       "      <td>NaN</td>\n",
       "      <td>NaN</td>\n",
       "    </tr>\n",
       "    <tr>\n",
       "      <th>Dependents</th>\n",
       "      <td>7032</td>\n",
       "      <td>2</td>\n",
       "      <td>No</td>\n",
       "      <td>4933</td>\n",
       "      <td>NaN</td>\n",
       "      <td>NaN</td>\n",
       "      <td>NaN</td>\n",
       "      <td>NaN</td>\n",
       "      <td>NaN</td>\n",
       "      <td>NaN</td>\n",
       "      <td>NaN</td>\n",
       "    </tr>\n",
       "    <tr>\n",
       "      <th>tenure</th>\n",
       "      <td>7032.0</td>\n",
       "      <td>NaN</td>\n",
       "      <td>NaN</td>\n",
       "      <td>NaN</td>\n",
       "      <td>32.421786</td>\n",
       "      <td>24.54526</td>\n",
       "      <td>1.0</td>\n",
       "      <td>9.0</td>\n",
       "      <td>29.0</td>\n",
       "      <td>55.0</td>\n",
       "      <td>72.0</td>\n",
       "    </tr>\n",
       "    <tr>\n",
       "      <th>PhoneService</th>\n",
       "      <td>7032</td>\n",
       "      <td>2</td>\n",
       "      <td>Yes</td>\n",
       "      <td>6352</td>\n",
       "      <td>NaN</td>\n",
       "      <td>NaN</td>\n",
       "      <td>NaN</td>\n",
       "      <td>NaN</td>\n",
       "      <td>NaN</td>\n",
       "      <td>NaN</td>\n",
       "      <td>NaN</td>\n",
       "    </tr>\n",
       "    <tr>\n",
       "      <th>MultipleLines</th>\n",
       "      <td>7032</td>\n",
       "      <td>3</td>\n",
       "      <td>No</td>\n",
       "      <td>3385</td>\n",
       "      <td>NaN</td>\n",
       "      <td>NaN</td>\n",
       "      <td>NaN</td>\n",
       "      <td>NaN</td>\n",
       "      <td>NaN</td>\n",
       "      <td>NaN</td>\n",
       "      <td>NaN</td>\n",
       "    </tr>\n",
       "    <tr>\n",
       "      <th>InternetService</th>\n",
       "      <td>7032</td>\n",
       "      <td>3</td>\n",
       "      <td>Fiber optic</td>\n",
       "      <td>3096</td>\n",
       "      <td>NaN</td>\n",
       "      <td>NaN</td>\n",
       "      <td>NaN</td>\n",
       "      <td>NaN</td>\n",
       "      <td>NaN</td>\n",
       "      <td>NaN</td>\n",
       "      <td>NaN</td>\n",
       "    </tr>\n",
       "    <tr>\n",
       "      <th>OnlineSecurity</th>\n",
       "      <td>7032</td>\n",
       "      <td>3</td>\n",
       "      <td>No</td>\n",
       "      <td>3497</td>\n",
       "      <td>NaN</td>\n",
       "      <td>NaN</td>\n",
       "      <td>NaN</td>\n",
       "      <td>NaN</td>\n",
       "      <td>NaN</td>\n",
       "      <td>NaN</td>\n",
       "      <td>NaN</td>\n",
       "    </tr>\n",
       "    <tr>\n",
       "      <th>OnlineBackup</th>\n",
       "      <td>7032</td>\n",
       "      <td>3</td>\n",
       "      <td>No</td>\n",
       "      <td>3087</td>\n",
       "      <td>NaN</td>\n",
       "      <td>NaN</td>\n",
       "      <td>NaN</td>\n",
       "      <td>NaN</td>\n",
       "      <td>NaN</td>\n",
       "      <td>NaN</td>\n",
       "      <td>NaN</td>\n",
       "    </tr>\n",
       "    <tr>\n",
       "      <th>DeviceProtection</th>\n",
       "      <td>7032</td>\n",
       "      <td>3</td>\n",
       "      <td>No</td>\n",
       "      <td>3094</td>\n",
       "      <td>NaN</td>\n",
       "      <td>NaN</td>\n",
       "      <td>NaN</td>\n",
       "      <td>NaN</td>\n",
       "      <td>NaN</td>\n",
       "      <td>NaN</td>\n",
       "      <td>NaN</td>\n",
       "    </tr>\n",
       "    <tr>\n",
       "      <th>TechSupport</th>\n",
       "      <td>7032</td>\n",
       "      <td>3</td>\n",
       "      <td>No</td>\n",
       "      <td>3472</td>\n",
       "      <td>NaN</td>\n",
       "      <td>NaN</td>\n",
       "      <td>NaN</td>\n",
       "      <td>NaN</td>\n",
       "      <td>NaN</td>\n",
       "      <td>NaN</td>\n",
       "      <td>NaN</td>\n",
       "    </tr>\n",
       "    <tr>\n",
       "      <th>StreamingTV</th>\n",
       "      <td>7032</td>\n",
       "      <td>3</td>\n",
       "      <td>No</td>\n",
       "      <td>2809</td>\n",
       "      <td>NaN</td>\n",
       "      <td>NaN</td>\n",
       "      <td>NaN</td>\n",
       "      <td>NaN</td>\n",
       "      <td>NaN</td>\n",
       "      <td>NaN</td>\n",
       "      <td>NaN</td>\n",
       "    </tr>\n",
       "    <tr>\n",
       "      <th>StreamingMovies</th>\n",
       "      <td>7032</td>\n",
       "      <td>3</td>\n",
       "      <td>No</td>\n",
       "      <td>2781</td>\n",
       "      <td>NaN</td>\n",
       "      <td>NaN</td>\n",
       "      <td>NaN</td>\n",
       "      <td>NaN</td>\n",
       "      <td>NaN</td>\n",
       "      <td>NaN</td>\n",
       "      <td>NaN</td>\n",
       "    </tr>\n",
       "    <tr>\n",
       "      <th>Contract</th>\n",
       "      <td>7032</td>\n",
       "      <td>3</td>\n",
       "      <td>Month-to-month</td>\n",
       "      <td>3875</td>\n",
       "      <td>NaN</td>\n",
       "      <td>NaN</td>\n",
       "      <td>NaN</td>\n",
       "      <td>NaN</td>\n",
       "      <td>NaN</td>\n",
       "      <td>NaN</td>\n",
       "      <td>NaN</td>\n",
       "    </tr>\n",
       "    <tr>\n",
       "      <th>PaperlessBilling</th>\n",
       "      <td>7032</td>\n",
       "      <td>2</td>\n",
       "      <td>Yes</td>\n",
       "      <td>4168</td>\n",
       "      <td>NaN</td>\n",
       "      <td>NaN</td>\n",
       "      <td>NaN</td>\n",
       "      <td>NaN</td>\n",
       "      <td>NaN</td>\n",
       "      <td>NaN</td>\n",
       "      <td>NaN</td>\n",
       "    </tr>\n",
       "    <tr>\n",
       "      <th>PaymentMethod</th>\n",
       "      <td>7032</td>\n",
       "      <td>4</td>\n",
       "      <td>Electronic check</td>\n",
       "      <td>2365</td>\n",
       "      <td>NaN</td>\n",
       "      <td>NaN</td>\n",
       "      <td>NaN</td>\n",
       "      <td>NaN</td>\n",
       "      <td>NaN</td>\n",
       "      <td>NaN</td>\n",
       "      <td>NaN</td>\n",
       "    </tr>\n",
       "    <tr>\n",
       "      <th>MonthlyCharges</th>\n",
       "      <td>7032.0</td>\n",
       "      <td>NaN</td>\n",
       "      <td>NaN</td>\n",
       "      <td>NaN</td>\n",
       "      <td>64.798208</td>\n",
       "      <td>30.085974</td>\n",
       "      <td>18.25</td>\n",
       "      <td>35.5875</td>\n",
       "      <td>70.35</td>\n",
       "      <td>89.8625</td>\n",
       "      <td>118.75</td>\n",
       "    </tr>\n",
       "    <tr>\n",
       "      <th>TotalCharges</th>\n",
       "      <td>7032.0</td>\n",
       "      <td>NaN</td>\n",
       "      <td>NaN</td>\n",
       "      <td>NaN</td>\n",
       "      <td>2283.300441</td>\n",
       "      <td>2266.771362</td>\n",
       "      <td>18.8</td>\n",
       "      <td>401.45</td>\n",
       "      <td>1397.475</td>\n",
       "      <td>3794.7375</td>\n",
       "      <td>8684.8</td>\n",
       "    </tr>\n",
       "    <tr>\n",
       "      <th>Churn</th>\n",
       "      <td>7032</td>\n",
       "      <td>2</td>\n",
       "      <td>No</td>\n",
       "      <td>5163</td>\n",
       "      <td>NaN</td>\n",
       "      <td>NaN</td>\n",
       "      <td>NaN</td>\n",
       "      <td>NaN</td>\n",
       "      <td>NaN</td>\n",
       "      <td>NaN</td>\n",
       "      <td>NaN</td>\n",
       "    </tr>\n",
       "  </tbody>\n",
       "</table>\n",
       "</div>"
      ],
      "text/plain": [
       "                   count unique               top  freq         mean  \\\n",
       "customerID          7032   7032        7590-VHVEG     1          NaN   \n",
       "gender              7032      2              Male  3549          NaN   \n",
       "SeniorCitizen     7032.0    NaN               NaN   NaN       0.1624   \n",
       "Partner             7032      2                No  3639          NaN   \n",
       "Dependents          7032      2                No  4933          NaN   \n",
       "tenure            7032.0    NaN               NaN   NaN    32.421786   \n",
       "PhoneService        7032      2               Yes  6352          NaN   \n",
       "MultipleLines       7032      3                No  3385          NaN   \n",
       "InternetService     7032      3       Fiber optic  3096          NaN   \n",
       "OnlineSecurity      7032      3                No  3497          NaN   \n",
       "OnlineBackup        7032      3                No  3087          NaN   \n",
       "DeviceProtection    7032      3                No  3094          NaN   \n",
       "TechSupport         7032      3                No  3472          NaN   \n",
       "StreamingTV         7032      3                No  2809          NaN   \n",
       "StreamingMovies     7032      3                No  2781          NaN   \n",
       "Contract            7032      3    Month-to-month  3875          NaN   \n",
       "PaperlessBilling    7032      2               Yes  4168          NaN   \n",
       "PaymentMethod       7032      4  Electronic check  2365          NaN   \n",
       "MonthlyCharges    7032.0    NaN               NaN   NaN    64.798208   \n",
       "TotalCharges      7032.0    NaN               NaN   NaN  2283.300441   \n",
       "Churn               7032      2                No  5163          NaN   \n",
       "\n",
       "                          std    min      25%       50%        75%     max  \n",
       "customerID                NaN    NaN      NaN       NaN        NaN     NaN  \n",
       "gender                    NaN    NaN      NaN       NaN        NaN     NaN  \n",
       "SeniorCitizen        0.368844    0.0      0.0       0.0        0.0     1.0  \n",
       "Partner                   NaN    NaN      NaN       NaN        NaN     NaN  \n",
       "Dependents                NaN    NaN      NaN       NaN        NaN     NaN  \n",
       "tenure               24.54526    1.0      9.0      29.0       55.0    72.0  \n",
       "PhoneService              NaN    NaN      NaN       NaN        NaN     NaN  \n",
       "MultipleLines             NaN    NaN      NaN       NaN        NaN     NaN  \n",
       "InternetService           NaN    NaN      NaN       NaN        NaN     NaN  \n",
       "OnlineSecurity            NaN    NaN      NaN       NaN        NaN     NaN  \n",
       "OnlineBackup              NaN    NaN      NaN       NaN        NaN     NaN  \n",
       "DeviceProtection          NaN    NaN      NaN       NaN        NaN     NaN  \n",
       "TechSupport               NaN    NaN      NaN       NaN        NaN     NaN  \n",
       "StreamingTV               NaN    NaN      NaN       NaN        NaN     NaN  \n",
       "StreamingMovies           NaN    NaN      NaN       NaN        NaN     NaN  \n",
       "Contract                  NaN    NaN      NaN       NaN        NaN     NaN  \n",
       "PaperlessBilling          NaN    NaN      NaN       NaN        NaN     NaN  \n",
       "PaymentMethod             NaN    NaN      NaN       NaN        NaN     NaN  \n",
       "MonthlyCharges      30.085974  18.25  35.5875     70.35    89.8625  118.75  \n",
       "TotalCharges      2266.771362   18.8   401.45  1397.475  3794.7375  8684.8  \n",
       "Churn                     NaN    NaN      NaN       NaN        NaN     NaN  "
      ]
     },
     "execution_count": 30,
     "metadata": {},
     "output_type": "execute_result"
    }
   ],
   "source": [
    "df1.describe(include='all').T"
   ]
  },
  {
   "cell_type": "markdown",
   "id": "8713a770",
   "metadata": {},
   "source": [
    "# Correlation"
   ]
  },
  {
   "cell_type": "code",
   "execution_count": 31,
   "id": "559e2506",
   "metadata": {},
   "outputs": [
    {
     "data": {
      "text/html": [
       "<div>\n",
       "<style scoped>\n",
       "    .dataframe tbody tr th:only-of-type {\n",
       "        vertical-align: middle;\n",
       "    }\n",
       "\n",
       "    .dataframe tbody tr th {\n",
       "        vertical-align: top;\n",
       "    }\n",
       "\n",
       "    .dataframe thead th {\n",
       "        text-align: right;\n",
       "    }\n",
       "</style>\n",
       "<table border=\"1\" class=\"dataframe\">\n",
       "  <thead>\n",
       "    <tr style=\"text-align: right;\">\n",
       "      <th></th>\n",
       "      <th>SeniorCitizen</th>\n",
       "      <th>tenure</th>\n",
       "      <th>MonthlyCharges</th>\n",
       "      <th>TotalCharges</th>\n",
       "    </tr>\n",
       "  </thead>\n",
       "  <tbody>\n",
       "    <tr>\n",
       "      <th>SeniorCitizen</th>\n",
       "      <td>1.000000</td>\n",
       "      <td>0.015683</td>\n",
       "      <td>0.219874</td>\n",
       "      <td>0.102411</td>\n",
       "    </tr>\n",
       "    <tr>\n",
       "      <th>tenure</th>\n",
       "      <td>0.015683</td>\n",
       "      <td>1.000000</td>\n",
       "      <td>0.246862</td>\n",
       "      <td>0.825880</td>\n",
       "    </tr>\n",
       "    <tr>\n",
       "      <th>MonthlyCharges</th>\n",
       "      <td>0.219874</td>\n",
       "      <td>0.246862</td>\n",
       "      <td>1.000000</td>\n",
       "      <td>0.651065</td>\n",
       "    </tr>\n",
       "    <tr>\n",
       "      <th>TotalCharges</th>\n",
       "      <td>0.102411</td>\n",
       "      <td>0.825880</td>\n",
       "      <td>0.651065</td>\n",
       "      <td>1.000000</td>\n",
       "    </tr>\n",
       "  </tbody>\n",
       "</table>\n",
       "</div>"
      ],
      "text/plain": [
       "                SeniorCitizen    tenure  MonthlyCharges  TotalCharges\n",
       "SeniorCitizen        1.000000  0.015683        0.219874      0.102411\n",
       "tenure               0.015683  1.000000        0.246862      0.825880\n",
       "MonthlyCharges       0.219874  0.246862        1.000000      0.651065\n",
       "TotalCharges         0.102411  0.825880        0.651065      1.000000"
      ]
     },
     "execution_count": 31,
     "metadata": {},
     "output_type": "execute_result"
    }
   ],
   "source": [
    "df1.corr()"
   ]
  },
  {
   "cell_type": "code",
   "execution_count": 32,
   "id": "093fbfdd",
   "metadata": {},
   "outputs": [
    {
     "data": {
      "image/png": "[encoded data removed]",
      "text/plain": [
       "<Figure size 1080x432 with 2 Axes>"
      ]
     },
     "metadata": {
      "needs_background": "light"
     },
     "output_type": "display_data"
    }
   ],
   "source": [
    "#df.corr() using heatmap\n",
    "plt.figure(figsize=(15,6))\n",
    "sns.heatmap(df1.corr(),linewidth='0.5',linecolor='black',annot=True, annot_kws={'size': 12})\n",
    "plt.title('Correlation between columns', size=28)\n",
    "plt.xticks(size=14)\n",
    "plt.yticks(size=14,rotation=360)\n",
    "plt.show()"
   ]
  },
  {
   "cell_type": "markdown",
   "id": "e958af44",
   "metadata": {},
   "source": [
    "### Observations"
   ]
  },
  {
   "cell_type": "markdown",
   "id": "1732df43",
   "metadata": {},
   "source": [
    "* there is 83 percent correlation between tenure and TotalCharges which is highest compared to others.\n",
    "* monthlycharges and TotalChrages are 65 percent positively correlated with each other.\n",
    "* There might be isuue of multicolinearity between the features."
   ]
  },
  {
   "cell_type": "markdown",
   "id": "131b0a36",
   "metadata": {},
   "source": [
    "# Checking outliers"
   ]
  },
  {
   "cell_type": "code",
   "execution_count": 33,
   "id": "63ace85d",
   "metadata": {},
   "outputs": [
    {
     "data": {
      "image/png": "[encoded data removed]",
      "text/plain": [
       "<Figure size 1080x576 with 4 Axes>"
      ]
     },
     "metadata": {
      "needs_background": "light"
     },
     "output_type": "display_data"
    }
   ],
   "source": [
    "list_col=['SeniorCitizen', 'tenure', 'MonthlyCharges', 'TotalCharges']\n",
    "df1.plot(kind='box',title=list_col, subplots=True, layout=(2,2), legend= True, fontsize=1, figsize=(15,8), color='blue')\n",
    "plt.show()"
   ]
  },
  {
   "cell_type": "markdown",
   "id": "dd86b0e4",
   "metadata": {},
   "source": [
    "### Observations"
   ]
  },
  {
   "cell_type": "markdown",
   "id": "7e19db4d",
   "metadata": {},
   "source": [
    "* There are no outliers present"
   ]
  },
  {
   "cell_type": "markdown",
   "id": "d3258e6f",
   "metadata": {},
   "source": [
    "# Skewness"
   ]
  },
  {
   "cell_type": "code",
   "execution_count": 34,
   "id": "77e206b7",
   "metadata": {},
   "outputs": [
    {
     "data": {
      "text/plain": [
       "SeniorCitizen     1.831103\n",
       "tenure            0.237731\n",
       "MonthlyCharges   -0.222103\n",
       "TotalCharges      0.961642\n",
       "dtype: float64"
      ]
     },
     "execution_count": 34,
     "metadata": {},
     "output_type": "execute_result"
    }
   ],
   "source": [
    "df1.skew()"
   ]
  },
  {
   "cell_type": "code",
   "execution_count": 35,
   "id": "54ccce87",
   "metadata": {},
   "outputs": [
    {
     "data": {
      "image/png": "[encoded data removed]",
      "text/plain": [
       "<Figure size 1080x1080 with 15 Axes>"
      ]
     },
     "metadata": {},
     "output_type": "display_data"
    }
   ],
   "source": [
    "#vizualizing skewness\n",
    "plt.rcParams['figure.facecolor']='pink'\n",
    "df1.plot(kind='kde', subplots=True, layout=(5,3), sharex= False, legend= True, fontsize=1, figsize=(15,15))\n",
    "plt.show()"
   ]
  },
  {
   "cell_type": "markdown",
   "id": "b8709e7a",
   "metadata": {},
   "source": [
    "### Observations"
   ]
  },
  {
   "cell_type": "markdown",
   "id": "4f92853b",
   "metadata": {},
   "source": [
    "* There is skewness in tenure, monthly charges and total charges.\n",
    "* we cant consider senior citizen column for because it is categorical type"
   ]
  },
  {
   "cell_type": "markdown",
   "id": "9d652c26",
   "metadata": {},
   "source": [
    "# Findings(insights)"
   ]
  },
  {
   "cell_type": "markdown",
   "id": "3fd6b24b",
   "metadata": {},
   "source": [
    "* gender , phone service avialibility and multi lines doest not impacting on churn\n",
    "* high churn is seen in first 5 months of tenure.\n",
    "* The customers are churned more where there is no onlineprotection, no  deviceprotection and no tech sup[port is given.\n",
    "* The customers who are having month to month contract is more likely to churn.\n",
    "* Electronic check payment customers are churning more so other payment meathods must be done user friendly.                                                                                                          "
   ]
  },
  {
   "cell_type": "markdown",
   "id": "5d5b46a3",
   "metadata": {},
   "source": [
    "# Data Preprocessing"
   ]
  },
  {
   "cell_type": "markdown",
   "id": "76d7ed71",
   "metadata": {},
   "source": [
    "# Label Encoding"
   ]
  },
  {
   "cell_type": "code",
   "execution_count": 36,
   "id": "4c7a6d86",
   "metadata": {},
   "outputs": [
    {
     "data": {
      "text/html": [
       "<div>\n",
       "<style scoped>\n",
       "    .dataframe tbody tr th:only-of-type {\n",
       "        vertical-align: middle;\n",
       "    }\n",
       "\n",
       "    .dataframe tbody tr th {\n",
       "        vertical-align: top;\n",
       "    }\n",
       "\n",
       "    .dataframe thead th {\n",
       "        text-align: right;\n",
       "    }\n",
       "</style>\n",
       "<table border=\"1\" class=\"dataframe\">\n",
       "  <thead>\n",
       "    <tr style=\"text-align: right;\">\n",
       "      <th></th>\n",
       "      <th>customerID</th>\n",
       "      <th>gender</th>\n",
       "      <th>SeniorCitizen</th>\n",
       "      <th>Partner</th>\n",
       "      <th>Dependents</th>\n",
       "      <th>tenure</th>\n",
       "      <th>PhoneService</th>\n",
       "      <th>MultipleLines</th>\n",
       "      <th>InternetService</th>\n",
       "      <th>OnlineSecurity</th>\n",
       "      <th>...</th>\n",
       "      <th>DeviceProtection</th>\n",
       "      <th>TechSupport</th>\n",
       "      <th>StreamingTV</th>\n",
       "      <th>StreamingMovies</th>\n",
       "      <th>Contract</th>\n",
       "      <th>PaperlessBilling</th>\n",
       "      <th>PaymentMethod</th>\n",
       "      <th>MonthlyCharges</th>\n",
       "      <th>TotalCharges</th>\n",
       "      <th>Churn</th>\n",
       "    </tr>\n",
       "  </thead>\n",
       "  <tbody>\n",
       "    <tr>\n",
       "      <th>0</th>\n",
       "      <td>7590-VHVEG</td>\n",
       "      <td>Female</td>\n",
       "      <td>0</td>\n",
       "      <td>Yes</td>\n",
       "      <td>No</td>\n",
       "      <td>1</td>\n",
       "      <td>No</td>\n",
       "      <td>No phone service</td>\n",
       "      <td>DSL</td>\n",
       "      <td>No</td>\n",
       "      <td>...</td>\n",
       "      <td>No</td>\n",
       "      <td>No</td>\n",
       "      <td>No</td>\n",
       "      <td>No</td>\n",
       "      <td>Month-to-month</td>\n",
       "      <td>Yes</td>\n",
       "      <td>Electronic check</td>\n",
       "      <td>29.85</td>\n",
       "      <td>29.85</td>\n",
       "      <td>No</td>\n",
       "    </tr>\n",
       "    <tr>\n",
       "      <th>1</th>\n",
       "      <td>5575-GNVDE</td>\n",
       "      <td>Male</td>\n",
       "      <td>0</td>\n",
       "      <td>No</td>\n",
       "      <td>No</td>\n",
       "      <td>34</td>\n",
       "      <td>Yes</td>\n",
       "      <td>No</td>\n",
       "      <td>DSL</td>\n",
       "      <td>Yes</td>\n",
       "      <td>...</td>\n",
       "      <td>Yes</td>\n",
       "      <td>No</td>\n",
       "      <td>No</td>\n",
       "      <td>No</td>\n",
       "      <td>One year</td>\n",
       "      <td>No</td>\n",
       "      <td>Mailed check</td>\n",
       "      <td>56.95</td>\n",
       "      <td>1889.50</td>\n",
       "      <td>No</td>\n",
       "    </tr>\n",
       "    <tr>\n",
       "      <th>2</th>\n",
       "      <td>3668-QPYBK</td>\n",
       "      <td>Male</td>\n",
       "      <td>0</td>\n",
       "      <td>No</td>\n",
       "      <td>No</td>\n",
       "      <td>2</td>\n",
       "      <td>Yes</td>\n",
       "      <td>No</td>\n",
       "      <td>DSL</td>\n",
       "      <td>Yes</td>\n",
       "      <td>...</td>\n",
       "      <td>No</td>\n",
       "      <td>No</td>\n",
       "      <td>No</td>\n",
       "      <td>No</td>\n",
       "      <td>Month-to-month</td>\n",
       "      <td>Yes</td>\n",
       "      <td>Mailed check</td>\n",
       "      <td>53.85</td>\n",
       "      <td>108.15</td>\n",
       "      <td>Yes</td>\n",
       "    </tr>\n",
       "    <tr>\n",
       "      <th>3</th>\n",
       "      <td>7795-CFOCW</td>\n",
       "      <td>Male</td>\n",
       "      <td>0</td>\n",
       "      <td>No</td>\n",
       "      <td>No</td>\n",
       "      <td>45</td>\n",
       "      <td>No</td>\n",
       "      <td>No phone service</td>\n",
       "      <td>DSL</td>\n",
       "      <td>Yes</td>\n",
       "      <td>...</td>\n",
       "      <td>Yes</td>\n",
       "      <td>Yes</td>\n",
       "      <td>No</td>\n",
       "      <td>No</td>\n",
       "      <td>One year</td>\n",
       "      <td>No</td>\n",
       "      <td>Bank transfer (automatic)</td>\n",
       "      <td>42.30</td>\n",
       "      <td>1840.75</td>\n",
       "      <td>No</td>\n",
       "    </tr>\n",
       "    <tr>\n",
       "      <th>4</th>\n",
       "      <td>9237-HQITU</td>\n",
       "      <td>Female</td>\n",
       "      <td>0</td>\n",
       "      <td>No</td>\n",
       "      <td>No</td>\n",
       "      <td>2</td>\n",
       "      <td>Yes</td>\n",
       "      <td>No</td>\n",
       "      <td>Fiber optic</td>\n",
       "      <td>No</td>\n",
       "      <td>...</td>\n",
       "      <td>No</td>\n",
       "      <td>No</td>\n",
       "      <td>No</td>\n",
       "      <td>No</td>\n",
       "      <td>Month-to-month</td>\n",
       "      <td>Yes</td>\n",
       "      <td>Electronic check</td>\n",
       "      <td>70.70</td>\n",
       "      <td>151.65</td>\n",
       "      <td>Yes</td>\n",
       "    </tr>\n",
       "  </tbody>\n",
       "</table>\n",
       "<p>5 rows × 21 columns</p>\n",
       "</div>"
      ],
      "text/plain": [
       "   customerID  gender  SeniorCitizen Partner Dependents  tenure PhoneService  \\\n",
       "0  7590-VHVEG  Female              0     Yes         No       1           No   \n",
       "1  5575-GNVDE    Male              0      No         No      34          Yes   \n",
       "2  3668-QPYBK    Male              0      No         No       2          Yes   \n",
       "3  7795-CFOCW    Male              0      No         No      45           No   \n",
       "4  9237-HQITU  Female              0      No         No       2          Yes   \n",
       "\n",
       "      MultipleLines InternetService OnlineSecurity  ... DeviceProtection  \\\n",
       "0  No phone service             DSL             No  ...               No   \n",
       "1                No             DSL            Yes  ...              Yes   \n",
       "2                No             DSL            Yes  ...               No   \n",
       "3  No phone service             DSL            Yes  ...              Yes   \n",
       "4                No     Fiber optic             No  ...               No   \n",
       "\n",
       "  TechSupport StreamingTV StreamingMovies        Contract PaperlessBilling  \\\n",
       "0          No          No              No  Month-to-month              Yes   \n",
       "1          No          No              No        One year               No   \n",
       "2          No          No              No  Month-to-month              Yes   \n",
       "3         Yes          No              No        One year               No   \n",
       "4          No          No              No  Month-to-month              Yes   \n",
       "\n",
       "               PaymentMethod MonthlyCharges  TotalCharges  Churn  \n",
       "0           Electronic check          29.85         29.85     No  \n",
       "1               Mailed check          56.95       1889.50     No  \n",
       "2               Mailed check          53.85        108.15    Yes  \n",
       "3  Bank transfer (automatic)          42.30       1840.75     No  \n",
       "4           Electronic check          70.70        151.65    Yes  \n",
       "\n",
       "[5 rows x 21 columns]"
      ]
     },
     "execution_count": 36,
     "metadata": {},
     "output_type": "execute_result"
    }
   ],
   "source": [
    "df1.head()"
   ]
  },
  {
   "cell_type": "code",
   "execution_count": 37,
   "id": "078bcf83",
   "metadata": {},
   "outputs": [],
   "source": [
    "df2=df1.copy()\n",
    "df2.drop('customerID',axis=1,inplace=True)"
   ]
  },
  {
   "cell_type": "code",
   "execution_count": 38,
   "id": "6543b3be",
   "metadata": {},
   "outputs": [
    {
     "data": {
      "text/plain": [
       "Index(['gender', 'SeniorCitizen', 'Partner', 'Dependents', 'tenure',\n",
       "       'PhoneService', 'MultipleLines', 'InternetService', 'OnlineSecurity',\n",
       "       'OnlineBackup', 'DeviceProtection', 'TechSupport', 'StreamingTV',\n",
       "       'StreamingMovies', 'Contract', 'PaperlessBilling', 'PaymentMethod',\n",
       "       'MonthlyCharges', 'TotalCharges', 'Churn'],\n",
       "      dtype='object')"
      ]
     },
     "execution_count": 38,
     "metadata": {},
     "output_type": "execute_result"
    }
   ],
   "source": [
    "df2.columns"
   ]
  },
  {
   "cell_type": "code",
   "execution_count": 39,
   "id": "6c16434d",
   "metadata": {},
   "outputs": [],
   "source": [
    "# converting string into integer\n",
    "from sklearn.preprocessing import LabelEncoder\n",
    "\n",
    "#creating instance\n",
    "le=LabelEncoder()\n",
    "\n",
    "#training data\n",
    "le.fit(df2['gender'])\n",
    "#transforming data\n",
    "df2['gender']=le.transform(df2['gender'])\n",
    "\n",
    "le.fit(df2['Partner'])\n",
    "df2['Partner']=le.transform(df2['Partner'])\n",
    "\n",
    "le.fit(df2['Dependents'])\n",
    "df2['Dependents']=le.transform(df2['Dependents'])\n",
    "\n",
    "le.fit(df2['PhoneService'])\n",
    "df2['PhoneService']=le.transform(df2['PhoneService'])\n",
    "\n",
    "le.fit(df2['MultipleLines'])\n",
    "df2['MultipleLines']=le.transform(df2['MultipleLines'])\n",
    "\n",
    "le.fit(df2['InternetService'])\n",
    "df2['InternetService']=le.transform(df2['InternetService'])\n",
    "\n",
    "le.fit(df2['OnlineSecurity'])\n",
    "df2['OnlineSecurity']=le.transform(df2['OnlineSecurity'])\n",
    "\n",
    "le.fit(df2['OnlineBackup'])\n",
    "df2['OnlineBackup']=le.transform(df2['OnlineBackup'])\n",
    "\n",
    "le.fit(df2['DeviceProtection'])\n",
    "df2['DeviceProtection']=le.transform(df2['DeviceProtection'])\n",
    "\n",
    "le.fit(df2['TechSupport'])\n",
    "df2['TechSupport']=le.transform(df2['TechSupport'])\n",
    "\n",
    "le.fit(df2['StreamingTV'])\n",
    "df2['StreamingTV']=le.transform(df2['StreamingTV'])\n",
    "\n",
    "le.fit(df2['StreamingMovies'])\n",
    "df2['StreamingMovies']=le.transform(df2['StreamingMovies'])\n",
    "\n",
    "le.fit(df2['Contract'])\n",
    "df2['Contract']=le.transform(df2['Contract'])\n",
    "\n",
    "le.fit(df2['PaperlessBilling'])\n",
    "df2['PaperlessBilling']=le.transform(df2['PaperlessBilling'])\n",
    "\n",
    "le.fit(df2['PaymentMethod'])\n",
    "df2['PaymentMethod']=le.transform(df2['PaymentMethod'])\n",
    "\n",
    "le.fit(df2['Churn'])\n",
    "df2['Churn']=le.transform(df2['Churn'])"
   ]
  },
  {
   "cell_type": "code",
   "execution_count": 40,
   "id": "e99361f8",
   "metadata": {
    "scrolled": true
   },
   "outputs": [
    {
     "data": {
      "text/html": [
       "<div>\n",
       "<style scoped>\n",
       "    .dataframe tbody tr th:only-of-type {\n",
       "        vertical-align: middle;\n",
       "    }\n",
       "\n",
       "    .dataframe tbody tr th {\n",
       "        vertical-align: top;\n",
       "    }\n",
       "\n",
       "    .dataframe thead th {\n",
       "        text-align: right;\n",
       "    }\n",
       "</style>\n",
       "<table border=\"1\" class=\"dataframe\">\n",
       "  <thead>\n",
       "    <tr style=\"text-align: right;\">\n",
       "      <th></th>\n",
       "      <th>gender</th>\n",
       "      <th>SeniorCitizen</th>\n",
       "      <th>Partner</th>\n",
       "      <th>Dependents</th>\n",
       "      <th>tenure</th>\n",
       "      <th>PhoneService</th>\n",
       "      <th>MultipleLines</th>\n",
       "      <th>InternetService</th>\n",
       "      <th>OnlineSecurity</th>\n",
       "      <th>OnlineBackup</th>\n",
       "      <th>DeviceProtection</th>\n",
       "      <th>TechSupport</th>\n",
       "      <th>StreamingTV</th>\n",
       "      <th>StreamingMovies</th>\n",
       "      <th>Contract</th>\n",
       "      <th>PaperlessBilling</th>\n",
       "      <th>PaymentMethod</th>\n",
       "      <th>MonthlyCharges</th>\n",
       "      <th>TotalCharges</th>\n",
       "      <th>Churn</th>\n",
       "    </tr>\n",
       "  </thead>\n",
       "  <tbody>\n",
       "    <tr>\n",
       "      <th>0</th>\n",
       "      <td>0</td>\n",
       "      <td>0</td>\n",
       "      <td>1</td>\n",
       "      <td>0</td>\n",
       "      <td>1</td>\n",
       "      <td>0</td>\n",
       "      <td>1</td>\n",
       "      <td>0</td>\n",
       "      <td>0</td>\n",
       "      <td>2</td>\n",
       "      <td>0</td>\n",
       "      <td>0</td>\n",
       "      <td>0</td>\n",
       "      <td>0</td>\n",
       "      <td>0</td>\n",
       "      <td>1</td>\n",
       "      <td>2</td>\n",
       "      <td>29.85</td>\n",
       "      <td>29.85</td>\n",
       "      <td>0</td>\n",
       "    </tr>\n",
       "    <tr>\n",
       "      <th>1</th>\n",
       "      <td>1</td>\n",
       "      <td>0</td>\n",
       "      <td>0</td>\n",
       "      <td>0</td>\n",
       "      <td>34</td>\n",
       "      <td>1</td>\n",
       "      <td>0</td>\n",
       "      <td>0</td>\n",
       "      <td>2</td>\n",
       "      <td>0</td>\n",
       "      <td>2</td>\n",
       "      <td>0</td>\n",
       "      <td>0</td>\n",
       "      <td>0</td>\n",
       "      <td>1</td>\n",
       "      <td>0</td>\n",
       "      <td>3</td>\n",
       "      <td>56.95</td>\n",
       "      <td>1889.50</td>\n",
       "      <td>0</td>\n",
       "    </tr>\n",
       "    <tr>\n",
       "      <th>2</th>\n",
       "      <td>1</td>\n",
       "      <td>0</td>\n",
       "      <td>0</td>\n",
       "      <td>0</td>\n",
       "      <td>2</td>\n",
       "      <td>1</td>\n",
       "      <td>0</td>\n",
       "      <td>0</td>\n",
       "      <td>2</td>\n",
       "      <td>2</td>\n",
       "      <td>0</td>\n",
       "      <td>0</td>\n",
       "      <td>0</td>\n",
       "      <td>0</td>\n",
       "      <td>0</td>\n",
       "      <td>1</td>\n",
       "      <td>3</td>\n",
       "      <td>53.85</td>\n",
       "      <td>108.15</td>\n",
       "      <td>1</td>\n",
       "    </tr>\n",
       "    <tr>\n",
       "      <th>3</th>\n",
       "      <td>1</td>\n",
       "      <td>0</td>\n",
       "      <td>0</td>\n",
       "      <td>0</td>\n",
       "      <td>45</td>\n",
       "      <td>0</td>\n",
       "      <td>1</td>\n",
       "      <td>0</td>\n",
       "      <td>2</td>\n",
       "      <td>0</td>\n",
       "      <td>2</td>\n",
       "      <td>2</td>\n",
       "      <td>0</td>\n",
       "      <td>0</td>\n",
       "      <td>1</td>\n",
       "      <td>0</td>\n",
       "      <td>0</td>\n",
       "      <td>42.30</td>\n",
       "      <td>1840.75</td>\n",
       "      <td>0</td>\n",
       "    </tr>\n",
       "    <tr>\n",
       "      <th>4</th>\n",
       "      <td>0</td>\n",
       "      <td>0</td>\n",
       "      <td>0</td>\n",
       "      <td>0</td>\n",
       "      <td>2</td>\n",
       "      <td>1</td>\n",
       "      <td>0</td>\n",
       "      <td>1</td>\n",
       "      <td>0</td>\n",
       "      <td>0</td>\n",
       "      <td>0</td>\n",
       "      <td>0</td>\n",
       "      <td>0</td>\n",
       "      <td>0</td>\n",
       "      <td>0</td>\n",
       "      <td>1</td>\n",
       "      <td>2</td>\n",
       "      <td>70.70</td>\n",
       "      <td>151.65</td>\n",
       "      <td>1</td>\n",
       "    </tr>\n",
       "  </tbody>\n",
       "</table>\n",
       "</div>"
      ],
      "text/plain": [
       "   gender  SeniorCitizen  Partner  Dependents  tenure  PhoneService  \\\n",
       "0       0              0        1           0       1             0   \n",
       "1       1              0        0           0      34             1   \n",
       "2       1              0        0           0       2             1   \n",
       "3       1              0        0           0      45             0   \n",
       "4       0              0        0           0       2             1   \n",
       "\n",
       "   MultipleLines  InternetService  OnlineSecurity  OnlineBackup  \\\n",
       "0              1                0               0             2   \n",
       "1              0                0               2             0   \n",
       "2              0                0               2             2   \n",
       "3              1                0               2             0   \n",
       "4              0                1               0             0   \n",
       "\n",
       "   DeviceProtection  TechSupport  StreamingTV  StreamingMovies  Contract  \\\n",
       "0                 0            0            0                0         0   \n",
       "1                 2            0            0                0         1   \n",
       "2                 0            0            0                0         0   \n",
       "3                 2            2            0                0         1   \n",
       "4                 0            0            0                0         0   \n",
       "\n",
       "   PaperlessBilling  PaymentMethod  MonthlyCharges  TotalCharges  Churn  \n",
       "0                 1              2           29.85         29.85      0  \n",
       "1                 0              3           56.95       1889.50      0  \n",
       "2                 1              3           53.85        108.15      1  \n",
       "3                 0              0           42.30       1840.75      0  \n",
       "4                 1              2           70.70        151.65      1  "
      ]
     },
     "execution_count": 40,
     "metadata": {},
     "output_type": "execute_result"
    }
   ],
   "source": [
    "df2.head()"
   ]
  },
  {
   "cell_type": "markdown",
   "id": "648e9839",
   "metadata": {},
   "source": [
    "# Removing outliers"
   ]
  },
  {
   "cell_type": "markdown",
   "id": "eaef2ece",
   "metadata": {},
   "source": [
    "using Zscore technique"
   ]
  },
  {
   "cell_type": "code",
   "execution_count": 41,
   "id": "2c9b8346",
   "metadata": {},
   "outputs": [],
   "source": [
    "from scipy.stats import zscore"
   ]
  },
  {
   "cell_type": "code",
   "execution_count": 42,
   "id": "28c9eb2c",
   "metadata": {},
   "outputs": [
    {
     "name": "stdout",
     "output_type": "stream",
     "text": [
      "1\n",
      "Shape of New Dataframe dn: (7032, 20)\n"
     ]
    }
   ],
   "source": [
    "z =np.abs(zscore(df2['tenure']))\n",
    "print(len(np.where(z<3)))\n",
    "dn=df2[(z<3)]\n",
    "print('Shape of New Dataframe dn:',dn.shape)"
   ]
  },
  {
   "cell_type": "code",
   "execution_count": 43,
   "id": "7f9b045e",
   "metadata": {},
   "outputs": [
    {
     "name": "stdout",
     "output_type": "stream",
     "text": [
      "0       1.161694\n",
      "1       0.260878\n",
      "2       0.363923\n",
      "3       0.747850\n",
      "4       0.196178\n",
      "          ...   \n",
      "7038    0.664868\n",
      "7039    1.276493\n",
      "7040    1.170004\n",
      "7041    0.319168\n",
      "7042    1.357932\n",
      "Name: MonthlyCharges, Length: 7032, dtype: float64\n",
      "1\n",
      "Shape of New Dataframe dn1: (7032, 20)\n"
     ]
    }
   ],
   "source": [
    "z =np.abs(zscore(dn['MonthlyCharges']))\n",
    "print(z)\n",
    "print(len(np.where(z<3)))\n",
    "dn1=dn[(z<3)]\n",
    "print('Shape of New Dataframe dn1:',dn1.shape)"
   ]
  },
  {
   "cell_type": "code",
   "execution_count": 44,
   "id": "a281d3bf",
   "metadata": {},
   "outputs": [
    {
     "name": "stdout",
     "output_type": "stream",
     "text": [
      "0       0.994194\n",
      "1       0.173740\n",
      "2       0.959649\n",
      "3       0.195248\n",
      "4       0.940457\n",
      "          ...   \n",
      "7038    0.129180\n",
      "7039    2.241056\n",
      "7040    0.854514\n",
      "7041    0.872095\n",
      "7042    2.012344\n",
      "Name: TotalCharges, Length: 7032, dtype: float64\n",
      "1\n",
      "Shape of New Dataframe dn2: (7032, 20)\n"
     ]
    }
   ],
   "source": [
    "z =np.abs(zscore(dn1['TotalCharges']))\n",
    "print(z)\n",
    "print(len(np.where(z<3)))\n",
    "dn2=dn1[(z<3)]\n",
    "print('Shape of New Dataframe dn2:',dn2.shape)"
   ]
  },
  {
   "cell_type": "code",
   "execution_count": 45,
   "id": "61ec12f5",
   "metadata": {},
   "outputs": [
    {
     "name": "stdout",
     "output_type": "stream",
     "text": [
      "old dataframe (7032, 20)\n",
      "new dataframe (7032, 20)\n",
      "no of rows dropped 0\n"
     ]
    }
   ],
   "source": [
    "df_new=dn2\n",
    "print('old dataframe',df2.shape)\n",
    "print('new dataframe',df_new.shape)\n",
    "print('no of rows dropped',df2.shape[0]-df_new.shape[0])"
   ]
  },
  {
   "cell_type": "markdown",
   "id": "1580c805",
   "metadata": {},
   "source": [
    "* since we had no outliers no data is lost"
   ]
  },
  {
   "cell_type": "markdown",
   "id": "e7948f70",
   "metadata": {},
   "source": [
    "# Splitting data into x(features) and y(target)"
   ]
  },
  {
   "cell_type": "code",
   "execution_count": 46,
   "id": "c3d1b43b",
   "metadata": {},
   "outputs": [],
   "source": [
    "#splitting data into x and y \n",
    "x=df_new.drop('Churn', axis=1) # dropping target column from dataframe and assigning the dataframe as x\n",
    "y=df_new['Churn'] #assigning target column(W) to y variable"
   ]
  },
  {
   "cell_type": "code",
   "execution_count": 47,
   "id": "0ec2f39a",
   "metadata": {},
   "outputs": [
    {
     "data": {
      "text/html": [
       "<div>\n",
       "<style scoped>\n",
       "    .dataframe tbody tr th:only-of-type {\n",
       "        vertical-align: middle;\n",
       "    }\n",
       "\n",
       "    .dataframe tbody tr th {\n",
       "        vertical-align: top;\n",
       "    }\n",
       "\n",
       "    .dataframe thead th {\n",
       "        text-align: right;\n",
       "    }\n",
       "</style>\n",
       "<table border=\"1\" class=\"dataframe\">\n",
       "  <thead>\n",
       "    <tr style=\"text-align: right;\">\n",
       "      <th></th>\n",
       "      <th>gender</th>\n",
       "      <th>SeniorCitizen</th>\n",
       "      <th>Partner</th>\n",
       "      <th>Dependents</th>\n",
       "      <th>tenure</th>\n",
       "      <th>PhoneService</th>\n",
       "      <th>MultipleLines</th>\n",
       "      <th>InternetService</th>\n",
       "      <th>OnlineSecurity</th>\n",
       "      <th>OnlineBackup</th>\n",
       "      <th>DeviceProtection</th>\n",
       "      <th>TechSupport</th>\n",
       "      <th>StreamingTV</th>\n",
       "      <th>StreamingMovies</th>\n",
       "      <th>Contract</th>\n",
       "      <th>PaperlessBilling</th>\n",
       "      <th>PaymentMethod</th>\n",
       "      <th>MonthlyCharges</th>\n",
       "      <th>TotalCharges</th>\n",
       "    </tr>\n",
       "  </thead>\n",
       "  <tbody>\n",
       "    <tr>\n",
       "      <th>6725</th>\n",
       "      <td>0</td>\n",
       "      <td>0</td>\n",
       "      <td>1</td>\n",
       "      <td>0</td>\n",
       "      <td>37</td>\n",
       "      <td>1</td>\n",
       "      <td>0</td>\n",
       "      <td>2</td>\n",
       "      <td>1</td>\n",
       "      <td>1</td>\n",
       "      <td>1</td>\n",
       "      <td>1</td>\n",
       "      <td>1</td>\n",
       "      <td>1</td>\n",
       "      <td>0</td>\n",
       "      <td>0</td>\n",
       "      <td>0</td>\n",
       "      <td>19.5</td>\n",
       "      <td>805.2</td>\n",
       "    </tr>\n",
       "  </tbody>\n",
       "</table>\n",
       "</div>"
      ],
      "text/plain": [
       "      gender  SeniorCitizen  Partner  Dependents  tenure  PhoneService  \\\n",
       "6725       0              0        1           0      37             1   \n",
       "\n",
       "      MultipleLines  InternetService  OnlineSecurity  OnlineBackup  \\\n",
       "6725              0                2               1             1   \n",
       "\n",
       "      DeviceProtection  TechSupport  StreamingTV  StreamingMovies  Contract  \\\n",
       "6725                 1            1            1                1         0   \n",
       "\n",
       "      PaperlessBilling  PaymentMethod  MonthlyCharges  TotalCharges  \n",
       "6725                 0              0            19.5         805.2  "
      ]
     },
     "execution_count": 47,
     "metadata": {},
     "output_type": "execute_result"
    }
   ],
   "source": [
    "x.sample()"
   ]
  },
  {
   "cell_type": "code",
   "execution_count": 48,
   "id": "6074f030",
   "metadata": {},
   "outputs": [
    {
     "data": {
      "text/plain": [
       "1418    0\n",
       "Name: Churn, dtype: int32"
      ]
     },
     "execution_count": 48,
     "metadata": {},
     "output_type": "execute_result"
    }
   ],
   "source": [
    "y.sample()"
   ]
  },
  {
   "cell_type": "markdown",
   "id": "a743ca4a",
   "metadata": {},
   "source": [
    "# VIF(checking multicolinearity)"
   ]
  },
  {
   "cell_type": "code",
   "execution_count": 65,
   "id": "e707ebc6",
   "metadata": {},
   "outputs": [],
   "source": [
    "#library for VIF\n",
    "from statsmodels.stats.outliers_influence import variance_inflation_factor"
   ]
  },
  {
   "cell_type": "code",
   "execution_count": 66,
   "id": "ed5b6be3",
   "metadata": {},
   "outputs": [
    {
     "data": {
      "text/html": [
       "<div>\n",
       "<style scoped>\n",
       "    .dataframe tbody tr th:only-of-type {\n",
       "        vertical-align: middle;\n",
       "    }\n",
       "\n",
       "    .dataframe tbody tr th {\n",
       "        vertical-align: top;\n",
       "    }\n",
       "\n",
       "    .dataframe thead th {\n",
       "        text-align: right;\n",
       "    }\n",
       "</style>\n",
       "<table border=\"1\" class=\"dataframe\">\n",
       "  <thead>\n",
       "    <tr style=\"text-align: right;\">\n",
       "      <th></th>\n",
       "      <th>Features</th>\n",
       "      <th>VIF value</th>\n",
       "    </tr>\n",
       "  </thead>\n",
       "  <tbody>\n",
       "    <tr>\n",
       "      <th>0</th>\n",
       "      <td>gender</td>\n",
       "      <td>1.954535</td>\n",
       "    </tr>\n",
       "    <tr>\n",
       "      <th>1</th>\n",
       "      <td>SeniorCitizen</td>\n",
       "      <td>1.369954</td>\n",
       "    </tr>\n",
       "    <tr>\n",
       "      <th>2</th>\n",
       "      <td>Partner</td>\n",
       "      <td>2.819229</td>\n",
       "    </tr>\n",
       "    <tr>\n",
       "      <th>3</th>\n",
       "      <td>Dependents</td>\n",
       "      <td>1.957360</td>\n",
       "    </tr>\n",
       "    <tr>\n",
       "      <th>4</th>\n",
       "      <td>tenure</td>\n",
       "      <td>15.084412</td>\n",
       "    </tr>\n",
       "    <tr>\n",
       "      <th>5</th>\n",
       "      <td>PhoneService</td>\n",
       "      <td>15.150758</td>\n",
       "    </tr>\n",
       "    <tr>\n",
       "      <th>6</th>\n",
       "      <td>MultipleLines</td>\n",
       "      <td>2.756988</td>\n",
       "    </tr>\n",
       "    <tr>\n",
       "      <th>7</th>\n",
       "      <td>InternetService</td>\n",
       "      <td>4.350001</td>\n",
       "    </tr>\n",
       "    <tr>\n",
       "      <th>8</th>\n",
       "      <td>OnlineSecurity</td>\n",
       "      <td>2.247863</td>\n",
       "    </tr>\n",
       "    <tr>\n",
       "      <th>9</th>\n",
       "      <td>OnlineBackup</td>\n",
       "      <td>2.455913</td>\n",
       "    </tr>\n",
       "    <tr>\n",
       "      <th>10</th>\n",
       "      <td>DeviceProtection</td>\n",
       "      <td>2.629892</td>\n",
       "    </tr>\n",
       "    <tr>\n",
       "      <th>11</th>\n",
       "      <td>TechSupport</td>\n",
       "      <td>2.381046</td>\n",
       "    </tr>\n",
       "    <tr>\n",
       "      <th>12</th>\n",
       "      <td>StreamingTV</td>\n",
       "      <td>3.237958</td>\n",
       "    </tr>\n",
       "    <tr>\n",
       "      <th>13</th>\n",
       "      <td>StreamingMovies</td>\n",
       "      <td>3.265595</td>\n",
       "    </tr>\n",
       "    <tr>\n",
       "      <th>14</th>\n",
       "      <td>Contract</td>\n",
       "      <td>4.194484</td>\n",
       "    </tr>\n",
       "    <tr>\n",
       "      <th>15</th>\n",
       "      <td>PaperlessBilling</td>\n",
       "      <td>2.875010</td>\n",
       "    </tr>\n",
       "    <tr>\n",
       "      <th>16</th>\n",
       "      <td>PaymentMethod</td>\n",
       "      <td>3.095143</td>\n",
       "    </tr>\n",
       "    <tr>\n",
       "      <th>17</th>\n",
       "      <td>MonthlyCharges</td>\n",
       "      <td>20.503844</td>\n",
       "    </tr>\n",
       "    <tr>\n",
       "      <th>18</th>\n",
       "      <td>TotalCharges</td>\n",
       "      <td>13.869098</td>\n",
       "    </tr>\n",
       "  </tbody>\n",
       "</table>\n",
       "</div>"
      ],
      "text/plain": [
       "            Features  VIF value\n",
       "0             gender   1.954535\n",
       "1      SeniorCitizen   1.369954\n",
       "2            Partner   2.819229\n",
       "3         Dependents   1.957360\n",
       "4             tenure  15.084412\n",
       "5       PhoneService  15.150758\n",
       "6      MultipleLines   2.756988\n",
       "7    InternetService   4.350001\n",
       "8     OnlineSecurity   2.247863\n",
       "9       OnlineBackup   2.455913\n",
       "10  DeviceProtection   2.629892\n",
       "11       TechSupport   2.381046\n",
       "12       StreamingTV   3.237958\n",
       "13   StreamingMovies   3.265595\n",
       "14          Contract   4.194484\n",
       "15  PaperlessBilling   2.875010\n",
       "16     PaymentMethod   3.095143\n",
       "17    MonthlyCharges  20.503844\n",
       "18      TotalCharges  13.869098"
      ]
     },
     "execution_count": 66,
     "metadata": {},
     "output_type": "execute_result"
    }
   ],
   "source": [
    "VIF =[]\n",
    "for i in range(len(x.columns)):\n",
    "    VIF.append(variance_inflation_factor(exog=x.values, exog_idx=i))\n",
    "\n",
    "datavif={'Features':x.columns, 'VIF value': VIF}    \n",
    "vif_df=pd.DataFrame(datavif)\n",
    "vif_df"
   ]
  },
  {
   "cell_type": "markdown",
   "id": "43b3b060",
   "metadata": {},
   "source": [
    "* the vif for monthlycharges and totalcharges is very high than threshold so we will drop one of the column among them which is more correlated to target will be stored and the other one is dropped."
   ]
  },
  {
   "cell_type": "code",
   "execution_count": 85,
   "id": "f1844ecb",
   "metadata": {},
   "outputs": [
    {
     "data": {
      "text/html": [
       "<div>\n",
       "<style scoped>\n",
       "    .dataframe tbody tr th:only-of-type {\n",
       "        vertical-align: middle;\n",
       "    }\n",
       "\n",
       "    .dataframe tbody tr th {\n",
       "        vertical-align: top;\n",
       "    }\n",
       "\n",
       "    .dataframe thead th {\n",
       "        text-align: right;\n",
       "    }\n",
       "</style>\n",
       "<table border=\"1\" class=\"dataframe\">\n",
       "  <thead>\n",
       "    <tr style=\"text-align: right;\">\n",
       "      <th></th>\n",
       "      <th>gender</th>\n",
       "      <th>SeniorCitizen</th>\n",
       "      <th>Partner</th>\n",
       "      <th>Dependents</th>\n",
       "      <th>tenure</th>\n",
       "      <th>PhoneService</th>\n",
       "      <th>MultipleLines</th>\n",
       "      <th>InternetService</th>\n",
       "      <th>OnlineSecurity</th>\n",
       "      <th>OnlineBackup</th>\n",
       "      <th>DeviceProtection</th>\n",
       "      <th>TechSupport</th>\n",
       "      <th>StreamingTV</th>\n",
       "      <th>StreamingMovies</th>\n",
       "      <th>Contract</th>\n",
       "      <th>PaperlessBilling</th>\n",
       "      <th>PaymentMethod</th>\n",
       "      <th>MonthlyCharges</th>\n",
       "    </tr>\n",
       "  </thead>\n",
       "  <tbody>\n",
       "    <tr>\n",
       "      <th>0</th>\n",
       "      <td>0</td>\n",
       "      <td>0</td>\n",
       "      <td>1</td>\n",
       "      <td>0</td>\n",
       "      <td>1</td>\n",
       "      <td>0</td>\n",
       "      <td>1</td>\n",
       "      <td>0</td>\n",
       "      <td>0</td>\n",
       "      <td>2</td>\n",
       "      <td>0</td>\n",
       "      <td>0</td>\n",
       "      <td>0</td>\n",
       "      <td>0</td>\n",
       "      <td>0</td>\n",
       "      <td>1</td>\n",
       "      <td>2</td>\n",
       "      <td>29.85</td>\n",
       "    </tr>\n",
       "    <tr>\n",
       "      <th>1</th>\n",
       "      <td>1</td>\n",
       "      <td>0</td>\n",
       "      <td>0</td>\n",
       "      <td>0</td>\n",
       "      <td>34</td>\n",
       "      <td>1</td>\n",
       "      <td>0</td>\n",
       "      <td>0</td>\n",
       "      <td>2</td>\n",
       "      <td>0</td>\n",
       "      <td>2</td>\n",
       "      <td>0</td>\n",
       "      <td>0</td>\n",
       "      <td>0</td>\n",
       "      <td>1</td>\n",
       "      <td>0</td>\n",
       "      <td>3</td>\n",
       "      <td>56.95</td>\n",
       "    </tr>\n",
       "    <tr>\n",
       "      <th>2</th>\n",
       "      <td>1</td>\n",
       "      <td>0</td>\n",
       "      <td>0</td>\n",
       "      <td>0</td>\n",
       "      <td>2</td>\n",
       "      <td>1</td>\n",
       "      <td>0</td>\n",
       "      <td>0</td>\n",
       "      <td>2</td>\n",
       "      <td>2</td>\n",
       "      <td>0</td>\n",
       "      <td>0</td>\n",
       "      <td>0</td>\n",
       "      <td>0</td>\n",
       "      <td>0</td>\n",
       "      <td>1</td>\n",
       "      <td>3</td>\n",
       "      <td>53.85</td>\n",
       "    </tr>\n",
       "    <tr>\n",
       "      <th>3</th>\n",
       "      <td>1</td>\n",
       "      <td>0</td>\n",
       "      <td>0</td>\n",
       "      <td>0</td>\n",
       "      <td>45</td>\n",
       "      <td>0</td>\n",
       "      <td>1</td>\n",
       "      <td>0</td>\n",
       "      <td>2</td>\n",
       "      <td>0</td>\n",
       "      <td>2</td>\n",
       "      <td>2</td>\n",
       "      <td>0</td>\n",
       "      <td>0</td>\n",
       "      <td>1</td>\n",
       "      <td>0</td>\n",
       "      <td>0</td>\n",
       "      <td>42.30</td>\n",
       "    </tr>\n",
       "    <tr>\n",
       "      <th>4</th>\n",
       "      <td>0</td>\n",
       "      <td>0</td>\n",
       "      <td>0</td>\n",
       "      <td>0</td>\n",
       "      <td>2</td>\n",
       "      <td>1</td>\n",
       "      <td>0</td>\n",
       "      <td>1</td>\n",
       "      <td>0</td>\n",
       "      <td>0</td>\n",
       "      <td>0</td>\n",
       "      <td>0</td>\n",
       "      <td>0</td>\n",
       "      <td>0</td>\n",
       "      <td>0</td>\n",
       "      <td>1</td>\n",
       "      <td>2</td>\n",
       "      <td>70.70</td>\n",
       "    </tr>\n",
       "  </tbody>\n",
       "</table>\n",
       "</div>"
      ],
      "text/plain": [
       "   gender  SeniorCitizen  Partner  Dependents  tenure  PhoneService  \\\n",
       "0       0              0        1           0       1             0   \n",
       "1       1              0        0           0      34             1   \n",
       "2       1              0        0           0       2             1   \n",
       "3       1              0        0           0      45             0   \n",
       "4       0              0        0           0       2             1   \n",
       "\n",
       "   MultipleLines  InternetService  OnlineSecurity  OnlineBackup  \\\n",
       "0              1                0               0             2   \n",
       "1              0                0               2             0   \n",
       "2              0                0               2             2   \n",
       "3              1                0               2             0   \n",
       "4              0                1               0             0   \n",
       "\n",
       "   DeviceProtection  TechSupport  StreamingTV  StreamingMovies  Contract  \\\n",
       "0                 0            0            0                0         0   \n",
       "1                 2            0            0                0         1   \n",
       "2                 0            0            0                0         0   \n",
       "3                 2            2            0                0         1   \n",
       "4                 0            0            0                0         0   \n",
       "\n",
       "   PaperlessBilling  PaymentMethod  MonthlyCharges  \n",
       "0                 1              2           29.85  \n",
       "1                 0              3           56.95  \n",
       "2                 1              3           53.85  \n",
       "3                 0              0           42.30  \n",
       "4                 1              2           70.70  "
      ]
     },
     "execution_count": 85,
     "metadata": {},
     "output_type": "execute_result"
    }
   ],
   "source": [
    "x=df2.drop(['TotalCharges', 'Churn'], axis=1)\n",
    "x.head()"
   ]
  },
  {
   "cell_type": "code",
   "execution_count": 86,
   "id": "5014ccd2",
   "metadata": {},
   "outputs": [
    {
     "data": {
      "text/html": [
       "<div>\n",
       "<style scoped>\n",
       "    .dataframe tbody tr th:only-of-type {\n",
       "        vertical-align: middle;\n",
       "    }\n",
       "\n",
       "    .dataframe tbody tr th {\n",
       "        vertical-align: top;\n",
       "    }\n",
       "\n",
       "    .dataframe thead th {\n",
       "        text-align: right;\n",
       "    }\n",
       "</style>\n",
       "<table border=\"1\" class=\"dataframe\">\n",
       "  <thead>\n",
       "    <tr style=\"text-align: right;\">\n",
       "      <th></th>\n",
       "      <th>Features</th>\n",
       "      <th>VIF value</th>\n",
       "    </tr>\n",
       "  </thead>\n",
       "  <tbody>\n",
       "    <tr>\n",
       "      <th>0</th>\n",
       "      <td>gender</td>\n",
       "      <td>1.926503</td>\n",
       "    </tr>\n",
       "    <tr>\n",
       "      <th>1</th>\n",
       "      <td>SeniorCitizen</td>\n",
       "      <td>1.366908</td>\n",
       "    </tr>\n",
       "    <tr>\n",
       "      <th>2</th>\n",
       "      <td>Partner</td>\n",
       "      <td>2.818291</td>\n",
       "    </tr>\n",
       "    <tr>\n",
       "      <th>3</th>\n",
       "      <td>Dependents</td>\n",
       "      <td>1.946429</td>\n",
       "    </tr>\n",
       "    <tr>\n",
       "      <th>4</th>\n",
       "      <td>tenure</td>\n",
       "      <td>7.611995</td>\n",
       "    </tr>\n",
       "    <tr>\n",
       "      <th>5</th>\n",
       "      <td>PhoneService</td>\n",
       "      <td>14.170245</td>\n",
       "    </tr>\n",
       "    <tr>\n",
       "      <th>6</th>\n",
       "      <td>MultipleLines</td>\n",
       "      <td>2.756978</td>\n",
       "    </tr>\n",
       "    <tr>\n",
       "      <th>7</th>\n",
       "      <td>InternetService</td>\n",
       "      <td>4.315207</td>\n",
       "    </tr>\n",
       "    <tr>\n",
       "      <th>8</th>\n",
       "      <td>OnlineSecurity</td>\n",
       "      <td>2.247268</td>\n",
       "    </tr>\n",
       "    <tr>\n",
       "      <th>9</th>\n",
       "      <td>OnlineBackup</td>\n",
       "      <td>2.433762</td>\n",
       "    </tr>\n",
       "    <tr>\n",
       "      <th>10</th>\n",
       "      <td>DeviceProtection</td>\n",
       "      <td>2.620418</td>\n",
       "    </tr>\n",
       "    <tr>\n",
       "      <th>11</th>\n",
       "      <td>TechSupport</td>\n",
       "      <td>2.379864</td>\n",
       "    </tr>\n",
       "    <tr>\n",
       "      <th>12</th>\n",
       "      <td>StreamingTV</td>\n",
       "      <td>3.229279</td>\n",
       "    </tr>\n",
       "    <tr>\n",
       "      <th>13</th>\n",
       "      <td>StreamingMovies</td>\n",
       "      <td>3.259433</td>\n",
       "    </tr>\n",
       "    <tr>\n",
       "      <th>14</th>\n",
       "      <td>Contract</td>\n",
       "      <td>4.174125</td>\n",
       "    </tr>\n",
       "    <tr>\n",
       "      <th>15</th>\n",
       "      <td>PaperlessBilling</td>\n",
       "      <td>2.820220</td>\n",
       "    </tr>\n",
       "    <tr>\n",
       "      <th>16</th>\n",
       "      <td>PaymentMethod</td>\n",
       "      <td>2.911857</td>\n",
       "    </tr>\n",
       "    <tr>\n",
       "      <th>17</th>\n",
       "      <td>MonthlyCharges</td>\n",
       "      <td>14.777047</td>\n",
       "    </tr>\n",
       "  </tbody>\n",
       "</table>\n",
       "</div>"
      ],
      "text/plain": [
       "            Features  VIF value\n",
       "0             gender   1.926503\n",
       "1      SeniorCitizen   1.366908\n",
       "2            Partner   2.818291\n",
       "3         Dependents   1.946429\n",
       "4             tenure   7.611995\n",
       "5       PhoneService  14.170245\n",
       "6      MultipleLines   2.756978\n",
       "7    InternetService   4.315207\n",
       "8     OnlineSecurity   2.247268\n",
       "9       OnlineBackup   2.433762\n",
       "10  DeviceProtection   2.620418\n",
       "11       TechSupport   2.379864\n",
       "12       StreamingTV   3.229279\n",
       "13   StreamingMovies   3.259433\n",
       "14          Contract   4.174125\n",
       "15  PaperlessBilling   2.820220\n",
       "16     PaymentMethod   2.911857\n",
       "17    MonthlyCharges  14.777047"
      ]
     },
     "execution_count": 86,
     "metadata": {},
     "output_type": "execute_result"
    }
   ],
   "source": [
    "#checking vif after resolving\n",
    "VIF =[]\n",
    "for i in range(len(x.columns)):\n",
    "    VIF.append(variance_inflation_factor(exog=x.values, exog_idx=i))\n",
    "\n",
    "datavif={'Features':x.columns, 'VIF value': VIF}    \n",
    "vif_df=pd.DataFrame(datavif)\n",
    "vif_df"
   ]
  },
  {
   "cell_type": "markdown",
   "id": "65ac9881",
   "metadata": {},
   "source": [
    "# Removing skewness"
   ]
  },
  {
   "cell_type": "code",
   "execution_count": 87,
   "id": "dc3a4fb9",
   "metadata": {},
   "outputs": [],
   "source": [
    "from sklearn.preprocessing import power_transform\n",
    "x=power_transform(x,method='yeo-johnson')"
   ]
  },
  {
   "cell_type": "code",
   "execution_count": 88,
   "id": "31be9a9f",
   "metadata": {},
   "outputs": [
    {
     "data": {
      "text/plain": [
       "0    -0.018776\n",
       "1     1.831103\n",
       "2     0.070024\n",
       "3     0.880908\n",
       "4    -0.242816\n",
       "5    -2.729727\n",
       "6     0.033718\n",
       "7    -0.072388\n",
       "8     0.150928\n",
       "9    -0.000378\n",
       "10    0.002098\n",
       "11    0.141282\n",
       "12   -0.096494\n",
       "13   -0.105966\n",
       "14    0.304841\n",
       "15   -0.377503\n",
       "16   -0.207192\n",
       "17   -0.259485\n",
       "dtype: float64"
      ]
     },
     "execution_count": 88,
     "metadata": {},
     "output_type": "execute_result"
    }
   ],
   "source": [
    "x_df=pd.DataFrame(x)\n",
    "x_df.skew()"
   ]
  },
  {
   "cell_type": "markdown",
   "id": "0458227e",
   "metadata": {},
   "source": [
    "# scaling independent data"
   ]
  },
  {
   "cell_type": "markdown",
   "id": "e4983d00",
   "metadata": {},
   "source": [
    "using StandardScaler"
   ]
  },
  {
   "cell_type": "code",
   "execution_count": 89,
   "id": "ca938e99",
   "metadata": {},
   "outputs": [],
   "source": [
    "#mean=0, std=1\n",
    "from sklearn.preprocessing import StandardScaler\n",
    "scaler = StandardScaler()"
   ]
  },
  {
   "cell_type": "code",
   "execution_count": 90,
   "id": "f6d93ee0",
   "metadata": {},
   "outputs": [],
   "source": [
    "scaler.fit(x)\n",
    "x_scaled=scaler.transform(x)"
   ]
  },
  {
   "cell_type": "markdown",
   "id": "357cf127",
   "metadata": {},
   "source": [
    "# Model Building and Evaluation"
   ]
  },
  {
   "cell_type": "code",
   "execution_count": 91,
   "id": "01bb7404",
   "metadata": {},
   "outputs": [],
   "source": [
    "from sklearn.model_selection import train_test_split\n",
    "from sklearn.metrics import accuracy_score\n",
    "from sklearn.metrics import confusion_matrix\n",
    "from sklearn.metrics import classification_report"
   ]
  },
  {
   "cell_type": "markdown",
   "id": "5bd41a4f",
   "metadata": {},
   "source": [
    "# Logistic Regression"
   ]
  },
  {
   "cell_type": "markdown",
   "id": "f2473294",
   "metadata": {},
   "source": [
    "## Finding Best Random State for Logistic Regression"
   ]
  },
  {
   "cell_type": "code",
   "execution_count": 92,
   "id": "2e6f1de9",
   "metadata": {},
   "outputs": [],
   "source": [
    "from sklearn.linear_model import LogisticRegression\n",
    "#creating instance \n",
    "LR=LogisticRegression()"
   ]
  },
  {
   "cell_type": "code",
   "execution_count": 93,
   "id": "3cd20751",
   "metadata": {},
   "outputs": [
    {
     "name": "stdout",
     "output_type": "stream",
     "text": [
      "Accuracy 0.7953091684434968 random_state 1\n",
      "Accuracy 0.7981520966595593 random_state 2\n",
      "Accuracy 0.8116560056858564 random_state 3\n",
      "Accuracy 0.8187633262260128 random_state 6\n",
      "Accuracy 0.820184790334044 random_state 9\n",
      "Accuracy 0.8208955223880597 random_state 14\n",
      "Accuracy 0.8244491826581379 random_state 24\n",
      "Accuracy 0.8265813788201848 random_state 126\n",
      "Accuracy 0.8315565031982942 random_state 244\n",
      "Accuracy 0.8351101634683724 random_state 1095\n"
     ]
    }
   ],
   "source": [
    "maxAcc=0\n",
    "maxRS=0\n",
    "\n",
    "for i in range(1,1500):\n",
    "    x_train,x_test,y_train,y_test=train_test_split(x_scaled,y,test_size=0.20,random_state=i)\n",
    "    LR.fit(x_train,y_train)\n",
    "    pred_LR=LR.predict(x_test)\n",
    "    acc=accuracy_score(y_test,pred_LR)\n",
    "    \n",
    "    if acc>maxAcc:\n",
    "        maxAcc=acc\n",
    "        maxRS=i\n",
    "        print('Accuracy', maxAcc, 'random_state', maxRS)"
   ]
  },
  {
   "cell_type": "markdown",
   "id": "0ff7d959",
   "metadata": {},
   "source": [
    "## Model building with best random state"
   ]
  },
  {
   "cell_type": "code",
   "execution_count": 95,
   "id": "c57a84dc",
   "metadata": {},
   "outputs": [],
   "source": [
    "#creating train , test split\n",
    "x_train1,x_test1,y_train1,y_test1=train_test_split(x_scaled,y,test_size=0.20,random_state=1095)\n",
    "\n",
    "#creating instance \n",
    "LR=LogisticRegression()\n",
    "\n",
    "#traing data\n",
    "LR.fit(x_train1,y_train1)\n",
    "\n",
    "#predicting data\n",
    "LR_pred=LR.predict(x_test1)"
   ]
  },
  {
   "cell_type": "markdown",
   "id": "4112f63e",
   "metadata": {},
   "source": [
    "## Evaluation"
   ]
  },
  {
   "cell_type": "code",
   "execution_count": 96,
   "id": "cabe521f",
   "metadata": {},
   "outputs": [
    {
     "name": "stdout",
     "output_type": "stream",
     "text": [
      "Accuracy:  0.8351101634683724\n",
      "[[956  91]\n",
      " [141 219]]\n",
      "              precision    recall  f1-score   support\n",
      "\n",
      "           0       0.87      0.91      0.89      1047\n",
      "           1       0.71      0.61      0.65       360\n",
      "\n",
      "    accuracy                           0.84      1407\n",
      "   macro avg       0.79      0.76      0.77      1407\n",
      "weighted avg       0.83      0.84      0.83      1407\n",
      "\n"
     ]
    }
   ],
   "source": [
    "#checking accuracy score\n",
    "print('Accuracy: ',accuracy_score(y_test1,LR_pred))\n",
    "#print confusion matrics\n",
    "print(confusion_matrix(y_test1,LR_pred))\n",
    "#printing classification report\n",
    "print(classification_report(y_test1,LR_pred))"
   ]
  },
  {
   "cell_type": "code",
   "execution_count": 97,
   "id": "a2bb1230",
   "metadata": {},
   "outputs": [
    {
     "name": "stdout",
     "output_type": "stream",
     "text": [
      "Accuracy of train model:  0.8001777777777778\n"
     ]
    }
   ],
   "source": [
    "print('Accuracy of train model: ',LR.score(x_train1,y_train1))"
   ]
  },
  {
   "cell_type": "code",
   "execution_count": 100,
   "id": "5dbb6f34",
   "metadata": {},
   "outputs": [
    {
     "name": "stdout",
     "output_type": "stream",
     "text": [
      "precision for 0(NO) =  0.8714676390154968\n",
      "precision for 1(YES) = 0.7064516129032258\n"
     ]
    }
   ],
   "source": [
    "# calculating precision =tp/tp+fp\n",
    "print('precision for 0(NO) = ',956  /(956  +141 ) )\n",
    "print('precision for 1(YES) =', 219/(219+91))"
   ]
  },
  {
   "cell_type": "code",
   "execution_count": 101,
   "id": "2769458d",
   "metadata": {},
   "outputs": [
    {
     "name": "stdout",
     "output_type": "stream",
     "text": [
      "recall for 0(NO) = 0.9130850047755492\n",
      "recall for 1(YES) = 0.6083333333333333\n"
     ]
    }
   ],
   "source": [
    "# calculating recall tp/tp+fn\n",
    "print('recall for 0(NO) =',956  /(956  +91))\n",
    "print('recall for 1(YES) =',219/(219+141 ))"
   ]
  },
  {
   "cell_type": "markdown",
   "id": "f0ea2aa8",
   "metadata": {},
   "source": [
    "## cross validation"
   ]
  },
  {
   "cell_type": "code",
   "execution_count": 102,
   "id": "1e5c7ea4",
   "metadata": {},
   "outputs": [],
   "source": [
    "from sklearn.model_selection import cross_val_score"
   ]
  },
  {
   "cell_type": "code",
   "execution_count": 114,
   "id": "e715ac2d",
   "metadata": {},
   "outputs": [
    {
     "name": "stdout",
     "output_type": "stream",
     "text": [
      "cross validation score of LogisticRegression:  0.8041798728365894\n"
     ]
    }
   ],
   "source": [
    "scr=cross_val_score(LR,x_scaled,y,cv=5)\n",
    "print('cross validation score of LogisticRegression: ',scr.mean())"
   ]
  },
  {
   "cell_type": "markdown",
   "id": "00d95e43",
   "metadata": {},
   "source": [
    "# Decision Tree Classifier"
   ]
  },
  {
   "cell_type": "markdown",
   "id": "89e20330",
   "metadata": {},
   "source": [
    "## Finding Best Random State for Decision Tree Classifier"
   ]
  },
  {
   "cell_type": "code",
   "execution_count": 119,
   "id": "8aad79de",
   "metadata": {},
   "outputs": [
    {
     "name": "stdout",
     "output_type": "stream",
     "text": [
      "Accuracy 0.7235252309879175 random_state 1\n",
      "Accuracy 0.7491115849324804 random_state 6\n",
      "Accuracy 0.7505330490405118 random_state 27\n",
      "Accuracy 0.7547974413646056 random_state 308\n",
      "Accuracy 0.7562189054726368 random_state 522\n",
      "Accuracy 0.7633262260127932 random_state 1054\n"
     ]
    }
   ],
   "source": [
    "from sklearn.tree import DecisionTreeClassifier\n",
    "maxAcc=0\n",
    "maxRS=0\n",
    "\n",
    "for i in range(1,1500):\n",
    "    x_train,x_test,y_train,y_test=train_test_split(x_scaled,y,test_size=0.20,random_state=i)\n",
    "    DTC=DecisionTreeClassifier() #creating instance \n",
    "    DTC.fit(x_train,y_train)  #traing data\n",
    "    DTC_pred=DTC.predict(x_test) #predicting data.fit(x_train,y_train)\n",
    "    acc=accuracy_score(y_test,DTC_pred)\n",
    "    \n",
    "    if acc>maxAcc:\n",
    "        maxAcc=acc\n",
    "        maxRS=i\n",
    "        print('Accuracy', maxAcc, 'random_state', maxRS)"
   ]
  },
  {
   "cell_type": "markdown",
   "id": "80c6a7d8",
   "metadata": {},
   "source": [
    "## Model building with best random state"
   ]
  },
  {
   "cell_type": "code",
   "execution_count": 120,
   "id": "6998d3b7",
   "metadata": {},
   "outputs": [],
   "source": [
    "#creating train , test split\n",
    "x_train2,x_test2,y_train2,y_test2=train_test_split(x_scaled,y,test_size=0.20,random_state=1054)\n",
    "\n",
    "DTC=DecisionTreeClassifier() #creating instance \n",
    "DTC.fit(x_train2,y_train2)  #traing data\n",
    "DTC_pred=DTC.predict(x_test2) #predicting data"
   ]
  },
  {
   "cell_type": "markdown",
   "id": "201a0ee5",
   "metadata": {},
   "source": [
    "## Evaluation"
   ]
  },
  {
   "cell_type": "code",
   "execution_count": 121,
   "id": "e3d2fb89",
   "metadata": {},
   "outputs": [
    {
     "name": "stdout",
     "output_type": "stream",
     "text": [
      "Accuracy:  0.7590618336886994\n",
      "[[867 187]\n",
      " [152 201]]\n",
      "              precision    recall  f1-score   support\n",
      "\n",
      "           0       0.85      0.82      0.84      1054\n",
      "           1       0.52      0.57      0.54       353\n",
      "\n",
      "    accuracy                           0.76      1407\n",
      "   macro avg       0.68      0.70      0.69      1407\n",
      "weighted avg       0.77      0.76      0.76      1407\n",
      "\n"
     ]
    }
   ],
   "source": [
    "#checking accuracy score\n",
    "print('Accuracy: ',accuracy_score(y_test2,DTC_pred))\n",
    "#print confusion matrics\n",
    "print(confusion_matrix(y_test2,DTC_pred))\n",
    "#printing classification report\n",
    "print(classification_report(y_test2,DTC_pred))"
   ]
  },
  {
   "cell_type": "code",
   "execution_count": 122,
   "id": "ad1ab5ee",
   "metadata": {},
   "outputs": [
    {
     "name": "stdout",
     "output_type": "stream",
     "text": [
      "Accuracy of train model:  0.9976888888888888\n"
     ]
    }
   ],
   "source": [
    "print('Accuracy of train model: ',DTC.score(x_train2,y_train2))"
   ]
  },
  {
   "cell_type": "code",
   "execution_count": 123,
   "id": "8e70dc11",
   "metadata": {},
   "outputs": [
    {
     "name": "stdout",
     "output_type": "stream",
     "text": [
      "precision for 0(NO) =  0.8508341511285574\n",
      "precision for 1(YES) = 0.5180412371134021\n"
     ]
    }
   ],
   "source": [
    "# calculating precision =tp/tp+fp\n",
    "print('precision for 0(NO) = ',867 /(867 +152 ) )\n",
    "print('precision for 1(YES) =',201/(201+187))"
   ]
  },
  {
   "cell_type": "code",
   "execution_count": 124,
   "id": "61f61874",
   "metadata": {},
   "outputs": [
    {
     "name": "stdout",
     "output_type": "stream",
     "text": [
      "recall for 0(NO) = 0.8225806451612904\n",
      "recall for 1(YES) = 0.5694050991501416\n"
     ]
    }
   ],
   "source": [
    "# calculating recall tp/tp+fn\n",
    "print('recall for 0(NO) =',867 /(867 +187))\n",
    "print('recall for 1(YES) =',201/(201+152 ))"
   ]
  },
  {
   "cell_type": "markdown",
   "id": "c276dfe8",
   "metadata": {},
   "source": [
    "## cross validation"
   ]
  },
  {
   "cell_type": "code",
   "execution_count": 153,
   "id": "6c0bd0ad",
   "metadata": {},
   "outputs": [
    {
     "name": "stdout",
     "output_type": "stream",
     "text": [
      "cross validation score of DecissionTreeClassifier:  0.7246912567808088\n"
     ]
    }
   ],
   "source": [
    "scr=cross_val_score(DTC,x_scaled,y,cv=15)\n",
    "print('cross validation score of DecissionTreeClassifier: ',scr.mean())"
   ]
  },
  {
   "cell_type": "markdown",
   "id": "b3e6e211",
   "metadata": {},
   "source": [
    "# Random Forest Classifier"
   ]
  },
  {
   "cell_type": "code",
   "execution_count": 154,
   "id": "97dabe10",
   "metadata": {},
   "outputs": [
    {
     "name": "stdout",
     "output_type": "stream",
     "text": [
      "Accuracy 0.7953091684434968 random_state 50\n",
      "Accuracy 0.7974413646055437 random_state 61\n",
      "Accuracy 0.798862828713575 random_state 79\n",
      "Accuracy 0.7995735607675906 random_state 82\n",
      "Accuracy 0.8031272210376688 random_state 126\n",
      "Accuracy 0.8102345415778252 random_state 138\n",
      "Accuracy 0.8123667377398721 random_state 333\n",
      "Accuracy 0.8187633262260128 random_state 658\n"
     ]
    }
   ],
   "source": [
    "from sklearn.ensemble import RandomForestClassifier\n",
    "\n",
    "maxAcc=0\n",
    "maxRS=0\n",
    "\n",
    "for i in range(50,1500):\n",
    "    x_train,x_test,y_train,y_test=train_test_split(x_scaled,y,test_size=0.20,random_state=i)\n",
    "    RFC=RandomForestClassifier(random_state=42) #creating instance \n",
    "    RFC.fit(x_train,y_train)  #traing data\n",
    "    RFC_pred=RFC.predict(x_test) #predicting data\n",
    "    acc=accuracy_score(y_test,RFC_pred)\n",
    "    \n",
    "    if acc>maxAcc:\n",
    "        maxAcc=acc\n",
    "        maxRS=i\n",
    "        print('Accuracy', maxAcc, 'random_state', maxRS)"
   ]
  },
  {
   "cell_type": "markdown",
   "id": "32c89e4e",
   "metadata": {},
   "source": [
    "## Model building with best random state"
   ]
  },
  {
   "cell_type": "code",
   "execution_count": 156,
   "id": "6914a137",
   "metadata": {},
   "outputs": [],
   "source": [
    "#creating train , test split\n",
    "x_train3,x_test3,y_train3,y_test3=train_test_split(x_scaled,y,test_size=0.20,random_state=658)\n",
    "\n",
    "RFC=RandomForestClassifier(random_state=42) #creating instance \n",
    "RFC.fit(x_train3,y_train3)  #traing data\n",
    "RFC_pred=RFC.predict(x_test3) #predicting data"
   ]
  },
  {
   "cell_type": "markdown",
   "id": "de3724ff",
   "metadata": {},
   "source": [
    "## Evaluation"
   ]
  },
  {
   "cell_type": "code",
   "execution_count": 157,
   "id": "ea8f3660",
   "metadata": {},
   "outputs": [
    {
     "name": "stdout",
     "output_type": "stream",
     "text": [
      "Score for training model : 0.9968\n"
     ]
    }
   ],
   "source": [
    "#checking score for training model\n",
    "print('Score for training model :',RFC.score(x_train3,y_train3))"
   ]
  },
  {
   "cell_type": "code",
   "execution_count": 158,
   "id": "cc9186de",
   "metadata": {},
   "outputs": [
    {
     "name": "stdout",
     "output_type": "stream",
     "text": [
      "Accuracy:  0.8187633262260128\n",
      "[[947  96]\n",
      " [159 205]]\n",
      "              precision    recall  f1-score   support\n",
      "\n",
      "           0       0.86      0.91      0.88      1043\n",
      "           1       0.68      0.56      0.62       364\n",
      "\n",
      "    accuracy                           0.82      1407\n",
      "   macro avg       0.77      0.74      0.75      1407\n",
      "weighted avg       0.81      0.82      0.81      1407\n",
      "\n"
     ]
    }
   ],
   "source": [
    "#checking accuracy score\n",
    "print('Accuracy: ',accuracy_score(y_test3,RFC_pred))\n",
    "#print confusion matrics\n",
    "print(confusion_matrix(y_test3,RFC_pred))\n",
    "#printing classification report\n",
    "print(classification_report(y_test3,RFC_pred))"
   ]
  },
  {
   "cell_type": "code",
   "execution_count": 160,
   "id": "89282da8",
   "metadata": {},
   "outputs": [
    {
     "name": "stdout",
     "output_type": "stream",
     "text": [
      "precision for 0(NO) =  0.85623869801085\n",
      "precision for 1(YES) = 0.6810631229235881\n"
     ]
    }
   ],
   "source": [
    "# calculating precision =tp/tp+fp\n",
    "print('precision for 0(NO) = ',947  /(947  +159 ) )\n",
    "print('precision for 1(YES) =',205/(205+96))"
   ]
  },
  {
   "cell_type": "code",
   "execution_count": 159,
   "id": "c175272e",
   "metadata": {},
   "outputs": [
    {
     "name": "stdout",
     "output_type": "stream",
     "text": [
      "recall for 0(NO) = 0.9079578139980825\n",
      "recall for 1(YES) = 0.5631868131868132\n"
     ]
    }
   ],
   "source": [
    "# calculating recall tp/tp+fn\n",
    "print('recall for 0(NO) =',947  /(947  +96))\n",
    "print('recall for 1(YES) =',205/(205+159 ))"
   ]
  },
  {
   "cell_type": "markdown",
   "id": "b8fd2722",
   "metadata": {},
   "source": [
    "## cross validation"
   ]
  },
  {
   "cell_type": "code",
   "execution_count": 167,
   "id": "d2f950d6",
   "metadata": {},
   "outputs": [
    {
     "name": "stdout",
     "output_type": "stream",
     "text": [
      "cross validation score of RandomForestClassifier at cv folds 5 :  79.0\n"
     ]
    }
   ],
   "source": [
    "scr=cross_val_score(RFC,x_scaled,y,cv=5)\n",
    "print('cross validation score of RandomForestClassifier at cv folds 5 : ',round(scr.mean(),2)*100)"
   ]
  },
  {
   "cell_type": "markdown",
   "id": "bf9f1b2b",
   "metadata": {},
   "source": [
    "# Suppport Vector Classifier(SVC)"
   ]
  },
  {
   "cell_type": "markdown",
   "id": "2e543191",
   "metadata": {},
   "source": [
    "## Finding Best Random State for Suppport Vector Classifier(SVC)"
   ]
  },
  {
   "cell_type": "code",
   "execution_count": 168,
   "id": "35ff8be9",
   "metadata": {},
   "outputs": [
    {
     "name": "stdout",
     "output_type": "stream",
     "text": [
      "Accuracy 0.8166311300639659 random_state 50\n",
      "Accuracy 0.8173418621179815 random_state 129\n",
      "Accuracy 0.822316986496091 random_state 133\n",
      "Accuracy 0.8244491826581379 random_state 362\n",
      "Accuracy 0.8251599147121536 random_state 574\n",
      "Accuracy 0.8315565031982942 random_state 1007\n"
     ]
    }
   ],
   "source": [
    "from sklearn.svm import SVC\n",
    "\n",
    "maxAcc=0\n",
    "maxRS=0\n",
    "\n",
    "for i in range(50,1500):\n",
    "    x_train,x_test,y_train,y_test=train_test_split(x_scaled,y,test_size=0.20,random_state=i)\n",
    "    svc=SVC()\n",
    "    svc.fit(x_train,y_train)\n",
    "    svc_pred=svc.predict(x_test)\n",
    "    acc=accuracy_score(y_test,svc_pred)\n",
    "    \n",
    "    if acc>maxAcc:\n",
    "        maxAcc=acc\n",
    "        maxRS=i\n",
    "        print('Accuracy', maxAcc, 'random_state', maxRS)"
   ]
  },
  {
   "cell_type": "markdown",
   "id": "42519817",
   "metadata": {},
   "source": [
    "## Model building with best random state"
   ]
  },
  {
   "cell_type": "code",
   "execution_count": 169,
   "id": "e9b123c5",
   "metadata": {},
   "outputs": [],
   "source": [
    "#creating train , test split\n",
    "x_train4,x_test4,y_train4,y_test4=train_test_split(x_scaled,y,test_size=0.20,random_state=1007)\n",
    "\n",
    "#creating instance\n",
    "svc=SVC()\n",
    "#training data\n",
    "svc.fit(x_train4,y_train4)\n",
    "#predicting data\n",
    "svc_pred=svc.predict(x_test4)"
   ]
  },
  {
   "cell_type": "markdown",
   "id": "9e8bd34d",
   "metadata": {},
   "source": [
    "## Evaluation"
   ]
  },
  {
   "cell_type": "code",
   "execution_count": 170,
   "id": "75c7b509",
   "metadata": {},
   "outputs": [
    {
     "name": "stdout",
     "output_type": "stream",
     "text": [
      "Accuracy:  0.8315565031982942\n",
      "[[1001   71]\n",
      " [ 166  169]]\n",
      "              precision    recall  f1-score   support\n",
      "\n",
      "           0       0.86      0.93      0.89      1072\n",
      "           1       0.70      0.50      0.59       335\n",
      "\n",
      "    accuracy                           0.83      1407\n",
      "   macro avg       0.78      0.72      0.74      1407\n",
      "weighted avg       0.82      0.83      0.82      1407\n",
      "\n"
     ]
    }
   ],
   "source": [
    "#checking accuracy score\n",
    "print('Accuracy: ',accuracy_score(y_test4,svc_pred))\n",
    "#print confusion matrics\n",
    "print(confusion_matrix(y_test4,svc_pred))\n",
    "#printing classification report\n",
    "print(classification_report(y_test4,svc_pred))"
   ]
  },
  {
   "cell_type": "code",
   "execution_count": 171,
   "id": "651daeb5",
   "metadata": {},
   "outputs": [
    {
     "name": "stdout",
     "output_type": "stream",
     "text": [
      "Score for training model : 0.8211555555555555\n"
     ]
    }
   ],
   "source": [
    "#checking score for training model\n",
    "print('Score for training model :',svc.score(x_train4,y_train4))"
   ]
  },
  {
   "cell_type": "code",
   "execution_count": 172,
   "id": "f5b47e6e",
   "metadata": {},
   "outputs": [
    {
     "name": "stdout",
     "output_type": "stream",
     "text": [
      "precision for 0(NO) =  0.8577549271636675\n",
      "precision for 1(YES) = 0.7041666666666667\n"
     ]
    }
   ],
   "source": [
    "# calculating precision =tp/tp+fp\n",
    "print('precision for 0(NO) = ',1001   /(1001   +166  ))\n",
    "print('precision for 1(YES) =',169/(169+71))"
   ]
  },
  {
   "cell_type": "code",
   "execution_count": 173,
   "id": "8fe6e4b7",
   "metadata": {},
   "outputs": [
    {
     "name": "stdout",
     "output_type": "stream",
     "text": [
      "recall for 0(NO) = 0.933768656716418\n",
      "recall for 1(YES) = 0.5044776119402985\n"
     ]
    }
   ],
   "source": [
    "# calculating recall tp/tp+fn\n",
    "print('recall for 0(NO) =',1001   /(1001   +71))\n",
    "print('recall for 1(YES) =',169/(169+166  ))"
   ]
  },
  {
   "cell_type": "markdown",
   "id": "3bdad532",
   "metadata": {},
   "source": [
    "## cross validation"
   ]
  },
  {
   "cell_type": "code",
   "execution_count": 175,
   "id": "d633bcbd",
   "metadata": {},
   "outputs": [
    {
     "name": "stdout",
     "output_type": "stream",
     "text": [
      "cross validation score of SuperVectorClassifier:  80.0\n"
     ]
    }
   ],
   "source": [
    "scr=cross_val_score(svc,x_scaled,y,cv=5)\n",
    "print('cross validation score of SuperVectorClassifier: ',round(scr.mean(),2)*100)"
   ]
  },
  {
   "cell_type": "markdown",
   "id": "5f5708e5",
   "metadata": {},
   "source": [
    "# Hyper parameter tuning: ensemble techniques"
   ]
  },
  {
   "cell_type": "code",
   "execution_count": 176,
   "id": "1f52fe67",
   "metadata": {},
   "outputs": [],
   "source": [
    "from sklearn.model_selection import GridSearchCV"
   ]
  },
  {
   "cell_type": "code",
   "execution_count": 177,
   "id": "ba4889a2",
   "metadata": {},
   "outputs": [],
   "source": [
    "parameters={'max_features':['auto', 'sqrt'], 'max_depth':['None',4,5,6,7,8], 'criterion':['gini', 'entropy'], 'random_state':[42]}"
   ]
  },
  {
   "cell_type": "code",
   "execution_count": 178,
   "id": "c142df29",
   "metadata": {},
   "outputs": [],
   "source": [
    "GCV=GridSearchCV(RandomForestClassifier(),parameters)"
   ]
  },
  {
   "cell_type": "code",
   "execution_count": 179,
   "id": "f19557d0",
   "metadata": {},
   "outputs": [
    {
     "data": {
      "text/plain": [
       "GridSearchCV(estimator=RandomForestClassifier(),\n",
       "             param_grid={'criterion': ['gini', 'entropy'],\n",
       "                         'max_depth': ['None', 4, 5, 6, 7, 8],\n",
       "                         'max_features': ['auto', 'sqrt'],\n",
       "                         'random_state': [42]})"
      ]
     },
     "execution_count": 179,
     "metadata": {},
     "output_type": "execute_result"
    }
   ],
   "source": [
    "GCV.fit(x_train3, y_train3) #fitting the data into model"
   ]
  },
  {
   "cell_type": "code",
   "execution_count": 180,
   "id": "48fd11a7",
   "metadata": {},
   "outputs": [
    {
     "data": {
      "text/plain": [
       "{'criterion': 'entropy',\n",
       " 'max_depth': 7,\n",
       " 'max_features': 'auto',\n",
       " 'random_state': 42}"
      ]
     },
     "execution_count": 180,
     "metadata": {},
     "output_type": "execute_result"
    }
   ],
   "source": [
    "GCV.best_params_"
   ]
  },
  {
   "cell_type": "code",
   "execution_count": 181,
   "id": "f404954c",
   "metadata": {},
   "outputs": [
    {
     "data": {
      "text/plain": [
       "RandomForestClassifier(criterion='entropy', max_depth=7, random_state=42)"
      ]
     },
     "execution_count": 181,
     "metadata": {},
     "output_type": "execute_result"
    }
   ],
   "source": [
    "GCV.best_estimator_"
   ]
  },
  {
   "cell_type": "code",
   "execution_count": 182,
   "id": "3e4beb22",
   "metadata": {},
   "outputs": [],
   "source": [
    "RFC_best2=RandomForestClassifier(criterion='entropy',max_depth=7,max_features='auto',random_state=42) #creating instance \n",
    "RFC_best2.fit(x_train3,y_train3)  #traing data\n",
    "RFC_best_pred2=RFC_best2.predict(x_test3) #predicting data"
   ]
  },
  {
   "cell_type": "markdown",
   "id": "bdc34061",
   "metadata": {},
   "source": [
    "## Evaluation"
   ]
  },
  {
   "cell_type": "code",
   "execution_count": 184,
   "id": "6b9a38f6",
   "metadata": {},
   "outputs": [
    {
     "name": "stdout",
     "output_type": "stream",
     "text": [
      "Accuracy:  0.8216062544420754\n",
      "[[946  97]\n",
      " [154 210]]\n",
      "              precision    recall  f1-score   support\n",
      "\n",
      "           0       0.86      0.91      0.88      1043\n",
      "           1       0.68      0.58      0.63       364\n",
      "\n",
      "    accuracy                           0.82      1407\n",
      "   macro avg       0.77      0.74      0.75      1407\n",
      "weighted avg       0.81      0.82      0.82      1407\n",
      "\n"
     ]
    }
   ],
   "source": [
    "#checking accuracy score\n",
    "print('Accuracy: ',accuracy_score(y_test3,RFC_best_pred2))\n",
    "#print confusion matrics\n",
    "print(confusion_matrix(y_test3,RFC_best_pred2))\n",
    "#printing classification report\n",
    "print(classification_report(y_test3,RFC_best_pred2))"
   ]
  },
  {
   "cell_type": "code",
   "execution_count": 185,
   "id": "08207542",
   "metadata": {},
   "outputs": [
    {
     "name": "stdout",
     "output_type": "stream",
     "text": [
      "precision for 0(NO) =  0.86\n",
      "precision for 1(YES) = 0.6840390879478827\n"
     ]
    }
   ],
   "source": [
    "# calculating precision =tp/tp+fp\n",
    "print('precision for 0(NO) = ',946    /(946    +154  ) )\n",
    "print('precision for 1(YES) =',210/(210+97))"
   ]
  },
  {
   "cell_type": "code",
   "execution_count": 186,
   "id": "b61506fe",
   "metadata": {},
   "outputs": [
    {
     "name": "stdout",
     "output_type": "stream",
     "text": [
      "recall for 0(NO) = 0.9069990412272292\n",
      "recall for 1(YES) = 0.5769230769230769\n"
     ]
    }
   ],
   "source": [
    "# calculating recall tp/tp+fn\n",
    "print('recall for 0(NO) =',946    /(946    +97))\n",
    "print('recall for 1(YES) =',210/(210+154  ))"
   ]
  },
  {
   "cell_type": "markdown",
   "id": "264a357d",
   "metadata": {},
   "source": [
    "## cross validation"
   ]
  },
  {
   "cell_type": "code",
   "execution_count": 188,
   "id": "cc69be99",
   "metadata": {},
   "outputs": [
    {
     "name": "stdout",
     "output_type": "stream",
     "text": [
      "cross validation score of Tuned RandomForestClassifier at cv folds 5 :  80.0\n"
     ]
    }
   ],
   "source": [
    "scr=cross_val_score(RFC_best2,x_scaled,y,cv=15)\n",
    "print('cross validation score of Tuned RandomForestClassifier at cv folds 5 : ',round(scr.mean(),2)*100)"
   ]
  },
  {
   "cell_type": "markdown",
   "id": "0f1bf8fc",
   "metadata": {},
   "source": [
    "# ROC AUC curve"
   ]
  },
  {
   "cell_type": "code",
   "execution_count": 189,
   "id": "cc496183",
   "metadata": {},
   "outputs": [],
   "source": [
    "from sklearn.metrics import plot_roc_curve"
   ]
  },
  {
   "cell_type": "code",
   "execution_count": 190,
   "id": "c9f0a862",
   "metadata": {},
   "outputs": [
    {
     "data": {
      "image/png": "[encoded data removed]",
      "text/plain": [
       "<Figure size 432x288 with 1 Axes>"
      ]
     },
     "metadata": {},
     "output_type": "display_data"
    }
   ],
   "source": [
    "plot_roc_curve(RFC_best2,x_test3,y_test3)\n",
    "plt.show()"
   ]
  },
  {
   "cell_type": "markdown",
   "id": "198c44e6",
   "metadata": {},
   "source": [
    "* we have got the AUC score 0.85 which is good score"
   ]
  },
  {
   "cell_type": "markdown",
   "id": "75f2fe23",
   "metadata": {},
   "source": [
    "# Model Saving"
   ]
  },
  {
   "cell_type": "code",
   "execution_count": 191,
   "id": "5b2098ee",
   "metadata": {},
   "outputs": [],
   "source": [
    "import pickle"
   ]
  },
  {
   "cell_type": "code",
   "execution_count": 192,
   "id": "22796bd3",
   "metadata": {},
   "outputs": [],
   "source": [
    "RFC_best_file2='customer_churn.pkl'\n",
    "pickle.dump(RFC_best2,open(RFC_best_file2,'wb'))"
   ]
  },
  {
   "cell_type": "markdown",
   "id": "f48c9c7f",
   "metadata": {},
   "source": [
    "# Conclusion"
   ]
  },
  {
   "cell_type": "markdown",
   "id": "41de27bb",
   "metadata": {},
   "source": [
    "* I have choosed RandomForestClassifier as my final model on the basis of its accuracy score of training model and accuracy score of predicting model, cv score, f1score ,presicion , recall and ROC curve score.\n",
    "* our final model is giving accuracy score of 0.82 which is highest and best score among other models.\n",
    "* There is less difference between cross validation score(80.0) and accuracy score(82.16) for this model, it means the model is less underitting/overfitting compared to other models\n",
    "* The ROC score is 0.85 which is also a good score."
   ]
  }
 ],
 "metadata": {
  "kernelspec": {
   "display_name": "Python 3 (ipykernel)",
   "language": "python",
   "name": "python3"
  },
  "language_info": {
   "codemirror_mode": {
    "name": "ipython",
    "version": 3
   },
   "file_extension": ".py",
   "mimetype": "text/x-python",
   "name": "python",
   "nbconvert_exporter": "python",
   "pygments_lexer": "ipython3",
   "version": "3.9.7"
  }
 },
 "nbformat": 4,
 "nbformat_minor": 5
}
