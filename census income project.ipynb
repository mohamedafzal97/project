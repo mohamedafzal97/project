{
 "cells": [
  {
   "cell_type": "markdown",
   "id": "f6540cd0",
   "metadata": {},
   "source": [
    "# Census Income Project"
   ]
  },
  {
   "cell_type": "code",
   "execution_count": 1,
   "id": "08231348",
   "metadata": {},
   "outputs": [],
   "source": [
    "#importing all the required libraries for EDA and vizualiztion.\n",
    "import pandas as pd    # library for EDA.\n",
    "import numpy as np     # library for numerical calculations.\n",
    "import seaborn as sns  # library for vizualization.\n",
    "import matplotlib.pyplot as plt  # library for vizualization.\n",
    "import math\n",
    "import warnings\n",
    "warnings.filterwarnings('ignore')  # to ignore warnings"
   ]
  },
  {
   "cell_type": "code",
   "execution_count": 2,
   "id": "b9e257ac",
   "metadata": {},
   "outputs": [],
   "source": [
    "#lets load dataset \n",
    "df=pd.read_csv('https://raw.githubusercontent.com/dsrscientist/dataset1/master/census_income.csv')"
   ]
  },
  {
   "cell_type": "code",
   "execution_count": 3,
   "id": "2d5ebcf1",
   "metadata": {},
   "outputs": [
    {
     "data": {
      "text/plain": [
       "pandas.core.frame.DataFrame"
      ]
     },
     "execution_count": 3,
     "metadata": {},
     "output_type": "execute_result"
    }
   ],
   "source": [
    "#lets check the type of dataset\n",
    "type(df)\n",
    "#since our dataset is already dataframe, no need to again make dataframe"
   ]
  },
  {
   "cell_type": "code",
   "execution_count": 4,
   "id": "8c3ceb0e",
   "metadata": {},
   "outputs": [
    {
     "data": {
      "text/html": [
       "<div>\n",
       "<style scoped>\n",
       "    .dataframe tbody tr th:only-of-type {\n",
       "        vertical-align: middle;\n",
       "    }\n",
       "\n",
       "    .dataframe tbody tr th {\n",
       "        vertical-align: top;\n",
       "    }\n",
       "\n",
       "    .dataframe thead th {\n",
       "        text-align: right;\n",
       "    }\n",
       "</style>\n",
       "<table border=\"1\" class=\"dataframe\">\n",
       "  <thead>\n",
       "    <tr style=\"text-align: right;\">\n",
       "      <th></th>\n",
       "      <th>Age</th>\n",
       "      <th>Workclass</th>\n",
       "      <th>Fnlwgt</th>\n",
       "      <th>Education</th>\n",
       "      <th>Education_num</th>\n",
       "      <th>Marital_status</th>\n",
       "      <th>Occupation</th>\n",
       "      <th>Relationship</th>\n",
       "      <th>Race</th>\n",
       "      <th>Sex</th>\n",
       "      <th>Capital_gain</th>\n",
       "      <th>Capital_loss</th>\n",
       "      <th>Hours_per_week</th>\n",
       "      <th>Native_country</th>\n",
       "      <th>Income</th>\n",
       "    </tr>\n",
       "  </thead>\n",
       "  <tbody>\n",
       "    <tr>\n",
       "      <th>0</th>\n",
       "      <td>50</td>\n",
       "      <td>Self-emp-not-inc</td>\n",
       "      <td>83311</td>\n",
       "      <td>Bachelors</td>\n",
       "      <td>13</td>\n",
       "      <td>Married-civ-spouse</td>\n",
       "      <td>Exec-managerial</td>\n",
       "      <td>Husband</td>\n",
       "      <td>White</td>\n",
       "      <td>Male</td>\n",
       "      <td>0</td>\n",
       "      <td>0</td>\n",
       "      <td>13</td>\n",
       "      <td>United-States</td>\n",
       "      <td>&lt;=50K</td>\n",
       "    </tr>\n",
       "    <tr>\n",
       "      <th>1</th>\n",
       "      <td>38</td>\n",
       "      <td>Private</td>\n",
       "      <td>215646</td>\n",
       "      <td>HS-grad</td>\n",
       "      <td>9</td>\n",
       "      <td>Divorced</td>\n",
       "      <td>Handlers-cleaners</td>\n",
       "      <td>Not-in-family</td>\n",
       "      <td>White</td>\n",
       "      <td>Male</td>\n",
       "      <td>0</td>\n",
       "      <td>0</td>\n",
       "      <td>40</td>\n",
       "      <td>United-States</td>\n",
       "      <td>&lt;=50K</td>\n",
       "    </tr>\n",
       "    <tr>\n",
       "      <th>2</th>\n",
       "      <td>53</td>\n",
       "      <td>Private</td>\n",
       "      <td>234721</td>\n",
       "      <td>11th</td>\n",
       "      <td>7</td>\n",
       "      <td>Married-civ-spouse</td>\n",
       "      <td>Handlers-cleaners</td>\n",
       "      <td>Husband</td>\n",
       "      <td>Black</td>\n",
       "      <td>Male</td>\n",
       "      <td>0</td>\n",
       "      <td>0</td>\n",
       "      <td>40</td>\n",
       "      <td>United-States</td>\n",
       "      <td>&lt;=50K</td>\n",
       "    </tr>\n",
       "    <tr>\n",
       "      <th>3</th>\n",
       "      <td>28</td>\n",
       "      <td>Private</td>\n",
       "      <td>338409</td>\n",
       "      <td>Bachelors</td>\n",
       "      <td>13</td>\n",
       "      <td>Married-civ-spouse</td>\n",
       "      <td>Prof-specialty</td>\n",
       "      <td>Wife</td>\n",
       "      <td>Black</td>\n",
       "      <td>Female</td>\n",
       "      <td>0</td>\n",
       "      <td>0</td>\n",
       "      <td>40</td>\n",
       "      <td>Cuba</td>\n",
       "      <td>&lt;=50K</td>\n",
       "    </tr>\n",
       "    <tr>\n",
       "      <th>4</th>\n",
       "      <td>37</td>\n",
       "      <td>Private</td>\n",
       "      <td>284582</td>\n",
       "      <td>Masters</td>\n",
       "      <td>14</td>\n",
       "      <td>Married-civ-spouse</td>\n",
       "      <td>Exec-managerial</td>\n",
       "      <td>Wife</td>\n",
       "      <td>White</td>\n",
       "      <td>Female</td>\n",
       "      <td>0</td>\n",
       "      <td>0</td>\n",
       "      <td>40</td>\n",
       "      <td>United-States</td>\n",
       "      <td>&lt;=50K</td>\n",
       "    </tr>\n",
       "    <tr>\n",
       "      <th>...</th>\n",
       "      <td>...</td>\n",
       "      <td>...</td>\n",
       "      <td>...</td>\n",
       "      <td>...</td>\n",
       "      <td>...</td>\n",
       "      <td>...</td>\n",
       "      <td>...</td>\n",
       "      <td>...</td>\n",
       "      <td>...</td>\n",
       "      <td>...</td>\n",
       "      <td>...</td>\n",
       "      <td>...</td>\n",
       "      <td>...</td>\n",
       "      <td>...</td>\n",
       "      <td>...</td>\n",
       "    </tr>\n",
       "    <tr>\n",
       "      <th>32555</th>\n",
       "      <td>27</td>\n",
       "      <td>Private</td>\n",
       "      <td>257302</td>\n",
       "      <td>Assoc-acdm</td>\n",
       "      <td>12</td>\n",
       "      <td>Married-civ-spouse</td>\n",
       "      <td>Tech-support</td>\n",
       "      <td>Wife</td>\n",
       "      <td>White</td>\n",
       "      <td>Female</td>\n",
       "      <td>0</td>\n",
       "      <td>0</td>\n",
       "      <td>38</td>\n",
       "      <td>United-States</td>\n",
       "      <td>&lt;=50K</td>\n",
       "    </tr>\n",
       "    <tr>\n",
       "      <th>32556</th>\n",
       "      <td>40</td>\n",
       "      <td>Private</td>\n",
       "      <td>154374</td>\n",
       "      <td>HS-grad</td>\n",
       "      <td>9</td>\n",
       "      <td>Married-civ-spouse</td>\n",
       "      <td>Machine-op-inspct</td>\n",
       "      <td>Husband</td>\n",
       "      <td>White</td>\n",
       "      <td>Male</td>\n",
       "      <td>0</td>\n",
       "      <td>0</td>\n",
       "      <td>40</td>\n",
       "      <td>United-States</td>\n",
       "      <td>&gt;50K</td>\n",
       "    </tr>\n",
       "    <tr>\n",
       "      <th>32557</th>\n",
       "      <td>58</td>\n",
       "      <td>Private</td>\n",
       "      <td>151910</td>\n",
       "      <td>HS-grad</td>\n",
       "      <td>9</td>\n",
       "      <td>Widowed</td>\n",
       "      <td>Adm-clerical</td>\n",
       "      <td>Unmarried</td>\n",
       "      <td>White</td>\n",
       "      <td>Female</td>\n",
       "      <td>0</td>\n",
       "      <td>0</td>\n",
       "      <td>40</td>\n",
       "      <td>United-States</td>\n",
       "      <td>&lt;=50K</td>\n",
       "    </tr>\n",
       "    <tr>\n",
       "      <th>32558</th>\n",
       "      <td>22</td>\n",
       "      <td>Private</td>\n",
       "      <td>201490</td>\n",
       "      <td>HS-grad</td>\n",
       "      <td>9</td>\n",
       "      <td>Never-married</td>\n",
       "      <td>Adm-clerical</td>\n",
       "      <td>Own-child</td>\n",
       "      <td>White</td>\n",
       "      <td>Male</td>\n",
       "      <td>0</td>\n",
       "      <td>0</td>\n",
       "      <td>20</td>\n",
       "      <td>United-States</td>\n",
       "      <td>&lt;=50K</td>\n",
       "    </tr>\n",
       "    <tr>\n",
       "      <th>32559</th>\n",
       "      <td>52</td>\n",
       "      <td>Self-emp-inc</td>\n",
       "      <td>287927</td>\n",
       "      <td>HS-grad</td>\n",
       "      <td>9</td>\n",
       "      <td>Married-civ-spouse</td>\n",
       "      <td>Exec-managerial</td>\n",
       "      <td>Wife</td>\n",
       "      <td>White</td>\n",
       "      <td>Female</td>\n",
       "      <td>15024</td>\n",
       "      <td>0</td>\n",
       "      <td>40</td>\n",
       "      <td>United-States</td>\n",
       "      <td>&gt;50K</td>\n",
       "    </tr>\n",
       "  </tbody>\n",
       "</table>\n",
       "<p>32560 rows × 15 columns</p>\n",
       "</div>"
      ],
      "text/plain": [
       "       Age          Workclass  Fnlwgt    Education  Education_num  \\\n",
       "0       50   Self-emp-not-inc   83311    Bachelors             13   \n",
       "1       38            Private  215646      HS-grad              9   \n",
       "2       53            Private  234721         11th              7   \n",
       "3       28            Private  338409    Bachelors             13   \n",
       "4       37            Private  284582      Masters             14   \n",
       "...    ...                ...     ...          ...            ...   \n",
       "32555   27            Private  257302   Assoc-acdm             12   \n",
       "32556   40            Private  154374      HS-grad              9   \n",
       "32557   58            Private  151910      HS-grad              9   \n",
       "32558   22            Private  201490      HS-grad              9   \n",
       "32559   52       Self-emp-inc  287927      HS-grad              9   \n",
       "\n",
       "            Marital_status          Occupation    Relationship    Race  \\\n",
       "0       Married-civ-spouse     Exec-managerial         Husband   White   \n",
       "1                 Divorced   Handlers-cleaners   Not-in-family   White   \n",
       "2       Married-civ-spouse   Handlers-cleaners         Husband   Black   \n",
       "3       Married-civ-spouse      Prof-specialty            Wife   Black   \n",
       "4       Married-civ-spouse     Exec-managerial            Wife   White   \n",
       "...                    ...                 ...             ...     ...   \n",
       "32555   Married-civ-spouse        Tech-support            Wife   White   \n",
       "32556   Married-civ-spouse   Machine-op-inspct         Husband   White   \n",
       "32557              Widowed        Adm-clerical       Unmarried   White   \n",
       "32558        Never-married        Adm-clerical       Own-child   White   \n",
       "32559   Married-civ-spouse     Exec-managerial            Wife   White   \n",
       "\n",
       "           Sex  Capital_gain  Capital_loss  Hours_per_week  Native_country  \\\n",
       "0         Male             0             0              13   United-States   \n",
       "1         Male             0             0              40   United-States   \n",
       "2         Male             0             0              40   United-States   \n",
       "3       Female             0             0              40            Cuba   \n",
       "4       Female             0             0              40   United-States   \n",
       "...        ...           ...           ...             ...             ...   \n",
       "32555   Female             0             0              38   United-States   \n",
       "32556     Male             0             0              40   United-States   \n",
       "32557   Female             0             0              40   United-States   \n",
       "32558     Male             0             0              20   United-States   \n",
       "32559   Female         15024             0              40   United-States   \n",
       "\n",
       "       Income  \n",
       "0       <=50K  \n",
       "1       <=50K  \n",
       "2       <=50K  \n",
       "3       <=50K  \n",
       "4       <=50K  \n",
       "...       ...  \n",
       "32555   <=50K  \n",
       "32556    >50K  \n",
       "32557   <=50K  \n",
       "32558   <=50K  \n",
       "32559    >50K  \n",
       "\n",
       "[32560 rows x 15 columns]"
      ]
     },
     "execution_count": 4,
     "metadata": {},
     "output_type": "execute_result"
    }
   ],
   "source": [
    "df"
   ]
  },
  {
   "cell_type": "markdown",
   "id": "90ca96f4",
   "metadata": {},
   "source": [
    "# Exploratory Data Analysis(EDA)"
   ]
  },
  {
   "cell_type": "code",
   "execution_count": 5,
   "id": "8987a747",
   "metadata": {},
   "outputs": [
    {
     "data": {
      "text/plain": [
       "Index(['Age', 'Workclass', 'Fnlwgt', 'Education', 'Education_num',\n",
       "       'Marital_status', 'Occupation', 'Relationship', 'Race', 'Sex',\n",
       "       'Capital_gain', 'Capital_loss', 'Hours_per_week', 'Native_country',\n",
       "       'Income'],\n",
       "      dtype='object')"
      ]
     },
     "execution_count": 5,
     "metadata": {},
     "output_type": "execute_result"
    }
   ],
   "source": [
    "#print columns\n",
    "df.columns"
   ]
  },
  {
   "cell_type": "code",
   "execution_count": 6,
   "id": "e86576cb",
   "metadata": {},
   "outputs": [
    {
     "data": {
      "text/plain": [
       "(32560, 15)"
      ]
     },
     "execution_count": 6,
     "metadata": {},
     "output_type": "execute_result"
    }
   ],
   "source": [
    "#checking rows and columns\n",
    "df.shape"
   ]
  },
  {
   "cell_type": "code",
   "execution_count": 7,
   "id": "b6cc78bc",
   "metadata": {},
   "outputs": [
    {
     "data": {
      "text/plain": [
       "Age                int64\n",
       "Workclass         object\n",
       "Fnlwgt             int64\n",
       "Education         object\n",
       "Education_num      int64\n",
       "Marital_status    object\n",
       "Occupation        object\n",
       "Relationship      object\n",
       "Race              object\n",
       "Sex               object\n",
       "Capital_gain       int64\n",
       "Capital_loss       int64\n",
       "Hours_per_week     int64\n",
       "Native_country    object\n",
       "Income            object\n",
       "dtype: object"
      ]
     },
     "execution_count": 7,
     "metadata": {},
     "output_type": "execute_result"
    }
   ],
   "source": [
    "#checking datatype of each column\n",
    "df.dtypes"
   ]
  },
  {
   "cell_type": "code",
   "execution_count": 8,
   "id": "c327104f",
   "metadata": {},
   "outputs": [
    {
     "data": {
      "text/plain": [
       "Age               0\n",
       "Workclass         0\n",
       "Fnlwgt            0\n",
       "Education         0\n",
       "Education_num     0\n",
       "Marital_status    0\n",
       "Occupation        0\n",
       "Relationship      0\n",
       "Race              0\n",
       "Sex               0\n",
       "Capital_gain      0\n",
       "Capital_loss      0\n",
       "Hours_per_week    0\n",
       "Native_country    0\n",
       "Income            0\n",
       "dtype: int64"
      ]
     },
     "execution_count": 8,
     "metadata": {},
     "output_type": "execute_result"
    }
   ],
   "source": [
    "#  check null values and summing up columns wise\n",
    "df.isnull().sum()"
   ]
  },
  {
   "cell_type": "code",
   "execution_count": 9,
   "id": "25ebfb1e",
   "metadata": {},
   "outputs": [
    {
     "data": {
      "image/png": "[encoded data removed]",
      "text/plain": [
       "<Figure size 864x432 with 2 Axes>"
      ]
     },
     "metadata": {
      "needs_background": "light"
     },
     "output_type": "display_data"
    }
   ],
   "source": [
    "#isnull using heat map\n",
    "plt.figure(figsize=(12,6))\n",
    "sns.heatmap(df.isnull())\n",
    "plt.title('isnull using heatmap', fontsize=15, color='purple')\n",
    "plt.xticks(fontsize=12)\n",
    "plt.yticks(fontsize=12)\n",
    "plt.show()"
   ]
  },
  {
   "cell_type": "markdown",
   "id": "ddca5462",
   "metadata": {},
   "source": [
    "### Observations:"
   ]
  },
  {
   "cell_type": "markdown",
   "id": "9eb7ac36",
   "metadata": {},
   "source": [
    "* from the above outcomes we can see that\n",
    "   1. Dataset has 32560 rows and 15 columns.\n",
    "   2. There are no null values present in the dataset.\n",
    "   3. In the heat map there are no lines which shows null, heat map is clean and have no shades.\n",
    "   4. The Dataset columns have 6 int64 dtypes columns and 9 object dtypes columns."
   ]
  },
  {
   "cell_type": "code",
   "execution_count": 10,
   "id": "d44533e0",
   "metadata": {},
   "outputs": [
    {
     "data": {
      "image/png": "[encoded data removed]",
      "text/plain": [
       "<Figure size 864x432 with 1 Axes>"
      ]
     },
     "metadata": {
      "needs_background": "light"
     },
     "output_type": "display_data"
    },
    {
     "name": "stdout",
     "output_type": "stream",
     "text": [
      "Minimum age: 17\n",
      "Maximum age: 90\n",
      "Unique ages:  {17, 18, 19, 20, 21, 22, 23, 24, 25, 26, 27, 28, 29, 30, 31, 32, 33, 34, 35, 36, 37, 38, 39, 40, 41, 42, 43, 44, 45, 46, 47, 48, 49, 50, 51, 52, 53, 54, 55, 56, 57, 58, 59, 60, 61, 62, 63, 64, 65, 66, 67, 68, 69, 70, 71, 72, 73, 74, 75, 76, 77, 78, 79, 80, 81, 82, 83, 84, 85, 86, 87, 88, 90}\n",
      "Unique ages length:  73\n"
     ]
    }
   ],
   "source": [
    "#distribution of Age\n",
    "plt.figure(figsize=(12,6))\n",
    "sns.histplot(df['Age'], kde=True)\n",
    "plt.title('Distribution of Age',fontsize=15)\n",
    "plt.xlabel('Age',fontsize=13)\n",
    "plt.ylabel('Count',fontsize=13)\n",
    "plt.show()\n",
    "\n",
    "print('Minimum age:',df['Age'].min())\n",
    "print('Maximum age:',df['Age'].max())\n",
    "print('Unique ages: ',set(df['Age'].sort_values(ascending=True)))\n",
    "print('Unique ages length: ',len(df['Age'].unique()))"
   ]
  },
  {
   "cell_type": "markdown",
   "id": "63655683",
   "metadata": {},
   "source": [
    "### Observations"
   ]
  },
  {
   "cell_type": "markdown",
   "id": "e41f2127",
   "metadata": {},
   "source": [
    "* The Age is distributed from 17 years to 90 years old and we have 73 diferent age groups.\n",
    "* The minimum age is 17 years old and maximum age 90 years old .\n",
    "* maximum number of people are from age 22 to 50 years old.\n",
    "* The least number of records are of people from age 70 and above."
   ]
  },
  {
   "cell_type": "code",
   "execution_count": 11,
   "id": "1e7a8791",
   "metadata": {},
   "outputs": [
    {
     "data": {
      "text/plain": [
       "Age                  73\n",
       "Workclass             9\n",
       "Fnlwgt            21647\n",
       "Education            16\n",
       "Education_num        16\n",
       "Marital_status        7\n",
       "Occupation           15\n",
       "Relationship          6\n",
       "Race                  5\n",
       "Sex                   2\n",
       "Capital_gain        119\n",
       "Capital_loss         92\n",
       "Hours_per_week       94\n",
       "Native_country       42\n",
       "Income                2\n",
       "dtype: int64"
      ]
     },
     "execution_count": 11,
     "metadata": {},
     "output_type": "execute_result"
    }
   ],
   "source": [
    "df.nunique()"
   ]
  },
  {
   "cell_type": "code",
   "execution_count": 12,
   "id": "2cc5e3b3",
   "metadata": {},
   "outputs": [
    {
     "data": {
      "image/png": "[encoded data removed]",
      "text/plain": [
       "<Figure size 720x432 with 1 Axes>"
      ]
     },
     "metadata": {
      "needs_background": "light"
     },
     "output_type": "display_data"
    },
    {
     "name": "stdout",
     "output_type": "stream",
     "text": [
      "Income: [' <=50K' ' >50K']\n",
      "Income:  2\n"
     ]
    },
    {
     "data": {
      "text/plain": [
       " <=50K    24719\n",
       " >50K      7841\n",
       "Name: Income, dtype: int64"
      ]
     },
     "execution_count": 12,
     "metadata": {},
     "output_type": "execute_result"
    }
   ],
   "source": [
    "plt.figure(figsize=(10,6))\n",
    "sns.countplot(df['Income'], palette='BuGn')\n",
    "plt.title('Income count', fontsize=15)\n",
    "plt.xlabel('Income', fontsize=12)\n",
    "plt.ylabel('count', fontsize=12)\n",
    "plt.show()\n",
    "\n",
    "print('Income:', df['Income'].unique())\n",
    "print('Income: ', len(df['Income'].unique()))\n",
    "df['Income'].value_counts()"
   ]
  },
  {
   "cell_type": "markdown",
   "id": "12281c29",
   "metadata": {},
   "source": [
    "### Observations"
   ]
  },
  {
   "cell_type": "markdown",
   "id": "6df184bb",
   "metadata": {},
   "source": [
    "* The people who earn more than 50k are less compared to who earns 50k and below.\n",
    "* 24719 people erans below 50k and only 7841 people earns above 50k."
   ]
  },
  {
   "cell_type": "code",
   "execution_count": 13,
   "id": "4371dff4",
   "metadata": {},
   "outputs": [
    {
     "data": {
      "image/png": "[encoded data removed]",
      "text/plain": [
       "<Figure size 864x432 with 1 Axes>"
      ]
     },
     "metadata": {
      "needs_background": "light"
     },
     "output_type": "display_data"
    },
    {
     "data": {
      "text/plain": [
       " Private             22696\n",
       " Self-emp-not-inc     2541\n",
       " Local-gov            2093\n",
       " ?                    1836\n",
       " State-gov            1297\n",
       " Self-emp-inc         1116\n",
       " Federal-gov           960\n",
       " Without-pay            14\n",
       " Never-worked            7\n",
       "Name: Workclass, dtype: int64"
      ]
     },
     "execution_count": 13,
     "metadata": {},
     "output_type": "execute_result"
    }
   ],
   "source": [
    "plt.figure(figsize=(12,6))\n",
    "sns.countplot(df['Workclass'], hue= df['Income'],palette='summer')\n",
    "plt.title('Workclass count', fontsize=15)\n",
    "plt.xlabel('Workclass', fontsize=12)\n",
    "plt.ylabel('count', fontsize=12)\n",
    "plt.legend(fontsize=14)\n",
    "plt.show()\n",
    "\n",
    "df['Workclass'].value_counts()"
   ]
  },
  {
   "cell_type": "markdown",
   "id": "f2eb0489",
   "metadata": {},
   "source": [
    "### Observations"
   ]
  },
  {
   "cell_type": "markdown",
   "id": "8f7652f6",
   "metadata": {},
   "source": [
    "* People who have private jobs are more(22696) in the dataset compared to other work classes.\n",
    "* In private work_class the majority is of people whose income is 50k and below.\n",
    "* In self employed work_class majority is of people whose income is above 50k.\n",
    "* Except that all the other work classes have majority of 50k and below income.\n",
    "* And in withiut pay and never worked classes there is no income."
   ]
  },
  {
   "cell_type": "code",
   "execution_count": 14,
   "id": "98b989cc",
   "metadata": {},
   "outputs": [
    {
     "data": {
      "image/png": "[encoded data removed]",
      "text/plain": [
       "<Figure size 1440x432 with 1 Axes>"
      ]
     },
     "metadata": {
      "needs_background": "light"
     },
     "output_type": "display_data"
    },
    {
     "data": {
      "text/plain": [
       " HS-grad         10501\n",
       " Some-college     7291\n",
       " Bachelors        5354\n",
       " Masters          1723\n",
       " Assoc-voc        1382\n",
       " 11th             1175\n",
       " Assoc-acdm       1067\n",
       " 10th              933\n",
       " 7th-8th           646\n",
       " Prof-school       576\n",
       " 9th               514\n",
       " 12th              433\n",
       " Doctorate         413\n",
       " 5th-6th           333\n",
       " 1st-4th           168\n",
       " Preschool          51\n",
       "Name: Education, dtype: int64"
      ]
     },
     "execution_count": 14,
     "metadata": {},
     "output_type": "execute_result"
    }
   ],
   "source": [
    "plt.figure(figsize=(20,6))\n",
    "sns.countplot(df['Education'], hue= df['Income'],palette='Greys')\n",
    "plt.title('Education count', fontsize=20)\n",
    "plt.xticks(fontsize=12)\n",
    "plt.yticks(fontsize=12)\n",
    "plt.xlabel('Education', fontsize=15)\n",
    "plt.ylabel('count', fontsize=15)\n",
    "plt.legend(fontsize=14)\n",
    "plt.show()\n",
    "\n",
    "df['Education'].value_counts()"
   ]
  },
  {
   "cell_type": "markdown",
   "id": "58da3584",
   "metadata": {},
   "source": [
    "### Observations"
   ]
  },
  {
   "cell_type": "markdown",
   "id": "75c4cdb5",
   "metadata": {},
   "source": [
    "* The dataset contains 10501 records of HS-grad whichis the highest compared to others and majority of people among HS-grad earns 50k and below.\n",
    "* The people who has Masters , Doctrate and Prof-school has income of above 50k.\n",
    "* Neglicgible amount of people earns above 50k with education from 1st to 12th."
   ]
  },
  {
   "cell_type": "code",
   "execution_count": 15,
   "id": "c63411ea",
   "metadata": {},
   "outputs": [
    {
     "data": {
      "image/png": "[encoded data removed]",
      "text/plain": [
       "<Figure size 1440x576 with 1 Axes>"
      ]
     },
     "metadata": {
      "needs_background": "light"
     },
     "output_type": "display_data"
    },
    {
     "data": {
      "text/plain": [
       " Married-civ-spouse       14976\n",
       " Never-married            10682\n",
       " Divorced                  4443\n",
       " Separated                 1025\n",
       " Widowed                    993\n",
       " Married-spouse-absent      418\n",
       " Married-AF-spouse           23\n",
       "Name: Marital_status, dtype: int64"
      ]
     },
     "execution_count": 15,
     "metadata": {},
     "output_type": "execute_result"
    }
   ],
   "source": [
    "plt.figure(figsize=(20,8))\n",
    "sns.countplot(df['Marital_status'], hue= df['Income'],palette='bone_r')\n",
    "plt.title('Marital_status count', fontsize=20)\n",
    "plt.xticks(fontsize=15)\n",
    "plt.yticks(fontsize=15)\n",
    "plt.xlabel('Marital_status', fontsize=18)\n",
    "plt.ylabel('count', fontsize=18)\n",
    "plt.legend(fontsize=15)\n",
    "plt.show()\n",
    "\n",
    "df['Marital_status'].value_counts()"
   ]
  },
  {
   "cell_type": "markdown",
   "id": "824a911b",
   "metadata": {},
   "source": [
    "### Observations"
   ]
  },
  {
   "cell_type": "markdown",
   "id": "5da4529d",
   "metadata": {},
   "source": [
    "* The majority of people are married-civ-spouse(14976) followed by people whos marital status is Never-married(10682).\n",
    "* The least number of people are having armed forces spouse(23)\n",
    "* The people who are married to civillians are in the majority of people who earns above 50k, apart from that people with other marital status has only few numbers who earns more than 50k."
   ]
  },
  {
   "cell_type": "code",
   "execution_count": 16,
   "id": "f5499fc1",
   "metadata": {},
   "outputs": [
    {
     "data": {
      "image/png": "[encoded data removed]",
      "text/plain": [
       "<Figure size 1440x576 with 1 Axes>"
      ]
     },
     "metadata": {
      "needs_background": "light"
     },
     "output_type": "display_data"
    },
    {
     "data": {
      "text/plain": [
       " Husband           13193\n",
       " Not-in-family      8304\n",
       " Own-child          5068\n",
       " Unmarried          3446\n",
       " Wife               1568\n",
       " Other-relative      981\n",
       "Name: Relationship, dtype: int64"
      ]
     },
     "execution_count": 16,
     "metadata": {},
     "output_type": "execute_result"
    }
   ],
   "source": [
    "plt.figure(figsize=(20,8))\n",
    "sns.countplot(df['Relationship'], hue= df['Income'],palette='OrRd')\n",
    "plt.title('Income based on Relationship count', fontsize=20)\n",
    "plt.xticks(fontsize=12,rotation=0)\n",
    "plt.yticks(fontsize=12)\n",
    "plt.xlabel('Relationship', fontsize=18)\n",
    "plt.ylabel('count', fontsize=18)\n",
    "plt.legend(fontsize=15)\n",
    "plt.show()\n",
    "\n",
    "df['Relationship'].value_counts()"
   ]
  },
  {
   "cell_type": "markdown",
   "id": "219d507b",
   "metadata": {},
   "source": [
    "### Observations"
   ]
  },
  {
   "cell_type": "markdown",
   "id": "d036fc44",
   "metadata": {},
   "source": [
    "* In Husband, income with 50k and below are more comapred to income above 50k\n",
    "* second comes people who are not in family(8304)\n",
    "* In wife category the people who are earning 50k and below are almost equal to the count of people who are earning above 50k."
   ]
  },
  {
   "cell_type": "code",
   "execution_count": 17,
   "id": "c81f7228",
   "metadata": {},
   "outputs": [
    {
     "data": {
      "image/png": "[encoded data removed]",
      "text/plain": [
       "<Figure size 1440x576 with 1 Axes>"
      ]
     },
     "metadata": {
      "needs_background": "light"
     },
     "output_type": "display_data"
    },
    {
     "data": {
      "text/plain": [
       " White                 27815\n",
       " Black                  3124\n",
       " Asian-Pac-Islander     1039\n",
       " Amer-Indian-Eskimo      311\n",
       " Other                   271\n",
       "Name: Race, dtype: int64"
      ]
     },
     "execution_count": 17,
     "metadata": {},
     "output_type": "execute_result"
    }
   ],
   "source": [
    "plt.figure(figsize=(20,8))\n",
    "sns.countplot(df['Race'], hue= df['Income'],palette='PuBu_r')\n",
    "plt.title('Income based on Race count', fontsize=20)\n",
    "plt.xticks(fontsize=12,rotation=0)\n",
    "plt.yticks(fontsize=12)\n",
    "plt.xlabel('Race', fontsize=18)\n",
    "plt.ylabel('count', fontsize=18)\n",
    "plt.legend(fontsize=15)\n",
    "plt.show()\n",
    "\n",
    "df['Race'].value_counts()"
   ]
  },
  {
   "cell_type": "markdown",
   "id": "f8023ba5",
   "metadata": {},
   "source": [
    "### Observations"
   ]
  },
  {
   "cell_type": "markdown",
   "id": "58cd29cd",
   "metadata": {},
   "source": [
    "* In the dataset white people(27815) are in majority,sceond comes black people(3124).\n",
    "* in all the races majority are the people who are earning 50k and below."
   ]
  },
  {
   "cell_type": "code",
   "execution_count": 18,
   "id": "705ca1a9",
   "metadata": {},
   "outputs": [
    {
     "data": {
      "image/png": "[encoded data removed]",
      "text/plain": [
       "<Figure size 864x576 with 1 Axes>"
      ]
     },
     "metadata": {
      "needs_background": "light"
     },
     "output_type": "display_data"
    },
    {
     "data": {
      "text/plain": [
       " Male      21789\n",
       " Female    10771\n",
       "Name: Sex, dtype: int64"
      ]
     },
     "execution_count": 18,
     "metadata": {},
     "output_type": "execute_result"
    }
   ],
   "source": [
    "plt.figure(figsize=(12,8))\n",
    "sns.countplot(df['Sex'], hue= df['Income'],palette='Accent')\n",
    "plt.title('Income based on Sex count', fontsize=20)\n",
    "plt.xticks(fontsize=12,rotation=0)\n",
    "plt.yticks(fontsize=12)\n",
    "plt.xlabel('Sex', fontsize=18)\n",
    "plt.ylabel('count', fontsize=18)\n",
    "plt.legend(fontsize=15)\n",
    "plt.show()\n",
    "\n",
    "df['Sex'].value_counts()"
   ]
  },
  {
   "cell_type": "markdown",
   "id": "32729ec0",
   "metadata": {},
   "source": [
    "### Observations"
   ]
  },
  {
   "cell_type": "markdown",
   "id": "cbbd2f29",
   "metadata": {},
   "source": [
    "* we have 21789 records of males and 10771 records of females in our dataset.\n",
    "* males are in majority compared to females.\n",
    "* In both the sex category majority of people are earning 50k and below."
   ]
  },
  {
   "cell_type": "code",
   "execution_count": 19,
   "id": "47a44d63",
   "metadata": {},
   "outputs": [
    {
     "data": {
      "image/png": "[encoded data removed]",
      "text/plain": [
       "<Figure size 1080x576 with 1 Axes>"
      ]
     },
     "metadata": {
      "needs_background": "light"
     },
     "output_type": "display_data"
    },
    {
     "name": "stdout",
     "output_type": "stream",
     "text": [
      "Total unique countries:  42\n",
      " United-States                 29169\n",
      " Mexico                          643\n",
      " ?                               583\n",
      " Philippines                     198\n",
      " Germany                         137\n",
      " Canada                          121\n",
      " Puerto-Rico                     114\n",
      " El-Salvador                     106\n",
      " India                           100\n",
      " Cuba                             95\n",
      " England                          90\n",
      " Jamaica                          81\n",
      " South                            80\n",
      " China                            75\n",
      " Italy                            73\n",
      " Dominican-Republic               70\n",
      " Vietnam                          67\n",
      " Guatemala                        64\n",
      " Japan                            62\n",
      " Poland                           60\n",
      " Columbia                         59\n",
      " Taiwan                           51\n",
      " Haiti                            44\n",
      " Iran                             43\n",
      " Portugal                         37\n",
      " Nicaragua                        34\n",
      " Peru                             31\n",
      " France                           29\n",
      " Greece                           29\n",
      " Ecuador                          28\n",
      " Ireland                          24\n",
      " Hong                             20\n",
      " Cambodia                         19\n",
      " Trinadad&Tobago                  19\n",
      " Laos                             18\n",
      " Thailand                         18\n",
      " Yugoslavia                       16\n",
      " Outlying-US(Guam-USVI-etc)       14\n",
      " Honduras                         13\n",
      " Hungary                          13\n",
      " Scotland                         12\n",
      " Holand-Netherlands                1\n",
      "Name: Native_country, dtype: int64\n"
     ]
    }
   ],
   "source": [
    "plt.figure(figsize=(15,8))\n",
    "sns.countplot(df['Native_country'], hue= df['Income'],palette='gnuplot')\n",
    "plt.title('Income based on Native_country count', fontsize=20)\n",
    "plt.xticks(fontsize=12,rotation=90)\n",
    "plt.yticks(fontsize=12)\n",
    "plt.xlabel('Native_country', fontsize=18)\n",
    "plt.ylabel('count', fontsize=18)\n",
    "plt.legend(fontsize=15)\n",
    "plt.show()\n",
    "\n",
    "print('Total unique countries: ',len(df['Native_country'].unique()))\n",
    "print(df['Native_country'].value_counts())"
   ]
  },
  {
   "cell_type": "markdown",
   "id": "71f6af3c",
   "metadata": {},
   "source": [
    "### Observations"
   ]
  },
  {
   "cell_type": "markdown",
   "id": "fd49488a",
   "metadata": {},
   "source": [
    "* The records have been collected from total 42 differents countries.\n",
    "* majority of records are from United states(29169)\n",
    "* In all the countries people who are earning 50k and below are in majority\n",
    "* In united states nearly 75000 people earn more than 50k and nearly 21500 people earn 50k and below"
   ]
  },
  {
   "cell_type": "code",
   "execution_count": 20,
   "id": "ede9231c",
   "metadata": {},
   "outputs": [
    {
     "data": {
      "image/png": "[encoded data removed]",
      "text/plain": [
       "<Figure size 1800x576 with 1 Axes>"
      ]
     },
     "metadata": {
      "needs_background": "light"
     },
     "output_type": "display_data"
    },
    {
     "data": {
      "text/plain": [
       "40    15216\n",
       "50     2819\n",
       "45     1824\n",
       "60     1475\n",
       "35     1297\n",
       "      ...  \n",
       "82        1\n",
       "94        1\n",
       "92        1\n",
       "74        1\n",
       "87        1\n",
       "Name: Hours_per_week, Length: 94, dtype: int64"
      ]
     },
     "execution_count": 20,
     "metadata": {},
     "output_type": "execute_result"
    }
   ],
   "source": [
    "plt.figure(figsize=(25,8))\n",
    "sns.countplot(df['Hours_per_week'], hue= df['Income'],palette='Set1_r')\n",
    "plt.title('Income based on Hours_per_week', fontsize=20)\n",
    "plt.xticks(fontsize=12,rotation=0)\n",
    "plt.yticks(fontsize=12)\n",
    "plt.xlabel('Hours_per_week', fontsize=18)\n",
    "plt.ylabel('count', fontsize=18)\n",
    "plt.legend(fontsize=15)\n",
    "plt.show()\n",
    "\n",
    "df['Hours_per_week'].value_counts()"
   ]
  },
  {
   "cell_type": "markdown",
   "id": "91674bc8",
   "metadata": {},
   "source": [
    "### Observations"
   ]
  },
  {
   "cell_type": "markdown",
   "id": "d509104a",
   "metadata": {},
   "source": [
    " * Majority of people work 40 hours per week(15216 records) and in second position comes people who work 50 hours per week(2819 records)\n",
    " * The people who work 40 hours per week majorly earns 50k and below income and above 50k earners are less in comparision.\n",
    " * The people who work 50,55 and 60 hours per week have high chances of earning 50k and above income"
   ]
  },
  {
   "cell_type": "markdown",
   "id": "0102714c",
   "metadata": {},
   "source": [
    "# Describing Dataset"
   ]
  },
  {
   "cell_type": "code",
   "execution_count": 21,
   "id": "78fe53d8",
   "metadata": {},
   "outputs": [
    {
     "data": {
      "text/html": [
       "<div>\n",
       "<style scoped>\n",
       "    .dataframe tbody tr th:only-of-type {\n",
       "        vertical-align: middle;\n",
       "    }\n",
       "\n",
       "    .dataframe tbody tr th {\n",
       "        vertical-align: top;\n",
       "    }\n",
       "\n",
       "    .dataframe thead th {\n",
       "        text-align: right;\n",
       "    }\n",
       "</style>\n",
       "<table border=\"1\" class=\"dataframe\">\n",
       "  <thead>\n",
       "    <tr style=\"text-align: right;\">\n",
       "      <th></th>\n",
       "      <th>count</th>\n",
       "      <th>unique</th>\n",
       "      <th>top</th>\n",
       "      <th>freq</th>\n",
       "      <th>mean</th>\n",
       "      <th>std</th>\n",
       "      <th>min</th>\n",
       "      <th>25%</th>\n",
       "      <th>50%</th>\n",
       "      <th>75%</th>\n",
       "      <th>max</th>\n",
       "    </tr>\n",
       "  </thead>\n",
       "  <tbody>\n",
       "    <tr>\n",
       "      <th>Age</th>\n",
       "      <td>32560.0</td>\n",
       "      <td>NaN</td>\n",
       "      <td>NaN</td>\n",
       "      <td>NaN</td>\n",
       "      <td>38.581634</td>\n",
       "      <td>13.640642</td>\n",
       "      <td>17.0</td>\n",
       "      <td>28.0</td>\n",
       "      <td>37.0</td>\n",
       "      <td>48.0</td>\n",
       "      <td>90.0</td>\n",
       "    </tr>\n",
       "    <tr>\n",
       "      <th>Workclass</th>\n",
       "      <td>32560</td>\n",
       "      <td>9</td>\n",
       "      <td>Private</td>\n",
       "      <td>22696</td>\n",
       "      <td>NaN</td>\n",
       "      <td>NaN</td>\n",
       "      <td>NaN</td>\n",
       "      <td>NaN</td>\n",
       "      <td>NaN</td>\n",
       "      <td>NaN</td>\n",
       "      <td>NaN</td>\n",
       "    </tr>\n",
       "    <tr>\n",
       "      <th>Fnlwgt</th>\n",
       "      <td>32560.0</td>\n",
       "      <td>NaN</td>\n",
       "      <td>NaN</td>\n",
       "      <td>NaN</td>\n",
       "      <td>189781.814373</td>\n",
       "      <td>105549.764924</td>\n",
       "      <td>12285.0</td>\n",
       "      <td>117831.5</td>\n",
       "      <td>178363.0</td>\n",
       "      <td>237054.5</td>\n",
       "      <td>1484705.0</td>\n",
       "    </tr>\n",
       "    <tr>\n",
       "      <th>Education</th>\n",
       "      <td>32560</td>\n",
       "      <td>16</td>\n",
       "      <td>HS-grad</td>\n",
       "      <td>10501</td>\n",
       "      <td>NaN</td>\n",
       "      <td>NaN</td>\n",
       "      <td>NaN</td>\n",
       "      <td>NaN</td>\n",
       "      <td>NaN</td>\n",
       "      <td>NaN</td>\n",
       "      <td>NaN</td>\n",
       "    </tr>\n",
       "    <tr>\n",
       "      <th>Education_num</th>\n",
       "      <td>32560.0</td>\n",
       "      <td>NaN</td>\n",
       "      <td>NaN</td>\n",
       "      <td>NaN</td>\n",
       "      <td>10.08059</td>\n",
       "      <td>2.572709</td>\n",
       "      <td>1.0</td>\n",
       "      <td>9.0</td>\n",
       "      <td>10.0</td>\n",
       "      <td>12.0</td>\n",
       "      <td>16.0</td>\n",
       "    </tr>\n",
       "    <tr>\n",
       "      <th>Marital_status</th>\n",
       "      <td>32560</td>\n",
       "      <td>7</td>\n",
       "      <td>Married-civ-spouse</td>\n",
       "      <td>14976</td>\n",
       "      <td>NaN</td>\n",
       "      <td>NaN</td>\n",
       "      <td>NaN</td>\n",
       "      <td>NaN</td>\n",
       "      <td>NaN</td>\n",
       "      <td>NaN</td>\n",
       "      <td>NaN</td>\n",
       "    </tr>\n",
       "    <tr>\n",
       "      <th>Occupation</th>\n",
       "      <td>32560</td>\n",
       "      <td>15</td>\n",
       "      <td>Prof-specialty</td>\n",
       "      <td>4140</td>\n",
       "      <td>NaN</td>\n",
       "      <td>NaN</td>\n",
       "      <td>NaN</td>\n",
       "      <td>NaN</td>\n",
       "      <td>NaN</td>\n",
       "      <td>NaN</td>\n",
       "      <td>NaN</td>\n",
       "    </tr>\n",
       "    <tr>\n",
       "      <th>Relationship</th>\n",
       "      <td>32560</td>\n",
       "      <td>6</td>\n",
       "      <td>Husband</td>\n",
       "      <td>13193</td>\n",
       "      <td>NaN</td>\n",
       "      <td>NaN</td>\n",
       "      <td>NaN</td>\n",
       "      <td>NaN</td>\n",
       "      <td>NaN</td>\n",
       "      <td>NaN</td>\n",
       "      <td>NaN</td>\n",
       "    </tr>\n",
       "    <tr>\n",
       "      <th>Race</th>\n",
       "      <td>32560</td>\n",
       "      <td>5</td>\n",
       "      <td>White</td>\n",
       "      <td>27815</td>\n",
       "      <td>NaN</td>\n",
       "      <td>NaN</td>\n",
       "      <td>NaN</td>\n",
       "      <td>NaN</td>\n",
       "      <td>NaN</td>\n",
       "      <td>NaN</td>\n",
       "      <td>NaN</td>\n",
       "    </tr>\n",
       "    <tr>\n",
       "      <th>Sex</th>\n",
       "      <td>32560</td>\n",
       "      <td>2</td>\n",
       "      <td>Male</td>\n",
       "      <td>21789</td>\n",
       "      <td>NaN</td>\n",
       "      <td>NaN</td>\n",
       "      <td>NaN</td>\n",
       "      <td>NaN</td>\n",
       "      <td>NaN</td>\n",
       "      <td>NaN</td>\n",
       "      <td>NaN</td>\n",
       "    </tr>\n",
       "    <tr>\n",
       "      <th>Capital_gain</th>\n",
       "      <td>32560.0</td>\n",
       "      <td>NaN</td>\n",
       "      <td>NaN</td>\n",
       "      <td>NaN</td>\n",
       "      <td>1077.615172</td>\n",
       "      <td>7385.402999</td>\n",
       "      <td>0.0</td>\n",
       "      <td>0.0</td>\n",
       "      <td>0.0</td>\n",
       "      <td>0.0</td>\n",
       "      <td>99999.0</td>\n",
       "    </tr>\n",
       "    <tr>\n",
       "      <th>Capital_loss</th>\n",
       "      <td>32560.0</td>\n",
       "      <td>NaN</td>\n",
       "      <td>NaN</td>\n",
       "      <td>NaN</td>\n",
       "      <td>87.306511</td>\n",
       "      <td>402.966116</td>\n",
       "      <td>0.0</td>\n",
       "      <td>0.0</td>\n",
       "      <td>0.0</td>\n",
       "      <td>0.0</td>\n",
       "      <td>4356.0</td>\n",
       "    </tr>\n",
       "    <tr>\n",
       "      <th>Hours_per_week</th>\n",
       "      <td>32560.0</td>\n",
       "      <td>NaN</td>\n",
       "      <td>NaN</td>\n",
       "      <td>NaN</td>\n",
       "      <td>40.437469</td>\n",
       "      <td>12.347618</td>\n",
       "      <td>1.0</td>\n",
       "      <td>40.0</td>\n",
       "      <td>40.0</td>\n",
       "      <td>45.0</td>\n",
       "      <td>99.0</td>\n",
       "    </tr>\n",
       "    <tr>\n",
       "      <th>Native_country</th>\n",
       "      <td>32560</td>\n",
       "      <td>42</td>\n",
       "      <td>United-States</td>\n",
       "      <td>29169</td>\n",
       "      <td>NaN</td>\n",
       "      <td>NaN</td>\n",
       "      <td>NaN</td>\n",
       "      <td>NaN</td>\n",
       "      <td>NaN</td>\n",
       "      <td>NaN</td>\n",
       "      <td>NaN</td>\n",
       "    </tr>\n",
       "    <tr>\n",
       "      <th>Income</th>\n",
       "      <td>32560</td>\n",
       "      <td>2</td>\n",
       "      <td>&lt;=50K</td>\n",
       "      <td>24719</td>\n",
       "      <td>NaN</td>\n",
       "      <td>NaN</td>\n",
       "      <td>NaN</td>\n",
       "      <td>NaN</td>\n",
       "      <td>NaN</td>\n",
       "      <td>NaN</td>\n",
       "      <td>NaN</td>\n",
       "    </tr>\n",
       "  </tbody>\n",
       "</table>\n",
       "</div>"
      ],
      "text/plain": [
       "                  count unique                  top   freq           mean  \\\n",
       "Age             32560.0    NaN                  NaN    NaN      38.581634   \n",
       "Workclass         32560      9              Private  22696            NaN   \n",
       "Fnlwgt          32560.0    NaN                  NaN    NaN  189781.814373   \n",
       "Education         32560     16              HS-grad  10501            NaN   \n",
       "Education_num   32560.0    NaN                  NaN    NaN       10.08059   \n",
       "Marital_status    32560      7   Married-civ-spouse  14976            NaN   \n",
       "Occupation        32560     15       Prof-specialty   4140            NaN   \n",
       "Relationship      32560      6              Husband  13193            NaN   \n",
       "Race              32560      5                White  27815            NaN   \n",
       "Sex               32560      2                 Male  21789            NaN   \n",
       "Capital_gain    32560.0    NaN                  NaN    NaN    1077.615172   \n",
       "Capital_loss    32560.0    NaN                  NaN    NaN      87.306511   \n",
       "Hours_per_week  32560.0    NaN                  NaN    NaN      40.437469   \n",
       "Native_country    32560     42        United-States  29169            NaN   \n",
       "Income            32560      2                <=50K  24719            NaN   \n",
       "\n",
       "                          std      min       25%       50%       75%  \\\n",
       "Age                 13.640642     17.0      28.0      37.0      48.0   \n",
       "Workclass                 NaN      NaN       NaN       NaN       NaN   \n",
       "Fnlwgt          105549.764924  12285.0  117831.5  178363.0  237054.5   \n",
       "Education                 NaN      NaN       NaN       NaN       NaN   \n",
       "Education_num        2.572709      1.0       9.0      10.0      12.0   \n",
       "Marital_status            NaN      NaN       NaN       NaN       NaN   \n",
       "Occupation                NaN      NaN       NaN       NaN       NaN   \n",
       "Relationship              NaN      NaN       NaN       NaN       NaN   \n",
       "Race                      NaN      NaN       NaN       NaN       NaN   \n",
       "Sex                       NaN      NaN       NaN       NaN       NaN   \n",
       "Capital_gain      7385.402999      0.0       0.0       0.0       0.0   \n",
       "Capital_loss       402.966116      0.0       0.0       0.0       0.0   \n",
       "Hours_per_week      12.347618      1.0      40.0      40.0      45.0   \n",
       "Native_country            NaN      NaN       NaN       NaN       NaN   \n",
       "Income                    NaN      NaN       NaN       NaN       NaN   \n",
       "\n",
       "                      max  \n",
       "Age                  90.0  \n",
       "Workclass             NaN  \n",
       "Fnlwgt          1484705.0  \n",
       "Education             NaN  \n",
       "Education_num        16.0  \n",
       "Marital_status        NaN  \n",
       "Occupation            NaN  \n",
       "Relationship          NaN  \n",
       "Race                  NaN  \n",
       "Sex                   NaN  \n",
       "Capital_gain      99999.0  \n",
       "Capital_loss       4356.0  \n",
       "Hours_per_week       99.0  \n",
       "Native_country        NaN  \n",
       "Income                NaN  "
      ]
     },
     "execution_count": 21,
     "metadata": {},
     "output_type": "execute_result"
    }
   ],
   "source": [
    "df.describe(include='all').T"
   ]
  },
  {
   "cell_type": "markdown",
   "id": "79026c95",
   "metadata": {},
   "source": [
    "### Observations"
   ]
  },
  {
   "cell_type": "markdown",
   "id": "a0f094d8",
   "metadata": {},
   "source": [
    "* The minimum age is 17years old and the maximum age is 90 years old.\n",
    "* The minimu hours people works is 1 hiur and the maximmum hours is 99 hours and the majority of people work 40 hours per week."
   ]
  },
  {
   "cell_type": "markdown",
   "id": "b5819c81",
   "metadata": {},
   "source": [
    "# correlation"
   ]
  },
  {
   "cell_type": "code",
   "execution_count": 22,
   "id": "00c0f0fa",
   "metadata": {},
   "outputs": [
    {
     "data": {
      "text/html": [
       "<div>\n",
       "<style scoped>\n",
       "    .dataframe tbody tr th:only-of-type {\n",
       "        vertical-align: middle;\n",
       "    }\n",
       "\n",
       "    .dataframe tbody tr th {\n",
       "        vertical-align: top;\n",
       "    }\n",
       "\n",
       "    .dataframe thead th {\n",
       "        text-align: right;\n",
       "    }\n",
       "</style>\n",
       "<table border=\"1\" class=\"dataframe\">\n",
       "  <thead>\n",
       "    <tr style=\"text-align: right;\">\n",
       "      <th></th>\n",
       "      <th>Age</th>\n",
       "      <th>Fnlwgt</th>\n",
       "      <th>Education_num</th>\n",
       "      <th>Capital_gain</th>\n",
       "      <th>Capital_loss</th>\n",
       "      <th>Hours_per_week</th>\n",
       "    </tr>\n",
       "  </thead>\n",
       "  <tbody>\n",
       "    <tr>\n",
       "      <th>Age</th>\n",
       "      <td>1.000000</td>\n",
       "      <td>-0.076646</td>\n",
       "      <td>0.036527</td>\n",
       "      <td>0.077674</td>\n",
       "      <td>0.057775</td>\n",
       "      <td>0.068756</td>\n",
       "    </tr>\n",
       "    <tr>\n",
       "      <th>Fnlwgt</th>\n",
       "      <td>-0.076646</td>\n",
       "      <td>1.000000</td>\n",
       "      <td>-0.043159</td>\n",
       "      <td>0.000437</td>\n",
       "      <td>-0.010259</td>\n",
       "      <td>-0.018770</td>\n",
       "    </tr>\n",
       "    <tr>\n",
       "      <th>Education_num</th>\n",
       "      <td>0.036527</td>\n",
       "      <td>-0.043159</td>\n",
       "      <td>1.000000</td>\n",
       "      <td>0.122627</td>\n",
       "      <td>0.079932</td>\n",
       "      <td>0.148127</td>\n",
       "    </tr>\n",
       "    <tr>\n",
       "      <th>Capital_gain</th>\n",
       "      <td>0.077674</td>\n",
       "      <td>0.000437</td>\n",
       "      <td>0.122627</td>\n",
       "      <td>1.000000</td>\n",
       "      <td>-0.031614</td>\n",
       "      <td>0.078409</td>\n",
       "    </tr>\n",
       "    <tr>\n",
       "      <th>Capital_loss</th>\n",
       "      <td>0.057775</td>\n",
       "      <td>-0.010259</td>\n",
       "      <td>0.079932</td>\n",
       "      <td>-0.031614</td>\n",
       "      <td>1.000000</td>\n",
       "      <td>0.054256</td>\n",
       "    </tr>\n",
       "    <tr>\n",
       "      <th>Hours_per_week</th>\n",
       "      <td>0.068756</td>\n",
       "      <td>-0.018770</td>\n",
       "      <td>0.148127</td>\n",
       "      <td>0.078409</td>\n",
       "      <td>0.054256</td>\n",
       "      <td>1.000000</td>\n",
       "    </tr>\n",
       "  </tbody>\n",
       "</table>\n",
       "</div>"
      ],
      "text/plain": [
       "                     Age    Fnlwgt  Education_num  Capital_gain  Capital_loss  \\\n",
       "Age             1.000000 -0.076646       0.036527      0.077674      0.057775   \n",
       "Fnlwgt         -0.076646  1.000000      -0.043159      0.000437     -0.010259   \n",
       "Education_num   0.036527 -0.043159       1.000000      0.122627      0.079932   \n",
       "Capital_gain    0.077674  0.000437       0.122627      1.000000     -0.031614   \n",
       "Capital_loss    0.057775 -0.010259       0.079932     -0.031614      1.000000   \n",
       "Hours_per_week  0.068756 -0.018770       0.148127      0.078409      0.054256   \n",
       "\n",
       "                Hours_per_week  \n",
       "Age                   0.068756  \n",
       "Fnlwgt               -0.018770  \n",
       "Education_num         0.148127  \n",
       "Capital_gain          0.078409  \n",
       "Capital_loss          0.054256  \n",
       "Hours_per_week        1.000000  "
      ]
     },
     "execution_count": 22,
     "metadata": {},
     "output_type": "execute_result"
    }
   ],
   "source": [
    "df.corr()"
   ]
  },
  {
   "cell_type": "code",
   "execution_count": 23,
   "id": "4afe4ee3",
   "metadata": {},
   "outputs": [
    {
     "data": {
      "image/png": "[encoded data removed]",
      "text/plain": [
       "<Figure size 1440x720 with 2 Axes>"
      ]
     },
     "metadata": {
      "needs_background": "light"
     },
     "output_type": "display_data"
    }
   ],
   "source": [
    "#df.corr() using heatmap\n",
    "plt.figure(figsize=(20,10))\n",
    "sns.heatmap(df.corr(),linewidth='0.5',linecolor='black',annot=True, annot_kws={'size': 12})\n",
    "plt.title('Correlation between columns', size=28)\n",
    "plt.xticks(size=14)\n",
    "plt.yticks(size=14)\n",
    "plt.show()"
   ]
  },
  {
   "cell_type": "markdown",
   "id": "38bff66c",
   "metadata": {},
   "source": [
    "### Observations"
   ]
  },
  {
   "cell_type": "markdown",
   "id": "3916ea3d",
   "metadata": {},
   "source": [
    "* we can see no such appriciable correaltion between columns and there might be the issue of multicolinearity between columns."
   ]
  },
  {
   "cell_type": "markdown",
   "id": "251dd181",
   "metadata": {},
   "source": [
    "# checking outliers"
   ]
  },
  {
   "cell_type": "code",
   "execution_count": 24,
   "id": "27816f96",
   "metadata": {},
   "outputs": [
    {
     "data": {
      "image/png": "[encoded data removed]",
      "text/plain": [
       "<Figure size 1080x1080 with 20 Axes>"
      ]
     },
     "metadata": {
      "needs_background": "light"
     },
     "output_type": "display_data"
    }
   ],
   "source": [
    "list_col=['Age','Fnlwgt','Education_num','Capital_gain','Capital_loss','Hours_per_week']\n",
    "df.plot(kind='box',title=list_col, subplots=True, layout=(5,4), legend= True, fontsize=1, figsize=(15,15), color='green')\n",
    "plt.show()"
   ]
  },
  {
   "cell_type": "markdown",
   "id": "281b9b63",
   "metadata": {},
   "source": [
    "### Observations"
   ]
  },
  {
   "cell_type": "markdown",
   "id": "993ac476",
   "metadata": {},
   "source": [
    "* There might be outliers present in capital agin and capital loss columns, but we congirm it by calculating zscore."
   ]
  },
  {
   "cell_type": "markdown",
   "id": "27ef14a4",
   "metadata": {},
   "source": [
    "# skewness:"
   ]
  },
  {
   "cell_type": "code",
   "execution_count": 25,
   "id": "4ab02e48",
   "metadata": {},
   "outputs": [
    {
     "data": {
      "text/plain": [
       "Age                0.558738\n",
       "Fnlwgt             1.446972\n",
       "Education_num     -0.311630\n",
       "Capital_gain      11.953690\n",
       "Capital_loss       4.594549\n",
       "Hours_per_week     0.227636\n",
       "dtype: float64"
      ]
     },
     "execution_count": 25,
     "metadata": {},
     "output_type": "execute_result"
    }
   ],
   "source": [
    "df.skew()"
   ]
  },
  {
   "cell_type": "code",
   "execution_count": 26,
   "id": "79ef590c",
   "metadata": {},
   "outputs": [
    {
     "data": {
      "image/png": "[encoded data removed]",
      "text/plain": [
       "<Figure size 1080x720 with 15 Axes>"
      ]
     },
     "metadata": {
      "needs_background": "light"
     },
     "output_type": "display_data"
    }
   ],
   "source": [
    "#vizualizing skewness\n",
    "df.plot(kind='kde', subplots=True, layout=(5,3), sharex= False, legend= True, fontsize=1, figsize=(15,10))\n",
    "plt.show()"
   ]
  },
  {
   "cell_type": "markdown",
   "id": "752f1697",
   "metadata": {},
   "source": [
    "### Observations"
   ]
  },
  {
   "cell_type": "markdown",
   "id": "cb0df717",
   "metadata": {},
   "source": [
    "* All the numerical columns have skewness\n",
    "* column fnlwgt shows high peak with 3 heads\n",
    "* education number and hours_per_week column shows multi heads peaks."
   ]
  },
  {
   "cell_type": "markdown",
   "id": "74cda428",
   "metadata": {},
   "source": [
    "# Findings(insights)"
   ]
  },
  {
   "cell_type": "markdown",
   "id": "401b3b53",
   "metadata": {},
   "source": [
    "* The most number people living on earth are of agebetween 22 and 50 years old\n",
    "* Most people earn below 50k and below only few category of people earn 50k and above\n",
    "* To earn more than 50k one should hold at least a gradute and the people above gradute have high chances of earning 50k and above\n",
    "* But in exceptional if you are self employed you can upto 50k and above\n",
    "* One should work 40 hours and above per week to earn 50k above."
   ]
  },
  {
   "cell_type": "markdown",
   "id": "2b1447bc",
   "metadata": {},
   "source": [
    "# Data Preprocessing"
   ]
  },
  {
   "cell_type": "markdown",
   "id": "b30933b5",
   "metadata": {},
   "source": [
    "# Label Encoding"
   ]
  },
  {
   "cell_type": "code",
   "execution_count": 27,
   "id": "d11c395f",
   "metadata": {},
   "outputs": [
    {
     "data": {
      "text/html": [
       "<div>\n",
       "<style scoped>\n",
       "    .dataframe tbody tr th:only-of-type {\n",
       "        vertical-align: middle;\n",
       "    }\n",
       "\n",
       "    .dataframe tbody tr th {\n",
       "        vertical-align: top;\n",
       "    }\n",
       "\n",
       "    .dataframe thead th {\n",
       "        text-align: right;\n",
       "    }\n",
       "</style>\n",
       "<table border=\"1\" class=\"dataframe\">\n",
       "  <thead>\n",
       "    <tr style=\"text-align: right;\">\n",
       "      <th></th>\n",
       "      <th>Age</th>\n",
       "      <th>Workclass</th>\n",
       "      <th>Fnlwgt</th>\n",
       "      <th>Education</th>\n",
       "      <th>Education_num</th>\n",
       "      <th>Marital_status</th>\n",
       "      <th>Occupation</th>\n",
       "      <th>Relationship</th>\n",
       "      <th>Race</th>\n",
       "      <th>Sex</th>\n",
       "      <th>Capital_gain</th>\n",
       "      <th>Capital_loss</th>\n",
       "      <th>Hours_per_week</th>\n",
       "      <th>Native_country</th>\n",
       "      <th>Income</th>\n",
       "    </tr>\n",
       "  </thead>\n",
       "  <tbody>\n",
       "    <tr>\n",
       "      <th>0</th>\n",
       "      <td>50</td>\n",
       "      <td>Self-emp-not-inc</td>\n",
       "      <td>83311</td>\n",
       "      <td>Bachelors</td>\n",
       "      <td>13</td>\n",
       "      <td>Married-civ-spouse</td>\n",
       "      <td>Exec-managerial</td>\n",
       "      <td>Husband</td>\n",
       "      <td>White</td>\n",
       "      <td>Male</td>\n",
       "      <td>0</td>\n",
       "      <td>0</td>\n",
       "      <td>13</td>\n",
       "      <td>United-States</td>\n",
       "      <td>&lt;=50K</td>\n",
       "    </tr>\n",
       "    <tr>\n",
       "      <th>1</th>\n",
       "      <td>38</td>\n",
       "      <td>Private</td>\n",
       "      <td>215646</td>\n",
       "      <td>HS-grad</td>\n",
       "      <td>9</td>\n",
       "      <td>Divorced</td>\n",
       "      <td>Handlers-cleaners</td>\n",
       "      <td>Not-in-family</td>\n",
       "      <td>White</td>\n",
       "      <td>Male</td>\n",
       "      <td>0</td>\n",
       "      <td>0</td>\n",
       "      <td>40</td>\n",
       "      <td>United-States</td>\n",
       "      <td>&lt;=50K</td>\n",
       "    </tr>\n",
       "    <tr>\n",
       "      <th>2</th>\n",
       "      <td>53</td>\n",
       "      <td>Private</td>\n",
       "      <td>234721</td>\n",
       "      <td>11th</td>\n",
       "      <td>7</td>\n",
       "      <td>Married-civ-spouse</td>\n",
       "      <td>Handlers-cleaners</td>\n",
       "      <td>Husband</td>\n",
       "      <td>Black</td>\n",
       "      <td>Male</td>\n",
       "      <td>0</td>\n",
       "      <td>0</td>\n",
       "      <td>40</td>\n",
       "      <td>United-States</td>\n",
       "      <td>&lt;=50K</td>\n",
       "    </tr>\n",
       "    <tr>\n",
       "      <th>3</th>\n",
       "      <td>28</td>\n",
       "      <td>Private</td>\n",
       "      <td>338409</td>\n",
       "      <td>Bachelors</td>\n",
       "      <td>13</td>\n",
       "      <td>Married-civ-spouse</td>\n",
       "      <td>Prof-specialty</td>\n",
       "      <td>Wife</td>\n",
       "      <td>Black</td>\n",
       "      <td>Female</td>\n",
       "      <td>0</td>\n",
       "      <td>0</td>\n",
       "      <td>40</td>\n",
       "      <td>Cuba</td>\n",
       "      <td>&lt;=50K</td>\n",
       "    </tr>\n",
       "    <tr>\n",
       "      <th>4</th>\n",
       "      <td>37</td>\n",
       "      <td>Private</td>\n",
       "      <td>284582</td>\n",
       "      <td>Masters</td>\n",
       "      <td>14</td>\n",
       "      <td>Married-civ-spouse</td>\n",
       "      <td>Exec-managerial</td>\n",
       "      <td>Wife</td>\n",
       "      <td>White</td>\n",
       "      <td>Female</td>\n",
       "      <td>0</td>\n",
       "      <td>0</td>\n",
       "      <td>40</td>\n",
       "      <td>United-States</td>\n",
       "      <td>&lt;=50K</td>\n",
       "    </tr>\n",
       "  </tbody>\n",
       "</table>\n",
       "</div>"
      ],
      "text/plain": [
       "   Age          Workclass  Fnlwgt   Education  Education_num  \\\n",
       "0   50   Self-emp-not-inc   83311   Bachelors             13   \n",
       "1   38            Private  215646     HS-grad              9   \n",
       "2   53            Private  234721        11th              7   \n",
       "3   28            Private  338409   Bachelors             13   \n",
       "4   37            Private  284582     Masters             14   \n",
       "\n",
       "        Marital_status          Occupation    Relationship    Race      Sex  \\\n",
       "0   Married-civ-spouse     Exec-managerial         Husband   White     Male   \n",
       "1             Divorced   Handlers-cleaners   Not-in-family   White     Male   \n",
       "2   Married-civ-spouse   Handlers-cleaners         Husband   Black     Male   \n",
       "3   Married-civ-spouse      Prof-specialty            Wife   Black   Female   \n",
       "4   Married-civ-spouse     Exec-managerial            Wife   White   Female   \n",
       "\n",
       "   Capital_gain  Capital_loss  Hours_per_week  Native_country  Income  \n",
       "0             0             0              13   United-States   <=50K  \n",
       "1             0             0              40   United-States   <=50K  \n",
       "2             0             0              40   United-States   <=50K  \n",
       "3             0             0              40            Cuba   <=50K  \n",
       "4             0             0              40   United-States   <=50K  "
      ]
     },
     "execution_count": 27,
     "metadata": {},
     "output_type": "execute_result"
    }
   ],
   "source": [
    "df.head()"
   ]
  },
  {
   "cell_type": "markdown",
   "id": "5e822b36",
   "metadata": {},
   "source": [
    "* Before label encoding we will drop the columns which has same meaining "
   ]
  },
  {
   "cell_type": "code",
   "execution_count": 28,
   "id": "3eb213b0",
   "metadata": {},
   "outputs": [],
   "source": [
    "df1=df.copy()\n",
    "df1.drop('Education_num',axis=1,inplace=True)"
   ]
  },
  {
   "cell_type": "code",
   "execution_count": 29,
   "id": "eb6db60f",
   "metadata": {},
   "outputs": [],
   "source": [
    "# converting string into integer\n",
    "from sklearn.preprocessing import LabelEncoder\n",
    "\n",
    "#creating instance\n",
    "le=LabelEncoder()\n",
    "\n",
    "#training data\n",
    "le.fit(df1['Workclass'])\n",
    "#transforming data\n",
    "df1['Workclass']=le.transform(df1['Workclass'])\n",
    "\n",
    "le.fit(df1['Education'])\n",
    "df1['Education']=le.transform(df1['Education'])\n",
    "\n",
    "le.fit(df1['Marital_status'])\n",
    "df1['Marital_status']=le.transform(df1['Marital_status'])\n",
    "\n",
    "le.fit(df1['Occupation'])\n",
    "df1['Occupation']=le.transform(df1['Occupation'])\n",
    "\n",
    "le.fit(df1['Income'])\n",
    "df1['Income']=le.transform(df1['Income'])\n",
    "\n",
    "le.fit(df1['Relationship'])\n",
    "df1['Relationship']=le.transform(df1['Relationship'])\n",
    "\n",
    "le.fit(df1['Race'])\n",
    "df1['Race']=le.transform(df1['Race'])\n",
    "\n",
    "le.fit(df1['Sex'])\n",
    "df1['Sex']=le.transform(df1['Sex'])\n",
    "\n",
    "le.fit(df1['Native_country'])\n",
    "df1['Native_country']=le.transform(df1['Native_country'])"
   ]
  },
  {
   "cell_type": "code",
   "execution_count": 30,
   "id": "2f7cca66",
   "metadata": {},
   "outputs": [
    {
     "data": {
      "text/html": [
       "<div>\n",
       "<style scoped>\n",
       "    .dataframe tbody tr th:only-of-type {\n",
       "        vertical-align: middle;\n",
       "    }\n",
       "\n",
       "    .dataframe tbody tr th {\n",
       "        vertical-align: top;\n",
       "    }\n",
       "\n",
       "    .dataframe thead th {\n",
       "        text-align: right;\n",
       "    }\n",
       "</style>\n",
       "<table border=\"1\" class=\"dataframe\">\n",
       "  <thead>\n",
       "    <tr style=\"text-align: right;\">\n",
       "      <th></th>\n",
       "      <th>Age</th>\n",
       "      <th>Workclass</th>\n",
       "      <th>Fnlwgt</th>\n",
       "      <th>Education</th>\n",
       "      <th>Marital_status</th>\n",
       "      <th>Occupation</th>\n",
       "      <th>Relationship</th>\n",
       "      <th>Race</th>\n",
       "      <th>Sex</th>\n",
       "      <th>Capital_gain</th>\n",
       "      <th>Capital_loss</th>\n",
       "      <th>Hours_per_week</th>\n",
       "      <th>Native_country</th>\n",
       "      <th>Income</th>\n",
       "    </tr>\n",
       "  </thead>\n",
       "  <tbody>\n",
       "    <tr>\n",
       "      <th>0</th>\n",
       "      <td>50</td>\n",
       "      <td>6</td>\n",
       "      <td>83311</td>\n",
       "      <td>9</td>\n",
       "      <td>2</td>\n",
       "      <td>4</td>\n",
       "      <td>0</td>\n",
       "      <td>4</td>\n",
       "      <td>1</td>\n",
       "      <td>0</td>\n",
       "      <td>0</td>\n",
       "      <td>13</td>\n",
       "      <td>39</td>\n",
       "      <td>0</td>\n",
       "    </tr>\n",
       "    <tr>\n",
       "      <th>1</th>\n",
       "      <td>38</td>\n",
       "      <td>4</td>\n",
       "      <td>215646</td>\n",
       "      <td>11</td>\n",
       "      <td>0</td>\n",
       "      <td>6</td>\n",
       "      <td>1</td>\n",
       "      <td>4</td>\n",
       "      <td>1</td>\n",
       "      <td>0</td>\n",
       "      <td>0</td>\n",
       "      <td>40</td>\n",
       "      <td>39</td>\n",
       "      <td>0</td>\n",
       "    </tr>\n",
       "    <tr>\n",
       "      <th>2</th>\n",
       "      <td>53</td>\n",
       "      <td>4</td>\n",
       "      <td>234721</td>\n",
       "      <td>1</td>\n",
       "      <td>2</td>\n",
       "      <td>6</td>\n",
       "      <td>0</td>\n",
       "      <td>2</td>\n",
       "      <td>1</td>\n",
       "      <td>0</td>\n",
       "      <td>0</td>\n",
       "      <td>40</td>\n",
       "      <td>39</td>\n",
       "      <td>0</td>\n",
       "    </tr>\n",
       "    <tr>\n",
       "      <th>3</th>\n",
       "      <td>28</td>\n",
       "      <td>4</td>\n",
       "      <td>338409</td>\n",
       "      <td>9</td>\n",
       "      <td>2</td>\n",
       "      <td>10</td>\n",
       "      <td>5</td>\n",
       "      <td>2</td>\n",
       "      <td>0</td>\n",
       "      <td>0</td>\n",
       "      <td>0</td>\n",
       "      <td>40</td>\n",
       "      <td>5</td>\n",
       "      <td>0</td>\n",
       "    </tr>\n",
       "    <tr>\n",
       "      <th>4</th>\n",
       "      <td>37</td>\n",
       "      <td>4</td>\n",
       "      <td>284582</td>\n",
       "      <td>12</td>\n",
       "      <td>2</td>\n",
       "      <td>4</td>\n",
       "      <td>5</td>\n",
       "      <td>4</td>\n",
       "      <td>0</td>\n",
       "      <td>0</td>\n",
       "      <td>0</td>\n",
       "      <td>40</td>\n",
       "      <td>39</td>\n",
       "      <td>0</td>\n",
       "    </tr>\n",
       "  </tbody>\n",
       "</table>\n",
       "</div>"
      ],
      "text/plain": [
       "   Age  Workclass  Fnlwgt  Education  Marital_status  Occupation  \\\n",
       "0   50          6   83311          9               2           4   \n",
       "1   38          4  215646         11               0           6   \n",
       "2   53          4  234721          1               2           6   \n",
       "3   28          4  338409          9               2          10   \n",
       "4   37          4  284582         12               2           4   \n",
       "\n",
       "   Relationship  Race  Sex  Capital_gain  Capital_loss  Hours_per_week  \\\n",
       "0             0     4    1             0             0              13   \n",
       "1             1     4    1             0             0              40   \n",
       "2             0     2    1             0             0              40   \n",
       "3             5     2    0             0             0              40   \n",
       "4             5     4    0             0             0              40   \n",
       "\n",
       "   Native_country  Income  \n",
       "0              39       0  \n",
       "1              39       0  \n",
       "2              39       0  \n",
       "3               5       0  \n",
       "4              39       0  "
      ]
     },
     "execution_count": 30,
     "metadata": {},
     "output_type": "execute_result"
    }
   ],
   "source": [
    "df1.head()"
   ]
  },
  {
   "cell_type": "markdown",
   "id": "862c27b8",
   "metadata": {},
   "source": [
    "# Removing outliers:"
   ]
  },
  {
   "cell_type": "markdown",
   "id": "59aa2647",
   "metadata": {},
   "source": [
    "using Zscore technique"
   ]
  },
  {
   "cell_type": "code",
   "execution_count": 31,
   "id": "1ab59a8f",
   "metadata": {},
   "outputs": [],
   "source": [
    "from scipy.stats import zscore"
   ]
  },
  {
   "cell_type": "code",
   "execution_count": 32,
   "id": "79e2cc24",
   "metadata": {},
   "outputs": [
    {
     "name": "stdout",
     "output_type": "stream",
     "text": [
      "1\n",
      "Shape of New Dataframe dn: (32439, 14)\n"
     ]
    }
   ],
   "source": [
    "z =np.abs(zscore(df1['Age']))\n",
    "print(len(np.where(z<3)))\n",
    "dn=df1[(z<3)]\n",
    "print('Shape of New Dataframe dn:',dn.shape)"
   ]
  },
  {
   "cell_type": "code",
   "execution_count": 33,
   "id": "a56ba7d1",
   "metadata": {},
   "outputs": [
    {
     "name": "stdout",
     "output_type": "stream",
     "text": [
      "0        1.009364\n",
      "1        0.243993\n",
      "2        0.424654\n",
      "3        1.406693\n",
      "4        0.896892\n",
      "           ...   \n",
      "32555    0.638521\n",
      "32556    0.336320\n",
      "32557    0.359657\n",
      "32558    0.109920\n",
      "32559    0.928573\n",
      "Name: Fnlwgt, Length: 32439, dtype: float64\n",
      "1\n",
      "Shape of New Dataframe dn1: (32094, 14)\n"
     ]
    }
   ],
   "source": [
    "z =np.abs(zscore(dn['Fnlwgt']))\n",
    "print(z)\n",
    "print(len(np.where(z<3)))\n",
    "dn1=dn[(z<3)]\n",
    "print('Shape of New Dataframe dn1:',dn1.shape)"
   ]
  },
  {
   "cell_type": "code",
   "execution_count": 34,
   "id": "56c3e240",
   "metadata": {},
   "outputs": [
    {
     "name": "stdout",
     "output_type": "stream",
     "text": [
      "0        0.145710\n",
      "1        0.145710\n",
      "2        0.145710\n",
      "3        0.145710\n",
      "4        0.145710\n",
      "           ...   \n",
      "32555    0.145710\n",
      "32556    0.145710\n",
      "32557    0.145710\n",
      "32558    0.145710\n",
      "32559    1.881892\n",
      "Name: Capital_gain, Length: 32094, dtype: float64\n",
      "1\n",
      "Shape of New Dataframe dn2: (31881, 14)\n"
     ]
    }
   ],
   "source": [
    "z =np.abs(zscore(dn1['Capital_gain']))\n",
    "print(z)\n",
    "print(len(np.where(z<3)))\n",
    "dn2=dn1[(z<3)]\n",
    "print('Shape of New Dataframe dn2:',dn2.shape)"
   ]
  },
  {
   "cell_type": "code",
   "execution_count": 35,
   "id": "11d64768",
   "metadata": {},
   "outputs": [
    {
     "name": "stdout",
     "output_type": "stream",
     "text": [
      "0        0.217992\n",
      "1        0.217992\n",
      "2        0.217992\n",
      "3        0.217992\n",
      "4        0.217992\n",
      "           ...   \n",
      "32555    0.217992\n",
      "32556    0.217992\n",
      "32557    0.217992\n",
      "32558    0.217992\n",
      "32559    0.217992\n",
      "Name: Capital_loss, Length: 31881, dtype: float64\n",
      "1\n",
      "Shape of New Dataframe dn3: (30428, 14)\n"
     ]
    }
   ],
   "source": [
    "z =np.abs(zscore(dn2['Capital_loss']))\n",
    "print(z)\n",
    "print(len(np.where(z<3)))\n",
    "dn3=dn2[(z<3)]\n",
    "print('Shape of New Dataframe dn3:',dn3.shape)"
   ]
  },
  {
   "cell_type": "code",
   "execution_count": 36,
   "id": "fbc4982b",
   "metadata": {},
   "outputs": [
    {
     "name": "stdout",
     "output_type": "stream",
     "text": [
      "0        2.223404\n",
      "1        0.023381\n",
      "2        0.023381\n",
      "3        0.023381\n",
      "4        0.023381\n",
      "           ...   \n",
      "32555    0.186345\n",
      "32556    0.023381\n",
      "32557    0.023381\n",
      "32558    1.653028\n",
      "32559    0.023381\n",
      "Name: Hours_per_week, Length: 30428, dtype: float64\n",
      "1\n",
      "Shape of New Dataframe dn4: (30029, 14)\n"
     ]
    }
   ],
   "source": [
    "z =np.abs(zscore(dn3['Hours_per_week']))\n",
    "print(z)\n",
    "print(len(np.where(z<3)))\n",
    "dn4=dn3[(z<3)]\n",
    "print('Shape of New Dataframe dn4:',dn4.shape)"
   ]
  },
  {
   "cell_type": "code",
   "execution_count": 37,
   "id": "b41b14a4",
   "metadata": {},
   "outputs": [
    {
     "name": "stdout",
     "output_type": "stream",
     "text": [
      "old dataframe (32560, 14)\n",
      "new dataframe (30029, 14)\n",
      "no of rows dropped 2531\n"
     ]
    }
   ],
   "source": [
    "df_new=dn4\n",
    "print('old dataframe',df1.shape)\n",
    "print('new dataframe',df_new.shape)\n",
    "print('no of rows dropped',df1.shape[0]-df_new.shape[0])"
   ]
  },
  {
   "cell_type": "markdown",
   "id": "444cb5b2",
   "metadata": {},
   "source": [
    "# Splitting data into x(features) and y(target)"
   ]
  },
  {
   "cell_type": "code",
   "execution_count": 38,
   "id": "64e28939",
   "metadata": {},
   "outputs": [],
   "source": [
    "#splitting data into x and y \n",
    "x=df_new.drop('Income', axis=1) # dropping target column from dataframe and assigning the dataframe as x\n",
    "y=df_new['Income'] #assigning target column(W) to y variable"
   ]
  },
  {
   "cell_type": "code",
   "execution_count": 39,
   "id": "e8112a75",
   "metadata": {},
   "outputs": [
    {
     "data": {
      "text/html": [
       "<div>\n",
       "<style scoped>\n",
       "    .dataframe tbody tr th:only-of-type {\n",
       "        vertical-align: middle;\n",
       "    }\n",
       "\n",
       "    .dataframe tbody tr th {\n",
       "        vertical-align: top;\n",
       "    }\n",
       "\n",
       "    .dataframe thead th {\n",
       "        text-align: right;\n",
       "    }\n",
       "</style>\n",
       "<table border=\"1\" class=\"dataframe\">\n",
       "  <thead>\n",
       "    <tr style=\"text-align: right;\">\n",
       "      <th></th>\n",
       "      <th>Age</th>\n",
       "      <th>Workclass</th>\n",
       "      <th>Fnlwgt</th>\n",
       "      <th>Education</th>\n",
       "      <th>Marital_status</th>\n",
       "      <th>Occupation</th>\n",
       "      <th>Relationship</th>\n",
       "      <th>Race</th>\n",
       "      <th>Sex</th>\n",
       "      <th>Capital_gain</th>\n",
       "      <th>Capital_loss</th>\n",
       "      <th>Hours_per_week</th>\n",
       "      <th>Native_country</th>\n",
       "    </tr>\n",
       "  </thead>\n",
       "  <tbody>\n",
       "    <tr>\n",
       "      <th>31689</th>\n",
       "      <td>40</td>\n",
       "      <td>2</td>\n",
       "      <td>141649</td>\n",
       "      <td>8</td>\n",
       "      <td>2</td>\n",
       "      <td>11</td>\n",
       "      <td>0</td>\n",
       "      <td>4</td>\n",
       "      <td>1</td>\n",
       "      <td>0</td>\n",
       "      <td>0</td>\n",
       "      <td>40</td>\n",
       "      <td>39</td>\n",
       "    </tr>\n",
       "  </tbody>\n",
       "</table>\n",
       "</div>"
      ],
      "text/plain": [
       "       Age  Workclass  Fnlwgt  Education  Marital_status  Occupation  \\\n",
       "31689   40          2  141649          8               2          11   \n",
       "\n",
       "       Relationship  Race  Sex  Capital_gain  Capital_loss  Hours_per_week  \\\n",
       "31689             0     4    1             0             0              40   \n",
       "\n",
       "       Native_country  \n",
       "31689              39  "
      ]
     },
     "execution_count": 39,
     "metadata": {},
     "output_type": "execute_result"
    }
   ],
   "source": [
    "x.sample()"
   ]
  },
  {
   "cell_type": "code",
   "execution_count": 40,
   "id": "c5cdef73",
   "metadata": {},
   "outputs": [
    {
     "data": {
      "text/plain": [
       "1084    0\n",
       "Name: Income, dtype: int32"
      ]
     },
     "execution_count": 40,
     "metadata": {},
     "output_type": "execute_result"
    }
   ],
   "source": [
    "y.sample()"
   ]
  },
  {
   "cell_type": "markdown",
   "id": "8a985784",
   "metadata": {},
   "source": [
    "# VIF(checking multicolinearity)"
   ]
  },
  {
   "cell_type": "code",
   "execution_count": 41,
   "id": "a6774baf",
   "metadata": {},
   "outputs": [],
   "source": [
    "#library for VIF\n",
    "from statsmodels.stats.outliers_influence import variance_inflation_factor"
   ]
  },
  {
   "cell_type": "code",
   "execution_count": 42,
   "id": "8298aac5",
   "metadata": {},
   "outputs": [
    {
     "data": {
      "text/html": [
       "<div>\n",
       "<style scoped>\n",
       "    .dataframe tbody tr th:only-of-type {\n",
       "        vertical-align: middle;\n",
       "    }\n",
       "\n",
       "    .dataframe tbody tr th {\n",
       "        vertical-align: top;\n",
       "    }\n",
       "\n",
       "    .dataframe thead th {\n",
       "        text-align: right;\n",
       "    }\n",
       "</style>\n",
       "<table border=\"1\" class=\"dataframe\">\n",
       "  <thead>\n",
       "    <tr style=\"text-align: right;\">\n",
       "      <th></th>\n",
       "      <th>Features</th>\n",
       "      <th>VIF value</th>\n",
       "    </tr>\n",
       "  </thead>\n",
       "  <tbody>\n",
       "    <tr>\n",
       "      <th>0</th>\n",
       "      <td>Age</td>\n",
       "      <td>8.646778</td>\n",
       "    </tr>\n",
       "    <tr>\n",
       "      <th>1</th>\n",
       "      <td>Workclass</td>\n",
       "      <td>8.489197</td>\n",
       "    </tr>\n",
       "    <tr>\n",
       "      <th>2</th>\n",
       "      <td>Fnlwgt</td>\n",
       "      <td>4.583329</td>\n",
       "    </tr>\n",
       "    <tr>\n",
       "      <th>3</th>\n",
       "      <td>Education</td>\n",
       "      <td>7.600498</td>\n",
       "    </tr>\n",
       "    <tr>\n",
       "      <th>4</th>\n",
       "      <td>Marital_status</td>\n",
       "      <td>3.972116</td>\n",
       "    </tr>\n",
       "    <tr>\n",
       "      <th>5</th>\n",
       "      <td>Occupation</td>\n",
       "      <td>3.619281</td>\n",
       "    </tr>\n",
       "    <tr>\n",
       "      <th>6</th>\n",
       "      <td>Relationship</td>\n",
       "      <td>2.642910</td>\n",
       "    </tr>\n",
       "    <tr>\n",
       "      <th>7</th>\n",
       "      <td>Race</td>\n",
       "      <td>17.267388</td>\n",
       "    </tr>\n",
       "    <tr>\n",
       "      <th>8</th>\n",
       "      <td>Sex</td>\n",
       "      <td>4.329684</td>\n",
       "    </tr>\n",
       "    <tr>\n",
       "      <th>9</th>\n",
       "      <td>Capital_gain</td>\n",
       "      <td>1.086654</td>\n",
       "    </tr>\n",
       "    <tr>\n",
       "      <th>10</th>\n",
       "      <td>Capital_loss</td>\n",
       "      <td>1.003448</td>\n",
       "    </tr>\n",
       "    <tr>\n",
       "      <th>11</th>\n",
       "      <td>Hours_per_week</td>\n",
       "      <td>13.474952</td>\n",
       "    </tr>\n",
       "    <tr>\n",
       "      <th>12</th>\n",
       "      <td>Native_country</td>\n",
       "      <td>19.410745</td>\n",
       "    </tr>\n",
       "  </tbody>\n",
       "</table>\n",
       "</div>"
      ],
      "text/plain": [
       "          Features  VIF value\n",
       "0              Age   8.646778\n",
       "1        Workclass   8.489197\n",
       "2           Fnlwgt   4.583329\n",
       "3        Education   7.600498\n",
       "4   Marital_status   3.972116\n",
       "5       Occupation   3.619281\n",
       "6     Relationship   2.642910\n",
       "7             Race  17.267388\n",
       "8              Sex   4.329684\n",
       "9     Capital_gain   1.086654\n",
       "10    Capital_loss   1.003448\n",
       "11  Hours_per_week  13.474952\n",
       "12  Native_country  19.410745"
      ]
     },
     "execution_count": 42,
     "metadata": {},
     "output_type": "execute_result"
    }
   ],
   "source": [
    "VIF =[]\n",
    "for i in range(len(x.columns)):\n",
    "    VIF.append(variance_inflation_factor(exog=x.values, exog_idx=i))\n",
    "\n",
    "datavif={'Features':x.columns, 'VIF value': VIF}    \n",
    "vif_df=pd.DataFrame(datavif)\n",
    "vif_df"
   ]
  },
  {
   "cell_type": "markdown",
   "id": "3144cc38",
   "metadata": {},
   "source": [
    "# Removing skewness"
   ]
  },
  {
   "cell_type": "code",
   "execution_count": 50,
   "id": "5223da04",
   "metadata": {},
   "outputs": [],
   "source": [
    "from sklearn.preprocessing import power_transform\n",
    "x=power_transform(x,method='yeo-johnson')"
   ]
  },
  {
   "cell_type": "code",
   "execution_count": 51,
   "id": "38a55734",
   "metadata": {},
   "outputs": [
    {
     "data": {
      "text/plain": [
       "0     -0.017292\n",
       "1      0.074508\n",
       "2     -0.034825\n",
       "3     -0.314168\n",
       "4     -0.126061\n",
       "5     -0.186066\n",
       "6      0.104725\n",
       "7     -2.001601\n",
       "8     -0.681650\n",
       "9      3.082591\n",
       "10    24.953316\n",
       "11     0.108317\n",
       "12    -2.717941\n",
       "dtype: float64"
      ]
     },
     "execution_count": 51,
     "metadata": {},
     "output_type": "execute_result"
    }
   ],
   "source": [
    "x_df=pd.DataFrame(x)\n",
    "x_df.skew()"
   ]
  },
  {
   "cell_type": "markdown",
   "id": "acd90412",
   "metadata": {},
   "source": [
    "# scaling independent data"
   ]
  },
  {
   "cell_type": "markdown",
   "id": "a8af5347",
   "metadata": {},
   "source": [
    "using StandardScaler"
   ]
  },
  {
   "cell_type": "code",
   "execution_count": 52,
   "id": "97160099",
   "metadata": {},
   "outputs": [],
   "source": [
    "#mean=0, std=1\n",
    "from sklearn.preprocessing import StandardScaler\n",
    "scaler = StandardScaler()"
   ]
  },
  {
   "cell_type": "code",
   "execution_count": 53,
   "id": "bc5b4553",
   "metadata": {},
   "outputs": [],
   "source": [
    "scaler.fit(x)\n",
    "x_scaled=scaler.transform(x)"
   ]
  },
  {
   "cell_type": "markdown",
   "id": "af2305d6",
   "metadata": {},
   "source": [
    "# Model Building and Evaluation"
   ]
  },
  {
   "cell_type": "code",
   "execution_count": 54,
   "id": "291a98ca",
   "metadata": {},
   "outputs": [],
   "source": [
    "from sklearn.model_selection import train_test_split\n",
    "from sklearn.metrics import accuracy_score\n",
    "from sklearn.metrics import confusion_matrix\n",
    "from sklearn.metrics import classification_report"
   ]
  },
  {
   "cell_type": "markdown",
   "id": "f6f1e5b1",
   "metadata": {},
   "source": [
    "# Logistic Regression"
   ]
  },
  {
   "cell_type": "markdown",
   "id": "a9d619bf",
   "metadata": {},
   "source": [
    "### Finding Best Random State for Logistic Regression"
   ]
  },
  {
   "cell_type": "code",
   "execution_count": 55,
   "id": "dde9b678",
   "metadata": {},
   "outputs": [],
   "source": [
    "from sklearn.linear_model import LogisticRegression\n",
    "#creating instance \n",
    "LR=LogisticRegression()"
   ]
  },
  {
   "cell_type": "code",
   "execution_count": 56,
   "id": "ee234311",
   "metadata": {},
   "outputs": [
    {
     "name": "stdout",
     "output_type": "stream",
     "text": [
      "Accuracy 0.8055278055278056 random_state 1\n",
      "Accuracy 0.8086913086913087 random_state 5\n",
      "Accuracy 0.8136863136863137 random_state 15\n",
      "Accuracy 0.819014319014319 random_state 537\n"
     ]
    }
   ],
   "source": [
    "maxAcc=0\n",
    "maxRS=0\n",
    "\n",
    "for i in range(1,1500):\n",
    "    x_train,x_test,y_train,y_test=train_test_split(x_scaled,y,test_size=0.20,random_state=i)\n",
    "    LR.fit(x_train,y_train)\n",
    "    pred_LR=LR.predict(x_test)\n",
    "    acc=accuracy_score(y_test,pred_LR)\n",
    "    \n",
    "    if acc>maxAcc:\n",
    "        maxAcc=acc\n",
    "        maxRS=i\n",
    "        print('Accuracy', maxAcc, 'random_state', maxRS)"
   ]
  },
  {
   "cell_type": "markdown",
   "id": "314a6277",
   "metadata": {},
   "source": [
    "## Model building with best random state"
   ]
  },
  {
   "cell_type": "code",
   "execution_count": 57,
   "id": "f8634892",
   "metadata": {},
   "outputs": [],
   "source": [
    "#creating train , test split\n",
    "x_train1,x_test1,y_train1,y_test1=train_test_split(x_scaled,y,test_size=0.20,random_state=537)\n",
    "\n",
    "#creating instance \n",
    "LR=LogisticRegression()\n",
    "\n",
    "#traing data\n",
    "LR.fit(x_train1,y_train1)\n",
    "\n",
    "#predicting data\n",
    "LR_pred=LR.predict(x_test1)"
   ]
  },
  {
   "cell_type": "markdown",
   "id": "e04457e3",
   "metadata": {},
   "source": [
    "## Evaluation"
   ]
  },
  {
   "cell_type": "code",
   "execution_count": 58,
   "id": "ec61a62c",
   "metadata": {},
   "outputs": [
    {
     "name": "stdout",
     "output_type": "stream",
     "text": [
      "Accuracy:  0.819014319014319\n",
      "[[4555  210]\n",
      " [ 877  364]]\n",
      "              precision    recall  f1-score   support\n",
      "\n",
      "           0       0.84      0.96      0.89      4765\n",
      "           1       0.63      0.29      0.40      1241\n",
      "\n",
      "    accuracy                           0.82      6006\n",
      "   macro avg       0.74      0.62      0.65      6006\n",
      "weighted avg       0.80      0.82      0.79      6006\n",
      "\n"
     ]
    }
   ],
   "source": [
    "#checking accuracy score\n",
    "print('Accuracy: ',accuracy_score(y_test1,LR_pred))\n",
    "#print confusion matrics\n",
    "print(confusion_matrix(y_test1,LR_pred))\n",
    "#printing classification report\n",
    "print(classification_report(y_test1,LR_pred))"
   ]
  },
  {
   "cell_type": "code",
   "execution_count": 59,
   "id": "c87c4494",
   "metadata": {},
   "outputs": [
    {
     "name": "stdout",
     "output_type": "stream",
     "text": [
      "Accuracy of train model:  0.7954460308870666\n"
     ]
    }
   ],
   "source": [
    "print('Accuracy of train model: ',LR.score(x_train1,y_train1))"
   ]
  },
  {
   "cell_type": "code",
   "execution_count": 60,
   "id": "e24bfb66",
   "metadata": {},
   "outputs": [
    {
     "name": "stdout",
     "output_type": "stream",
     "text": [
      "precision for 0(<=50k) =  0.8385493372606775\n",
      "precision for 1(>50k) = 0.6341463414634146\n"
     ]
    }
   ],
   "source": [
    "# calculating precision =tp/tp+fp\n",
    "print('precision for 0(<=50k) = ',4555/(4555+877) )\n",
    "print('precision for 1(>50k) =', 364/(364+210))"
   ]
  },
  {
   "cell_type": "code",
   "execution_count": 61,
   "id": "d239f0ab",
   "metadata": {},
   "outputs": [
    {
     "name": "stdout",
     "output_type": "stream",
     "text": [
      "recall for 0(<=50k) = 0.9559286463798531\n",
      "recall for 1(>50k) = 0.29331184528605964\n"
     ]
    }
   ],
   "source": [
    "# calculating recall tp/tp+fn\n",
    "print('recall for 0(<=50k) =',4555/(4555+210))\n",
    "print('recall for 1(>50k) =',364/(364+877))"
   ]
  },
  {
   "cell_type": "markdown",
   "id": "6d908733",
   "metadata": {},
   "source": [
    "## cross validation"
   ]
  },
  {
   "cell_type": "code",
   "execution_count": 62,
   "id": "a5a4c03d",
   "metadata": {},
   "outputs": [],
   "source": [
    "from sklearn.model_selection import cross_val_score"
   ]
  },
  {
   "cell_type": "code",
   "execution_count": 63,
   "id": "cfbf388e",
   "metadata": {},
   "outputs": [
    {
     "name": "stdout",
     "output_type": "stream",
     "text": [
      "cross validation score of LogisticRegression:  0.8002265012256686\n"
     ]
    }
   ],
   "source": [
    "scr=cross_val_score(LR,x,y,cv=5)\n",
    "print('cross validation score of LogisticRegression: ',scr.mean())"
   ]
  },
  {
   "cell_type": "markdown",
   "id": "0bf14e01",
   "metadata": {},
   "source": [
    "# Decision Tree Classifier"
   ]
  },
  {
   "cell_type": "markdown",
   "id": "a989ead6",
   "metadata": {},
   "source": [
    "## Finding Best Random State for Decision Tree Classifier"
   ]
  },
  {
   "cell_type": "code",
   "execution_count": 64,
   "id": "103202cd",
   "metadata": {},
   "outputs": [
    {
     "name": "stdout",
     "output_type": "stream",
     "text": [
      "Accuracy 0.8040293040293041 random_state 1\n",
      "Accuracy 0.8056943056943057 random_state 2\n",
      "Accuracy 0.818015318015318 random_state 4\n",
      "Accuracy 0.8231768231768232 random_state 289\n"
     ]
    }
   ],
   "source": [
    "from sklearn.tree import DecisionTreeClassifier\n",
    "maxAcc=0\n",
    "maxRS=0\n",
    "\n",
    "for i in range(1,1500):\n",
    "    x_train,x_test,y_train,y_test=train_test_split(x_scaled,y,test_size=0.20,random_state=i)\n",
    "    DTC=DecisionTreeClassifier() #creating instance \n",
    "    DTC.fit(x_train,y_train)  #traing data\n",
    "    DTC_pred=DTC.predict(x_test) #predicting data.fit(x_train,y_train)\n",
    "    acc=accuracy_score(y_test,DTC_pred)\n",
    "    \n",
    "    if acc>maxAcc:\n",
    "        maxAcc=acc\n",
    "        maxRS=i\n",
    "        print('Accuracy', maxAcc, 'random_state', maxRS)"
   ]
  },
  {
   "cell_type": "markdown",
   "id": "b72cc971",
   "metadata": {},
   "source": [
    "## Model building with best random state"
   ]
  },
  {
   "cell_type": "code",
   "execution_count": 65,
   "id": "694c0a98",
   "metadata": {},
   "outputs": [],
   "source": [
    "#creating train , test split\n",
    "x_train2,x_test2,y_train2,y_test2=train_test_split(x_scaled,y,test_size=0.20,random_state=329)\n",
    "\n",
    "DTC=DecisionTreeClassifier() #creating instance \n",
    "DTC.fit(x_train2,y_train2)  #traing data\n",
    "DTC_pred=DTC.predict(x_test2) #predicting data"
   ]
  },
  {
   "cell_type": "markdown",
   "id": "072b9f18",
   "metadata": {},
   "source": [
    "## Evaluation"
   ]
  },
  {
   "cell_type": "code",
   "execution_count": 66,
   "id": "054b386a",
   "metadata": {},
   "outputs": [
    {
     "name": "stdout",
     "output_type": "stream",
     "text": [
      "Accuracy:  0.8188478188478189\n",
      "[[4139  532]\n",
      " [ 556  779]]\n",
      "              precision    recall  f1-score   support\n",
      "\n",
      "           0       0.88      0.89      0.88      4671\n",
      "           1       0.59      0.58      0.59      1335\n",
      "\n",
      "    accuracy                           0.82      6006\n",
      "   macro avg       0.74      0.73      0.74      6006\n",
      "weighted avg       0.82      0.82      0.82      6006\n",
      "\n"
     ]
    }
   ],
   "source": [
    "#checking accuracy score\n",
    "print('Accuracy: ',accuracy_score(y_test2,DTC_pred))\n",
    "#print confusion matrics\n",
    "print(confusion_matrix(y_test2,DTC_pred))\n",
    "#printing classification report\n",
    "print(classification_report(y_test2,DTC_pred))"
   ]
  },
  {
   "cell_type": "code",
   "execution_count": 67,
   "id": "9af83c12",
   "metadata": {},
   "outputs": [
    {
     "name": "stdout",
     "output_type": "stream",
     "text": [
      "Accuracy of train model:  1.0\n"
     ]
    }
   ],
   "source": [
    "print('Accuracy of train model: ',DTC.score(x_train2,y_train2))"
   ]
  },
  {
   "cell_type": "code",
   "execution_count": 68,
   "id": "cef2b43d",
   "metadata": {},
   "outputs": [
    {
     "name": "stdout",
     "output_type": "stream",
     "text": [
      "precision for 0(<=50k) =  0.8802726885385599\n",
      "precision for 1(>50k) = 0.5891768292682927\n"
     ]
    }
   ],
   "source": [
    "# calculating precision =tp/tp+fp\n",
    "print('precision for 0(<=50k) = ',4132/(4132+562) )\n",
    "print('precision for 1(>50k) =', 773/(773+539))"
   ]
  },
  {
   "cell_type": "code",
   "execution_count": 69,
   "id": "d55fba2c",
   "metadata": {},
   "outputs": [
    {
     "name": "stdout",
     "output_type": "stream",
     "text": [
      "recall for 0(<=50k) = 0.8846071505031042\n",
      "recall for 1(>50k) = 0.5790262172284644\n"
     ]
    }
   ],
   "source": [
    "# calculating recall tp/tp+fn\n",
    "print('recall for 0(<=50k) =',4132/(4132+539))\n",
    "print('recall for 1(>50k) =',773/(773+562))"
   ]
  },
  {
   "cell_type": "markdown",
   "id": "915e54c4",
   "metadata": {},
   "source": [
    "## cross validation"
   ]
  },
  {
   "cell_type": "code",
   "execution_count": 70,
   "id": "e8de3b99",
   "metadata": {},
   "outputs": [
    {
     "name": "stdout",
     "output_type": "stream",
     "text": [
      "cross validation score of DecissionTreeClassifier:  0.80658696085394\n"
     ]
    }
   ],
   "source": [
    "scr=cross_val_score(DTC,x,y,cv=4)\n",
    "print('cross validation score of DecissionTreeClassifier: ',scr.mean())"
   ]
  },
  {
   "cell_type": "markdown",
   "id": "a9271943",
   "metadata": {},
   "source": [
    "# Random Forest Classifier"
   ]
  },
  {
   "cell_type": "code",
   "execution_count": 71,
   "id": "d76018ef",
   "metadata": {},
   "outputs": [
    {
     "name": "stdout",
     "output_type": "stream",
     "text": [
      "Accuracy 0.8473193473193473 random_state 50\n",
      "Accuracy 0.857975357975358 random_state 51\n",
      "Accuracy 0.8589743589743589 random_state 54\n",
      "Accuracy 0.862970362970363 random_state 56\n",
      "Accuracy 0.8648018648018648 random_state 69\n"
     ]
    }
   ],
   "source": [
    "from sklearn.ensemble import RandomForestClassifier\n",
    "\n",
    "maxAcc=0\n",
    "maxRS=0\n",
    "\n",
    "for i in range(50,100):\n",
    "    x_train,x_test,y_train,y_test=train_test_split(x_scaled,y,test_size=0.20,random_state=i)\n",
    "    RFC=RandomForestClassifier(random_state=42) #creating instance \n",
    "    RFC.fit(x_train,y_train)  #traing data\n",
    "    RFC_pred=RFC.predict(x_test) #predicting data\n",
    "    acc=accuracy_score(y_test,RFC_pred)\n",
    "    \n",
    "    if acc>maxAcc:\n",
    "        maxAcc=acc\n",
    "        maxRS=i\n",
    "        print('Accuracy', maxAcc, 'random_state', maxRS)"
   ]
  },
  {
   "cell_type": "markdown",
   "id": "04d4f38f",
   "metadata": {},
   "source": [
    "## Model building with best random state"
   ]
  },
  {
   "cell_type": "code",
   "execution_count": 72,
   "id": "41c9d259",
   "metadata": {},
   "outputs": [],
   "source": [
    "#creating train , test split\n",
    "x_train3,x_test3,y_train3,y_test3=train_test_split(x_scaled,y,test_size=0.20,random_state=69)\n",
    "\n",
    "RFC=RandomForestClassifier(random_state=42) #creating instance \n",
    "RFC.fit(x_train3,y_train3)  #traing data\n",
    "RFC_pred=RFC.predict(x_test3) #predicting data"
   ]
  },
  {
   "cell_type": "markdown",
   "id": "225effb0",
   "metadata": {},
   "source": [
    "## Evaluation"
   ]
  },
  {
   "cell_type": "code",
   "execution_count": 73,
   "id": "33d19354",
   "metadata": {},
   "outputs": [
    {
     "name": "stdout",
     "output_type": "stream",
     "text": [
      "Score for training model : 0.9999167464513175\n"
     ]
    }
   ],
   "source": [
    "#checking score for training model\n",
    "print('Score for training model :',RFC.score(x_train3,y_train3))"
   ]
  },
  {
   "cell_type": "code",
   "execution_count": 74,
   "id": "33869c36",
   "metadata": {},
   "outputs": [
    {
     "name": "stdout",
     "output_type": "stream",
     "text": [
      "Accuracy:  0.8648018648018648\n",
      "[[4419  302]\n",
      " [ 510  775]]\n",
      "              precision    recall  f1-score   support\n",
      "\n",
      "           0       0.90      0.94      0.92      4721\n",
      "           1       0.72      0.60      0.66      1285\n",
      "\n",
      "    accuracy                           0.86      6006\n",
      "   macro avg       0.81      0.77      0.79      6006\n",
      "weighted avg       0.86      0.86      0.86      6006\n",
      "\n"
     ]
    }
   ],
   "source": [
    "#checking accuracy score\n",
    "print('Accuracy: ',accuracy_score(y_test3,RFC_pred))\n",
    "#print confusion matrics\n",
    "print(confusion_matrix(y_test3,RFC_pred))\n",
    "#printing classification report\n",
    "print(classification_report(y_test3,RFC_pred))"
   ]
  },
  {
   "cell_type": "code",
   "execution_count": 75,
   "id": "ab89261f",
   "metadata": {},
   "outputs": [
    {
     "name": "stdout",
     "output_type": "stream",
     "text": [
      "precision for 0(<=50k) =  0.8890460792239289\n",
      "precision for 1(>50k) = 0.7306238185255198\n"
     ]
    }
   ],
   "source": [
    "# calculating precision =tp/tp+fp\n",
    "print('precision for 0(<=50k) = ',4399/(4399+549))\n",
    "print('precision for 1(>50k) =', 773/(773+285))"
   ]
  },
  {
   "cell_type": "code",
   "execution_count": 76,
   "id": "b458ddb2",
   "metadata": {},
   "outputs": [
    {
     "name": "stdout",
     "output_type": "stream",
     "text": [
      "recall for 0(<=50k) = 0.9391545687446626\n",
      "recall for 1(>50k) = 0.5847201210287444\n"
     ]
    }
   ],
   "source": [
    "# calculating recall tp/tp+fn\n",
    "print('recall for 0(<=50k) =',4399/(4399+285))\n",
    "print('recall for 1(>50k) =',773/(773+549))"
   ]
  },
  {
   "cell_type": "markdown",
   "id": "a0858198",
   "metadata": {},
   "source": [
    "## cross validation"
   ]
  },
  {
   "cell_type": "code",
   "execution_count": 77,
   "id": "970c99f4",
   "metadata": {},
   "outputs": [
    {
     "name": "stdout",
     "output_type": "stream",
     "text": [
      "cross validation score of RandomForestClassifier at cv folds 5 :  86.0\n"
     ]
    }
   ],
   "source": [
    "scr=cross_val_score(RFC,x,y,cv=5)\n",
    "print('cross validation score of RandomForestClassifier at cv folds 5 : ',round(scr.mean(),2)*100)"
   ]
  },
  {
   "cell_type": "markdown",
   "id": "7217f372",
   "metadata": {},
   "source": [
    "# Suppport Vector Classifier(SVC)"
   ]
  },
  {
   "cell_type": "markdown",
   "id": "6c24525d",
   "metadata": {},
   "source": [
    "## Finding Best Random State for Suppport Vector Classifier(SVC)"
   ]
  },
  {
   "cell_type": "code",
   "execution_count": 78,
   "id": "6ef1d30b",
   "metadata": {},
   "outputs": [
    {
     "name": "stdout",
     "output_type": "stream",
     "text": [
      "Accuracy 0.8076923076923077 random_state 50\n",
      "Accuracy 0.815018315018315 random_state 51\n",
      "Accuracy 0.8178488178488178 random_state 54\n",
      "Accuracy 0.8203463203463204 random_state 56\n",
      "Accuracy 0.8245088245088245 random_state 69\n"
     ]
    }
   ],
   "source": [
    "from sklearn.svm import SVC\n",
    "\n",
    "maxAcc=0\n",
    "maxRS=0\n",
    "\n",
    "for i in range(50,80):\n",
    "    x_train,x_test,y_train,y_test=train_test_split(x_scaled,y,test_size=0.20,random_state=i)\n",
    "    svc=SVC()\n",
    "    svc.fit(x_train,y_train)\n",
    "    svc_pred=svc.predict(x_test)\n",
    "    acc=accuracy_score(y_test,svc_pred)\n",
    "    \n",
    "    if acc>maxAcc:\n",
    "        maxAcc=acc\n",
    "        maxRS=i\n",
    "        print('Accuracy', maxAcc, 'random_state', maxRS)"
   ]
  },
  {
   "cell_type": "markdown",
   "id": "00e809b6",
   "metadata": {},
   "source": [
    "## Model building with best random state"
   ]
  },
  {
   "cell_type": "code",
   "execution_count": 104,
   "id": "6573bd16",
   "metadata": {},
   "outputs": [],
   "source": [
    "#creating train , test split\n",
    "x_train4,x_test4,y_train4,y_test4=train_test_split(x_scaled,y,test_size=0.20,random_state=69)\n",
    "\n",
    "#creating instance\n",
    "svc=SVC()\n",
    "#training data\n",
    "svc.fit(x_train4,y_train4)\n",
    "#predicting data\n",
    "svc_pred=svc.predict(x_test4)"
   ]
  },
  {
   "cell_type": "markdown",
   "id": "0fc8a735",
   "metadata": {},
   "source": [
    "## Evaluation"
   ]
  },
  {
   "cell_type": "code",
   "execution_count": 105,
   "id": "d5eafbba",
   "metadata": {},
   "outputs": [
    {
     "name": "stdout",
     "output_type": "stream",
     "text": [
      "Accuracy:  0.8245088245088245\n",
      "[[4516  205]\n",
      " [ 849  436]]\n",
      "              precision    recall  f1-score   support\n",
      "\n",
      "           0       0.84      0.96      0.90      4721\n",
      "           1       0.68      0.34      0.45      1285\n",
      "\n",
      "    accuracy                           0.82      6006\n",
      "   macro avg       0.76      0.65      0.67      6006\n",
      "weighted avg       0.81      0.82      0.80      6006\n",
      "\n"
     ]
    }
   ],
   "source": [
    "#checking accuracy score\n",
    "print('Accuracy: ',accuracy_score(y_test4,svc_pred))\n",
    "#print confusion matrics\n",
    "print(confusion_matrix(y_test4,svc_pred))\n",
    "#printing classification report\n",
    "print(classification_report(y_test4,svc_pred))"
   ]
  },
  {
   "cell_type": "code",
   "execution_count": 106,
   "id": "ecfcd1d5",
   "metadata": {},
   "outputs": [
    {
     "name": "stdout",
     "output_type": "stream",
     "text": [
      "Score for training model : 0.8187153977438288\n"
     ]
    }
   ],
   "source": [
    "#checking score for training model\n",
    "print('Score for training model :',svc.score(x_train4,y_train4))"
   ]
  },
  {
   "cell_type": "code",
   "execution_count": 107,
   "id": "f26e18b7",
   "metadata": {},
   "outputs": [
    {
     "name": "stdout",
     "output_type": "stream",
     "text": [
      "precision for 0(<=50k) =  0.8417520969245107\n",
      "precision for 1(>50k) = 0.6801872074882995\n"
     ]
    }
   ],
   "source": [
    "# calculating precision =tp/tp+fp\n",
    "print('precision for 0(<=50k) = ',4516/(4516+849) )\n",
    "print('precision for 1(>50k) =', 436/(436+205))"
   ]
  },
  {
   "cell_type": "code",
   "execution_count": 108,
   "id": "eacd1505",
   "metadata": {},
   "outputs": [
    {
     "name": "stdout",
     "output_type": "stream",
     "text": [
      "recall for 0(<=50k) = 0.956576996399068\n",
      "recall for 1(>50k) = 0.33929961089494165\n"
     ]
    }
   ],
   "source": [
    "# calculating recall tp/tp+fn\n",
    "print('recall for 0(<=50k) =',4516/(4516+205))\n",
    "print('recall for 1(>50k) =',436/(436+849))"
   ]
  },
  {
   "cell_type": "markdown",
   "id": "c9ba380a",
   "metadata": {},
   "source": [
    "## cross validation"
   ]
  },
  {
   "cell_type": "code",
   "execution_count": 109,
   "id": "a9569ae9",
   "metadata": {},
   "outputs": [
    {
     "name": "stdout",
     "output_type": "stream",
     "text": [
      "cross validation score of SuperVectorClassifier:  0.8149124581836107\n"
     ]
    }
   ],
   "source": [
    "scr=cross_val_score(svc,x,y,cv=10)\n",
    "print('cross validation score of SuperVectorClassifier: ',scr.mean())"
   ]
  },
  {
   "cell_type": "markdown",
   "id": "354786a1",
   "metadata": {},
   "source": [
    "# Gaussian Naive Bayes"
   ]
  },
  {
   "cell_type": "markdown",
   "id": "9443944c",
   "metadata": {},
   "source": [
    "## Finding Best Random State for Gaussian Naive Bayes"
   ]
  },
  {
   "cell_type": "code",
   "execution_count": 85,
   "id": "44774a18",
   "metadata": {},
   "outputs": [
    {
     "name": "stdout",
     "output_type": "stream",
     "text": [
      "Accuracy 0.7554112554112554 random_state 1\n",
      "Accuracy 0.7555777555777555 random_state 2\n",
      "Accuracy 0.7644022644022644 random_state 5\n",
      "Accuracy 0.7662337662337663 random_state 65\n",
      "Accuracy 0.7680652680652681 random_state 343\n",
      "Accuracy 0.7683982683982684 random_state 512\n",
      "Accuracy 0.7727272727272727 random_state 1189\n"
     ]
    }
   ],
   "source": [
    "from sklearn.naive_bayes import GaussianNB\n",
    "maxAcc=0\n",
    "maxRS=0\n",
    "\n",
    "for i in range(1,1500):\n",
    "    x_train,x_test,y_train,y_test=train_test_split(x_scaled,y,test_size=0.20,random_state=i)\n",
    "    GNB = GaussianNB()\n",
    "    GNB.fit(x_train, y_train)\n",
    "    GNB_pred=GNB.predict(x_test)\n",
    "    acc=accuracy_score(y_test,GNB_pred)\n",
    "    \n",
    "    if acc>maxAcc:\n",
    "        maxAcc=acc\n",
    "        maxRS=i\n",
    "        print('Accuracy', maxAcc, 'random_state', maxRS)"
   ]
  },
  {
   "cell_type": "markdown",
   "id": "3a0c0f01",
   "metadata": {},
   "source": [
    "## Model building with best random state"
   ]
  },
  {
   "cell_type": "code",
   "execution_count": 86,
   "id": "bb14d1a2",
   "metadata": {},
   "outputs": [],
   "source": [
    "#creating train , test split\n",
    "x_train5,x_test5,y_train5,y_test5=train_test_split(x_scaled,y,test_size=0.20,random_state=1189)\n",
    "\n",
    "#creating instance\n",
    "GNB = GaussianNB()\n",
    "\n",
    "#training data\n",
    "GNB.fit(x_train5, y_train5)\n",
    "\n",
    "#predicting data\n",
    "GNB_pred=GNB.predict(x_test5)"
   ]
  },
  {
   "cell_type": "markdown",
   "id": "78ef129b",
   "metadata": {},
   "source": [
    "## Evaluation"
   ]
  },
  {
   "cell_type": "code",
   "execution_count": 87,
   "id": "fca0a551",
   "metadata": {},
   "outputs": [
    {
     "name": "stdout",
     "output_type": "stream",
     "text": [
      "Accuracy:  0.7727272727272727\n",
      "[[3635 1069]\n",
      " [ 296 1006]]\n",
      "              precision    recall  f1-score   support\n",
      "\n",
      "           0       0.92      0.77      0.84      4704\n",
      "           1       0.48      0.77      0.60      1302\n",
      "\n",
      "    accuracy                           0.77      6006\n",
      "   macro avg       0.70      0.77      0.72      6006\n",
      "weighted avg       0.83      0.77      0.79      6006\n",
      "\n"
     ]
    }
   ],
   "source": [
    "#checking accuracy score\n",
    "print('Accuracy: ',accuracy_score(y_test5,GNB_pred))\n",
    "#print confusion matrics\n",
    "print(confusion_matrix(y_test5,GNB_pred))\n",
    "#printing classification report\n",
    "print(classification_report(y_test5,GNB_pred))"
   ]
  },
  {
   "cell_type": "code",
   "execution_count": 88,
   "id": "12bb3203",
   "metadata": {},
   "outputs": [
    {
     "name": "stdout",
     "output_type": "stream",
     "text": [
      "Score for training model : 0.7550264330017067\n"
     ]
    }
   ],
   "source": [
    "#checking score for training model\n",
    "print('Score for training model :',GNB.score(x_train5,y_train5))"
   ]
  },
  {
   "cell_type": "code",
   "execution_count": 89,
   "id": "d57e0633",
   "metadata": {},
   "outputs": [
    {
     "name": "stdout",
     "output_type": "stream",
     "text": [
      "precision for 0(<=50k) =  0.9247010938692445\n",
      "precision for 1(>50k) = 0.48481927710843375\n"
     ]
    }
   ],
   "source": [
    "# calculating precision =tp/tp+fp\n",
    "print('precision for 0(<=50k) = ',3635/(3635+296) )\n",
    "print('precision for 1(>50k) =', 1006/(1006+1069))"
   ]
  },
  {
   "cell_type": "code",
   "execution_count": 90,
   "id": "586c4dd9",
   "metadata": {},
   "outputs": [
    {
     "name": "stdout",
     "output_type": "stream",
     "text": [
      "recall for 0(<=50k) = 0.7727465986394558\n",
      "recall for 1(>50k) = 0.7726574500768049\n"
     ]
    }
   ],
   "source": [
    "# calculating recall tp/tp+fn\n",
    "print('recall for 0(<=50k) =',3635/(3635+1069))\n",
    "print('recall for 1(>50k) =',1006/(1006+296))"
   ]
  },
  {
   "cell_type": "markdown",
   "id": "dc44ed61",
   "metadata": {},
   "source": [
    "## cross validation"
   ]
  },
  {
   "cell_type": "code",
   "execution_count": 91,
   "id": "9b751715",
   "metadata": {},
   "outputs": [
    {
     "name": "stdout",
     "output_type": "stream",
     "text": [
      "cross validation score of GaussianNB:  0.7506077755244978\n"
     ]
    }
   ],
   "source": [
    "scr=cross_val_score(GNB,x,y,cv=10)\n",
    "print('cross validation score of GaussianNB: ',scr.mean())"
   ]
  },
  {
   "cell_type": "markdown",
   "id": "8b94b411",
   "metadata": {},
   "source": [
    "# Hyper parameter tuning: ensemble techniques"
   ]
  },
  {
   "cell_type": "markdown",
   "id": "42dcb2be",
   "metadata": {},
   "source": [
    "From above Random forest classifier is performing well among other models so we cotinue hyper parameter with it."
   ]
  },
  {
   "cell_type": "code",
   "execution_count": 92,
   "id": "efffa5be",
   "metadata": {},
   "outputs": [],
   "source": [
    "from sklearn.model_selection import GridSearchCV"
   ]
  },
  {
   "cell_type": "code",
   "execution_count": 93,
   "id": "e949f210",
   "metadata": {},
   "outputs": [],
   "source": [
    "parameters= {'criterion': ['gini', 'entropy'], 'bootstrap': [True,False],'max_features':['sqrt', 'auto', None]}"
   ]
  },
  {
   "cell_type": "code",
   "execution_count": 94,
   "id": "2ae79a7f",
   "metadata": {},
   "outputs": [
    {
     "name": "stdout",
     "output_type": "stream",
     "text": [
      "{'bootstrap': True, 'criterion': 'entropy', 'max_features': 'sqrt'}\n"
     ]
    }
   ],
   "source": [
    "RFC=RandomForestClassifier() \n",
    "\n",
    "GCV= GridSearchCV(RFC, parameters)\n",
    "GCV.fit(x_train3,y_train3)\n",
    "print(GCV.best_params_)"
   ]
  },
  {
   "cell_type": "code",
   "execution_count": 95,
   "id": "20c4c662",
   "metadata": {},
   "outputs": [],
   "source": [
    "RFC_best1=RandomForestClassifier(bootstrap=True, criterion= 'entropy', max_features= 'sqrt',random_state=42) #creating instance \n",
    "RFC_best1.fit(x_train3,y_train3)  #traing data\n",
    "RFC_best1_pred=RFC_best1.predict(x_test3) #predicting data"
   ]
  },
  {
   "cell_type": "markdown",
   "id": "17bd72c8",
   "metadata": {},
   "source": [
    "## Evaluation"
   ]
  },
  {
   "cell_type": "code",
   "execution_count": 96,
   "id": "39c5d120",
   "metadata": {},
   "outputs": [
    {
     "name": "stdout",
     "output_type": "stream",
     "text": [
      "Score for hyper tuned training model : 0.9999167464513175\n"
     ]
    }
   ],
   "source": [
    "#checking score for training model\n",
    "print('Score for hyper tuned training model :',RFC_best1.score(x_train3,y_train3))"
   ]
  },
  {
   "cell_type": "code",
   "execution_count": 97,
   "id": "a02c5392",
   "metadata": {},
   "outputs": [
    {
     "name": "stdout",
     "output_type": "stream",
     "text": [
      "Accuracy:  0.8653013653013653\n",
      "[[4420  301]\n",
      " [ 508  777]]\n",
      "              precision    recall  f1-score   support\n",
      "\n",
      "           0       0.90      0.94      0.92      4721\n",
      "           1       0.72      0.60      0.66      1285\n",
      "\n",
      "    accuracy                           0.87      6006\n",
      "   macro avg       0.81      0.77      0.79      6006\n",
      "weighted avg       0.86      0.87      0.86      6006\n",
      "\n"
     ]
    }
   ],
   "source": [
    "#checking accuracy score\n",
    "print('Accuracy: ',accuracy_score(y_test3,RFC_best1_pred))\n",
    "#print confusion matrics\n",
    "print(confusion_matrix(y_test3,RFC_best1_pred))\n",
    "#printing classification report\n",
    "print(classification_report(y_test3,RFC_best1_pred))"
   ]
  },
  {
   "cell_type": "code",
   "execution_count": 98,
   "id": "2784d786",
   "metadata": {},
   "outputs": [
    {
     "name": "stdout",
     "output_type": "stream",
     "text": [
      "precision for 0(<=50k) =  0.8969155844155844\n",
      "precision for 1(>50k) = 0.7207792207792207\n"
     ]
    }
   ],
   "source": [
    "# calculating precision =tp/tp+fp\n",
    "print('precision for 0(<=50k) = ',4420/(4420+508))\n",
    "print('precision for 1(>50k) =', 777/(777+301))"
   ]
  },
  {
   "cell_type": "code",
   "execution_count": 99,
   "id": "f4687243",
   "metadata": {},
   "outputs": [
    {
     "name": "stdout",
     "output_type": "stream",
     "text": [
      "recall for 0(<=50k) = 0.9362423215420462\n",
      "recall for 1(>50k) = 0.6046692607003891\n"
     ]
    }
   ],
   "source": [
    "# calculating recall tp/tp+fn\n",
    "print('recall for 0(<=50k) =',4420/(4420+301))\n",
    "print('recall for 1(>50k) =',777/(777+508))"
   ]
  },
  {
   "cell_type": "markdown",
   "id": "ab49b05a",
   "metadata": {},
   "source": [
    "## cross validation"
   ]
  },
  {
   "cell_type": "code",
   "execution_count": 100,
   "id": "4099122e",
   "metadata": {},
   "outputs": [
    {
     "name": "stdout",
     "output_type": "stream",
     "text": [
      "cross validation score of Tuned RandomForestClassifier at cv folds 5 :  86.0\n"
     ]
    }
   ],
   "source": [
    "scr=cross_val_score(RFC_best1,x,y,cv=5)\n",
    "print('cross validation score of Tuned RandomForestClassifier at cv folds 5 : ',round(scr.mean(),2)*100)"
   ]
  },
  {
   "cell_type": "markdown",
   "id": "704465ab",
   "metadata": {},
   "source": [
    "## ROC AUC curve"
   ]
  },
  {
   "cell_type": "code",
   "execution_count": 101,
   "id": "0235c8f8",
   "metadata": {},
   "outputs": [
    {
     "data": {
      "image/png": "[encoded data removed]",
      "text/plain": [
       "<Figure size 432x288 with 1 Axes>"
      ]
     },
     "metadata": {
      "needs_background": "light"
     },
     "output_type": "display_data"
    }
   ],
   "source": [
    "from sklearn.metrics import plot_roc_curve\n",
    "\n",
    "plot_roc_curve(RFC_best1,x_test3,y_test3)\n",
    "plt.show()"
   ]
  },
  {
   "cell_type": "markdown",
   "id": "31289a44",
   "metadata": {},
   "source": [
    "# Model Saving"
   ]
  },
  {
   "cell_type": "code",
   "execution_count": 102,
   "id": "38a8e3be",
   "metadata": {},
   "outputs": [],
   "source": [
    "import pickle"
   ]
  },
  {
   "cell_type": "code",
   "execution_count": 103,
   "id": "f65479de",
   "metadata": {},
   "outputs": [],
   "source": [
    "RFC_best1_file='census_income.pkl'\n",
    "pickle.dump(RFC_best1,open(RFC_best1_file,'wb'))"
   ]
  },
  {
   "cell_type": "markdown",
   "id": "ab4474a6",
   "metadata": {},
   "source": [
    "# conclusion"
   ]
  },
  {
   "cell_type": "markdown",
   "id": "0a0109af",
   "metadata": {},
   "source": [
    "* I have choosed RandomForest classifier as my final model on the basis of its accuracy score, cv score, f1, score presecion , recall and ROC curve score.\n",
    "* our final is giving accuracy score of 86.53 which is highest and best score among other models.\n",
    "* cross validation score and cauuracy score for this model is almost same which is 86 and 86.53 respectively , it means the model is not underitting and overfitting.\n",
    "* The ROC score is 0.91 which is also a good score."
   ]
  }
 ],
 "metadata": {
  "kernelspec": {
   "display_name": "Python 3 (ipykernel)",
   "language": "python",
   "name": "python3"
  },
  "language_info": {
   "codemirror_mode": {
    "name": "ipython",
    "version": 3
   },
   "file_extension": ".py",
   "mimetype": "text/x-python",
   "name": "python",
   "nbconvert_exporter": "python",
   "pygments_lexer": "ipython3",
   "version": "3.9.7"
  }
 },
 "nbformat": 4,
 "nbformat_minor": 5
}
